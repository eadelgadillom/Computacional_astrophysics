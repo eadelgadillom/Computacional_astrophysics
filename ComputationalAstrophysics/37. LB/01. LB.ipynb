version https://git-lfs.github.com/spec/v1
oid sha256:40343ebfef86a7f39c93a96864752f62c11a044d365e95b9cf479ada2325fca3
size 10830
