version https://git-lfs.github.com/spec/v1
oid sha256:38df760600b2b83c2b81715e0d8449a5effe0be7fca4475e56539fe134d79bf0
size 37680
