{
 "cells": [
  {
   "cell_type": "markdown",
   "metadata": {},
   "source": [
    "![Astrofisica Computacional](../../logo.PNG)"
   ]
  },
  {
   "cell_type": "markdown",
   "metadata": {
    "id": "5soGuirloNgq"
   },
   "source": [
    "---\n",
    "## 02. A Perceptron with a ReLU Activation Function\n",
    "\n",
    "\n",
    "Eduard Larrañaga (ealarranaga@unal.edu.co)\n",
    "\n",
    "---"
   ]
  },
  {
   "cell_type": "markdown",
   "metadata": {
    "id": "Ff4KTapaoNgx"
   },
   "source": [
    "### Abstract\n",
    "\n",
    "In this notebook we will improve the perceptron algorithm developed in a previous lecture by incorporating an ReLU activation function.\n",
    "\n",
    "---"
   ]
  },
  {
   "cell_type": "markdown",
   "metadata": {},
   "source": [
    "## A Perceptron to transform between temperature scales"
   ]
  },
  {
   "cell_type": "code",
   "execution_count": 1,
   "metadata": {},
   "outputs": [],
   "source": [
    "import numpy as np\n",
    "import pandas as pd"
   ]
  },
  {
   "cell_type": "markdown",
   "metadata": {},
   "source": [
    "In a previous lecture we define a class which implements a perceptron that build a linear function to fit a set of input data. The code was modified only by changing the learning rate and replacing the method `.yp()` by the method `.predict()`, "
   ]
  },
  {
   "cell_type": "code",
   "execution_count": 2,
   "metadata": {},
   "outputs": [],
   "source": [
    "class perceptron:\n",
    "    def __init__(self):\n",
    "        np.random.seed(413)\n",
    "        self.w = np.random.rand()*10\n",
    "        self.bias = np.random.rand()*10\n",
    "        \n",
    "    def predict(self, x_new):\n",
    "        return np.dot(self.w, x_new) + self.bias\n",
    "    \n",
    "    def fC(self):\n",
    "        self.yp = self.predict(self.x)\n",
    "        return sum((self.yp - self.y)**2)\n",
    "    \n",
    "    def grad_fC(self):\n",
    "        self.yp = self.predict(self.x)\n",
    "        return [sum(2*(self.yp - self.y)*self.x), sum(2*(self.yp - self.y))]\n",
    "    \n",
    "    def improve(self):\n",
    "        alpha = 1e-5# Learning Rate\n",
    "        self.w -= alpha*self.grad_fC()[0]\n",
    "        self.bias -= alpha*self.grad_fC()[1]\n",
    "        \n",
    "    def train(self, x, y, epochs):\n",
    "        self.x = x\n",
    "        self.y = y\n",
    "        self.history = np.zeros(epochs)\n",
    "        for i in range(epochs):\n",
    "            self.history[i] = self.fC()\n",
    "            self.improve()\n",
    "            \n"
   ]
  },
  {
   "cell_type": "markdown",
   "metadata": {},
   "source": [
    "Now, we will use this perceptron to adjust a transformation between the following temperatures given in Celsius and Kelvin scales:"
   ]
  },
  {
   "cell_type": "code",
   "execution_count": 3,
   "metadata": {},
   "outputs": [
    {
     "data": {
      "text/html": [
       "<div>\n",
       "<style scoped>\n",
       "    .dataframe tbody tr th:only-of-type {\n",
       "        vertical-align: middle;\n",
       "    }\n",
       "\n",
       "    .dataframe tbody tr th {\n",
       "        vertical-align: top;\n",
       "    }\n",
       "\n",
       "    .dataframe thead th {\n",
       "        text-align: right;\n",
       "    }\n",
       "</style>\n",
       "<table border=\"1\" class=\"dataframe\">\n",
       "  <thead>\n",
       "    <tr style=\"text-align: right;\">\n",
       "      <th></th>\n",
       "      <th>ºC</th>\n",
       "      <th>K</th>\n",
       "    </tr>\n",
       "  </thead>\n",
       "  <tbody>\n",
       "    <tr>\n",
       "      <th>0</th>\n",
       "      <td>-100.0</td>\n",
       "      <td>173.15</td>\n",
       "    </tr>\n",
       "    <tr>\n",
       "      <th>1</th>\n",
       "      <td>-50.0</td>\n",
       "      <td>223.15</td>\n",
       "    </tr>\n",
       "    <tr>\n",
       "      <th>2</th>\n",
       "      <td>-12.0</td>\n",
       "      <td>261.15</td>\n",
       "    </tr>\n",
       "    <tr>\n",
       "      <th>3</th>\n",
       "      <td>0.0</td>\n",
       "      <td>273.15</td>\n",
       "    </tr>\n",
       "    <tr>\n",
       "      <th>4</th>\n",
       "      <td>5.0</td>\n",
       "      <td>278.15</td>\n",
       "    </tr>\n",
       "    <tr>\n",
       "      <th>5</th>\n",
       "      <td>32.0</td>\n",
       "      <td>305.15</td>\n",
       "    </tr>\n",
       "    <tr>\n",
       "      <th>6</th>\n",
       "      <td>50.0</td>\n",
       "      <td>323.15</td>\n",
       "    </tr>\n",
       "    <tr>\n",
       "      <th>7</th>\n",
       "      <td>68.0</td>\n",
       "      <td>341.15</td>\n",
       "    </tr>\n",
       "    <tr>\n",
       "      <th>8</th>\n",
       "      <td>75.0</td>\n",
       "      <td>348.15</td>\n",
       "    </tr>\n",
       "    <tr>\n",
       "      <th>9</th>\n",
       "      <td>81.0</td>\n",
       "      <td>354.15</td>\n",
       "    </tr>\n",
       "  </tbody>\n",
       "</table>\n",
       "</div>"
      ],
      "text/plain": [
       "      ºC       K\n",
       "0 -100.0  173.15\n",
       "1  -50.0  223.15\n",
       "2  -12.0  261.15\n",
       "3    0.0  273.15\n",
       "4    5.0  278.15\n",
       "5   32.0  305.15\n",
       "6   50.0  323.15\n",
       "7   68.0  341.15\n",
       "8   75.0  348.15\n",
       "9   81.0  354.15"
      ]
     },
     "execution_count": 3,
     "metadata": {},
     "output_type": "execute_result"
    }
   ],
   "source": [
    "\n",
    "X = np.array([-100., -50., -12., 0., 5., 32., 50., 68., 75., 81.])\n",
    "\n",
    "y = np.array([173.15, 223.15, 261.15, 273.15, 278.15, 305.15, 323.15, 341.15,\n",
    "       348.15, 354.15])\n",
    "\n",
    "df = pd.DataFrame(X, columns=['ºC'])\n",
    "df['K'] = y\n",
    "\n",
    "df"
   ]
  },
  {
   "cell_type": "markdown",
   "metadata": {},
   "source": [
    "We will train the perceptron using 70000 epochs and we will show the change of the cost function,"
   ]
  },
  {
   "cell_type": "code",
   "execution_count": 4,
   "metadata": {},
   "outputs": [
    {
     "name": "stdout",
     "output_type": "stream",
     "text": [
      "initial cost =  1301518.7592749153\n",
      "final cost after 70000 epochs =  3.0704462781209265e-06\n"
     ]
    }
   ],
   "source": [
    "p = perceptron()\n",
    "\n",
    "epochs = 70000\n",
    "p.train(X, y, epochs)\n",
    "\n",
    "history = p.history\n",
    "print('initial cost = ', history[0])\n",
    "print(f'final cost after {epochs:.0f} epochs = ', history[-1])"
   ]
  },
  {
   "cell_type": "markdown",
   "metadata": {},
   "source": [
    "The trained perceptron has the parameters"
   ]
  },
  {
   "cell_type": "code",
   "execution_count": 5,
   "metadata": {},
   "outputs": [
    {
     "name": "stdout",
     "output_type": "stream",
     "text": [
      "w =  1.0000025905816032\n",
      "b =  273.1494263570357\n"
     ]
    }
   ],
   "source": [
    "print('w = ', p.w)\n",
    "print('b = ', p.bias)"
   ]
  },
  {
   "cell_type": "markdown",
   "metadata": {},
   "source": [
    "These parameters shows that the algorithm 'learned' by the perceptron corresponds to the transformation equation (ºC to K)\n",
    "\n",
    "\\begin{equation}\n",
    "K = ºC + 273.15 \n",
    "\\end{equation}\n",
    "\n",
    "This function is correct, but the perceptron has one little flaw: When we predict for some values of temeperature in Celsius, we can obtain negative temperatures in Kelvin!,"
   ]
  },
  {
   "cell_type": "code",
   "execution_count": 6,
   "metadata": {},
   "outputs": [
    {
     "data": {
      "image/png": "[encoded data removed]",
      "text/plain": [
       "<Figure size 640x480 with 1 Axes>"
      ]
     },
     "metadata": {},
     "output_type": "display_data"
    }
   ],
   "source": [
    "import matplotlib.pyplot as plt\n",
    "\n",
    "plt.figure()\n",
    "plt.plot(history)\n",
    "plt.xlabel('epoch')\n",
    "plt.ylabel('cost function')\n",
    "plt.title('Learning History')\n",
    "plt.show()"
   ]
  },
  {
   "cell_type": "code",
   "execution_count": 7,
   "metadata": {},
   "outputs": [
    {
     "data": {
      "text/plain": [
       "-26.85135081744528"
      ]
     },
     "execution_count": 7,
     "metadata": {},
     "output_type": "execute_result"
    }
   ],
   "source": [
    "p.predict(-300)"
   ]
  },
  {
   "cell_type": "markdown",
   "metadata": {},
   "source": [
    "\n",
    "---\n",
    "\n",
    "## Introducing a ReLU activation function\n",
    "\n",
    "There are many ways to correct the algorithm in order to prevent negative temperatures in the Kelvin scale. We will introduce a new activation function called **Re**ctified **L**inear **U**nit or **ReLU**. This is a piecewise linear function that will output  the inpout directly if it is positive or zero otherwise,\n",
    "\n",
    "\\begin{equation}\n",
    "\\text{ReLU} (z) = \n",
    "\\begin{cases}\n",
    "z \\text{ if }z>0\\\\\n",
    "0 \\text{ if }z \\leq 0 \n",
    "\\end{cases}\n",
    "\\end{equation}"
   ]
  },
  {
   "cell_type": "code",
   "execution_count": 8,
   "metadata": {},
   "outputs": [
    {
     "data": {
      "image/png": "[encoded data removed]",
      "text/plain": [
       "<Figure size 640x480 with 1 Axes>"
      ]
     },
     "metadata": {},
     "output_type": "display_data"
    }
   ],
   "source": [
    "import matplotlib.pyplot as plt\n",
    "\n",
    "def relu(z):\n",
    "    y = np.zeros_like(z)\n",
    "    for i in range(len(z)):\n",
    "        if z[i]>0:\n",
    "            y[i] = z[i]\n",
    "        else:\n",
    "            y[i] = 0\n",
    "    return y\n",
    "\n",
    "z = np.linspace(-10,10,100)\n",
    "\n",
    "\n",
    "\n",
    "plt.figure()\n",
    "plt.axhline(0, color='black', alpha=0.4)\n",
    "plt.axvline(0, color='black', alpha=0.4)\n",
    "plt.plot(z, relu(z), color='crimson')\n",
    "plt.xlabel(r'$z$')\n",
    "plt.ylabel(r'ReLU (z)')\n",
    "plt.grid()\n",
    "plt.show()"
   ]
  },
  {
   "cell_type": "markdown",
   "metadata": {},
   "source": [
    "Now we will introduce the ReLU activation function as a new method inside the perceptron class so that\n",
    "\n",
    "\\begin{equation}\n",
    "y^p (x) = \\text{ReLU}(z(x))  = \\text{ReLU}(w x + b) = \n",
    "\\begin{cases}\n",
    "w x + b &\\text{ if } w x + b >0\\\\\n",
    "0 &\\text{ if }w x + b \\leq 0 \n",
    "\\end{cases}\n",
    "\\end{equation}\n",
    "\n",
    "However, there is a catch: in order to train our perceptron, we must modify the cost function and its gradient.\n",
    "\n",
    "First, note that the cost function will be now\n",
    "\n",
    "\\begin{equation}\n",
    "f_C (y^p, y) = \\sum _i (y^p_i - y_i)^2 = \\sum_i \\left[ \\text{ReLU}(z_i ) - y_i\\right]^2 = \\sum_i \\left[ \\text{ReLU}(w x_i + b) - y_i\\right]^2 \n",
    "\\end{equation}\n",
    "\n",
    "Therefore the gradient of the cost function is now\n",
    "\n",
    "\\begin{align}\n",
    "\\frac{\\partial f_C}{\\partial w} = & 2 \\sum_i \\left[\\text{ReLU}(z_i ) - y_i\\right] \\frac{\\partial \\text{ReLU}}{\\partial z_i} \\frac{\\partial z_i}{\\partial w} = 2 \\sum_i \\left[\\text{ReLU}(z_i ) - y_i\\right]x_i \\frac{\\partial \\text{ReLU}}{\\partial z_i}  \\\\\n",
    "\\frac{\\partial f_C}{\\partial b} = &2 \\sum_i \\left[\\text{ReLU}(z_i ) - y_i\\right] \\frac{\\partial \\text{ReLU}}{\\partial z_i} \\frac{\\partial z_i}{\\partial b} = 2 \\sum_i \\left[\\text{ReLU}(z_i ) - y_i\\right] \\frac{\\partial \\text{ReLU}}{\\partial z_i}\n",
    "\\end{align}\n",
    "\n",
    "From the definition of the ReLU function we finally obtain\n",
    "\n",
    "\\begin{align}\n",
    "\\frac{\\partial f_C}{\\partial w} = &\n",
    "2 \\sum_i \\left[\\text{ReLU}(z_i ) - y_i\\right]x_i \\times \\begin{cases} 1 &\\text{ if } z_i >0\\\\\n",
    "0 &\\text{ if } z_i \\leq 0\n",
    "\\end{cases}\\\\\n",
    "\\frac{\\partial f_C}{\\partial b} = &2 \\sum_i \\left[\\text{ReLU}(z_i ) - y_i\\right]  \\times \\begin{cases} 1 &\\text{ if } z_i >0\\\\\n",
    "0 &\\text{ if } z_i \\leq 0\n",
    "\\end{cases}\n",
    "\\end{align}"
   ]
  },
  {
   "cell_type": "code",
   "execution_count": 9,
   "metadata": {},
   "outputs": [],
   "source": [
    "class perceptron:\n",
    "    def __init__(self):\n",
    "        np.random.seed(413)\n",
    "        self.w = np.random.rand()*10\n",
    "        self.bias = np.random.rand()*10\n",
    "    \n",
    "    def relu(self, z):\n",
    "        y = np.zeros_like(z)\n",
    "        for i in range(len(z)):\n",
    "            if z[i]>0:\n",
    "                y[i] = z[i]\n",
    "            else:\n",
    "                y[i] = 0\n",
    "        return y\n",
    "        \n",
    "    def predict(self, x_new):\n",
    "        z = np.dot(self.w, x_new) + self.bias\n",
    "        return self.relu(z)\n",
    "    \n",
    "    def fC(self):\n",
    "        self.yp = self.predict(self.x)\n",
    "        return sum((self.yp - self.y)**2)\n",
    "    \n",
    "    def grad_fC(self):\n",
    "        self.yp = self.predict(self.x)\n",
    "        return [sum(2*(self.yp - self.y)*self.x), sum(2*(self.yp - self.y))]\n",
    "    \n",
    "    def improve(self):\n",
    "        alpha = 1e-5 # Learning Rate\n",
    "        self.w -= alpha*self.grad_fC()[0]\n",
    "        self.bias -= alpha*self.grad_fC()[1]\n",
    "        \n",
    "    def train(self, x, y, epochs):\n",
    "        self.x = x\n",
    "        self.y = y\n",
    "        self.history = np.zeros(epochs)\n",
    "        for i in range(epochs):\n",
    "            self.history[i] = self.fC()\n",
    "            self.improve()\n",
    "\n",
    "\n"
   ]
  },
  {
   "cell_type": "code",
   "execution_count": 10,
   "metadata": {},
   "outputs": [
    {
     "name": "stdout",
     "output_type": "stream",
     "text": [
      "initial cost =  354141.12980680476\n",
      "final cost after 75000 epochs =  6.280769490489373e-07\n"
     ]
    }
   ],
   "source": [
    "p = perceptron()\n",
    "\n",
    "epochs = 75000\n",
    "p.train(X, y, epochs)\n",
    "history = p.history\n",
    "print('initial cost = ', history[0])\n",
    "print(f'final cost after {epochs:.0f} epochs = ', history[-1])"
   ]
  },
  {
   "cell_type": "code",
   "execution_count": 11,
   "metadata": {},
   "outputs": [
    {
     "name": "stdout",
     "output_type": "stream",
     "text": [
      "w =  1.00000117166364\n",
      "b =  273.14974055378025\n"
     ]
    }
   ],
   "source": [
    "print('w = ', p.w)\n",
    "print('b = ', p.bias)"
   ]
  },
  {
   "cell_type": "code",
   "execution_count": 12,
   "metadata": {},
   "outputs": [
    {
     "data": {
      "image/png": "[encoded data removed]",
      "text/plain": [
       "<Figure size 640x480 with 1 Axes>"
      ]
     },
     "metadata": {},
     "output_type": "display_data"
    }
   ],
   "source": [
    "X = np.linspace(-300,10,100)\n",
    "\n",
    "\n",
    "\n",
    "plt.axhline(0, color='black', alpha=0.4)\n",
    "plt.axvline(0, color='black', alpha=0.4)\n",
    "plt.axvline(-273.15, color='cornflowerblue', alpha=0.4)\n",
    "plt.plot(X, p.predict(X), color='crimson')\n",
    "plt.xlabel(r'$Temperature [ºC]$')\n",
    "plt.ylabel(r'Temperature [K]')\n",
    "plt.grid()\n",
    "plt.show()"
   ]
  },
  {
   "cell_type": "markdown",
   "metadata": {},
   "source": [
    "--"
   ]
  },
  {
   "cell_type": "markdown",
   "metadata": {},
   "source": [
    "--"
   ]
  },
  {
   "cell_type": "markdown",
   "metadata": {},
   "source": [
    "--"
   ]
  },
  {
   "cell_type": "code",
   "execution_count": null,
   "metadata": {},
   "outputs": [],
   "source": [
    "def CtoK(C):\n",
    "    return C + 273.15\n",
    "\n",
    "celsius = np.array([-100., -50., -12., 0., 5., 32., 50., 68., 75., 81.])\n",
    "\n",
    "kelvin = CtoK(celsius)\n",
    "kelvin"
   ]
  },
  {
   "cell_type": "code",
   "execution_count": null,
   "metadata": {},
   "outputs": [],
   "source": [
    "celsius = np.array([-100., -50., -12., 0., 5., 32., 50., 68., 75., 81.])\n",
    "\n",
    "kelvin = np.array([173.15, 223.15, 261.15, 273.15, 278.15, 305.15, 323.15, 341.15,\n",
    "       348.15, 354.15])"
   ]
  },
  {
   "cell_type": "code",
   "execution_count": null,
   "metadata": {},
   "outputs": [],
   "source": []
  }
 ],
 "metadata": {
  "@webio": {
   "lastCommId": null,
   "lastKernelId": null
  },
  "colab": {
   "collapsed_sections": [],
   "name": "01. Decision Trees.ipynb",
   "provenance": []
  },
  "kernelspec": {
   "display_name": "Python 3 (ipykernel)",
   "language": "python",
   "name": "python3"
  },
  "language_info": {
   "codemirror_mode": {
    "name": "ipython",
    "version": 3
   },
   "file_extension": ".py",
   "mimetype": "text/x-python",
   "name": "python",
   "nbconvert_exporter": "python",
   "pygments_lexer": "ipython3",
   "version": "3.10.9"
  }
 },
 "nbformat": 4,
 "nbformat_minor": 1
}
