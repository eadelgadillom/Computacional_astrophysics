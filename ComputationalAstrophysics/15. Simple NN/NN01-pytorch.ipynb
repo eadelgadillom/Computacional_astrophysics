version https://git-lfs.github.com/spec/v1
oid sha256:45197cfbdf2362463af221b1f8241a1ff33de9b4774d79cecc5b3d4e7f4dda8c
size 92046
