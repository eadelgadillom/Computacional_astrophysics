version https://git-lfs.github.com/spec/v1
oid sha256:d24fc27a7fa0e515afd80e6a07eeadad301dd25a58b0c27121190c3d2990e3ae
size 117288
