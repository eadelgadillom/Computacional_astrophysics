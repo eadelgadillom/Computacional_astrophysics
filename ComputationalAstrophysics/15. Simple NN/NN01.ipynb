version https://git-lfs.github.com/spec/v1
oid sha256:c9880f7188b32fb0cc95799e3e94e489f963a4d66ec32b89ef0ae7bd6e3d7261
size 124365
