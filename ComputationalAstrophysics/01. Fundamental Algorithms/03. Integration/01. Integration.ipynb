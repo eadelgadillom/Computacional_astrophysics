version https://git-lfs.github.com/spec/v1
oid sha256:71c7c56b224c743a568938ce41a056e08b2fd4ba04004f610a4c4475daf790e3
size 210039
