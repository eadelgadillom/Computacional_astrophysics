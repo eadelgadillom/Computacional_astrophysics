version https://git-lfs.github.com/spec/v1
oid sha256:2fe2746347e289a283d2cfdedac508c627c8f8cbc0a5396a2bd5a57fd624905c
size 105317
