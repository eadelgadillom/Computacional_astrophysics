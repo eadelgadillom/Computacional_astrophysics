version https://git-lfs.github.com/spec/v1
oid sha256:fd3f690830e1a1491029bd27e754f10f6f98bff2dbdc214098da4b363ed038d3
size 155885
