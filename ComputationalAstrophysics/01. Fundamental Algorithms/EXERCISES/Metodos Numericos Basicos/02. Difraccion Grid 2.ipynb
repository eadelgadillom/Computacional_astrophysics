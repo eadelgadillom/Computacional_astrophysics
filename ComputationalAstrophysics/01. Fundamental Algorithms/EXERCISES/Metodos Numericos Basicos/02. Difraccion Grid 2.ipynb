version https://git-lfs.github.com/spec/v1
oid sha256:2991c3567c4548da9984e57eb741be124aae1244751ae8a741f7f2be72446a48
size 83574
