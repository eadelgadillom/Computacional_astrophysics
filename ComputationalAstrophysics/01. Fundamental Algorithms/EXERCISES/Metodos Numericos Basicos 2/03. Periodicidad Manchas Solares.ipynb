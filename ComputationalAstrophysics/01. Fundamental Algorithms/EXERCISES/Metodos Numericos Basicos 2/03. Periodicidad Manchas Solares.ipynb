version https://git-lfs.github.com/spec/v1
oid sha256:73aee81b7c976bd585e884bc24996ac57d15acf634ce6e2ac532a0a143ec0a1f
size 100962
