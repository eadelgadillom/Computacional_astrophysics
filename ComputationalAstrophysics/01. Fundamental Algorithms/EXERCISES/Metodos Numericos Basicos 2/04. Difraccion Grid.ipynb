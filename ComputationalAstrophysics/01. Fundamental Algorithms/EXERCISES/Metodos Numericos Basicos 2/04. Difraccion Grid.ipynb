version https://git-lfs.github.com/spec/v1
oid sha256:93cf8170c60bb538fed9b7dc8cc15e6a857479a09d9090537414b39aaa0c0878
size 65820
