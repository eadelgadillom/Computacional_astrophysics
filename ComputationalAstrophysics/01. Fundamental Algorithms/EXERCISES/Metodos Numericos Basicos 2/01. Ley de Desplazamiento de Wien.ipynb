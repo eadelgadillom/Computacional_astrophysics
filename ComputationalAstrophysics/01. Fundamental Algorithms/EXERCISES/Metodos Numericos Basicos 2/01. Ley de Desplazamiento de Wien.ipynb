version https://git-lfs.github.com/spec/v1
oid sha256:90791110c5d64725210a0fcf37b6c99d943627ed033651ec2668ed3aa3389bb5
size 80250
