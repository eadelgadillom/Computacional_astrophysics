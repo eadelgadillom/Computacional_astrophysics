version https://git-lfs.github.com/spec/v1
oid sha256:7c71f0f711f9df0f2e9d29657dd5d0bc93357668a7cdd71e37ea935d472e4985
size 66464
