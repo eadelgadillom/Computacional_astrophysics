version https://git-lfs.github.com/spec/v1
oid sha256:96e01339a991f31ccd20ab7f2398855502f29008f67df700a0c9f50b8b0ea137
size 19558
