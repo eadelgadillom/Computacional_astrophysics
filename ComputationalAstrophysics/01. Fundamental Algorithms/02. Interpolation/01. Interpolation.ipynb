version https://git-lfs.github.com/spec/v1
oid sha256:6ce2e6968dab5a903f6263121b91c9d2ffb76f82abe2ede5248a0eda27f190b6
size 247618
