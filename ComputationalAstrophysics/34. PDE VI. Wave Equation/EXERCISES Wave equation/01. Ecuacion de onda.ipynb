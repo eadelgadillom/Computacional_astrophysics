version https://git-lfs.github.com/spec/v1
oid sha256:00dbfb1e1015002dfdcb5a9ea6084e5c7fbce132684c3d93b5e654702c7dbdbc
size 4088738
