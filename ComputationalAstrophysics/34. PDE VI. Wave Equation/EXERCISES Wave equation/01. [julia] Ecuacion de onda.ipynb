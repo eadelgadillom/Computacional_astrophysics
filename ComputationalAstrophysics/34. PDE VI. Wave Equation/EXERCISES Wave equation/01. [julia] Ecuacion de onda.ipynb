version https://git-lfs.github.com/spec/v1
oid sha256:4a945a38a0b3c3a1b7bae59f2c52cfe0b39cf50d7d3b241efd9b90f840edc3c6
size 1166983
