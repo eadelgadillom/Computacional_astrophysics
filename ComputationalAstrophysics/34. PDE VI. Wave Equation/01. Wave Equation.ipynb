version https://git-lfs.github.com/spec/v1
oid sha256:4e41d716b7e69b0c945ec4abc27d7c79b0adbc465a3f0ba4dbc60bc0f7489c3a
size 11149
