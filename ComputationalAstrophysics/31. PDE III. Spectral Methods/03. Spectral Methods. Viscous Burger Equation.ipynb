version https://git-lfs.github.com/spec/v1
oid sha256:a00055d8859a8cd32ff1fef6f611d90a7590cf37dc7fcc1c3dd47c7b47c9c9e7
size 1102664
