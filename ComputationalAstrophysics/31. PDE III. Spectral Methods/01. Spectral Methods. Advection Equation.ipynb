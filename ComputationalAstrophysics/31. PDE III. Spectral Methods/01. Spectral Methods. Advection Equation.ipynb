version https://git-lfs.github.com/spec/v1
oid sha256:2e0d4de521b80d0abdcab3c2a8c1fc597149ae0ae0ed5882f77c9674e5520fb5
size 2709062
