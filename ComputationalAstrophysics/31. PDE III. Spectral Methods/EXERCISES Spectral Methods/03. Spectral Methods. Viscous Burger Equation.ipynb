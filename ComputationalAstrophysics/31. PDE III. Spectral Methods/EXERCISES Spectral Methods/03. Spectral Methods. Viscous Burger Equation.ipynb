version https://git-lfs.github.com/spec/v1
oid sha256:e36265058170711270fdb7234854c7eb9ae8c26dcfadc2e34dc45bdb462bc123
size 1146112
