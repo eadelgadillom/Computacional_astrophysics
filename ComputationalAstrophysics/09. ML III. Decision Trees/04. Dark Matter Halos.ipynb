{
 "cells": [
  {
   "cell_type": "markdown",
   "metadata": {},
   "source": [
    "![Astrofisica Computacional](../../../logo.png)"
   ]
  },
  {
   "cell_type": "markdown",
   "metadata": {
    "id": "oRIl-TKTfjKU"
   },
   "source": [
    "## 04. Decision Trees for the Bolshoi Simulation\n",
    "\n",
    "Eduard Larrañaga (ealarranaga@unal.edu.co)\n",
    "\n"
   ]
  },
  {
   "cell_type": "markdown",
   "metadata": {},
   "source": [
    "### About this notebook\n",
    "\n",
    "In this exercise, we will analize some data from the Bolshoi simulation to find a decision tree to classify according to one of the features. \n",
    "\n",
    "---"
   ]
  },
  {
   "cell_type": "markdown",
   "metadata": {
    "id": "b0h5kwjiOPOq"
   },
   "source": [
    "## The Dataset\n",
    "\n",
    "We will go back to the Bolshoi simulation data studied in a previous lesson. The complete data from the simulation can be found at\n",
    "\n",
    "http://www.slac.stanford.edu/~behroozi/Bolshoi_Catalogs/  \n",
    "\n",
    "but we will use again a reduced dataset with approximately 21000 samples. This file is called 'bolshoi01.list' \n",
    "\n",
    "Complete information about the Bolshoi simulation can be found in the paper\n",
    "\n",
    "A. Klypin, S. Trujillo-Gomez, J. Primack. *Halos and galaxies in the standard cosmological model: results from the Bolshoi simulation.*\n",
    "https://arxiv.org/abs/1002.3660\n"
   ]
  },
  {
   "cell_type": "code",
   "execution_count": 1,
   "metadata": {
    "id": "BSObhji7OPOu"
   },
   "outputs": [],
   "source": [
    "import numpy as np\n",
    "import matplotlib.pyplot as plt\n",
    "import pandas as pd\n",
    "\n",
    "%matplotlib inline"
   ]
  },
  {
   "cell_type": "markdown",
   "metadata": {
    "id": "m1JsAaGIOPOu"
   },
   "source": [
    "### Loading the data\n",
    "\n",
    "In order to load the data from the file, we will use the function [numpy.genfromtxt()](https://numpy.org/doc/stable/reference/generated/numpy.genfromtxt.html) which is similar to the function `numpy.loadtxt()`, that we have used before, but gives some options that help when dealing with missing values. \n",
    "\n",
    "We will load the first 20000 samples."
   ]
  },
  {
   "cell_type": "code",
   "execution_count": 2,
   "metadata": {
    "id": "fTuLAQ4UOPOu"
   },
   "outputs": [],
   "source": [
    "#Load data from ascii file\n",
    "data = np.genfromtxt(\"BolshoiData/bolshoi01.list\",comments='#',max_rows=20000)"
   ]
  },
  {
   "cell_type": "markdown",
   "metadata": {
    "id": "wSOW1s1h3yN7"
   },
   "source": [
    "From the analysis in a previous lesson, we will consider only some of the features included in the file,"
   ]
  },
  {
   "cell_type": "code",
   "execution_count": 3,
   "metadata": {
    "id": "mG89VB8XOPOu"
   },
   "outputs": [],
   "source": [
    "#Extract halo properties\n",
    "\n",
    "virial_mass   = np.log10(data[:,10])\n",
    "virial_radius = np.log10(data[:,11])\n",
    "concentration = np.log10(data[:,11] / data[:,12]) #Concentration is defined as virial radius divided by scale length\n",
    "velocity_disp = np.log10(data[:,13])\n",
    "vmax          = np.log10(data[:,16])\n",
    "spin          = np.log10(data[:,26])\n",
    "b_to_a        = data[:,44]\n",
    "c_to_a        = data[:,45]\n",
    "energy_ratio  = data[:,54]\n",
    "peak_mass     = np.log10(data[:,58])\n",
    "peak_vmax     = np.log10(data[:,60])\n",
    "halfmass_a    = data[:,61]\n",
    "peakmass_a    = data[:,67]\n",
    "acc_rate      = data[:,64]"
   ]
  },
  {
   "cell_type": "markdown",
   "metadata": {
    "id": "eRt78cftOPOx"
   },
   "source": [
    "---\n",
    "\n",
    "## Preparing the data for machine learning\n",
    "\n",
    "We want to define a decision tree that predicts the `'concentration'`, from the features, `'Half Mass Scale'`,  `'Peak Mass Scale'`, `'B to A ratio'` and `'C to A ratio'`. Hence, we define"
   ]
  },
  {
   "cell_type": "code",
   "execution_count": 4,
   "metadata": {},
   "outputs": [],
   "source": [
    "features = np.asarray([halfmass_a, peakmass_a, b_to_a, c_to_a])\n",
    "features = features.T\n",
    "\n",
    "targets = np.asarray(concentration)"
   ]
  },
  {
   "cell_type": "markdown",
   "metadata": {},
   "source": [
    "---\n",
    "\n",
    "## The Decision Tree\n",
    "\n",
    "Now we will train a decision tree with this information,"
   ]
  },
  {
   "cell_type": "code",
   "execution_count": 5,
   "metadata": {},
   "outputs": [
    {
     "data": {
      "text/plain": [
       "DecisionTreeRegressor()"
      ]
     },
     "execution_count": 5,
     "metadata": {},
     "output_type": "execute_result"
    }
   ],
   "source": [
    "from sklearn.tree import DecisionTreeRegressor\n",
    "\n",
    "d_tree = DecisionTreeRegressor()\n",
    "d_tree.fit(features, targets)"
   ]
  },
  {
   "cell_type": "markdown",
   "metadata": {},
   "source": [
    "This time, we will evaluate the model usint the  [sklearn.metrics.mean_squared_error](https://scikit-learn.org/stable/modules/generated/sklearn.metrics.mean_squared_error.html) metric."
   ]
  },
  {
   "cell_type": "code",
   "execution_count": 6,
   "metadata": {},
   "outputs": [
    {
     "data": {
      "text/plain": [
       "0.0"
      ]
     },
     "execution_count": 6,
     "metadata": {},
     "output_type": "execute_result"
    }
   ],
   "source": [
    "from sklearn.metrics import mean_squared_error\n",
    "\n",
    "#Compute Predictions and determine RMSE\n",
    "predictions = d_tree.predict(features)\n",
    "tree_mse = mean_squared_error(targets, predictions)\n",
    "tree_rmse = np.sqrt(tree_mse)\n",
    "tree_rmse"
   ]
  },
  {
   "cell_type": "markdown",
   "metadata": {},
   "source": [
    "This value of the rmse is very low! We can see the behavior of the model with a plot:"
   ]
  },
  {
   "cell_type": "code",
   "execution_count": 7,
   "metadata": {},
   "outputs": [
    {
     "data": {
      "image/png": "[encoded data removed]",
      "text/plain": [
       "<Figure size 720x504 with 1 Axes>"
      ]
     },
     "metadata": {
      "needs_background": "light"
     },
     "output_type": "display_data"
    }
   ],
   "source": [
    "plt.figure(figsize=(10,7))\n",
    "plt.scatter(targets, predictions, alpha=0.2)\n",
    "plt.plot(targets, targets, '--', color='crimson')\n",
    "plt.ylabel(r'predictions')\n",
    "plt.xlabel(r'targets')\n",
    "plt.show()"
   ]
  },
  {
   "cell_type": "markdown",
   "metadata": {
    "id": "ihcKv-M6OPOw"
   },
   "source": [
    "As expected, the result is too good to be true...  \n",
    "\n",
    "One explanation to what's happening is over-fit... In order to build a better model and to evaluate it we will use the **k fold cross-validation** method. As explained before, this method randomly splits the (training) set into K distinct subsets called **folds** and then, it trains and evaluates the model K times, picking a different fold for every evaluation every time and training on the other K-1 folds. This results in an array with K evaluation scores.\n",
    "\n",
    "First we will define a function that provides three evaluation parameters: \n",
    "\n",
    "- the scores of the k-fold validation\n",
    "- the mean of these scores\n",
    "- the standard deviation of the scores"
   ]
  },
  {
   "cell_type": "code",
   "execution_count": 8,
   "metadata": {
    "id": "4R3RdGUUOPOw"
   },
   "outputs": [],
   "source": [
    "def display_scores(scores):\n",
    "    print(\"Scores:\", scores)\n",
    "    print(\"Mean:\", scores.mean())\n",
    "    print(\"Standard Deviation:\", scores.std())"
   ]
  },
  {
   "cell_type": "markdown",
   "metadata": {},
   "source": [
    "Now, we calculate the k-fold validation using the funcion [sklearn.model_selection.cross_val_score](https://scikit-learn.org/stable/modules/generated/sklearn.model_selection.cross_val_score.html). We will use 10 folds (subsets)"
   ]
  },
  {
   "cell_type": "code",
   "execution_count": 9,
   "metadata": {},
   "outputs": [
    {
     "name": "stdout",
     "output_type": "stream",
     "text": [
      "Scores: [0.26115896 0.25732938 0.26209161 0.26975597 0.27106374 0.2774468\n",
      " 0.29864488 0.29814858 0.28951781 0.32541361]\n",
      "Mean: 0.2810571346371118\n",
      "Standard Deviation: 0.02049336425862503\n"
     ]
    }
   ],
   "source": [
    "from sklearn.model_selection import cross_val_score\n",
    "\n",
    "scores = cross_val_score(d_tree, features, targets, scoring=\"neg_mean_squared_error\", cv=10)\n",
    "tree_rmse_scores = np.sqrt(-scores)\n",
    "display_scores(tree_rmse_scores)"
   ]
  },
  {
   "cell_type": "markdown",
   "metadata": {
    "id": "Ni_DrztnOPOz"
   },
   "source": [
    "From these results we note that none of the scores is better than the RMSE obtained from the multilinear regression ($\\sim 0.2105$). Hence, the linear regressor gives a better model than decision trees for this example."
   ]
  },
  {
   "cell_type": "code",
   "execution_count": null,
   "metadata": {},
   "outputs": [],
   "source": []
  }
 ],
 "metadata": {
  "@webio": {
   "lastCommId": null,
   "lastKernelId": null
  },
  "colab": {
   "collapsed_sections": [],
   "name": "01. Regression Halos.ipynb",
   "provenance": []
  },
  "kernelspec": {
   "display_name": "Python 3 (ipykernel)",
   "language": "python",
   "name": "python3"
  },
  "language_info": {
   "codemirror_mode": {
    "name": "ipython",
    "version": 3
   },
   "file_extension": ".py",
   "mimetype": "text/x-python",
   "name": "python",
   "nbconvert_exporter": "python",
   "pygments_lexer": "ipython3",
   "version": "3.10.9"
  }
 },
 "nbformat": 4,
 "nbformat_minor": 1
}
