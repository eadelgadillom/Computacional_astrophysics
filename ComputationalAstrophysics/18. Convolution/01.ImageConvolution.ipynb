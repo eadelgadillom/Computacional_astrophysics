version https://git-lfs.github.com/spec/v1
oid sha256:e95e5127caf68df9cb43828200a8cb39178d8ed5550d2a9527c507391e05a8b3
size 121379
