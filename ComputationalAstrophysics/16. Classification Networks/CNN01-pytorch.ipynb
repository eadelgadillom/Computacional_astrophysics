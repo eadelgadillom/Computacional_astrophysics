version https://git-lfs.github.com/spec/v1
oid sha256:2e1e9ca87ca4368941051e0d1e686a46ff145965922628c5a6bd5f89786d72a7
size 100597
