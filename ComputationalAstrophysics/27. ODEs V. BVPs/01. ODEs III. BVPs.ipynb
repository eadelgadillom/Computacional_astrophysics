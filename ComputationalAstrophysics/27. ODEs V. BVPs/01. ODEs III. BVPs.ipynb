{
 "cells": [
  {
   "cell_type": "markdown",
   "metadata": {
    "id": "01gPdISeffwN"
   },
   "source": [
    "![Astrofisica Computacional](../logo.PNG)"
   ]
  },
  {
   "cell_type": "markdown",
   "metadata": {},
   "source": [
    "---\n",
    "## 01. ODEs III. Boundary Value Problems (BVPs)\n",
    "\n",
    "Eduard Larrañaga (ealarranaga@unal.edu.co)\n",
    "\n",
    "---"
   ]
  },
  {
   "cell_type": "markdown",
   "metadata": {
    "id": "8bSKXjg6ffwV"
   },
   "source": [
    "### Summary\n",
    "\n",
    "Some of the techniques to solve a system of ordinary differential equations subject to boundary conditions are presented.\n",
    "\n",
    "`A. Garcia. Numerical Methods for Physics. (1999). Chapter 3`\n",
    "\n",
    "---"
   ]
  },
  {
   "cell_type": "markdown",
   "metadata": {
    "id": "v5_9s3j-ffwW"
   },
   "source": [
    "## Ordinary Differential Equations with Boundary Conditions\n",
    "\n",
    "A boundary value problem (BVP) aims to find a solution to the system of ODEs in an interval $[a,b]$ of the independent variable, subject to the fact that it must satisfy some conditions at the extremes of this interval (conditions of border).\n",
    "\n",
    "An example of a BVP is\n",
    "\n",
    "\\begin{equation}\n",
    "y'' = f(x,y,y')\\,\\,,\n",
    "\\hspace{0.5em} y(a) = A\\,\\,,\n",
    "\\hspace{0.5em} y(b) = B\\,\\,,\n",
    "\\hspace{0.5em} \\text{and } x \\in [a,b]\\,\\,.\n",
    "\\end{equation}\n",
    "\n",
    "\n",
    "\n",
    "\n",
    "\n",
    "\n",
    "---\n",
    "## The Shooting method\n",
    "\n",
    "The **Shooting** method solves the BVP by transforming it into an initial value problem and introducing an educated choice about the unknown initial conditions on the inner boundary. Leugo, iterates using a method such as Euler, Predictor-Corrector or RK until the outer boundary is reached and it is checked if the required boundary condition is met. If it is not satisfied, the chosen initial condition is modified and the process is repeated until the boundary conditions are met.\n",
    "\n",
    "\n",
    "### Example\n",
    "\n",
    "Given the BVP presented above, it should be noted that although the value $y(a) = $ is imposed, the value of $y'(a)$ is not known.\n",
    "\n",
    "\n",
    "An initial choice of $y'(a) = z_0$ can be made to convert the BVP to an initial value with the structure\n",
    "\n",
    "\\begin{equation}\n",
    "y' = u(x) \\hspace{0.5cm},\\hspace{0.5cm} y'(a) = z_0\n",
    "\\end{equation}\n",
    "\n",
    "\\begin{equation}\n",
    "u' = f(x,y,u) \\hspace{0.5cm},\\hspace{0.5cm} y(a) = A.\n",
    "\\end{equation}\n",
    "\n",
    "\n",
    "Now integrate this system of ODEs from the initial condition to the point $x=b$. Since the value $z_0$ was chosen arbitrarily, the solution found can be written as $y=y(x,z_0)$, and the goal is that this function satisfies $y(b,z_0) = B$. If the choice of $z_0$ does not achieve this goal, the function can be introduced\n",
    "\n",
    "\\begin{equation}\n",
    "\\Phi(z_0) = y(b,z_0) - B\n",
    "\\end{equation}\n",
    "\n",
    "and find the value of $z_0$ that makes $\\Phi(z_0) = 0$. This means that we will be looking for a root of the function $\\Phi(z_0)$.\n"
   ]
  },
  {
   "cell_type": "markdown",
   "metadata": {
    "id": "hnk-IalKffwX"
   },
   "source": [
    "---\n",
    "### The Shooting Algorithm\n",
    "\n",
    "The complete Shooting algorithm for $y'' = f(x,y,y')$ can be summarized as\n",
    "\n",
    "1. Enter (arbitrarily) the initial value $z_0 = y'(a)$ and start with an iteration counter $i = 0$.\n",
    "\n",
    "2. Calculate $y = y(x,z_i)$ by integrating the initial value problem.\n",
    "\n",
    "\n",
    "3. Calculate $\\Phi(z_i) = y(b,z_i) - B$.\n",
    "  - If $z_i$ does not produce a sufficiently precise solution of the problem (i.e. the value of $\\Phi(z_i)$ is not close enough to zero), increment the index of $i$ to $i+1$ and find a more suitable value $z_{i+1}$ using a rootfinder for $\\Phi(z_i) = 0$. Then it goes back to (2).\n",
    "\n",
    "\n",
    "\n",
    "**Note:** The secant method is typically used to find the root because the derivative of the function $\\Phi(z)$ is not known analytically. For this method to be applied, at least two initial values $z$ need to be entered."
   ]
  },
  {
   "cell_type": "markdown",
   "metadata": {
    "id": "mN_S7YZLffwX"
   },
   "source": [
    "---\n",
    "\n",
    "\n",
    "## Finite Difference Method\n",
    "\n",
    "The BVPs described above can be solved by Taylor series expanding the ODEs to a suitable order (eg linear, assuming no non-linear terms in y or y').\n",
    "\n",
    "For example, consider the differential system\n",
    "\n",
    "\\begin{equation}\n",
    "y'' = g(x) - p(x)y' - q(x) y\\,\\,,\n",
    "\\end{equation}\n",
    "\n",
    "where $g(x)$, $p(x)$, and $q(x)$ are functions exclusively of the independent variable $x$ and where the sign convention is arbitrary.\n",
    "\n",
    "\n",
    "The derivatives $y'$ and $y''$ can be discretized into an equidistant mesh on the interval $[a,b]$ using $n$ nodes (or equivalently $N=n-1$ intervals with step size $\\Delta x$),\n",
    "\n",
    "\\begin{equation}\n",
    "\\begin{aligned}\n",
    "y'(x_i) &= \\frac{y_{i+1} - y_{i-1}}{2\\Delta x}\\,\\,,\\\\\n",
    "y''(x_i) &= \\frac{y_{i+1} + y_{i-1} - 2 y_i}{\\Delta x^2}\\,\\,,\n",
    "\\end{aligned}\n",
    "\\end{equation}\n",
    "\n",
    "where $y_i = y(x_{i})$, $x_i = a + i \\Delta x$, with $(i = 0, ... , N)$, and\n",
    "\n",
    "\\begin{equation}\n",
    "\\Delta x = \\frac{b-a}{N}.\n",
    "\\end{equation}\n",
    "\n",
    "Evaluating the differential equation in $x_i$ and substituting the discretized expressions, we obtain\n",
    "\n",
    "\\begin{equation}\n",
    "\\frac{y_{i+1} + y_{i-1} - 2 y_i}{\\Delta x^2} + p_i \\frac{y_{i+1} - y_{i-1}}{2\\Delta x} + q_i y_i = g_i\n",
    "\\end{equation}\n",
    "\n",
    "where $p_i = p(x_i)$, $g_i = g(x_i)$, and $q_i = q(x_i)$. By multiplying the entire expression by $\\Delta x^2$,\n",
    "\n",
    "\\begin{equation}\n",
    "y_{i+1} + y_{i-1} - 2 y_i + \\frac{\\Delta x}{2}p_i y_{i+1} - \\frac{\\Delta x}{2} p_i y_{i- 1} + \\Delta x^2 q_i y_i = \\Delta x^2 g_i\n",
    "\\end{equation}\n",
    "\n",
    "\\begin{equation}\n",
    "\\left(1+ \\frac{\\Delta x}{2}p_i\\right) y_{i+1} -\\left( 2 - \\Delta x^2 q_i \\right) y_i + \\left( 1 - \\frac{ \\Delta x}{2} p_i \\right)y_{i-1} = \\Delta x^2 g_i.\n",
    "\\end{equation}\n",
    "\n",
    "\n",
    "In this way, the discrete version of these equations is a system of $N+1 = n$ linear algebraic equations, where the boundary conditions have been included:\n",
    "\n",
    "\\begin{equation}\n",
    "\\begin{aligned}\n",
    "y_0 &= A\\,\\,\\\\\n",
    "\\left(1-\\frac{\\Delta x}{2}p_i \\right) y_{i-1} - \\left(2-\\Delta x^2q_i \\right) y_i + \\left(1+\\frac{\\ Delta x}{2}p_i \\right) y_{i+1} &= \\Delta x^2 g_i\\,\\,\\\\\n",
    "y_{n} &= B\\,\\,.\n",
    "\\end{aligned}\n",
    "\\end{equation}\n",
    "\n",
    "\n",
    "This system can be represented with a tri-diagonal matrix of dimension $N \\times N$ (note that the values ​​of $y_0$ and $y_{n}$ are already known and therefore only $N$ values ​​of $y_i$):\n",
    "\n",
    "\\begin{equation}\n",
    "\\begin{pmatrix}\n",
    "-2+\\Delta x^2q_1 & 1+ \\frac{\\Delta x}{2}p_1& 0 & \\cdots &\\cdots&\\cdots &0\\\\\n",
    "1-\\frac{\\Delta x}{2} p_2&\\ddots&\\ddots & 0 &\\cdots & \\cdots & 0\\\\\n",
    "0 & \\ddots & \\ddots & \\ddots & 0 & \\cdots & \\vdots\\\\\n",
    "\\vdots & 0 & \\ddots & \\ddots & \\ddots & 0 & \\vdots \\\\\n",
    "\\vdots & \\vdots & 0 & \\ddots & \\ddots & \\ddots & 0\\\\\n",
    "\\vdots & \\vdots & \\vdots& 0& \\ddots & \\ddots & 1+\\frac{\\Delta x}{2}p_{N-1}\\\\\n",
    "\\vdots & 0 & 0 & \\cdots & 0 & 1-\\frac{\\Delta x}{2} p_N & -2+\\Delta x^2 q_N\\\\\n",
    "\\end{pmatrix}\n",
    "\\begin{pmatrix}\n",
    "y_1\\\\\\vdots \\\\\\vdots \\\\\\vdots \\\\\\vdots \\\\\\vdots \\\\ y_N\n",
    "\\end{pmatrix}\n",
    "= \\begin{pmatrix}\n",
    "\\Delta x^2 g_1 - A(1-\\frac{\\Delta x}{2}p_1)\\\\\n",
    "\\Delta x^2 g_2\\\\\n",
    "\\vdots\\\\\n",
    "\\vdots\\\\\n",
    "\\vdots\\\\\n",
    "\\Delta x^2 g_{N-1}\\\\\n",
    "\\Delta x^2 g_N - B(1+\\frac{\\Delta x}{2}p_N)\\\\\n",
    "\\end{pmatrix}\n",
    "\\end{equation}"
   ]
  },
  {
   "cell_type": "code",
   "execution_count": null,
   "metadata": {},
   "outputs": [],
   "source": []
  }
 ],
 "metadata": {
  "colab": {
   "collapsed_sections": [],
   "name": "ODE02.ipynb",
   "provenance": []
  },
  "kernelspec": {
   "display_name": "Python 3 (ipykernel)",
   "language": "python",
   "name": "python3"
  },
  "language_info": {
   "codemirror_mode": {
    "name": "ipython",
    "version": 3
   },
   "file_extension": ".py",
   "mimetype": "text/x-python",
   "name": "python",
   "nbconvert_exporter": "python",
   "pygments_lexer": "ipython3",
   "version": "3.9.5"
  }
 },
 "nbformat": 4,
 "nbformat_minor": 1
}
