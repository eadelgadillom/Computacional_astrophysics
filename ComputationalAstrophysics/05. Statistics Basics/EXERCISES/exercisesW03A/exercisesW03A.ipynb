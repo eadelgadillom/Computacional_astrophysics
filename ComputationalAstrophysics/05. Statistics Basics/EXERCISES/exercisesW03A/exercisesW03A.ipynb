version https://git-lfs.github.com/spec/v1
oid sha256:f91a46de7163c90063b8194d826c9ed7fb2c4be7e26366b5581d3e45441f8884
size 3778
