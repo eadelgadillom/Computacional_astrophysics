version https://git-lfs.github.com/spec/v1
oid sha256:8a9b7015885a83cb64cbd996d91dbdc225fac317d65664b3a6bdc63c37b9e659
size 77297
