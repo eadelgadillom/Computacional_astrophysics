version https://git-lfs.github.com/spec/v1
oid sha256:47b86fbf7b9a7bc2f2888e32ae6c269e725acfae84c87d0e27416f32b955c4e7
size 770169
