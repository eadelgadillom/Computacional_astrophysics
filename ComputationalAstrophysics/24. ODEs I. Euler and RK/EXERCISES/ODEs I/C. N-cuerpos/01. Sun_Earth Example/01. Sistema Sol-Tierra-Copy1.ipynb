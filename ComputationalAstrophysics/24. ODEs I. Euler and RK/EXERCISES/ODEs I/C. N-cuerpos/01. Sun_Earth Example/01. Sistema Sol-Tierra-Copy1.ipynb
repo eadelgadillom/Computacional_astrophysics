version https://git-lfs.github.com/spec/v1
oid sha256:91f1eac63f45905531ae73b663c18e0de505d56fe158d7e1c2edd512671dc4a4
size 14072046
