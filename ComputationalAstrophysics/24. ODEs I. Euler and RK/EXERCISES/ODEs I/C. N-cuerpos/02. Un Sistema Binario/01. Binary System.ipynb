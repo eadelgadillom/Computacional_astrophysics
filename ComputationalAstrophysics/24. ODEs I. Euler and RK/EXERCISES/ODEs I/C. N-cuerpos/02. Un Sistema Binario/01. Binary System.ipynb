version https://git-lfs.github.com/spec/v1
oid sha256:91ab4ab91f039fd368897a27664ea6c7ba1cd93deb09b652c2261bc60e5f47c2
size 12347257
