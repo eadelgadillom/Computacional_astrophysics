version https://git-lfs.github.com/spec/v1
oid sha256:a21d5786b2ce15e0002eca4aff435da0d8e90e8adbda84e54c869dd2ef1c24e8
size 20816
