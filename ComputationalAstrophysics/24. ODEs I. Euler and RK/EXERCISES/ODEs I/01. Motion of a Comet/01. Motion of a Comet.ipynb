version https://git-lfs.github.com/spec/v1
oid sha256:2338695250b4c29869f4432eb905acf38f08989e85b245237eeac91ffeea0492
size 282458
