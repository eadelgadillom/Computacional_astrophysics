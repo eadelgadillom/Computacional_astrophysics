version https://git-lfs.github.com/spec/v1
oid sha256:bae94ec8bd5bda9f7c86ea4a5019db69ee7d5269106b9656fe974239e83025ee
size 22112914
