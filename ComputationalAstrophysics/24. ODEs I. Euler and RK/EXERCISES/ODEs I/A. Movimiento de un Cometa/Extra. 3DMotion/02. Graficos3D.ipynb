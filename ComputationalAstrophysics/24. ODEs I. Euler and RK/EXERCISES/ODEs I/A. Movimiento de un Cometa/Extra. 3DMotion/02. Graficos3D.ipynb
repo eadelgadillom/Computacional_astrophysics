version https://git-lfs.github.com/spec/v1
oid sha256:d81d2deef2696bd1e0a8498ab85fb5ddb0001434ab4e1db3acb17703fc677c49
size 371351
