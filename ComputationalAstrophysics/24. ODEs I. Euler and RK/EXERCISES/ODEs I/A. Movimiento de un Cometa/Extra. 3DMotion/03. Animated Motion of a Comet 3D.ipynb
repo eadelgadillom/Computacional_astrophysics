version https://git-lfs.github.com/spec/v1
oid sha256:a15d48f42a8b09ad25ced7226df237d6e8eb909335d97b17563404521a9a3c8e
size 169758
