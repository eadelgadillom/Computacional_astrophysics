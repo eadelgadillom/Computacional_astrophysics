version https://git-lfs.github.com/spec/v1
oid sha256:efc8683a9fbe53fba0c61593710b2679b3898d2ecbebaf30cf60e8257fa3faea
size 19131296
