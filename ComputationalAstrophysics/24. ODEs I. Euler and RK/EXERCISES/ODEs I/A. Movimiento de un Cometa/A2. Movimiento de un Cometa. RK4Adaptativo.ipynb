version https://git-lfs.github.com/spec/v1
oid sha256:80275f5b0179a5d0d3b89ec58a70929fc6f415c1eb2cf86fd7f47b3f030a85bf
size 110294
