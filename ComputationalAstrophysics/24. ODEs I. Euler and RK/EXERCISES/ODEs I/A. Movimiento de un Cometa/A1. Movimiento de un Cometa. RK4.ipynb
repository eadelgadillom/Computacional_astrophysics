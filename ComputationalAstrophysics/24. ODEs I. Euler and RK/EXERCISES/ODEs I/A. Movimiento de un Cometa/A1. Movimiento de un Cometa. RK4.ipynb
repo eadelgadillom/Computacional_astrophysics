version https://git-lfs.github.com/spec/v1
oid sha256:c5d0138a4cd293ed575c48c6169ac2612436876a39b18b069584cce881d621d2
size 115379
