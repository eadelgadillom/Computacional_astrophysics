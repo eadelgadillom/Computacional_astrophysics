version https://git-lfs.github.com/spec/v1
oid sha256:3f33c47b86ebef8746cc4f3e954f2c0d94f7d152a7668c03ac3c96dca1543215
size 66586
