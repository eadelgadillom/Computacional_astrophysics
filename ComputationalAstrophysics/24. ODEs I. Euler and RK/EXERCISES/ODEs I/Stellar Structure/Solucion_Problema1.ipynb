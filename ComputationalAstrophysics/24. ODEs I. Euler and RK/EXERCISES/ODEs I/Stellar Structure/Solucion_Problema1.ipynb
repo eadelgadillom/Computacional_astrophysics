version https://git-lfs.github.com/spec/v1
oid sha256:510d646540943a5b20d9b55f7d0a1d8971acd7d6a7b53f856fc4b2d10a5a2c67
size 100740
