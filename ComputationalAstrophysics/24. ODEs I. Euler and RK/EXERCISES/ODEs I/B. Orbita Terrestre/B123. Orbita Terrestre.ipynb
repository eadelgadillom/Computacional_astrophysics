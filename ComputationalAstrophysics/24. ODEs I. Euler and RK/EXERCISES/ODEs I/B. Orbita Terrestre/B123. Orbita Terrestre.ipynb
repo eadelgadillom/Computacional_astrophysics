version https://git-lfs.github.com/spec/v1
oid sha256:7b536ee1ebb9e194dc815c056f25ed661a4edb9f752715dcde97aebba2b8abd4
size 213373
