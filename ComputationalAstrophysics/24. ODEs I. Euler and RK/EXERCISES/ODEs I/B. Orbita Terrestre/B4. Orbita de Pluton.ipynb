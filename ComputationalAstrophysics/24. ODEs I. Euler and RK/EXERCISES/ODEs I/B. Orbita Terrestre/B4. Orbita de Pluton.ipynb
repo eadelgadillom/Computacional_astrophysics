version https://git-lfs.github.com/spec/v1
oid sha256:8dc7277c759a266c5ab8a2491c5a130945434a69575920734e54d81404c0ad61
size 128760
