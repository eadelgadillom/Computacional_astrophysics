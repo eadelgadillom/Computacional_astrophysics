version https://git-lfs.github.com/spec/v1
oid sha256:1d6004331131466be399e6a4b6d63fa8beef91f52aa84ac2aa9a4a3e55dee87d
size 478598
