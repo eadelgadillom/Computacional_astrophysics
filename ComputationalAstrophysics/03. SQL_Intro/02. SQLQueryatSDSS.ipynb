version https://git-lfs.github.com/spec/v1
oid sha256:fe12871d98c4ce855ef823cba6a9efe033d0ca858b74d1ea7c372c6f27a88242
size 13037
