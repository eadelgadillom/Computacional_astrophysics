version https://git-lfs.github.com/spec/v1
oid sha256:50d699e5f86a70f4107b7f1b72c48e9398e0a52fc086adb9488e668ee471492b
size 194494
