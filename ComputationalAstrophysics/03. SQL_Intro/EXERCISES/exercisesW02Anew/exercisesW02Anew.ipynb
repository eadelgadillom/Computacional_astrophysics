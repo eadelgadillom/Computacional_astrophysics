version https://git-lfs.github.com/spec/v1
oid sha256:45c258cbb3be50c0443067934eecdf49e38b2dfd0af316f490ab2d85a9e8b3cc
size 2982
