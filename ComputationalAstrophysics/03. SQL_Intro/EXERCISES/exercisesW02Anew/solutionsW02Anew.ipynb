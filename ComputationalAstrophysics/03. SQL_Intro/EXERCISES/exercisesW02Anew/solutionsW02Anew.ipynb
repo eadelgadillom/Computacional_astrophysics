version https://git-lfs.github.com/spec/v1
oid sha256:7f394435b36ac3e5a5bbf2c0e938460ac172ac78fc685fc139831cbe40237712
size 234767
