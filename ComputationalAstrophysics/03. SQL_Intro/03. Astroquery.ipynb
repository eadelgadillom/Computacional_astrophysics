{
 "cells": [
  {
   "cell_type": "markdown",
   "metadata": {
    "id": "JG-5Y0W5_4cm"
   },
   "source": [
    "![Astrofisica Computacional](../../../logo.png)"
   ]
  },
  {
   "cell_type": "markdown",
   "metadata": {},
   "source": [
    "---\n",
    "## 03. Astroquery\n",
    "\n",
    "\n",
    "Eduard Larrañaga (ealarranaga@unal.edu.co)\n",
    "\n",
    "---"
   ]
  },
  {
   "cell_type": "markdown",
   "metadata": {
    "id": "V_L8Z7Pb_4cp"
   },
   "source": [
    "\n",
    "### About this notebook\n",
    "\n",
    "In this worksheet we will present some basic examples of the use of `Astroquery`. \n",
    "\n",
    "---"
   ]
  },
  {
   "cell_type": "markdown",
   "metadata": {
    "id": "g7R70iXH-qH9"
   },
   "source": [
    "### Example 01\n",
    "\n",
    "We use `Astroquery` to query [Vizier](http://vizier.cfa.harvard.edu) about a specific keyword, and we will use of [astropy.coordinates](https://docs.astropy.org/en/stable/coordinates/index.html) to restrict the results. \n",
    "\n",
    "Vizier’s keywords can indicate features such as wavelength or object type. You can see some of the keywords directly at Vizier's webpage, [https://vizier.cds.unistra.fr/viz-bin/VizieR](https://vizier.cds.unistra.fr/viz-bin/VizieR). \n",
    "\n",
    "You can try some of these (IT IS IMPORTANT TO USE DOUBLE QUOTES \" \"):\n",
    "\n",
    "- \"stars:white_dwarf\"\n",
    "- \"Black_Holes\"\n",
    "- \"Supernovae\"\n",
    "- \"QSOs\"\n",
    "- \"Gravitational_wave\"\n",
    "- \"Pulsars\""
   ]
  },
  {
   "cell_type": "code",
   "execution_count": 1,
   "metadata": {},
   "outputs": [
    {
     "data": {
      "text/plain": [
       "<astroquery.vizier.core.VizierClass at 0x1069caa10>"
      ]
     },
     "execution_count": 1,
     "metadata": {},
     "output_type": "execute_result"
    }
   ],
   "source": [
    "from astroquery.vizier import Vizier\n",
    "from astropy import coordinates\n",
    "from astropy import units as u\n",
    "\n",
    "# Defining the class of the objects\n",
    "\n",
    "v = Vizier(keywords=[\"stars:white_dwarf\", \"optical\"])\n",
    "v"
   ]
  },
  {
   "cell_type": "code",
   "execution_count": 2,
   "metadata": {},
   "outputs": [
    {
     "name": "stderr",
     "output_type": "stream",
     "text": [
      "WARNING: UnitsWarning: Unit 'Sun' not supported by the VOUnit standard. Did you mean uN? [astropy.units.format.vounit]\n"
     ]
    },
    {
     "data": {
      "text/plain": [
       "30"
      ]
     },
     "execution_count": 2,
     "metadata": {},
     "output_type": "execute_result"
    }
   ],
   "source": [
    "# Define a reference point in the sky using coordinates\n",
    "c = coordinates.SkyCoord(0, 0, unit=('deg', 'deg'), frame='icrs')\n",
    "\n",
    "# Restrict the query to thos objects of the desired object in a certain region\n",
    "# around our reference point\n",
    "result = v.query_region(c, radius=0.5*u.deg)\n",
    "\n",
    "# Number of datasets in the restricted query\n",
    "len(result)"
   ]
  },
  {
   "cell_type": "code",
   "execution_count": 3,
   "metadata": {},
   "outputs": [
    {
     "data": {
      "text/plain": [
       "TableList with 30 tables:\n",
       "\t'0:B/wd/catalog' with 14 column(s) and 7 row(s) \n",
       "\t'1:J/ApJ/607/426/stars' with 13 column(s) and 3 row(s) \n",
       "\t'2:J/ApJ/765/12/table1' with 23 column(s) and 1 row(s) \n",
       "\t'3:J/ApJ/882/106/table1' with 16 column(s) and 2 row(s) \n",
       "\t'4:J/ApJ/885/74/table1' with 9 column(s) and 1 row(s) \n",
       "\t'5:J/ApJS/167/40/catalog' with 12 column(s) and 5 row(s) \n",
       "\t'6:J/ApJS/167/40/table5' with 9 column(s) and 1 row(s) \n",
       "\t'7:J/ApJS/204/5/table2' with 21 column(s) and 4 row(s) \n",
       "\t'8:J/ApJS/215/24/table4' with 18 column(s) and 1 row(s) \n",
       "\t'9:J/A+A/496/191/table3' with 11 column(s) and 1 row(s) \n",
       "\t'10:J/A+A/658/A79/wdpda' with 26 column(s) and 4 row(s) \n",
       "\t'11:J/AJ/134/741/table1' with 10 column(s) and 1 row(s) \n",
       "\t'12:J/MNRAS/402/620/table5' with 15 column(s) and 1 row(s) \n",
       "\t'13:J/MNRAS/402/620/updates' with 5 column(s) and 1 row(s) \n",
       "\t'14:J/MNRAS/402/620/table7' with 17 column(s) and 1 row(s) \n",
       "\t'15:J/MNRAS/402/620/table9' with 10 column(s) and 1 row(s) \n",
       "\t'16:J/MNRAS/417/1210/spec' with 21 column(s) and 3 row(s) \n",
       "\t'17:J/MNRAS/417/1210/phot' with 18 column(s) and 3 row(s) \n",
       "\t'18:J/MNRAS/429/2143/tablea1' with 15 column(s) and 1 row(s) \n",
       "\t'19:J/MNRAS/433/3398/table2' with 19 column(s) and 2 row(s) \n",
       "\t'20:J/MNRAS/445/1331/catalog' with 24 column(s) and 1 row(s) \n",
       "\t'21:J/MNRAS/446/4078/table6' with 19 column(s) and 2 row(s) \n",
       "\t'22:J/MNRAS/448/2260/catalog' with 20 column(s) and 9 row(s) \n",
       "\t'23:J/MNRAS/448/2260/spectra' with 11 column(s) and 15 row(s) \n",
       "\t'24:J/MNRAS/482/4570/gaia2wd' with 26 column(s) and 6 row(s) \n",
       "\t'25:J/MNRAS/482/4570/gaiasdss' with 17 column(s) and 10 row(s) \n",
       "\t'26:J/MNRAS/482/5222/tablea1' with 15 column(s) and 1 row(s) \n",
       "\t'27:J/MNRAS/482/5222/tablea2' with 14 column(s) and 2 row(s) \n",
       "\t'28:J/MNRAS/486/2169/table2' with 21 column(s) and 6 row(s) \n",
       "\t'29:J/MNRAS/486/2169/table3' with 38 column(s) and 2 row(s) "
      ]
     },
     "execution_count": 3,
     "metadata": {},
     "output_type": "execute_result"
    }
   ],
   "source": [
    "# The complete query includes these tables\n",
    "# Note the bib-reference of each table\n",
    "result"
   ]
  },
  {
   "cell_type": "code",
   "execution_count": 4,
   "metadata": {},
   "outputs": [
    {
     "data": {
      "text/html": [
       "<div><i>Table length=15</i>\n",
       "<table id=\"table4886099712\" class=\"table-striped table-bordered table-condensed\">\n",
       "<thead><tr><th>SDSS</th><th>Plate</th><th>_tab2_3</th><th>Fiber</th><th>pWD</th><th>Class</th><th>Nsp</th><th>Sp</th><th>SimbadName</th><th>_RA</th><th>_DE</th></tr></thead>\n",
       "<thead><tr><th></th><th></th><th>d</th><th></th><th></th><th></th><th></th><th></th><th></th><th>deg</th><th>deg</th></tr></thead>\n",
       "<thead><tr><th>str19</th><th>int16</th><th>int32</th><th>int16</th><th>float32</th><th>str13</th><th>int16</th><th>str2</th><th>str24</th><th>float64</th><th>float64</th></tr></thead>\n",
       "<tr><td>J000116.49+000204.8</td><td>387</td><td>51791</td><td>177</td><td>0.9943</td><td>DC</td><td>3</td><td>Sp</td><td>SDSS J000116.49+000204.8</td><td>0.31871</td><td>0.03467</td></tr>\n",
       "<tr><td>J000022.88-000635.7</td><td>387</td><td>51791</td><td>166</td><td>0.9218</td><td>DA</td><td>2</td><td>Sp</td><td>SDSS J000022.88-000635.7</td><td>0.09533</td><td>-0.10992</td></tr>\n",
       "<tr><td>J000011.96+000225.2</td><td>387</td><td>51791</td><td>200</td><td>0.0023</td><td>QSO</td><td>1</td><td>Sp</td><td>SDSS J000011.96+000225.2</td><td>0.04983</td><td>0.04033</td></tr>\n",
       "<tr><td>J000039.01-001803.8</td><td>387</td><td>51791</td><td>167</td><td>0.0032</td><td>QSO</td><td>1</td><td>Sp</td><td>SDSS J000039.00-001804.0</td><td>0.16254</td><td>-0.30106</td></tr>\n",
       "<tr><td>J235844.95-000724.0</td><td>387</td><td>51791</td><td>224</td><td>0.0016</td><td>QSO</td><td>2</td><td>Sp</td><td>SDSS J235844.95-000724.0</td><td>359.68729</td><td>-0.12333</td></tr>\n",
       "<tr><td>J000052.44-002610.6</td><td>387</td><td>51791</td><td>168</td><td>0.9716</td><td>DQ</td><td>1</td><td>Sp</td><td>SDSS J000052.44-002610.6</td><td>0.21850</td><td>-0.43628</td></tr>\n",
       "<tr><td>J000111.19-002011.5</td><td>387</td><td>51791</td><td>161</td><td>0.0003</td><td>QSO</td><td>3</td><td>Sp</td><td>SDSS J000111.19-002011.5</td><td>0.29662</td><td>-0.33653</td></tr>\n",
       "<tr><td>J000116.49+000204.8</td><td>685</td><td>52203</td><td>137</td><td>0.9943</td><td>DC</td><td>3</td><td>Sp</td><td>SDSS J000116.49+000204.8</td><td>0.31871</td><td>0.03467</td></tr>\n",
       "<tr><td>J235844.95-000724.0</td><td>685</td><td>52203</td><td>166</td><td>0.0016</td><td>QSO</td><td>2</td><td>Sp</td><td>SDSS J235844.95-000724.0</td><td>359.68729</td><td>-0.12333</td></tr>\n",
       "<tr><td>J000111.19-002011.5</td><td>685</td><td>52203</td><td>160</td><td>0.0003</td><td>QSO</td><td>3</td><td>Sp</td><td>SDSS J000111.19-002011.5</td><td>0.29662</td><td>-0.33653</td></tr>\n",
       "<tr><td>J000104.05+000355.8</td><td>685</td><td>52203</td><td>490</td><td>0.8979</td><td>DA</td><td>1</td><td>Sp</td><td>SDSS J000104.05+000355.8</td><td>0.26687</td><td>0.06550</td></tr>\n",
       "<tr><td>J000016.43-001833.4</td><td>1489</td><td>52991</td><td>142</td><td>0.0000</td><td>QSO</td><td>1</td><td>Sp</td><td>SDSS J000016.43-001833.4</td><td>0.06846</td><td>-0.30928</td></tr>\n",
       "<tr><td>J000022.88-000635.7</td><td>4216</td><td>55477</td><td>278</td><td>0.9218</td><td>DA</td><td>2</td><td>Sp</td><td>SDSS J000022.88-000635.7</td><td>0.09533</td><td>-0.10992</td></tr>\n",
       "<tr><td>J000116.49+000204.8</td><td>4216</td><td>55477</td><td>200</td><td>0.9943</td><td>DC</td><td>3</td><td>Sp</td><td>SDSS J000116.49+000204.8</td><td>0.31871</td><td>0.03467</td></tr>\n",
       "<tr><td>J000111.19-002011.5</td><td>4216</td><td>55477</td><td>224</td><td>0.0003</td><td>QSO</td><td>3</td><td>Sp</td><td>SDSS J000111.19-002011.5</td><td>0.29662</td><td>-0.33653</td></tr>\n",
       "</table></div>"
      ],
      "text/plain": [
       "<Table length=15>\n",
       "        SDSS        Plate _tab2_3 Fiber   pWD   ...  Nsp   Sp         SimbadName           _RA       _DE   \n",
       "                             d                  ...                                        deg       deg   \n",
       "       str19        int16  int32  int16 float32 ... int16 str2          str24            float64   float64 \n",
       "------------------- ----- ------- ----- ------- ... ----- ---- ------------------------ --------- ---------\n",
       "J000116.49+000204.8   387   51791   177  0.9943 ...     3   Sp SDSS J000116.49+000204.8   0.31871   0.03467\n",
       "J000022.88-000635.7   387   51791   166  0.9218 ...     2   Sp SDSS J000022.88-000635.7   0.09533  -0.10992\n",
       "J000011.96+000225.2   387   51791   200  0.0023 ...     1   Sp SDSS J000011.96+000225.2   0.04983   0.04033\n",
       "J000039.01-001803.8   387   51791   167  0.0032 ...     1   Sp SDSS J000039.00-001804.0   0.16254  -0.30106\n",
       "J235844.95-000724.0   387   51791   224  0.0016 ...     2   Sp SDSS J235844.95-000724.0 359.68729  -0.12333\n",
       "J000052.44-002610.6   387   51791   168  0.9716 ...     1   Sp SDSS J000052.44-002610.6   0.21850  -0.43628\n",
       "J000111.19-002011.5   387   51791   161  0.0003 ...     3   Sp SDSS J000111.19-002011.5   0.29662  -0.33653\n",
       "J000116.49+000204.8   685   52203   137  0.9943 ...     3   Sp SDSS J000116.49+000204.8   0.31871   0.03467\n",
       "J235844.95-000724.0   685   52203   166  0.0016 ...     2   Sp SDSS J235844.95-000724.0 359.68729  -0.12333\n",
       "J000111.19-002011.5   685   52203   160  0.0003 ...     3   Sp SDSS J000111.19-002011.5   0.29662  -0.33653\n",
       "J000104.05+000355.8   685   52203   490  0.8979 ...     1   Sp SDSS J000104.05+000355.8   0.26687   0.06550\n",
       "J000016.43-001833.4  1489   52991   142  0.0000 ...     1   Sp SDSS J000016.43-001833.4   0.06846  -0.30928\n",
       "J000022.88-000635.7  4216   55477   278  0.9218 ...     2   Sp SDSS J000022.88-000635.7   0.09533  -0.10992\n",
       "J000116.49+000204.8  4216   55477   200  0.9943 ...     3   Sp SDSS J000116.49+000204.8   0.31871   0.03467\n",
       "J000111.19-002011.5  4216   55477   224  0.0003 ...     3   Sp SDSS J000111.19-002011.5   0.29662  -0.33653"
      ]
     },
     "execution_count": 4,
     "metadata": {},
     "output_type": "execute_result"
    }
   ],
   "source": [
    "# A dataset (table) in the results is accesed via\n",
    "result[23]"
   ]
  },
  {
   "cell_type": "markdown",
   "metadata": {},
   "source": [
    "---\n",
    "\n",
    "### Example 02\n",
    "\n",
    "We will look into [SIMBAD](http://simbad.u-strasbg.fr/simbad/) for a particular object.\n",
    "\n"
   ]
  },
  {
   "cell_type": "code",
   "execution_count": 5,
   "metadata": {},
   "outputs": [],
   "source": [
    "from astroquery.simbad import Simbad\n",
    "\n",
    "result_table = Simbad.query_object(\"m1\")"
   ]
  },
  {
   "cell_type": "code",
   "execution_count": 6,
   "metadata": {},
   "outputs": [
    {
     "name": "stdout",
     "output_type": "stream",
     "text": [
      "MAIN_ID       RA           DEC      RA_PREC ... COO_QUAL COO_WAVELENGTH     COO_BIBCODE     SCRIPT_NUMBER_ID\n",
      "           \"h:m:s\"       \"d:m:s\"            ...                                                             \n",
      "------- ------------- ------------- ------- ... -------- -------------- ------------------- ----------------\n",
      "  M   1 05 34 31.9474 +22 00 52.153      14 ...        A              O 2020yCat.1350....0G                1\n"
     ]
    }
   ],
   "source": [
    "result_table.pprint(show_unit=True)"
   ]
  },
  {
   "cell_type": "markdown",
   "metadata": {},
   "source": [
    "---\n",
    "\n",
    "### Example 03\n",
    "\n",
    "We will look again into [SIMBAD](http://simbad.u-strasbg.fr/simbad/) for items in a particular range of timer and restric for a particular object.\n"
   ]
  },
  {
   "cell_type": "code",
   "execution_count": 7,
   "metadata": {},
   "outputs": [
    {
     "data": {
      "text/plain": [
       "<astroquery.simbad.core.SimbadClass at 0x123f15060>"
      ]
     },
     "execution_count": 7,
     "metadata": {},
     "output_type": "execute_result"
    }
   ],
   "source": [
    "from astroquery.simbad import Simbad\n",
    "\n",
    "s = Simbad()\n",
    "# bibcodelist(date1-date2) lists the number of bibliography\n",
    "# items referring to each object over that date range\n",
    "s.add_votable_fields('bibcodelist(2003-2013)')\n",
    "s"
   ]
  },
  {
   "cell_type": "code",
   "execution_count": 8,
   "metadata": {},
   "outputs": [
    {
     "data": {
      "text/html": [
       "<div><i>Table length=1</i>\n",
       "<table id=\"table4897985856\" class=\"table-striped table-bordered table-condensed\">\n",
       "<thead><tr><th>MAIN_ID</th><th>RA</th><th>DEC</th><th>RA_PREC</th><th>DEC_PREC</th><th>COO_ERR_MAJA</th><th>COO_ERR_MINA</th><th>COO_ERR_ANGLE</th><th>COO_QUAL</th><th>COO_WAVELENGTH</th><th>COO_BIBCODE</th><th>BIBLIST_2003_2013</th><th>SCRIPT_NUMBER_ID</th></tr></thead>\n",
       "<thead><tr><th></th><th>&quot;h:m:s&quot;</th><th>&quot;d:m:s&quot;</th><th></th><th></th><th>mas</th><th>mas</th><th>deg</th><th></th><th></th><th></th><th></th><th></th></tr></thead>\n",
       "<thead><tr><th>object</th><th>str13</th><th>str13</th><th>int16</th><th>int16</th><th>float32</th><th>float32</th><th>int16</th><th>str1</th><th>str1</th><th>object</th><th>int32</th><th>int32</th></tr></thead>\n",
       "<tr><td>M  31</td><td>00 42 44.330</td><td>+41 16 07.50</td><td>7</td><td>7</td><td>--</td><td>--</td><td>0</td><td>C</td><td>I</td><td>2006AJ....131.1163S</td><td>4177</td><td>1</td></tr>\n",
       "</table></div>"
      ],
      "text/plain": [
       "<Table length=1>\n",
       "MAIN_ID      RA          DEC      RA_PREC ...     COO_BIBCODE     BIBLIST_2003_2013 SCRIPT_NUMBER_ID\n",
       "          \"h:m:s\"      \"d:m:s\"            ...                                                       \n",
       " object    str13        str13      int16  ...        object             int32            int32      \n",
       "------- ------------ ------------ ------- ... ------------------- ----------------- ----------------\n",
       "  M  31 00 42 44.330 +41 16 07.50       7 ... 2006AJ....131.1163S              4177                1"
      ]
     },
     "execution_count": 8,
     "metadata": {},
     "output_type": "execute_result"
    }
   ],
   "source": [
    "# Restrict for a particular object\n",
    "result2 = s.query_object('m31')\n",
    "result2"
   ]
  },
  {
   "cell_type": "markdown",
   "metadata": {},
   "source": [
    "---\n",
    "\n",
    "### Example 04 \n",
    "\n",
    "This illustrates finding the spectral type of some particular star.\n",
    "\n"
   ]
  },
  {
   "cell_type": "code",
   "execution_count": 9,
   "metadata": {},
   "outputs": [],
   "source": [
    "from astroquery.simbad import Simbad\n",
    "\n",
    "customSimbad = Simbad()\n",
    "\n",
    "# We add the type of the object\n",
    "customSimbad.add_votable_fields('sptype')"
   ]
  },
  {
   "cell_type": "markdown",
   "metadata": {},
   "source": [
    "We restric the query to the object [g Her](http://simbad.u-strasbg.fr/simbad/sim-id?Ident=g+Her)"
   ]
  },
  {
   "cell_type": "code",
   "execution_count": 10,
   "metadata": {},
   "outputs": [
    {
     "data": {
      "text/html": [
       "<div><i>Table length=1</i>\n",
       "<table id=\"table4897991808\" class=\"table-striped table-bordered table-condensed\">\n",
       "<thead><tr><th>MAIN_ID</th><th>RA</th><th>DEC</th><th>RA_PREC</th><th>DEC_PREC</th><th>COO_ERR_MAJA</th><th>COO_ERR_MINA</th><th>COO_ERR_ANGLE</th><th>COO_QUAL</th><th>COO_WAVELENGTH</th><th>COO_BIBCODE</th><th>SP_TYPE</th><th>SP_QUAL</th><th>SP_BIBCODE</th><th>SCRIPT_NUMBER_ID</th></tr></thead>\n",
       "<thead><tr><th></th><th>&quot;h:m:s&quot;</th><th>&quot;d:m:s&quot;</th><th></th><th></th><th>mas</th><th>mas</th><th>deg</th><th></th><th></th><th></th><th></th><th></th><th></th><th></th></tr></thead>\n",
       "<thead><tr><th>object</th><th>str13</th><th>str13</th><th>int16</th><th>int16</th><th>float32</th><th>float32</th><th>int16</th><th>str1</th><th>str1</th><th>object</th><th>object</th><th>str1</th><th>object</th><th>int32</th></tr></thead>\n",
       "<tr><td>* g Her</td><td>16 28 38.5485</td><td>+41 52 54.040</td><td>11</td><td>11</td><td>0.160</td><td>0.160</td><td>90</td><td>A</td><td>O</td><td>2007A&amp;A...474..653V</td><td>M6-III</td><td>B</td><td>1989ApJS...71..245K</td><td>1</td></tr>\n",
       "</table></div>"
      ],
      "text/plain": [
       "<Table length=1>\n",
       "MAIN_ID       RA           DEC      RA_PREC ... SP_TYPE SP_QUAL      SP_BIBCODE     SCRIPT_NUMBER_ID\n",
       "           \"h:m:s\"       \"d:m:s\"            ...                                                     \n",
       " object     str13         str13      int16  ...  object   str1         object            int32      \n",
       "------- ------------- ------------- ------- ... ------- ------- ------------------- ----------------\n",
       "* g Her 16 28 38.5485 +41 52 54.040      11 ...  M6-III       B 1989ApJS...71..245K                1"
      ]
     },
     "execution_count": 10,
     "metadata": {},
     "output_type": "execute_result"
    }
   ],
   "source": [
    "# Restrict to the star \n",
    "result = customSimbad.query_object('g her')\n",
    "result"
   ]
  },
  {
   "cell_type": "code",
   "execution_count": 11,
   "metadata": {},
   "outputs": [
    {
     "data": {
      "text/plain": [
       "'* g Her'"
      ]
     },
     "execution_count": 11,
     "metadata": {},
     "output_type": "execute_result"
    }
   ],
   "source": [
    "# ID of the object\n",
    "result['MAIN_ID'][0]"
   ]
  },
  {
   "cell_type": "code",
   "execution_count": 12,
   "metadata": {},
   "outputs": [
    {
     "data": {
      "text/plain": [
       "'M6-III'"
      ]
     },
     "execution_count": 12,
     "metadata": {},
     "output_type": "execute_result"
    }
   ],
   "source": [
    "# Spectral Type of the object\n",
    "result['SP_TYPE'][0]"
   ]
  },
  {
   "cell_type": "markdown",
   "metadata": {
    "id": "MwAOj4WE_4cp"
   },
   "source": [
    "### Example 05\n",
    "\n",
    "We will search into the [open exoplanet catalogue](http://www.openexoplanetcatalogue.com)  to find the mass of a specific planet.\n",
    " "
   ]
  },
  {
   "cell_type": "code",
   "execution_count": 13,
   "metadata": {},
   "outputs": [
    {
     "data": {
      "text/plain": [
       "<Element 'planet' at 0x136fd5670>"
      ]
     },
     "execution_count": 13,
     "metadata": {},
     "output_type": "execute_result"
    }
   ],
   "source": [
    "from astroquery import open_exoplanet_catalogue as oec\n",
    "from astroquery.open_exoplanet_catalogue import findvalue\n",
    "\n",
    "cata = oec.get_catalogue()\n",
    "\n",
    "# Specify the exoplanet\n",
    "kepler68b = cata.find(\".//planet[name='Kepler-68 b']\")\n",
    "\n",
    "kepler68b"
   ]
  },
  {
   "cell_type": "code",
   "execution_count": 14,
   "metadata": {},
   "outputs": [
    {
     "data": {
      "text/plain": [
       "0.026 +0.008 -0.007"
      ]
     },
     "execution_count": 14,
     "metadata": {},
     "output_type": "execute_result"
    }
   ],
   "source": [
    "# The mass of the planet is\n",
    "findvalue(kepler68b, 'mass')"
   ]
  },
  {
   "cell_type": "markdown",
   "metadata": {
    "id": "HSLJ6sCyMp_A"
   },
   "source": [
    "---\n",
    "\n",
    "## Accesing the SDSS database using a SQL query\n",
    "\n",
    "We will access the SDSS database through astroquery and permform a SQL call,"
   ]
  },
  {
   "cell_type": "code",
   "execution_count": 15,
   "metadata": {},
   "outputs": [
    {
     "data": {
      "text/html": [
       "<div><i>Table length=10</i>\n",
       "<table id=\"table4887680128\" class=\"table-striped table-bordered table-condensed\">\n",
       "<thead><tr><th>z</th><th>ra</th><th>dec</th><th>bestObjID</th></tr></thead>\n",
       "<thead><tr><th>float64</th><th>float64</th><th>float64</th><th>int64</th></tr></thead>\n",
       "<tr><td>0.3000001</td><td>184.86409</td><td>52.571314</td><td>1237657629529211079</td></tr>\n",
       "<tr><td>0.3000009</td><td>222.98982</td><td>42.629408</td><td>1237658203986460871</td></tr>\n",
       "<tr><td>0.3000009</td><td>146.39863</td><td>5.8334459</td><td>1237658423547920434</td></tr>\n",
       "<tr><td>0.3000012</td><td>49.459411</td><td>0.847754</td><td>1237660241924063461</td></tr>\n",
       "<tr><td>0.3000018</td><td>172.28104</td><td>10.234226</td><td>1237658493349789816</td></tr>\n",
       "<tr><td>0.3000027</td><td>156.25024</td><td>7.6586271</td><td>1237658425162858683</td></tr>\n",
       "<tr><td>0.3000027</td><td>231.07321</td><td>32.718373</td><td>1237662341082382595</td></tr>\n",
       "<tr><td>0.3000033</td><td>197.37712</td><td>10.524518</td><td>1237662238545478566</td></tr>\n",
       "<tr><td>0.3000035</td><td>184.90501</td><td>-3.3095095</td><td>1237650760782053596</td></tr>\n",
       "<tr><td>0.3000037</td><td>242.52563</td><td>6.0693494</td><td>1237662198290186255</td></tr>\n",
       "</table></div>"
      ],
      "text/plain": [
       "<Table length=10>\n",
       "    z         ra       dec          bestObjID     \n",
       " float64   float64   float64          int64       \n",
       "--------- --------- ---------- -------------------\n",
       "0.3000001 184.86409  52.571314 1237657629529211079\n",
       "0.3000009 222.98982  42.629408 1237658203986460871\n",
       "0.3000009 146.39863  5.8334459 1237658423547920434\n",
       "0.3000012 49.459411   0.847754 1237660241924063461\n",
       "0.3000018 172.28104  10.234226 1237658493349789816\n",
       "0.3000027 156.25024  7.6586271 1237658425162858683\n",
       "0.3000027 231.07321  32.718373 1237662341082382595\n",
       "0.3000033 197.37712  10.524518 1237662238545478566\n",
       "0.3000035 184.90501 -3.3095095 1237650760782053596\n",
       "0.3000037 242.52563  6.0693494 1237662198290186255"
      ]
     },
     "execution_count": 15,
     "metadata": {},
     "output_type": "execute_result"
    }
   ],
   "source": [
    "from astroquery.sdss import SDSS\n",
    "\n",
    "#query = \"SELECT top 10 z, ra, dec, bestObjID FROM  specObj WHERE  class = 'galaxy' AND z > 0.3  AND zWarning = 0\"\n",
    "\n",
    "q1 = \"SELECT top 10 z, ra, dec, bestObjID \"\n",
    "q2 = \"FROM  specObj \"\n",
    "q3 = \"WHERE  class = 'galaxy' AND z > 0.3  AND zWarning = 0\"\n",
    "\n",
    "query = q1 + q2 + q3\n",
    "\n",
    "\n",
    "results = SDSS.query_sql(query)\n",
    "results"
   ]
  },
  {
   "cell_type": "markdown",
   "metadata": {
    "id": "HspiA8j3JhbH"
   },
   "source": [
    "---\n",
    "\n",
    "## SQL query in the SDSS database and crossmatch with other catalogues\n",
    "\n",
    "We make a SQL query to the SDSS and use `XMatch` to cross match with other catalogues, e.g. with WISE"
   ]
  },
  {
   "cell_type": "code",
   "execution_count": 16,
   "metadata": {},
   "outputs": [
    {
     "data": {
      "text/html": [
       "<div><i>Table length=100</i>\n",
       "<table id=\"table4898204176\" class=\"table-striped table-bordered table-condensed\">\n",
       "<thead><tr><th>z</th><th>ra</th><th>dec</th><th>bestObjID</th></tr></thead>\n",
       "<thead><tr><th>float64</th><th>float64</th><th>float64</th><th>int64</th></tr></thead>\n",
       "<tr><td>0.3000001</td><td>184.86409</td><td>52.571314</td><td>1237657629529211079</td></tr>\n",
       "<tr><td>0.3000009</td><td>222.98982</td><td>42.629408</td><td>1237658203986460871</td></tr>\n",
       "<tr><td>0.3000009</td><td>146.39863</td><td>5.8334459</td><td>1237658423547920434</td></tr>\n",
       "<tr><td>0.3000012</td><td>49.459411</td><td>0.847754</td><td>1237660241924063461</td></tr>\n",
       "<tr><td>0.3000018</td><td>172.28104</td><td>10.234226</td><td>1237658493349789816</td></tr>\n",
       "<tr><td>0.3000027</td><td>156.25024</td><td>7.6586271</td><td>1237658425162858683</td></tr>\n",
       "<tr><td>0.3000027</td><td>231.07321</td><td>32.718373</td><td>1237662341082382595</td></tr>\n",
       "<tr><td>0.3000033</td><td>197.37712</td><td>10.524518</td><td>1237662238545478566</td></tr>\n",
       "<tr><td>0.3000035</td><td>184.90501</td><td>-3.3095095</td><td>1237650760782053596</td></tr>\n",
       "<tr><td>0.3000037</td><td>242.52563</td><td>6.0693494</td><td>1237662198290186255</td></tr>\n",
       "<tr><td>0.3000043</td><td>199.32977</td><td>51.728169</td><td>1237661958830883089</td></tr>\n",
       "<tr><td>...</td><td>...</td><td>...</td><td>...</td></tr>\n",
       "<tr><td>0.300044</td><td>40.31319</td><td>-0.63847601</td><td>0</td></tr>\n",
       "<tr><td>0.3000448</td><td>117.78484</td><td>29.080041</td><td>1237657118404772342</td></tr>\n",
       "<tr><td>0.3000458</td><td>131.65814</td><td>7.2827847</td><td>1237660669807689987</td></tr>\n",
       "<tr><td>0.3000461</td><td>139.82056</td><td>41.788494</td><td>1237657628441510105</td></tr>\n",
       "<tr><td>0.3000467</td><td>237.0174</td><td>22.830352</td><td>1237665101683687765</td></tr>\n",
       "<tr><td>0.3000467</td><td>351.30398</td><td>10.235439</td><td>1237678907315650843</td></tr>\n",
       "<tr><td>0.300047</td><td>148.5743</td><td>46.957565</td><td>1237657630055596280</td></tr>\n",
       "<tr><td>0.300047</td><td>157.03699</td><td>23.002797</td><td>1237667538547179946</td></tr>\n",
       "<tr><td>0.300048</td><td>359.29552</td><td>26.694314</td><td>1237680275796460142</td></tr>\n",
       "<tr><td>0.3000484</td><td>200.24996</td><td>54.405615</td><td>1237658917996921127</td></tr>\n",
       "<tr><td>0.3000487</td><td>10.377471</td><td>8.4479464</td><td>1237669768158511346</td></tr>\n",
       "<tr><td>0.300049</td><td>191.25412</td><td>51.891805</td><td>1237662301354459328</td></tr>\n",
       "</table></div>"
      ],
      "text/plain": [
       "<Table length=100>\n",
       "    z         ra        dec          bestObjID     \n",
       " float64   float64    float64          int64       \n",
       "--------- --------- ----------- -------------------\n",
       "0.3000001 184.86409   52.571314 1237657629529211079\n",
       "0.3000009 222.98982   42.629408 1237658203986460871\n",
       "0.3000009 146.39863   5.8334459 1237658423547920434\n",
       "0.3000012 49.459411    0.847754 1237660241924063461\n",
       "0.3000018 172.28104   10.234226 1237658493349789816\n",
       "0.3000027 156.25024   7.6586271 1237658425162858683\n",
       "0.3000027 231.07321   32.718373 1237662341082382595\n",
       "0.3000033 197.37712   10.524518 1237662238545478566\n",
       "0.3000035 184.90501  -3.3095095 1237650760782053596\n",
       "0.3000037 242.52563   6.0693494 1237662198290186255\n",
       "0.3000043 199.32977   51.728169 1237661958830883089\n",
       "      ...       ...         ...                 ...\n",
       " 0.300044  40.31319 -0.63847601                   0\n",
       "0.3000448 117.78484   29.080041 1237657118404772342\n",
       "0.3000458 131.65814   7.2827847 1237660669807689987\n",
       "0.3000461 139.82056   41.788494 1237657628441510105\n",
       "0.3000467  237.0174   22.830352 1237665101683687765\n",
       "0.3000467 351.30398   10.235439 1237678907315650843\n",
       " 0.300047  148.5743   46.957565 1237657630055596280\n",
       " 0.300047 157.03699   23.002797 1237667538547179946\n",
       " 0.300048 359.29552   26.694314 1237680275796460142\n",
       "0.3000484 200.24996   54.405615 1237658917996921127\n",
       "0.3000487 10.377471   8.4479464 1237669768158511346\n",
       " 0.300049 191.25412   51.891805 1237662301354459328"
      ]
     },
     "execution_count": 16,
     "metadata": {},
     "output_type": "execute_result"
    }
   ],
   "source": [
    "from astroquery.sdss import SDSS\n",
    "\n",
    "sdss = SDSS()\n",
    "\n",
    "#query = \"select top 100 z, ra, dec, bestObjID from specObj where class = 'galaxy' and z > 0.3 and zWarning = 0\"\n",
    "\n",
    "q1 = \"SELECT top 100 z, ra, dec, bestObjID \"\n",
    "q2 = \"FROM  specObj \"\n",
    "q3 = \"WHERE  class = 'galaxy' AND z > 0.3  AND zWarning = 0\"\n",
    "\n",
    "query = q1 + q2 + q3\n",
    "\n",
    "\n",
    "results = sdss.query_sql(query)\n",
    "results"
   ]
  },
  {
   "cell_type": "code",
   "execution_count": 17,
   "metadata": {},
   "outputs": [
    {
     "name": "stdout",
     "output_type": "stream",
     "text": [
      "Could not import regions, which is required for some of the functionalities of this module.\n"
     ]
    },
    {
     "data": {
      "text/html": [
       "<div><i>Table length=94</i>\n",
       "<table id=\"table4898208928\" class=\"table-striped table-bordered table-condensed\">\n",
       "<thead><tr><th>angDist</th><th>z</th><th>ra</th><th>dec</th><th>bestObjID</th><th>AllWISE</th><th>RAJ2000</th><th>DEJ2000</th><th>eeMaj</th><th>eeMin</th><th>eePA</th><th>W1mag</th><th>W2mag</th><th>W3mag</th><th>W4mag</th><th>Jmag</th><th>Hmag</th><th>Kmag</th><th>e_W1mag</th><th>e_W2mag</th><th>e_W3mag</th><th>e_W4mag</th><th>e_Jmag</th><th>e_Hmag</th><th>e_Kmag</th><th>ID</th><th>ccf</th><th>ex</th><th>var</th><th>qph</th><th>pmRA</th><th>e_pmRA</th><th>pmDE</th><th>e_pmDE</th><th>d2M</th></tr></thead>\n",
       "<thead><tr><th>float64</th><th>float64</th><th>float64</th><th>float64</th><th>int64</th><th>str19</th><th>float64</th><th>float64</th><th>float64</th><th>float64</th><th>float64</th><th>float64</th><th>float64</th><th>float64</th><th>float64</th><th>float64</th><th>float64</th><th>float64</th><th>float64</th><th>float64</th><th>float64</th><th>float64</th><th>float64</th><th>float64</th><th>float64</th><th>int64</th><th>str4</th><th>int64</th><th>str4</th><th>str4</th><th>int64</th><th>int64</th><th>int64</th><th>int64</th><th>float64</th></tr></thead>\n",
       "<tr><td>0.133183</td><td>0.3000001</td><td>184.86409</td><td>52.571314</td><td>1237657629529211079</td><td>J121927.38+523416.6</td><td>184.8641187</td><td>52.5712814</td><td>0.0655</td><td>0.0644</td><td>14.5</td><td>14.898</td><td>14.626</td><td>13.035</td><td>9.473</td><td>16.772</td><td>16.176</td><td>15.341</td><td>0.029</td><td>0.043</td><td>--</td><td>--</td><td>0.154</td><td>0.159</td><td>0.145</td><td>1849153001351018708</td><td>0000</td><td>0</td><td>00nn</td><td>AAUU</td><td>24</td><td>140</td><td>-13</td><td>146</td><td>0.356</td></tr>\n",
       "<tr><td>0.402705</td><td>0.3000009</td><td>222.98982</td><td>42.629408</td><td>1237658203986460871</td><td>J145157.59+423745.9</td><td>222.9899696</td><td>42.6294279</td><td>0.0624</td><td>0.0614</td><td>11.0</td><td>14.798</td><td>14.462</td><td>12.582</td><td>9.485</td><td>16.831</td><td>16.313</td><td>15.582</td><td>0.028</td><td>0.04</td><td>0.324</td><td>--</td><td>0.165</td><td>0.241</td><td>0.184</td><td>2224142401351047813</td><td>0000</td><td>0</td><td>00nn</td><td>AABU</td><td>12</td><td>93</td><td>54</td><td>98</td><td>0.465</td></tr>\n",
       "<tr><td>0.58304</td><td>0.3000009</td><td>146.39863</td><td>5.8334459</td><td>1237658423547920434</td><td>J094535.70+055000.5</td><td>146.3987871</td><td>5.8334882</td><td>0.0714</td><td>0.0689</td><td>167.9</td><td>14.471</td><td>14.156</td><td>12.223</td><td>8.649</td><td>16.501</td><td>15.861</td><td>14.894</td><td>0.03</td><td>0.048</td><td>--</td><td>--</td><td>0.166</td><td>0.2</td><td>0.156</td><td>1458106001351023367</td><td>0000</td><td>0</td><td>11nn</td><td>AAUU</td><td>202</td><td>165</td><td>293</td><td>177</td><td>0.833</td></tr>\n",
       "<tr><td>0.066688</td><td>0.3000012</td><td>49.459411</td><td>0.847754</td><td>1237660241924063461</td><td>J031750.26+005051.9</td><td>49.4594244</td><td>0.8477668</td><td>0.0848</td><td>0.0807</td><td>135.7</td><td>15.136</td><td>14.882</td><td>12.566</td><td>8.821</td><td>16.985</td><td>16.307</td><td>15.452</td><td>0.034</td><td>0.061</td><td>--</td><td>--</td><td>0.158</td><td>0.174</td><td>--</td><td>499101501351008375</td><td>0000</td><td>0</td><td>00nn</td><td>AAUU</td><td>229</td><td>138</td><td>153</td><td>141</td><td>0.351</td></tr>\n",
       "<tr><td>0.168028</td><td>0.3000018</td><td>172.28104</td><td>10.234226</td><td>1237658493349789816</td><td>J112907.44+101403.0</td><td>172.2810128</td><td>10.2341878</td><td>0.0864</td><td>0.0804</td><td>4.8</td><td>14.779</td><td>14.347</td><td>11.797</td><td>8.7</td><td>16.918</td><td>16.175</td><td>15.373</td><td>0.035</td><td>0.052</td><td>--</td><td>--</td><td>0.192</td><td>0.199</td><td>0.23</td><td>1723110601351018950</td><td>0000</td><td>0</td><td>11nn</td><td>AAUU</td><td>41</td><td>216</td><td>37</td><td>236</td><td>0.164</td></tr>\n",
       "<tr><td>0.284446</td><td>0.3000027</td><td>156.25024</td><td>7.6586271</td><td>1237658425162858683</td><td>J102500.07+073930.9</td><td>156.2503138</td><td>7.6585971</td><td>0.0963</td><td>0.0883</td><td>169.7</td><td>14.695</td><td>14.699</td><td>11.805</td><td>7.972</td><td>16.758</td><td>15.733</td><td>15.58</td><td>0.035</td><td>0.092</td><td>--</td><td>--</td><td>0.218</td><td>0.191</td><td>0.234</td><td>1555107501351024625</td><td>0000</td><td>0</td><td>nnnn</td><td>AAUU</td><td>-209</td><td>244</td><td>325</td><td>267</td><td>0.513</td></tr>\n",
       "<tr><td>0.103486</td><td>0.3000027</td><td>231.07321</td><td>32.718373</td><td>1237662341082382595</td><td>J152417.56+324306.1</td><td>231.0731781</td><td>32.7183832</td><td>0.0607</td><td>0.0585</td><td>167.1</td><td>14.714</td><td>14.484</td><td>12.595</td><td>8.893</td><td>16.877</td><td>16.131</td><td>15.476</td><td>0.027</td><td>0.04</td><td>0.35</td><td>--</td><td>0.191</td><td>0.249</td><td>0.177</td><td>2303133301351000085</td><td>00p0</td><td>0</td><td>00nn</td><td>AABU</td><td>-260</td><td>76</td><td>-102</td><td>83</td><td>0.238</td></tr>\n",
       "<tr><td>0.33256</td><td>0.3000033</td><td>197.37712</td><td>10.524518</td><td>1237662238545478566</td><td>J130930.48+103128.2</td><td>197.3770272</td><td>10.5245038</td><td>0.0833</td><td>0.0785</td><td>167.3</td><td>14.901</td><td>14.44</td><td>12.063</td><td>9.093</td><td>--</td><td>--</td><td>--</td><td>0.034</td><td>0.055</td><td>0.325</td><td>--</td><td>--</td><td>--</td><td>--</td><td>1969110601351029216</td><td>0000</td><td>0</td><td>11nn</td><td>AABU</td><td>-11</td><td>188</td><td>26</td><td>203</td><td>--</td></tr>\n",
       "<tr><td>1.398319</td><td>0.3000035</td><td>184.90501</td><td>-3.3095095</td><td>1237650760782053596</td><td>J121937.18-031835.5</td><td>184.9049166</td><td>-3.3098866</td><td>0.1081</td><td>0.0741</td><td>15.8</td><td>14.398</td><td>14.214</td><td>11.921</td><td>8.355</td><td>16.841</td><td>16.012</td><td>15.114</td><td>0.039</td><td>0.066</td><td>--</td><td>--</td><td>0.173</td><td>0.152</td><td>0.165</td><td>1845003101351019391</td><td>0000</td><td>0</td><td>nnnn</td><td>AAUU</td><td>-159</td><td>150</td><td>202</td><td>169</td><td>2.151</td></tr>\n",
       "<tr><td>0.151211</td><td>0.3000043</td><td>199.32977</td><td>51.728169</td><td>1237661958830883089</td><td>J131719.14+514341.2</td><td>199.3297637</td><td>51.7281272</td><td>0.0604</td><td>0.0589</td><td>27.0</td><td>14.491</td><td>14.198</td><td>12.215</td><td>8.529</td><td>16.447</td><td>15.836</td><td>14.882</td><td>0.028</td><td>0.038</td><td>--</td><td>--</td><td>0.122</td><td>0.168</td><td>0.112</td><td>2002151401351040622</td><td>0000</td><td>0</td><td>11nn</td><td>AAUU</td><td>-137</td><td>131</td><td>-18</td><td>135</td><td>0.167</td></tr>\n",
       "<tr><td>0.30771</td><td>0.300005</td><td>352.07447</td><td>-0.025900389</td><td>1237657190901744095</td><td>J232817.89-000133.2</td><td>352.074555</td><td>-0.025909</td><td>0.1214</td><td>0.1126</td><td>140.9</td><td>15.413</td><td>15.195</td><td>12.201</td><td>8.296</td><td>--</td><td>--</td><td>--</td><td>0.044</td><td>0.096</td><td>--</td><td>--</td><td>--</td><td>--</td><td>--</td><td>3524100001351033476</td><td>0000</td><td>0</td><td>00nn</td><td>AAUU</td><td>-172</td><td>380</td><td>-557</td><td>389</td><td>--</td></tr>\n",
       "<tr><td>...</td><td>...</td><td>...</td><td>...</td><td>...</td><td>...</td><td>...</td><td>...</td><td>...</td><td>...</td><td>...</td><td>...</td><td>...</td><td>...</td><td>...</td><td>...</td><td>...</td><td>...</td><td>...</td><td>...</td><td>...</td><td>...</td><td>...</td><td>...</td><td>...</td><td>...</td><td>...</td><td>...</td><td>...</td><td>...</td><td>...</td><td>...</td><td>...</td><td>...</td><td>...</td></tr>\n",
       "<tr><td>0.261013</td><td>0.300044</td><td>40.31319</td><td>-0.63847601</td><td>0</td><td>J024115.18-003818.4</td><td>40.3132623</td><td>-0.6384711</td><td>0.0972</td><td>0.0912</td><td>144.7</td><td>15.421</td><td>15.172</td><td>12.706</td><td>9.292</td><td>--</td><td>--</td><td>--</td><td>0.036</td><td>0.084</td><td>--</td><td>--</td><td>--</td><td>--</td><td>--</td><td>408100001351009421</td><td>0000</td><td>0</td><td>1nnn</td><td>AAUU</td><td>178</td><td>167</td><td>73</td><td>175</td><td>--</td></tr>\n",
       "<tr><td>0.112895</td><td>0.3000448</td><td>117.78484</td><td>29.080041</td><td>1237657118404772342</td><td>J075108.36+290448.0</td><td>117.7848647</td><td>29.0800182</td><td>0.0727</td><td>0.0688</td><td>169.4</td><td>14.606</td><td>14.317</td><td>12.536</td><td>9.089</td><td>16.655</td><td>15.77</td><td>14.973</td><td>0.031</td><td>0.049</td><td>--</td><td>--</td><td>0.144</td><td>0.137</td><td>0.127</td><td>1182128701351042038</td><td>0000</td><td>0</td><td>01nn</td><td>AAUU</td><td>27</td><td>159</td><td>-4</td><td>175</td><td>0.416</td></tr>\n",
       "<tr><td>0.460981</td><td>0.3000458</td><td>131.65814</td><td>7.2827847</td><td>1237660669807689987</td><td>J084637.98+071658.1</td><td>131.6582644</td><td>7.2828189</td><td>0.0839</td><td>0.0737</td><td>156.7</td><td>14.615</td><td>14.32</td><td>11.662</td><td>8.505</td><td>16.906</td><td>15.991</td><td>15.582</td><td>0.034</td><td>0.052</td><td>--</td><td>--</td><td>0.202</td><td>0.171</td><td>0.2</td><td>1311107501351019966</td><td>0000</td><td>0</td><td>nnnn</td><td>AAUU</td><td>--</td><td>--</td><td>--</td><td>--</td><td>0.812</td></tr>\n",
       "<tr><td>0.082843</td><td>0.3000461</td><td>139.82056</td><td>41.788494</td><td>1237657628441510105</td><td>J091916.93+414718.6</td><td>139.8205484</td><td>41.7885153</td><td>0.0712</td><td>0.0682</td><td>161.8</td><td>14.7</td><td>14.378</td><td>11.97</td><td>8.485</td><td>16.928</td><td>16.189</td><td>15.237</td><td>0.03</td><td>0.048</td><td>--</td><td>--</td><td>0.194</td><td>0.236</td><td>0.145</td><td>1395142401351002651</td><td>0000</td><td>0</td><td>11nn</td><td>AAUU</td><td>89</td><td>176</td><td>65</td><td>186</td><td>0.937</td></tr>\n",
       "<tr><td>0.186459</td><td>0.3000467</td><td>237.0174</td><td>22.830352</td><td>1237665101683687765</td><td>J154804.18+224949.3</td><td>237.0174489</td><td>22.8303775</td><td>0.0664</td><td>0.0636</td><td>155.0</td><td>14.713</td><td>14.387</td><td>13.251</td><td>9.405</td><td>--</td><td>--</td><td>--</td><td>0.029</td><td>0.045</td><td>0.528</td><td>--</td><td>--</td><td>--</td><td>--</td><td>2378122701351035450</td><td>0000</td><td>0</td><td>00nn</td><td>AACU</td><td>9</td><td>141</td><td>-110</td><td>154</td><td>--</td></tr>\n",
       "<tr><td>0.378459</td><td>0.3000467</td><td>351.30398</td><td>10.235439</td><td>1237678907315650843</td><td>J232512.96+101407.9</td><td>351.3040248</td><td>10.2355344</td><td>0.0875</td><td>0.0844</td><td>147.3</td><td>14.879</td><td>14.571</td><td>12.202</td><td>8.463</td><td>16.958</td><td>16.141</td><td>15.157</td><td>0.035</td><td>0.064</td><td>--</td><td>--</td><td>0.224</td><td>0.245</td><td>0.152</td><td>3507110601351024022</td><td>0000</td><td>0</td><td>00nn</td><td>AAUU</td><td>353</td><td>260</td><td>158</td><td>272</td><td>0.687</td></tr>\n",
       "<tr><td>0.134008</td><td>0.300047</td><td>148.5743</td><td>46.957565</td><td>1237657630055596280</td><td>J095417.82+465727.1</td><td>148.5742649</td><td>46.9575365</td><td>0.0931</td><td>0.0875</td><td>10.7</td><td>15.274</td><td>14.968</td><td>12.71</td><td>9.101</td><td>17.352</td><td>16.518</td><td>15.613</td><td>0.037</td><td>0.066</td><td>--</td><td>--</td><td>0.252</td><td>0.22</td><td>0.184</td><td>1483146901351032510</td><td>0000</td><td>0</td><td>00nn</td><td>AAUU</td><td>178</td><td>251</td><td>-75</td><td>276</td><td>0.741</td></tr>\n",
       "<tr><td>0.173126</td><td>0.300047</td><td>157.03699</td><td>23.002797</td><td>1237667538547179946</td><td>J102808.87+230010.2</td><td>157.0369685</td><td>23.0028408</td><td>0.0885</td><td>0.0837</td><td>178.9</td><td>15.013</td><td>14.742</td><td>12.323</td><td>8.418</td><td>16.983</td><td>16.604</td><td>15.528</td><td>0.035</td><td>0.063</td><td>--</td><td>--</td><td>0.157</td><td>0.265</td><td>0.177</td><td>1563122701351049312</td><td>0000</td><td>0</td><td>00nn</td><td>AAUU</td><td>222</td><td>233</td><td>496</td><td>255</td><td>0.726</td></tr>\n",
       "<tr><td>0.035938</td><td>0.300048</td><td>359.29552</td><td>26.694314</td><td>1237680275796460142</td><td>J235710.92+264139.5</td><td>359.295513</td><td>26.6943062</td><td>0.082</td><td>0.0784</td><td>134.2</td><td>14.814</td><td>14.637</td><td>12.02</td><td>8.254</td><td>16.794</td><td>15.865</td><td>15.237</td><td>0.033</td><td>0.066</td><td>0.461</td><td>--</td><td>0.195</td><td>0.203</td><td>0.146</td><td>127201351009902</td><td>0000</td><td>0</td><td>00nn</td><td>AACU</td><td>329</td><td>244</td><td>-430</td><td>242</td><td>0.096</td></tr>\n",
       "<tr><td>0.107406</td><td>0.3000484</td><td>200.24996</td><td>54.405615</td><td>1237658917996921127</td><td>J132059.98+542420.1</td><td>200.2499419</td><td>54.4055871</td><td>0.0688</td><td>0.0662</td><td>29.0</td><td>14.751</td><td>14.453</td><td>12.891</td><td>8.589</td><td>16.698</td><td>16.161</td><td>15.33</td><td>0.031</td><td>0.043</td><td>--</td><td>--</td><td>0.129</td><td>0.155</td><td>0.132</td><td>1991154501351027107</td><td>0000</td><td>0</td><td>00nn</td><td>AAUU</td><td>-201</td><td>150</td><td>188</td><td>156</td><td>0.258</td></tr>\n",
       "<tr><td>0.047976</td><td>0.3000487</td><td>10.377471</td><td>8.4479464</td><td>1237669768158511346</td><td>J004130.59+082652.6</td><td>10.3774776</td><td>8.447958</td><td>0.1024</td><td>0.095</td><td>134.6</td><td>15.071</td><td>14.705</td><td>11.413</td><td>8.19</td><td>16.731</td><td>16.381</td><td>15.435</td><td>0.038</td><td>0.081</td><td>--</td><td>--</td><td>0.173</td><td>0.257</td><td>0.172</td><td>107109001351008065</td><td>0000</td><td>0</td><td>00nn</td><td>AAUU</td><td>294</td><td>345</td><td>-444</td><td>350</td><td>0.276</td></tr>\n",
       "<tr><td>0.23438</td><td>0.300049</td><td>191.25412</td><td>51.891805</td><td>1237662301354459328</td><td>J124501.01+515330.5</td><td>191.2542179</td><td>51.8918293</td><td>0.0579</td><td>0.0562</td><td>2.1</td><td>14.321</td><td>14.032</td><td>12.251</td><td>9.241</td><td>16.698</td><td>15.794</td><td>15.034</td><td>0.027</td><td>0.036</td><td>--</td><td>--</td><td>0.151</td><td>0.146</td><td>0.13</td><td>1907151401351047954</td><td>0000</td><td>0</td><td>00nn</td><td>AAUU</td><td>-67</td><td>117</td><td>121</td><td>124</td><td>0.248</td></tr>\n",
       "</table></div>"
      ],
      "text/plain": [
       "<Table length=94>\n",
       "angDist      z         ra        dec           bestObjID      ...  pmRA e_pmRA  pmDE e_pmDE   d2M  \n",
       "float64   float64   float64    float64           int64        ... int64 int64  int64 int64  float64\n",
       "-------- --------- --------- ------------ ------------------- ... ----- ------ ----- ------ -------\n",
       "0.133183 0.3000001 184.86409    52.571314 1237657629529211079 ...    24    140   -13    146   0.356\n",
       "0.402705 0.3000009 222.98982    42.629408 1237658203986460871 ...    12     93    54     98   0.465\n",
       " 0.58304 0.3000009 146.39863    5.8334459 1237658423547920434 ...   202    165   293    177   0.833\n",
       "0.066688 0.3000012 49.459411     0.847754 1237660241924063461 ...   229    138   153    141   0.351\n",
       "0.168028 0.3000018 172.28104    10.234226 1237658493349789816 ...    41    216    37    236   0.164\n",
       "0.284446 0.3000027 156.25024    7.6586271 1237658425162858683 ...  -209    244   325    267   0.513\n",
       "0.103486 0.3000027 231.07321    32.718373 1237662341082382595 ...  -260     76  -102     83   0.238\n",
       " 0.33256 0.3000033 197.37712    10.524518 1237662238545478566 ...   -11    188    26    203      --\n",
       "1.398319 0.3000035 184.90501   -3.3095095 1237650760782053596 ...  -159    150   202    169   2.151\n",
       "0.151211 0.3000043 199.32977    51.728169 1237661958830883089 ...  -137    131   -18    135   0.167\n",
       " 0.30771  0.300005 352.07447 -0.025900389 1237657190901744095 ...  -172    380  -557    389      --\n",
       "     ...       ...       ...          ...                 ... ...   ...    ...   ...    ...     ...\n",
       "0.261013  0.300044  40.31319  -0.63847601                   0 ...   178    167    73    175      --\n",
       "0.112895 0.3000448 117.78484    29.080041 1237657118404772342 ...    27    159    -4    175   0.416\n",
       "0.460981 0.3000458 131.65814    7.2827847 1237660669807689987 ...    --     --    --     --   0.812\n",
       "0.082843 0.3000461 139.82056    41.788494 1237657628441510105 ...    89    176    65    186   0.937\n",
       "0.186459 0.3000467  237.0174    22.830352 1237665101683687765 ...     9    141  -110    154      --\n",
       "0.378459 0.3000467 351.30398    10.235439 1237678907315650843 ...   353    260   158    272   0.687\n",
       "0.134008  0.300047  148.5743    46.957565 1237657630055596280 ...   178    251   -75    276   0.741\n",
       "0.173126  0.300047 157.03699    23.002797 1237667538547179946 ...   222    233   496    255   0.726\n",
       "0.035938  0.300048 359.29552    26.694314 1237680275796460142 ...   329    244  -430    242   0.096\n",
       "0.107406 0.3000484 200.24996    54.405615 1237658917996921127 ...  -201    150   188    156   0.258\n",
       "0.047976 0.3000487 10.377471    8.4479464 1237669768158511346 ...   294    345  -444    350   0.276\n",
       " 0.23438  0.300049 191.25412    51.891805 1237662301354459328 ...   -67    117   121    124   0.248"
      ]
     },
     "execution_count": 17,
     "metadata": {},
     "output_type": "execute_result"
    }
   ],
   "source": [
    "from astroquery.xmatch import XMatch\n",
    "from astropy import units as u\n",
    "\n",
    "xmatch = XMatch()\n",
    "\n",
    "SDSS_WISE_match = xmatch.query(cat1=results,\n",
    "                               cat2='vizier:ii/328/allwise',\n",
    "                               max_distance=3 * u.arcsec, colRA1='ra',colDec1='dec')\n",
    "\n",
    "SDSS_WISE_match"
   ]
  },
  {
   "cell_type": "code",
   "execution_count": null,
   "metadata": {},
   "outputs": [],
   "source": []
  }
 ],
 "metadata": {
  "@webio": {
   "lastCommId": null,
   "lastKernelId": null
  },
  "colab": {
   "collapsed_sections": [],
   "name": "02.SQLQueryatSDSS.ipynb",
   "provenance": []
  },
  "kernelspec": {
   "display_name": "Python 3 (ipykernel)",
   "language": "python",
   "name": "python3"
  },
  "language_info": {
   "codemirror_mode": {
    "name": "ipython",
    "version": 3
   },
   "file_extension": ".py",
   "mimetype": "text/x-python",
   "name": "python",
   "nbconvert_exporter": "python",
   "pygments_lexer": "ipython3",
   "version": "3.10.9"
  },
  "vscode": {
   "interpreter": {
    "hash": "7cedb68cf63e90bc16f84e333713309767fdee79fa6bfd701075226f4fc8e495"
   }
  }
 },
 "nbformat": 4,
 "nbformat_minor": 1
}
