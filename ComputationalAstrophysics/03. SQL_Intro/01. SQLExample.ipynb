{
 "cells": [
  {
   "cell_type": "markdown",
   "metadata": {
    "id": "JG-5Y0W5_4cm"
   },
   "source": [
    "![Astrofisica Computacional](../../../logo.png)"
   ]
  },
  {
   "cell_type": "markdown",
   "metadata": {},
   "source": [
    "---\n",
    "## 01. Introduction to SQL\n",
    "\n",
    "\n",
    "Eduard Larrañaga (ealarranaga@unal.edu.co)\n",
    "\n",
    "---"
   ]
  },
  {
   "cell_type": "markdown",
   "metadata": {
    "id": "V_L8Z7Pb_4cp"
   },
   "source": [
    "\n",
    "### Abstract\n",
    "\n",
    "In this notebook we present an introduction to the use of SQLite3. \n",
    "\n",
    "---"
   ]
  },
  {
   "cell_type": "markdown",
   "metadata": {
    "id": "g7R70iXH-qH9"
   },
   "source": [
    "### SQL\n",
    "\n",
    "SQL (**S**tructured **Q**uery **L**anguage) is a standardized language for storing, manipulating, and retrieving information from databases.\n",
    " \n",
    "This language is particularly useful for manipulating structured data, i.e. data that incorporate relationships between entities and variables."
   ]
  },
  {
   "cell_type": "markdown",
   "metadata": {
    "id": "MwAOj4WE_4cp"
   },
   "source": [
    "### Knowing the data\n",
    "\n",
    "In this lesson we will use a data file used in the CS50x course from Harvard University\n",
    "\n",
    "https://docs.google.com/spreadsheets/d/e/2PACX-1vRfpjV8pF6iNBu5xV-wnzHPXvW69wZcTxqsSnYqHx126N0bPfVhq63UtkG9mqUawB4tXneYh31xJlem/pubhtml\n",
    "\n",
    "\n",
    "[Movies](https://cdn.cs50.net/2022/fall/psets/7/movies.zip)\n",
    "\n",
    "[Songs](https://cdn.cs50.net/2020/fall/labs/7/lab7.zip)\n",
    "\n",
    "(This course is available at https://cs50.harvard.edu/x/2021/).\n",
    "\n",
    "---\n",
    "\n",
    "The spreadsheet and database contains information about shows on the Netflix site."
   ]
  },
  {
   "cell_type": "markdown",
   "metadata": {
    "id": "Na-z41GsJN0b"
   },
   "source": [
    "---\n",
    "### SQLite\n",
    "\n",
    "[SQLite](https://www.sqlite.org/index.html) is a library built in C language that implements a small and fast version of SQL. To check if you already have SQLite installed on your computer you can use the command\n",
    "\n",
    "```\n",
    "$ sqlite3 --version\n",
    "```\n",
    "\n",
    "If it is not installed, you can download it from\n",
    "\n",
    "https://www.sqlite.org/download.html\n",
    "\n",
    "---\n",
    "\n",
    "The first step in using SQLite is to load the database using the command\n",
    "\n",
    "```\n",
    "$ sqlite3 shows.db\n",
    "```\n",
    "\n",
    "When the information is loaded, the system prompt will be changed to `sqlite>`.\n",
    "\n",
    "\n",
    "The database structure can be obtained with the command\n",
    "```\n",
    "sqlite> .schema\n",
    "```\n",
    "\n",
    "The structure of a particular table within the database is obtained by\n",
    "```\n",
    "sqlite> .schema stars\n",
    "```"
   ]
  },
  {
   "cell_type": "markdown",
   "metadata": {
    "id": "wq0AzEqgJSs_"
   },
   "source": [
    "---\n",
    "### Structure of a 'Call' (Query)\n",
    "\n",
    "A query in SQL consists of three parts or blocks: the **SELECT** block, the **FROM** block, and the **WHERE** block.\n",
    "\n",
    " - The SELECT block tells the database which columns to retrieve. The name of each column or feature is separated by a comma.\n",
    "\n",
    "- The FROM block specifies from which table (or tables) you want to extract the information.\n",
    "\n",
    "\n",
    "\n",
    "For example, if you want to get the `year` column from the `shows` table, use the command\n",
    "\n",
    "```\n",
    "SELECT year FROM shows;\n",
    "```\n",
    "\n",
    "If you want to get the `title` and `year` columns from the `shows` table, use\n",
    "\n",
    "\n",
    "```\n",
    "SELECT title, year FROM shows;\n",
    "```\n",
    "\n",
    "\n",
    "When you want to select ALL the columns of a table, you use\n",
    "\n",
    "```\n",
    "SELECT * FROM shows;\n",
    "```\n",
    "\n",
    "\n",
    "\n",
    "\n",
    "- The WHERE block allows you to specify some characteristic(s) to restrict the search. The specification list must be separated by Boolean operators.\n",
    "\n",
    "\n",
    "Suppose you want to restrict your search to a particular show by defining its title.\n",
    "\n",
    "```\n",
    "SELECT * FROM shows WHERE title='Black Mirror';\n",
    "```"
   ]
  },
  {
   "cell_type": "markdown",
   "metadata": {
    "id": "CvIcvv7LN85r"
   },
   "source": [
    "Now we try some basic commands in SQLite.\n",
    "\n",
    "\n",
    "1. Show database structure\n",
    "```\n",
    "sqlite> .schema\n",
    "```\n",
    "\n",
    "2. Show the structure of a particular table in the database\n",
    "```\n",
    "sqlite> .schema stars\n",
    "```\n",
    "\n",
    "3. Select all the characteristics of a table (in general it can be a lot of information!)\n",
    "```\n",
    "SELECT * FROM shows;\n",
    "```\n",
    "\n",
    "4. How many entries are there with the characteristics sought?\n",
    "```\n",
    "SELECT COUNT(*) FROM shows;\n",
    "```\n",
    "\n",
    "5. Select a particular sample from the list (e.g. with a specific title)\n",
    "```\n",
    "SELECT * FROM shows WHERE title = 'Black Mirror';\n",
    "```\n",
    "\n",
    "6. Select the first N results in a search\n",
    "```\n",
    "SELECT title, year FROM shows WHERE year = 2019 LIMIT 5;\n",
    "```\n",
    "\n",
    "7. In some occasions, a specific search can return several results,\n",
    "```\n",
    "SELECT * FROM shows WHERE title = 'The Office';\n",
    "```\n",
    "\n",
    "8. Select samples with a text part,\n",
    "```\n",
    "SELECT * FROM shows WHERE title LIKE '%Things%';\n",
    "```\n",
    "\n",
    "9. Select samples by specifying numerical values\n",
    "```\n",
    "SELECT * FROM shows WHERE year > 2020;\n",
    "```\n",
    "\n",
    "10. Select a sample with a characteristic that is not fully specified\n",
    "```\n",
    "SELECT year FROM shows WHERE title LIKE 'Stranger Things';\n",
    "```\n",
    "\n",
    "11. Sort the selection according to a feature\n",
    "```\n",
    "SELECT * FROM shows WHERE title LIKE 'Doctor Who%' ORDER BY year;\n",
    "```\n",
    "\n",
    "```\n",
    "SELECT * FROM shows WHERE title LIKE 'Doctor Who%' ORDER BY year DESC;\n",
    "```\n",
    "\n",
    "```\n",
    "SELECT * FROM shows WHERE title LIKE 'Doctor Who%' ORDER BY year DESC LIMIT 10;\n",
    "```\n",
    "\n",
    "12. Include boolean operators in the search\n",
    "```\n",
    "SELECT * FROM shows WHERE year > 1990 AND year < 2000 ;\n",
    "```\n",
    "```\n",
    "SELECT * FROM shows WHERE year BETWEEN 1990 AND 2000 ;\n",
    "```\n",
    "```\n",
    "SELECT id FROM shows WHERE title='Stranger Things' AND year = 2016;\n",
    "```\n",
    "\n",
    "13. Search involving more than one table\n",
    "```\n",
    "SELECT * FROM genres WHERE show_id = 4574334;\n",
    "```\n",
    "\n",
    "This search can be done more automatically by\n",
    "```\n",
    "SELECT * FROM genres WHERE show_id = (SELECT id FROM shows WHERE title='Stranger Things' AND year = 2016);\n",
    "```\n",
    "\n",
    "14. To exit SQLite, do\n",
    "```\n",
    ".quit\n",
    "```"
   ]
  },
  {
   "cell_type": "markdown",
   "metadata": {
    "id": "UCYT79oQOZe0"
   },
   "source": [
    "---\n",
    "### Exercises\n",
    "\n",
    "1. How many shows have a perfect 10.0 rating?\n",
    "\n",
    "2. How many episodes does the show 'Black Mirror' have?\n",
    "\n",
    "3. How many shows are there in the Sci-Fi genre?\n",
    "\n",
    "4. What is the show with the best rating in the Horror genre?\n",
    "\n",
    "5. How many shows of the Animation genre are there in the database?\n",
    "\n",
    "6. What are the 10 shows with the worst rating in the animation genre between 2005 and 2010?"
   ]
  },
  {
   "cell_type": "code",
   "execution_count": null,
   "metadata": {},
   "outputs": [],
   "source": []
  }
 ],
 "metadata": {
  "@webio": {
   "lastCommId": null,
   "lastKernelId": null
  },
  "colab": {
   "collapsed_sections": [],
   "name": "01. SQLExample.ipynb",
   "provenance": []
  },
  "kernelspec": {
   "display_name": "Python 3 (ipykernel)",
   "language": "python",
   "name": "python3"
  },
  "language_info": {
   "codemirror_mode": {
    "name": "ipython",
    "version": 3
   },
   "file_extension": ".py",
   "mimetype": "text/x-python",
   "name": "python",
   "nbconvert_exporter": "python",
   "pygments_lexer": "ipython3",
   "version": "3.10.9"
  },
  "vscode": {
   "interpreter": {
    "hash": "7cedb68cf63e90bc16f84e333713309767fdee79fa6bfd701075226f4fc8e495"
   }
  }
 },
 "nbformat": 4,
 "nbformat_minor": 1
}
