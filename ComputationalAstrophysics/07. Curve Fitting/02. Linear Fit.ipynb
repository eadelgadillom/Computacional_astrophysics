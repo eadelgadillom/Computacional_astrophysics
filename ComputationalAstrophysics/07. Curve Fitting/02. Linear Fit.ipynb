version https://git-lfs.github.com/spec/v1
oid sha256:49a69fa1ac9f1148cf4f3f9ff8cca2ab18a500d890971b4da1f20084647588aa
size 138325
