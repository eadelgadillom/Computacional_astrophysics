version https://git-lfs.github.com/spec/v1
oid sha256:25819dd80329eb4a67375001f78bd586a98ba94a3ff7c245cbe4ffb09cf4f0f2
size 20960
