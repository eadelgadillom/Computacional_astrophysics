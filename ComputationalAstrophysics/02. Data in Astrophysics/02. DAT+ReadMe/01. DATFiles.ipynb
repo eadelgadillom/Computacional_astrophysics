version https://git-lfs.github.com/spec/v1
oid sha256:486942fdc41b914fb4525214b703b0249d6b853e80b4997274300a32c20c6141
size 104216
