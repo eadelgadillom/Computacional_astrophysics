version https://git-lfs.github.com/spec/v1
oid sha256:51b91f18be63f52eb96cd8db05e42d38376f6af57c8ab1c95436ee0baf6253d0
size 1535999
