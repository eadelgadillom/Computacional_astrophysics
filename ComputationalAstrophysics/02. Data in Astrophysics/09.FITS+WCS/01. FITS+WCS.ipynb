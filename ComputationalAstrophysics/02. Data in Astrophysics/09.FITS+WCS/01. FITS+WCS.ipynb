version https://git-lfs.github.com/spec/v1
oid sha256:297ef2533129700fcb13e6af0db679e758bcb9f5b81c0de0d2f23b13de14e68c
size 1537500
