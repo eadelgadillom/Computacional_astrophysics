version https://git-lfs.github.com/spec/v1
oid sha256:5e630a4e7aeb055472e1f4d53de5526486223721133e5c3577c2c9bc6b5bcfc6
size 71667
