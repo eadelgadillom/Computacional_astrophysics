version https://git-lfs.github.com/spec/v1
oid sha256:09ecee3b3382d43fc69ede95b366d14376a4ed273e9c16410e0aed8f6e6a0c0d
size 1990027
