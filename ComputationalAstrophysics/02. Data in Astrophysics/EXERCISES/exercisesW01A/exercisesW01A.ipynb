version https://git-lfs.github.com/spec/v1
oid sha256:0e556787d1860582510507fa73a87e7023efaea09bd315ff90e6e29e61afb7f9
size 5506
