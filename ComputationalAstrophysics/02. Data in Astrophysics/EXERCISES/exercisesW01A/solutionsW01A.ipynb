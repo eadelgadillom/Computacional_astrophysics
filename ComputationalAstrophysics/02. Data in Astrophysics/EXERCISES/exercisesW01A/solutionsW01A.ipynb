version https://git-lfs.github.com/spec/v1
oid sha256:f866057522e4a0c0523fd367346b5ff51ad65bcf9dcb954cec2027e4d67e0e44
size 322282
