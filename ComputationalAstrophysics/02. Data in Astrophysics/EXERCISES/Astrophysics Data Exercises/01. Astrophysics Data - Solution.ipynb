version https://git-lfs.github.com/spec/v1
oid sha256:dda9ad9de7188242b48d5e8249ee679af4cdc61d74ccc81e8d7992f8e4b03cbc
size 285045
