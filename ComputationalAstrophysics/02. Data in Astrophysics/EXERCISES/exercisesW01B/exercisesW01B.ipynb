version https://git-lfs.github.com/spec/v1
oid sha256:1fe28176bba4a1726151ba2d89b81df5bb212902b2fd6a8592e19042a2303794
size 7649
