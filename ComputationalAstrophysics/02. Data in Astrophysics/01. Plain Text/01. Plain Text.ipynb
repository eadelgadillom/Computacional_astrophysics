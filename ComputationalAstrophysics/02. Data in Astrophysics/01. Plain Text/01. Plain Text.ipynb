version https://git-lfs.github.com/spec/v1
oid sha256:27a466cde8c70d492ed35aa2baf268aa3782455f407502519c7b68aa12cf91d3
size 330189
