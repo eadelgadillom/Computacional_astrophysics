{
 "cells": [
  {
   "cell_type": "markdown",
   "metadata": {},
   "source": [
    "![Astrofisica Computacional](../../../logo.png)"
   ]
  },
  {
   "cell_type": "markdown",
   "metadata": {},
   "source": [
    "---\n",
    "## 05. Introduction to `Pandas`\n",
    "\n",
    "Eduard Larrañaga (ealarranaga@unal.edu.co)\n",
    "\n",
    "---"
   ]
  },
  {
   "cell_type": "markdown",
   "metadata": {},
   "source": [
    "### About this notebook\n",
    "\n",
    "In this notebook we present an introduction to the package `pandas`\n",
    "\n",
    "---"
   ]
  },
  {
   "cell_type": "code",
   "execution_count": 1,
   "metadata": {
    "slideshow": {
     "slide_type": "slide"
    },
    "tags": []
   },
   "outputs": [],
   "source": [
    "%matplotlib inline\n",
    "import pandas as pd\n",
    "import numpy as np\n",
    "import matplotlib as ml\n",
    "import sys\n",
    "\n",
    "plt = ml.pyplot # matplotlib.pyplot as plt\n",
    "# Defines the figure size for all the notebook\n",
    "ml.rcParams['figure.figsize'] = (10.0, 5.0) \n",
    "\n",
    "\n",
    "rng = np.random.default_rng(413)  # Initialise our random number generator"
   ]
  },
  {
   "cell_type": "markdown",
   "metadata": {
    "slideshow": {
     "slide_type": "slide"
    }
   },
   "source": [
    "## The `Dataframe` in `Pandas`"
   ]
  },
  {
   "cell_type": "code",
   "execution_count": 2,
   "metadata": {},
   "outputs": [
    {
     "data": {
      "text/html": [
       "<div>\n",
       "<style scoped>\n",
       "    .dataframe tbody tr th:only-of-type {\n",
       "        vertical-align: middle;\n",
       "    }\n",
       "\n",
       "    .dataframe tbody tr th {\n",
       "        vertical-align: top;\n",
       "    }\n",
       "\n",
       "    .dataframe thead th {\n",
       "        text-align: right;\n",
       "    }\n",
       "</style>\n",
       "<table border=\"1\" class=\"dataframe\">\n",
       "  <thead>\n",
       "    <tr style=\"text-align: right;\">\n",
       "      <th></th>\n",
       "      <th>0</th>\n",
       "    </tr>\n",
       "  </thead>\n",
       "  <tbody>\n",
       "    <tr>\n",
       "      <th>0</th>\n",
       "      <td>10.0</td>\n",
       "    </tr>\n",
       "    <tr>\n",
       "      <th>1</th>\n",
       "      <td>15.0</td>\n",
       "    </tr>\n",
       "    <tr>\n",
       "      <th>2</th>\n",
       "      <td>30.0</td>\n",
       "    </tr>\n",
       "    <tr>\n",
       "      <th>3</th>\n",
       "      <td>75.0</td>\n",
       "    </tr>\n",
       "  </tbody>\n",
       "</table>\n",
       "</div>"
      ],
      "text/plain": [
       "      0\n",
       "0  10.0\n",
       "1  15.0\n",
       "2  30.0\n",
       "3  75.0"
      ]
     },
     "execution_count": 2,
     "metadata": {},
     "output_type": "execute_result"
    }
   ],
   "source": [
    "data = [10., 15., 30., 75.]\n",
    "pd.DataFrame(data)"
   ]
  },
  {
   "cell_type": "code",
   "execution_count": 7,
   "metadata": {
    "slideshow": {
     "slide_type": "fragment"
    },
    "tags": []
   },
   "outputs": [
    {
     "data": {
      "text/plain": [
       "{'name': ['Earth', 'Mars', 'Jupiter'],\n",
       " 'mass': [1.0, 0.107, 317.8],\n",
       " 'period': [1.0, 1.88, 11.86],\n",
       " 'distance': [1.0, 1.5, 5.2]}"
      ]
     },
     "execution_count": 7,
     "metadata": {},
     "output_type": "execute_result"
    }
   ],
   "source": [
    "# Some data about planets\n",
    "# mass in [Earth masses]\n",
    "# orbital period in [Earth years]\n",
    "# mean distance tu Sun in [au]\n",
    "\n",
    "data = {'name': ['Earth', 'Mars', 'Jupiter'],\n",
    "        'mass': [1., 0.107, 317.8],\n",
    "        'period': [1., 1.88, 11.86],\n",
    "        'distance': [1., 1.5, 5.2]}\n",
    "data"
   ]
  },
  {
   "cell_type": "code",
   "execution_count": 8,
   "metadata": {
    "slideshow": {
     "slide_type": "fragment"
    },
    "tags": []
   },
   "outputs": [
    {
     "data": {
      "text/html": [
       "<div>\n",
       "<style scoped>\n",
       "    .dataframe tbody tr th:only-of-type {\n",
       "        vertical-align: middle;\n",
       "    }\n",
       "\n",
       "    .dataframe tbody tr th {\n",
       "        vertical-align: top;\n",
       "    }\n",
       "\n",
       "    .dataframe thead th {\n",
       "        text-align: right;\n",
       "    }\n",
       "</style>\n",
       "<table border=\"1\" class=\"dataframe\">\n",
       "  <thead>\n",
       "    <tr style=\"text-align: right;\">\n",
       "      <th></th>\n",
       "      <th>name</th>\n",
       "      <th>mass</th>\n",
       "      <th>period</th>\n",
       "      <th>distance</th>\n",
       "    </tr>\n",
       "  </thead>\n",
       "  <tbody>\n",
       "    <tr>\n",
       "      <th>0</th>\n",
       "      <td>Earth</td>\n",
       "      <td>1.000</td>\n",
       "      <td>1.00</td>\n",
       "      <td>1.0</td>\n",
       "    </tr>\n",
       "    <tr>\n",
       "      <th>1</th>\n",
       "      <td>Mars</td>\n",
       "      <td>0.107</td>\n",
       "      <td>1.88</td>\n",
       "      <td>1.5</td>\n",
       "    </tr>\n",
       "    <tr>\n",
       "      <th>2</th>\n",
       "      <td>Jupiter</td>\n",
       "      <td>317.800</td>\n",
       "      <td>11.86</td>\n",
       "      <td>5.2</td>\n",
       "    </tr>\n",
       "  </tbody>\n",
       "</table>\n",
       "</div>"
      ],
      "text/plain": [
       "      name     mass  period  distance\n",
       "0    Earth    1.000    1.00       1.0\n",
       "1     Mars    0.107    1.88       1.5\n",
       "2  Jupiter  317.800   11.86       5.2"
      ]
     },
     "execution_count": 8,
     "metadata": {},
     "output_type": "execute_result"
    }
   ],
   "source": [
    "df = pd.DataFrame(data)\n",
    "df"
   ]
  },
  {
   "cell_type": "code",
   "execution_count": 9,
   "metadata": {
    "slideshow": {
     "slide_type": "fragment"
    }
   },
   "outputs": [
    {
     "data": {
      "text/plain": [
       "pandas.core.frame.DataFrame"
      ]
     },
     "execution_count": 9,
     "metadata": {},
     "output_type": "execute_result"
    }
   ],
   "source": [
    "type(df)"
   ]
  },
  {
   "cell_type": "markdown",
   "metadata": {
    "slideshow": {
     "slide_type": "subslide"
    }
   },
   "source": [
    "### Accesing Features  (`Series`)"
   ]
  },
  {
   "cell_type": "code",
   "execution_count": 10,
   "metadata": {
    "slideshow": {
     "slide_type": "fragment"
    }
   },
   "outputs": [
    {
     "data": {
      "text/plain": [
       "0      1.000\n",
       "1      0.107\n",
       "2    317.800\n",
       "Name: mass, dtype: float64"
      ]
     },
     "execution_count": 10,
     "metadata": {},
     "output_type": "execute_result"
    }
   ],
   "source": [
    "df['mass']"
   ]
  },
  {
   "cell_type": "code",
   "execution_count": 11,
   "metadata": {
    "slideshow": {
     "slide_type": "fragment"
    }
   },
   "outputs": [
    {
     "data": {
      "text/plain": [
       "pandas.core.series.Series"
      ]
     },
     "execution_count": 11,
     "metadata": {},
     "output_type": "execute_result"
    }
   ],
   "source": [
    "type(df['mass'])  "
   ]
  },
  {
   "cell_type": "code",
   "execution_count": 12,
   "metadata": {
    "slideshow": {
     "slide_type": "fragment"
    }
   },
   "outputs": [
    {
     "data": {
      "text/plain": [
       "0    5.972000e+24\n",
       "1    6.390040e+23\n",
       "2    1.897902e+27\n",
       "Name: mass, dtype: float64"
      ]
     },
     "execution_count": 12,
     "metadata": {},
     "output_type": "execute_result"
    }
   ],
   "source": [
    "df['mass'] * 5.972e24"
   ]
  },
  {
   "cell_type": "code",
   "execution_count": 13,
   "metadata": {
    "scrolled": true
   },
   "outputs": [
    {
     "data": {
      "text/html": [
       "<div>\n",
       "<style scoped>\n",
       "    .dataframe tbody tr th:only-of-type {\n",
       "        vertical-align: middle;\n",
       "    }\n",
       "\n",
       "    .dataframe tbody tr th {\n",
       "        vertical-align: top;\n",
       "    }\n",
       "\n",
       "    .dataframe thead th {\n",
       "        text-align: right;\n",
       "    }\n",
       "</style>\n",
       "<table border=\"1\" class=\"dataframe\">\n",
       "  <thead>\n",
       "    <tr style=\"text-align: right;\">\n",
       "      <th></th>\n",
       "      <th>name</th>\n",
       "      <th>mass</th>\n",
       "      <th>period</th>\n",
       "      <th>distance</th>\n",
       "    </tr>\n",
       "  </thead>\n",
       "  <tbody>\n",
       "    <tr>\n",
       "      <th>0</th>\n",
       "      <td>Earth</td>\n",
       "      <td>1.000</td>\n",
       "      <td>1.00</td>\n",
       "      <td>1.0</td>\n",
       "    </tr>\n",
       "    <tr>\n",
       "      <th>1</th>\n",
       "      <td>Mars</td>\n",
       "      <td>0.107</td>\n",
       "      <td>1.88</td>\n",
       "      <td>1.5</td>\n",
       "    </tr>\n",
       "    <tr>\n",
       "      <th>2</th>\n",
       "      <td>Jupiter</td>\n",
       "      <td>317.800</td>\n",
       "      <td>11.86</td>\n",
       "      <td>5.2</td>\n",
       "    </tr>\n",
       "  </tbody>\n",
       "</table>\n",
       "</div>"
      ],
      "text/plain": [
       "      name     mass  period  distance\n",
       "0    Earth    1.000    1.00       1.0\n",
       "1     Mars    0.107    1.88       1.5\n",
       "2  Jupiter  317.800   11.86       5.2"
      ]
     },
     "execution_count": 13,
     "metadata": {},
     "output_type": "execute_result"
    }
   ],
   "source": [
    "df"
   ]
  },
  {
   "cell_type": "code",
   "execution_count": 14,
   "metadata": {},
   "outputs": [],
   "source": [
    "df['mass (kg)'] =  df['mass'] * 5.972e24"
   ]
  },
  {
   "cell_type": "code",
   "execution_count": 15,
   "metadata": {},
   "outputs": [
    {
     "data": {
      "text/html": [
       "<div>\n",
       "<style scoped>\n",
       "    .dataframe tbody tr th:only-of-type {\n",
       "        vertical-align: middle;\n",
       "    }\n",
       "\n",
       "    .dataframe tbody tr th {\n",
       "        vertical-align: top;\n",
       "    }\n",
       "\n",
       "    .dataframe thead th {\n",
       "        text-align: right;\n",
       "    }\n",
       "</style>\n",
       "<table border=\"1\" class=\"dataframe\">\n",
       "  <thead>\n",
       "    <tr style=\"text-align: right;\">\n",
       "      <th></th>\n",
       "      <th>name</th>\n",
       "      <th>mass</th>\n",
       "      <th>period</th>\n",
       "      <th>distance</th>\n",
       "      <th>mass (kg)</th>\n",
       "    </tr>\n",
       "  </thead>\n",
       "  <tbody>\n",
       "    <tr>\n",
       "      <th>0</th>\n",
       "      <td>Earth</td>\n",
       "      <td>1.000</td>\n",
       "      <td>1.00</td>\n",
       "      <td>1.0</td>\n",
       "      <td>5.972000e+24</td>\n",
       "    </tr>\n",
       "    <tr>\n",
       "      <th>1</th>\n",
       "      <td>Mars</td>\n",
       "      <td>0.107</td>\n",
       "      <td>1.88</td>\n",
       "      <td>1.5</td>\n",
       "      <td>6.390040e+23</td>\n",
       "    </tr>\n",
       "    <tr>\n",
       "      <th>2</th>\n",
       "      <td>Jupiter</td>\n",
       "      <td>317.800</td>\n",
       "      <td>11.86</td>\n",
       "      <td>5.2</td>\n",
       "      <td>1.897902e+27</td>\n",
       "    </tr>\n",
       "  </tbody>\n",
       "</table>\n",
       "</div>"
      ],
      "text/plain": [
       "      name     mass  period  distance     mass (kg)\n",
       "0    Earth    1.000    1.00       1.0  5.972000e+24\n",
       "1     Mars    0.107    1.88       1.5  6.390040e+23\n",
       "2  Jupiter  317.800   11.86       5.2  1.897902e+27"
      ]
     },
     "execution_count": 15,
     "metadata": {},
     "output_type": "execute_result"
    }
   ],
   "source": [
    "df"
   ]
  },
  {
   "cell_type": "code",
   "execution_count": 16,
   "metadata": {
    "scrolled": true,
    "slideshow": {
     "slide_type": "fragment"
    }
   },
   "outputs": [
    {
     "data": {
      "text/plain": [
       "0    0.000000\n",
       "1    0.405465\n",
       "2    1.648659\n",
       "Name: distance, dtype: float64"
      ]
     },
     "execution_count": 16,
     "metadata": {},
     "output_type": "execute_result"
    }
   ],
   "source": [
    "np.log(df['distance'])"
   ]
  },
  {
   "cell_type": "code",
   "execution_count": 17,
   "metadata": {},
   "outputs": [
    {
     "data": {
      "text/html": [
       "<div>\n",
       "<style scoped>\n",
       "    .dataframe tbody tr th:only-of-type {\n",
       "        vertical-align: middle;\n",
       "    }\n",
       "\n",
       "    .dataframe tbody tr th {\n",
       "        vertical-align: top;\n",
       "    }\n",
       "\n",
       "    .dataframe thead th {\n",
       "        text-align: right;\n",
       "    }\n",
       "</style>\n",
       "<table border=\"1\" class=\"dataframe\">\n",
       "  <thead>\n",
       "    <tr style=\"text-align: right;\">\n",
       "      <th></th>\n",
       "      <th>mass</th>\n",
       "      <th>distance</th>\n",
       "    </tr>\n",
       "  </thead>\n",
       "  <tbody>\n",
       "    <tr>\n",
       "      <th>0</th>\n",
       "      <td>1.000</td>\n",
       "      <td>1.0</td>\n",
       "    </tr>\n",
       "    <tr>\n",
       "      <th>1</th>\n",
       "      <td>0.107</td>\n",
       "      <td>1.5</td>\n",
       "    </tr>\n",
       "    <tr>\n",
       "      <th>2</th>\n",
       "      <td>317.800</td>\n",
       "      <td>5.2</td>\n",
       "    </tr>\n",
       "  </tbody>\n",
       "</table>\n",
       "</div>"
      ],
      "text/plain": [
       "      mass  distance\n",
       "0    1.000       1.0\n",
       "1    0.107       1.5\n",
       "2  317.800       5.2"
      ]
     },
     "execution_count": 17,
     "metadata": {},
     "output_type": "execute_result"
    }
   ],
   "source": [
    "df[['mass','distance']]"
   ]
  },
  {
   "cell_type": "code",
   "execution_count": 18,
   "metadata": {},
   "outputs": [
    {
     "data": {
      "text/html": [
       "<div>\n",
       "<style scoped>\n",
       "    .dataframe tbody tr th:only-of-type {\n",
       "        vertical-align: middle;\n",
       "    }\n",
       "\n",
       "    .dataframe tbody tr th {\n",
       "        vertical-align: top;\n",
       "    }\n",
       "\n",
       "    .dataframe thead th {\n",
       "        text-align: right;\n",
       "    }\n",
       "</style>\n",
       "<table border=\"1\" class=\"dataframe\">\n",
       "  <thead>\n",
       "    <tr style=\"text-align: right;\">\n",
       "      <th></th>\n",
       "      <th>name</th>\n",
       "      <th>mass (kg)</th>\n",
       "      <th>mass</th>\n",
       "      <th>period</th>\n",
       "      <th>distance</th>\n",
       "    </tr>\n",
       "  </thead>\n",
       "  <tbody>\n",
       "    <tr>\n",
       "      <th>0</th>\n",
       "      <td>Earth</td>\n",
       "      <td>5.972000e+24</td>\n",
       "      <td>1.000</td>\n",
       "      <td>1.00</td>\n",
       "      <td>1.0</td>\n",
       "    </tr>\n",
       "    <tr>\n",
       "      <th>1</th>\n",
       "      <td>Mars</td>\n",
       "      <td>6.390040e+23</td>\n",
       "      <td>0.107</td>\n",
       "      <td>1.88</td>\n",
       "      <td>1.5</td>\n",
       "    </tr>\n",
       "    <tr>\n",
       "      <th>2</th>\n",
       "      <td>Jupiter</td>\n",
       "      <td>1.897902e+27</td>\n",
       "      <td>317.800</td>\n",
       "      <td>11.86</td>\n",
       "      <td>5.2</td>\n",
       "    </tr>\n",
       "  </tbody>\n",
       "</table>\n",
       "</div>"
      ],
      "text/plain": [
       "      name     mass (kg)     mass  period  distance\n",
       "0    Earth  5.972000e+24    1.000    1.00       1.0\n",
       "1     Mars  6.390040e+23    0.107    1.88       1.5\n",
       "2  Jupiter  1.897902e+27  317.800   11.86       5.2"
      ]
     },
     "execution_count": 18,
     "metadata": {},
     "output_type": "execute_result"
    }
   ],
   "source": [
    "df1 = df[['name', 'mass (kg)','mass', 'period', 'distance']]\n",
    "df1"
   ]
  },
  {
   "cell_type": "markdown",
   "metadata": {},
   "source": [
    "Generating some series using random numbers"
   ]
  },
  {
   "cell_type": "code",
   "execution_count": 19,
   "metadata": {
    "scrolled": true,
    "slideshow": {
     "slide_type": "subslide"
    }
   },
   "outputs": [
    {
     "data": {
      "text/plain": [
       "0    2\n",
       "1    0\n",
       "2    5\n",
       "3    4\n",
       "4    8\n",
       "5    0\n",
       "6    4\n",
       "7    0\n",
       "8    8\n",
       "9    9\n",
       "dtype: int64"
      ]
     },
     "execution_count": 19,
     "metadata": {},
     "output_type": "execute_result"
    }
   ],
   "source": [
    "s = pd.Series(rng.integers(0, 10, 10))\n",
    "s"
   ]
  },
  {
   "cell_type": "markdown",
   "metadata": {},
   "source": [
    "We can sort the series. Note that the indices are kept the same as in the original series."
   ]
  },
  {
   "cell_type": "code",
   "execution_count": 20,
   "metadata": {
    "scrolled": true,
    "slideshow": {
     "slide_type": "fragment"
    }
   },
   "outputs": [
    {
     "data": {
      "text/plain": [
       "1    0\n",
       "5    0\n",
       "7    0\n",
       "0    2\n",
       "3    4\n",
       "6    4\n",
       "2    5\n",
       "4    8\n",
       "8    8\n",
       "9    9\n",
       "dtype: int64"
      ]
     },
     "execution_count": 20,
     "metadata": {},
     "output_type": "execute_result"
    }
   ],
   "source": [
    "sorted_s = s.sort_values()\n",
    "sorted_s"
   ]
  },
  {
   "cell_type": "markdown",
   "metadata": {},
   "source": [
    "If we multiply series s by the sorted series, the product is obtained using the indices.\n",
    "    "
   ]
  },
  {
   "cell_type": "code",
   "execution_count": 21,
   "metadata": {
    "scrolled": true,
    "slideshow": {
     "slide_type": "fragment"
    }
   },
   "outputs": [
    {
     "data": {
      "text/plain": [
       "0     4\n",
       "1     0\n",
       "2    25\n",
       "3    16\n",
       "4    64\n",
       "5     0\n",
       "6    16\n",
       "7     0\n",
       "8    64\n",
       "9    81\n",
       "dtype: int64"
      ]
     },
     "execution_count": 21,
     "metadata": {},
     "output_type": "execute_result"
    }
   ],
   "source": [
    "s * s.sort_values() "
   ]
  },
  {
   "cell_type": "markdown",
   "metadata": {},
   "source": [
    "It is also possible to reset the indices after sorting the values: "
   ]
  },
  {
   "cell_type": "code",
   "execution_count": 22,
   "metadata": {},
   "outputs": [
    {
     "data": {
      "text/plain": [
       "0    0\n",
       "1    0\n",
       "2    0\n",
       "3    2\n",
       "4    4\n",
       "5    4\n",
       "6    5\n",
       "7    8\n",
       "8    8\n",
       "9    9\n",
       "dtype: int64"
      ]
     },
     "execution_count": 22,
     "metadata": {},
     "output_type": "execute_result"
    }
   ],
   "source": [
    "new_sorted_s = s.sort_values().reset_index(drop=True)\n",
    "new_sorted_s"
   ]
  },
  {
   "cell_type": "code",
   "execution_count": 23,
   "metadata": {
    "slideshow": {
     "slide_type": "subslide"
    }
   },
   "outputs": [
    {
     "data": {
      "text/plain": [
       "0     0\n",
       "1     0\n",
       "2     0\n",
       "3     8\n",
       "4    32\n",
       "5     0\n",
       "6    20\n",
       "7     0\n",
       "8    64\n",
       "9    81\n",
       "dtype: int64"
      ]
     },
     "execution_count": 23,
     "metadata": {},
     "output_type": "execute_result"
    }
   ],
   "source": [
    "s * new_sorted_s"
   ]
  },
  {
   "cell_type": "markdown",
   "metadata": {
    "slideshow": {
     "slide_type": "slide"
    }
   },
   "source": [
    "## Examining a `DataFrame`"
   ]
  },
  {
   "cell_type": "code",
   "execution_count": 24,
   "metadata": {
    "slideshow": {
     "slide_type": "fragment"
    }
   },
   "outputs": [
    {
     "data": {
      "text/html": [
       "<div>\n",
       "<style scoped>\n",
       "    .dataframe tbody tr th:only-of-type {\n",
       "        vertical-align: middle;\n",
       "    }\n",
       "\n",
       "    .dataframe tbody tr th {\n",
       "        vertical-align: top;\n",
       "    }\n",
       "\n",
       "    .dataframe thead th {\n",
       "        text-align: right;\n",
       "    }\n",
       "</style>\n",
       "<table border=\"1\" class=\"dataframe\">\n",
       "  <thead>\n",
       "    <tr style=\"text-align: right;\">\n",
       "      <th></th>\n",
       "      <th>name</th>\n",
       "      <th>mass</th>\n",
       "      <th>period</th>\n",
       "      <th>distance</th>\n",
       "      <th>mass (kg)</th>\n",
       "    </tr>\n",
       "  </thead>\n",
       "  <tbody>\n",
       "    <tr>\n",
       "      <th>0</th>\n",
       "      <td>Earth</td>\n",
       "      <td>1.000</td>\n",
       "      <td>1.00</td>\n",
       "      <td>1.0</td>\n",
       "      <td>5.972000e+24</td>\n",
       "    </tr>\n",
       "    <tr>\n",
       "      <th>1</th>\n",
       "      <td>Mars</td>\n",
       "      <td>0.107</td>\n",
       "      <td>1.88</td>\n",
       "      <td>1.5</td>\n",
       "      <td>6.390040e+23</td>\n",
       "    </tr>\n",
       "    <tr>\n",
       "      <th>2</th>\n",
       "      <td>Jupiter</td>\n",
       "      <td>317.800</td>\n",
       "      <td>11.86</td>\n",
       "      <td>5.2</td>\n",
       "      <td>1.897902e+27</td>\n",
       "    </tr>\n",
       "  </tbody>\n",
       "</table>\n",
       "</div>"
      ],
      "text/plain": [
       "      name     mass  period  distance     mass (kg)\n",
       "0    Earth    1.000    1.00       1.0  5.972000e+24\n",
       "1     Mars    0.107    1.88       1.5  6.390040e+23\n",
       "2  Jupiter  317.800   11.86       5.2  1.897902e+27"
      ]
     },
     "execution_count": 24,
     "metadata": {},
     "output_type": "execute_result"
    }
   ],
   "source": [
    "df"
   ]
  },
  {
   "cell_type": "code",
   "execution_count": 25,
   "metadata": {
    "slideshow": {
     "slide_type": "fragment"
    }
   },
   "outputs": [
    {
     "data": {
      "text/plain": [
       "name          object\n",
       "mass         float64\n",
       "period       float64\n",
       "distance     float64\n",
       "mass (kg)    float64\n",
       "dtype: object"
      ]
     },
     "execution_count": 25,
     "metadata": {},
     "output_type": "execute_result"
    }
   ],
   "source": [
    "df.dtypes"
   ]
  },
  {
   "cell_type": "code",
   "execution_count": 26,
   "metadata": {
    "slideshow": {
     "slide_type": "fragment"
    }
   },
   "outputs": [
    {
     "data": {
      "text/plain": [
       "Index(['name', 'mass', 'period', 'distance', 'mass (kg)'], dtype='object')"
      ]
     },
     "execution_count": 26,
     "metadata": {},
     "output_type": "execute_result"
    }
   ],
   "source": [
    "df.columns"
   ]
  },
  {
   "cell_type": "code",
   "execution_count": 27,
   "metadata": {
    "slideshow": {
     "slide_type": "fragment"
    }
   },
   "outputs": [
    {
     "data": {
      "text/plain": [
       "(3, 5)"
      ]
     },
     "execution_count": 27,
     "metadata": {},
     "output_type": "execute_result"
    }
   ],
   "source": [
    "df.shape"
   ]
  },
  {
   "cell_type": "markdown",
   "metadata": {
    "slideshow": {
     "slide_type": "subslide"
    }
   },
   "source": [
    "### Looking into the data"
   ]
  },
  {
   "cell_type": "code",
   "execution_count": 30,
   "metadata": {
    "slideshow": {
     "slide_type": "fragment"
    }
   },
   "outputs": [
    {
     "data": {
      "text/html": [
       "<div>\n",
       "<style scoped>\n",
       "    .dataframe tbody tr th:only-of-type {\n",
       "        vertical-align: middle;\n",
       "    }\n",
       "\n",
       "    .dataframe tbody tr th {\n",
       "        vertical-align: top;\n",
       "    }\n",
       "\n",
       "    .dataframe thead th {\n",
       "        text-align: right;\n",
       "    }\n",
       "</style>\n",
       "<table border=\"1\" class=\"dataframe\">\n",
       "  <thead>\n",
       "    <tr style=\"text-align: right;\">\n",
       "      <th></th>\n",
       "      <th>name</th>\n",
       "      <th>mass</th>\n",
       "      <th>period</th>\n",
       "      <th>distance</th>\n",
       "      <th>mass (kg)</th>\n",
       "    </tr>\n",
       "  </thead>\n",
       "  <tbody>\n",
       "    <tr>\n",
       "      <th>0</th>\n",
       "      <td>Earth</td>\n",
       "      <td>1.000</td>\n",
       "      <td>1.00</td>\n",
       "      <td>1.0</td>\n",
       "      <td>5.972000e+24</td>\n",
       "    </tr>\n",
       "    <tr>\n",
       "      <th>1</th>\n",
       "      <td>Mars</td>\n",
       "      <td>0.107</td>\n",
       "      <td>1.88</td>\n",
       "      <td>1.5</td>\n",
       "      <td>6.390040e+23</td>\n",
       "    </tr>\n",
       "  </tbody>\n",
       "</table>\n",
       "</div>"
      ],
      "text/plain": [
       "    name   mass  period  distance     mass (kg)\n",
       "0  Earth  1.000    1.00       1.0  5.972000e+24\n",
       "1   Mars  0.107    1.88       1.5  6.390040e+23"
      ]
     },
     "execution_count": 30,
     "metadata": {},
     "output_type": "execute_result"
    }
   ],
   "source": [
    "df.head(2) # First entries"
   ]
  },
  {
   "cell_type": "code",
   "execution_count": 31,
   "metadata": {
    "slideshow": {
     "slide_type": "fragment"
    }
   },
   "outputs": [
    {
     "data": {
      "text/html": [
       "<div>\n",
       "<style scoped>\n",
       "    .dataframe tbody tr th:only-of-type {\n",
       "        vertical-align: middle;\n",
       "    }\n",
       "\n",
       "    .dataframe tbody tr th {\n",
       "        vertical-align: top;\n",
       "    }\n",
       "\n",
       "    .dataframe thead th {\n",
       "        text-align: right;\n",
       "    }\n",
       "</style>\n",
       "<table border=\"1\" class=\"dataframe\">\n",
       "  <thead>\n",
       "    <tr style=\"text-align: right;\">\n",
       "      <th></th>\n",
       "      <th>name</th>\n",
       "      <th>mass</th>\n",
       "      <th>period</th>\n",
       "      <th>distance</th>\n",
       "      <th>mass (kg)</th>\n",
       "    </tr>\n",
       "  </thead>\n",
       "  <tbody>\n",
       "    <tr>\n",
       "      <th>1</th>\n",
       "      <td>Mars</td>\n",
       "      <td>0.107</td>\n",
       "      <td>1.88</td>\n",
       "      <td>1.5</td>\n",
       "      <td>6.390040e+23</td>\n",
       "    </tr>\n",
       "    <tr>\n",
       "      <th>2</th>\n",
       "      <td>Jupiter</td>\n",
       "      <td>317.800</td>\n",
       "      <td>11.86</td>\n",
       "      <td>5.2</td>\n",
       "      <td>1.897902e+27</td>\n",
       "    </tr>\n",
       "  </tbody>\n",
       "</table>\n",
       "</div>"
      ],
      "text/plain": [
       "      name     mass  period  distance     mass (kg)\n",
       "1     Mars    0.107    1.88       1.5  6.390040e+23\n",
       "2  Jupiter  317.800   11.86       5.2  1.897902e+27"
      ]
     },
     "execution_count": 31,
     "metadata": {},
     "output_type": "execute_result"
    }
   ],
   "source": [
    "df.tail(2) # Last entries"
   ]
  },
  {
   "cell_type": "code",
   "execution_count": 32,
   "metadata": {
    "slideshow": {
     "slide_type": "slide"
    }
   },
   "outputs": [
    {
     "data": {
      "text/html": [
       "<div>\n",
       "<style scoped>\n",
       "    .dataframe tbody tr th:only-of-type {\n",
       "        vertical-align: middle;\n",
       "    }\n",
       "\n",
       "    .dataframe tbody tr th {\n",
       "        vertical-align: top;\n",
       "    }\n",
       "\n",
       "    .dataframe thead th {\n",
       "        text-align: right;\n",
       "    }\n",
       "</style>\n",
       "<table border=\"1\" class=\"dataframe\">\n",
       "  <thead>\n",
       "    <tr style=\"text-align: right;\">\n",
       "      <th></th>\n",
       "      <th>mass</th>\n",
       "      <th>period</th>\n",
       "      <th>distance</th>\n",
       "      <th>mass (kg)</th>\n",
       "    </tr>\n",
       "  </thead>\n",
       "  <tbody>\n",
       "    <tr>\n",
       "      <th>count</th>\n",
       "      <td>3.000000</td>\n",
       "      <td>3.000000</td>\n",
       "      <td>3.000000</td>\n",
       "      <td>3.000000e+00</td>\n",
       "    </tr>\n",
       "    <tr>\n",
       "      <th>mean</th>\n",
       "      <td>106.302333</td>\n",
       "      <td>4.913333</td>\n",
       "      <td>2.566667</td>\n",
       "      <td>6.348375e+26</td>\n",
       "    </tr>\n",
       "    <tr>\n",
       "      <th>std</th>\n",
       "      <td>183.162896</td>\n",
       "      <td>6.032059</td>\n",
       "      <td>2.294196</td>\n",
       "      <td>1.093849e+27</td>\n",
       "    </tr>\n",
       "    <tr>\n",
       "      <th>min</th>\n",
       "      <td>0.107000</td>\n",
       "      <td>1.000000</td>\n",
       "      <td>1.000000</td>\n",
       "      <td>6.390040e+23</td>\n",
       "    </tr>\n",
       "    <tr>\n",
       "      <th>25%</th>\n",
       "      <td>0.553500</td>\n",
       "      <td>1.440000</td>\n",
       "      <td>1.250000</td>\n",
       "      <td>3.305502e+24</td>\n",
       "    </tr>\n",
       "    <tr>\n",
       "      <th>50%</th>\n",
       "      <td>1.000000</td>\n",
       "      <td>1.880000</td>\n",
       "      <td>1.500000</td>\n",
       "      <td>5.972000e+24</td>\n",
       "    </tr>\n",
       "    <tr>\n",
       "      <th>75%</th>\n",
       "      <td>159.400000</td>\n",
       "      <td>6.870000</td>\n",
       "      <td>3.350000</td>\n",
       "      <td>9.519368e+26</td>\n",
       "    </tr>\n",
       "    <tr>\n",
       "      <th>max</th>\n",
       "      <td>317.800000</td>\n",
       "      <td>11.860000</td>\n",
       "      <td>5.200000</td>\n",
       "      <td>1.897902e+27</td>\n",
       "    </tr>\n",
       "  </tbody>\n",
       "</table>\n",
       "</div>"
      ],
      "text/plain": [
       "             mass     period  distance     mass (kg)\n",
       "count    3.000000   3.000000  3.000000  3.000000e+00\n",
       "mean   106.302333   4.913333  2.566667  6.348375e+26\n",
       "std    183.162896   6.032059  2.294196  1.093849e+27\n",
       "min      0.107000   1.000000  1.000000  6.390040e+23\n",
       "25%      0.553500   1.440000  1.250000  3.305502e+24\n",
       "50%      1.000000   1.880000  1.500000  5.972000e+24\n",
       "75%    159.400000   6.870000  3.350000  9.519368e+26\n",
       "max    317.800000  11.860000  5.200000  1.897902e+27"
      ]
     },
     "execution_count": 32,
     "metadata": {},
     "output_type": "execute_result"
    }
   ],
   "source": [
    "df.describe()"
   ]
  },
  {
   "cell_type": "markdown",
   "metadata": {
    "slideshow": {
     "slide_type": "slide"
    }
   },
   "source": [
    "## Indexing and Slicing\n",
    "\n",
    "There are different ways to index/slice data in pandas."
   ]
  },
  {
   "cell_type": "code",
   "execution_count": 48,
   "metadata": {
    "scrolled": false
   },
   "outputs": [
    {
     "data": {
      "text/html": [
       "<div>\n",
       "<style scoped>\n",
       "    .dataframe tbody tr th:only-of-type {\n",
       "        vertical-align: middle;\n",
       "    }\n",
       "\n",
       "    .dataframe tbody tr th {\n",
       "        vertical-align: top;\n",
       "    }\n",
       "\n",
       "    .dataframe thead th {\n",
       "        text-align: right;\n",
       "    }\n",
       "</style>\n",
       "<table border=\"1\" class=\"dataframe\">\n",
       "  <thead>\n",
       "    <tr style=\"text-align: right;\">\n",
       "      <th></th>\n",
       "      <th>name</th>\n",
       "      <th>mass</th>\n",
       "      <th>period</th>\n",
       "      <th>distance</th>\n",
       "      <th>mass (kg)</th>\n",
       "    </tr>\n",
       "  </thead>\n",
       "  <tbody>\n",
       "    <tr>\n",
       "      <th>1</th>\n",
       "      <td>Mars</td>\n",
       "      <td>0.107</td>\n",
       "      <td>1.88</td>\n",
       "      <td>1.5</td>\n",
       "      <td>6.390040e+23</td>\n",
       "    </tr>\n",
       "  </tbody>\n",
       "</table>\n",
       "</div>"
      ],
      "text/plain": [
       "   name   mass  period  distance     mass (kg)\n",
       "1  Mars  0.107    1.88       1.5  6.390040e+23"
      ]
     },
     "execution_count": 48,
     "metadata": {},
     "output_type": "execute_result"
    }
   ],
   "source": [
    "df[1:2]"
   ]
  },
  {
   "cell_type": "markdown",
   "metadata": {},
   "source": [
    "There are two interesting methods:"
   ]
  },
  {
   "cell_type": "code",
   "execution_count": 43,
   "metadata": {
    "slideshow": {
     "slide_type": "fragment"
    }
   },
   "outputs": [
    {
     "data": {
      "text/plain": [
       "<pandas.core.indexing._LocIndexer at 0x10fe73e50>"
      ]
     },
     "execution_count": 43,
     "metadata": {},
     "output_type": "execute_result"
    }
   ],
   "source": [
    "df.loc"
   ]
  },
  {
   "cell_type": "code",
   "execution_count": 44,
   "metadata": {
    "slideshow": {
     "slide_type": "fragment"
    }
   },
   "outputs": [
    {
     "data": {
      "text/plain": [
       "<pandas.core.indexing._iLocIndexer at 0x11c049c20>"
      ]
     },
     "execution_count": 44,
     "metadata": {},
     "output_type": "execute_result"
    }
   ],
   "source": [
    "df.iloc"
   ]
  },
  {
   "cell_type": "markdown",
   "metadata": {
    "slideshow": {
     "slide_type": "subslide"
    }
   },
   "source": [
    "### Using `.loc[]`\n",
    "\n",
    "This one treats the input as label or \"row-name\"."
   ]
  },
  {
   "cell_type": "code",
   "execution_count": 60,
   "metadata": {
    "scrolled": true,
    "slideshow": {
     "slide_type": "fragment"
    }
   },
   "outputs": [
    {
     "data": {
      "text/plain": [
       "name                               Earth\n",
       "mass                                 1.0\n",
       "period                               1.0\n",
       "distance                             1.0\n",
       "mass (kg)    5972000000000000327155712.0\n",
       "Name: 0, dtype: object"
      ]
     },
     "execution_count": 60,
     "metadata": {},
     "output_type": "execute_result"
    }
   ],
   "source": [
    "df.loc[0] # Index of row"
   ]
  },
  {
   "cell_type": "code",
   "execution_count": 63,
   "metadata": {
    "scrolled": false,
    "slideshow": {
     "slide_type": "fragment"
    }
   },
   "outputs": [
    {
     "data": {
      "text/plain": [
       "'Earth'"
      ]
     },
     "execution_count": 63,
     "metadata": {},
     "output_type": "execute_result"
    }
   ],
   "source": [
    "df['name'].loc[0]"
   ]
  },
  {
   "cell_type": "markdown",
   "metadata": {},
   "source": [
    "However, index \\[-1\\] is not defined as one may expect... "
   ]
  },
  {
   "cell_type": "code",
   "execution_count": null,
   "metadata": {
    "slideshow": {
     "slide_type": "fragment"
    }
   },
   "outputs": [],
   "source": [
    "#df.loc[-1] # Note the ValueError"
   ]
  },
  {
   "cell_type": "markdown",
   "metadata": {
    "slideshow": {
     "slide_type": "subslide"
    }
   },
   "source": [
    "We can accessing multiple rows and/or columns"
   ]
  },
  {
   "cell_type": "code",
   "execution_count": 64,
   "metadata": {
    "slideshow": {
     "slide_type": "fragment"
    }
   },
   "outputs": [
    {
     "data": {
      "text/html": [
       "<div>\n",
       "<style scoped>\n",
       "    .dataframe tbody tr th:only-of-type {\n",
       "        vertical-align: middle;\n",
       "    }\n",
       "\n",
       "    .dataframe tbody tr th {\n",
       "        vertical-align: top;\n",
       "    }\n",
       "\n",
       "    .dataframe thead th {\n",
       "        text-align: right;\n",
       "    }\n",
       "</style>\n",
       "<table border=\"1\" class=\"dataframe\">\n",
       "  <thead>\n",
       "    <tr style=\"text-align: right;\">\n",
       "      <th></th>\n",
       "      <th>name</th>\n",
       "    </tr>\n",
       "  </thead>\n",
       "  <tbody>\n",
       "    <tr>\n",
       "      <th>1</th>\n",
       "      <td>Mars</td>\n",
       "    </tr>\n",
       "    <tr>\n",
       "      <th>2</th>\n",
       "      <td>Jupiter</td>\n",
       "    </tr>\n",
       "  </tbody>\n",
       "</table>\n",
       "</div>"
      ],
      "text/plain": [
       "      name\n",
       "1     Mars\n",
       "2  Jupiter"
      ]
     },
     "execution_count": 64,
     "metadata": {},
     "output_type": "execute_result"
    }
   ],
   "source": [
    "df.loc[1:3, ['name']]"
   ]
  },
  {
   "cell_type": "code",
   "execution_count": 65,
   "metadata": {
    "slideshow": {
     "slide_type": "fragment"
    }
   },
   "outputs": [
    {
     "data": {
      "text/html": [
       "<div>\n",
       "<style scoped>\n",
       "    .dataframe tbody tr th:only-of-type {\n",
       "        vertical-align: middle;\n",
       "    }\n",
       "\n",
       "    .dataframe tbody tr th {\n",
       "        vertical-align: top;\n",
       "    }\n",
       "\n",
       "    .dataframe thead th {\n",
       "        text-align: right;\n",
       "    }\n",
       "</style>\n",
       "<table border=\"1\" class=\"dataframe\">\n",
       "  <thead>\n",
       "    <tr style=\"text-align: right;\">\n",
       "      <th></th>\n",
       "      <th>name</th>\n",
       "      <th>period</th>\n",
       "    </tr>\n",
       "  </thead>\n",
       "  <tbody>\n",
       "    <tr>\n",
       "      <th>0</th>\n",
       "      <td>Earth</td>\n",
       "      <td>1.00</td>\n",
       "    </tr>\n",
       "    <tr>\n",
       "      <th>2</th>\n",
       "      <td>Jupiter</td>\n",
       "      <td>11.86</td>\n",
       "    </tr>\n",
       "  </tbody>\n",
       "</table>\n",
       "</div>"
      ],
      "text/plain": [
       "      name  period\n",
       "0    Earth    1.00\n",
       "2  Jupiter   11.86"
      ]
     },
     "execution_count": 65,
     "metadata": {},
     "output_type": "execute_result"
    }
   ],
   "source": [
    "df.loc[[0, 2], ['name', 'period']]"
   ]
  },
  {
   "cell_type": "markdown",
   "metadata": {
    "slideshow": {
     "slide_type": "subslide"
    }
   },
   "source": [
    "### Using `.iloc[]`"
   ]
  },
  {
   "cell_type": "code",
   "execution_count": 56,
   "metadata": {
    "slideshow": {
     "slide_type": "fragment"
    }
   },
   "outputs": [
    {
     "data": {
      "text/plain": [
       "name                                Jupiter\n",
       "mass                                  317.8\n",
       "period                                11.86\n",
       "distance                                5.2\n",
       "mass (kg)    1897901600000000176555032576.0\n",
       "Name: 2, dtype: object"
      ]
     },
     "execution_count": 56,
     "metadata": {},
     "output_type": "execute_result"
    }
   ],
   "source": [
    "df.iloc[2]  # Index of row"
   ]
  },
  {
   "cell_type": "code",
   "execution_count": 59,
   "metadata": {
    "scrolled": true,
    "slideshow": {
     "slide_type": "fragment"
    }
   },
   "outputs": [
    {
     "data": {
      "text/plain": [
       "name                                Jupiter\n",
       "mass                                  317.8\n",
       "period                                11.86\n",
       "distance                                5.2\n",
       "mass (kg)    1897901600000000176555032576.0\n",
       "Name: 2, dtype: object"
      ]
     },
     "execution_count": 59,
     "metadata": {},
     "output_type": "execute_result"
    }
   ],
   "source": [
    "df.iloc[-1] # This time the index [-1] works as expected"
   ]
  },
  {
   "cell_type": "markdown",
   "metadata": {},
   "source": [
    "---\n",
    "## Reading a File "
   ]
  },
  {
   "cell_type": "markdown",
   "metadata": {},
   "source": [
    "We will use, as an example, a catalog of all official named stars collected by the IAU in .csv format available at\n",
    "https://www.kaggle.com/ecotner/named-stars \n",
    "\n",
    "This catalog contains 330 stars and the following columns:\n",
    "\n",
    "* **Name**: Proper name adopted by IAU Working Group on Star Names (WGSN).\n",
    "\n",
    "* **Designation**: Fiducial designation (in order of preference and availability):\n",
    "HR, GJ, HD, HIP, PSR. (see SIMBAD; http://simbad.u-strasbg.fr/simbad/).\n",
    "\n",
    "* **ID**: ID column is either (in order of preference and availability)\n",
    "Bayer greek letter (using SIMBAD databases; e.g. \"alf\" = alpha; see table http://simbad.u-strasbg.fr/Pages/guide/chA.htx), Flamsteed numbers (both following The Bright Star Catalogue [BSC], 5th Revised Ed. (Hoffleit & Warren 1991), or variable star designations.\n",
    "\n",
    "* **Con**: Constellation (3-letter IAU abbrev.; following \"The IAU Style Manual\", Wilkins 1989, Table 11).\n",
    "\n",
    "* **#**: The \"#\" after the constellation column is the component ID to Washington Double Star (WDS) catalog multiple system, if needed (e.g. Proxima Centauri = alf Cen \"C\"), but may be left blank (\"-\") where the primary, by visual brightness, is unambiguous (blank = A) or if the other WDS catalogue entries are obviously unphysical (i.e. the star appears to have no known physical stellar companions). Component IDs are also given where the star does not have a WDS entry (i.e. is not a resolved multiple), but the star is either known to be a spectroscopic binary or astrometric binary in the literature (usually a \"A\" or \"Aa\" is given in those cases, e.g. Wezen). Many thanks to Brian Mason (IAU Commission G1 Binary and Multiple Star Systems) for help with vetting the WDS designations and IDs.\n",
    "\n",
    "* **WDS_J**: WDS designation for multiple systems (or candidate multiple systems), the official double star catalogue of IAU Commission 26 (now G1).\n",
    "\n",
    "* **Vmag**: Johnson V magnitude. For multiple stars, the V magnitude of the component is listed where available or calculable, however in some cases (e.g. some spectroscopic binaries, astrometric binaries), the unresolved magnitude is listed. Magnitudes are preferentially from The Hipparcos and Tycho catalogues (ESA 1997) and WDS.\n",
    "\n",
    "* **HIP**: HIP designations from The Hipparcos and Tycho Catalogues (ESA 1997).\n",
    "\n",
    "* **HD**: HD designations, usually cross-identified from SIMBAD, BSC, HIP catalogues.\n",
    "\n",
    "* **RA(J2000)**: Right Ascension, ICRS (epoch 2000.0)\n",
    "\n",
    "* **Dec(J2000)**: Declination, ICRS (epoch 2000.0)Columns 10 and 11 are calculated with Vizier for epoch 2000.0, usually using positions and proper motions from the revised Hipparcos catalogue (\"Hipparcos, the New Reduction of the Raw Data\" (van Leeuwen 2007 A&A, 474, 653), Gaia DR1 (Gaia Collaboration 2016) or Tycho-2 catalogue (Hog et al. 2000, A&A, 355, L27).\n",
    "\n",
    "* **Date**: Date approved by WGSN. Names marked approved \"2015-12-15\" are exoplanet host star names - a mix of common names and names adopted via the NameExoWorlds contest - reviewed and adopted by the Executive Committee WG Public Naming of Planets and Planetary Satellites, and recognized by WGSN (although the posted date pre-dates WGSN)."
   ]
  },
  {
   "cell_type": "code",
   "execution_count": 67,
   "metadata": {
    "scrolled": false
   },
   "outputs": [
    {
     "data": {
      "text/html": [
       "<div>\n",
       "<style scoped>\n",
       "    .dataframe tbody tr th:only-of-type {\n",
       "        vertical-align: middle;\n",
       "    }\n",
       "\n",
       "    .dataframe tbody tr th {\n",
       "        vertical-align: top;\n",
       "    }\n",
       "\n",
       "    .dataframe thead th {\n",
       "        text-align: right;\n",
       "    }\n",
       "</style>\n",
       "<table border=\"1\" class=\"dataframe\">\n",
       "  <thead>\n",
       "    <tr style=\"text-align: right;\">\n",
       "      <th></th>\n",
       "      <th>Name</th>\n",
       "      <th>Designation</th>\n",
       "      <th>ID</th>\n",
       "      <th>Con</th>\n",
       "      <th>#</th>\n",
       "      <th>WDS_J</th>\n",
       "      <th>Vmag</th>\n",
       "      <th>HIP</th>\n",
       "      <th>HD</th>\n",
       "      <th>RA(J2000)</th>\n",
       "      <th>Dec(J2000)</th>\n",
       "      <th>Date</th>\n",
       "    </tr>\n",
       "  </thead>\n",
       "  <tbody>\n",
       "    <tr>\n",
       "      <th>0</th>\n",
       "      <td>Acamar</td>\n",
       "      <td>HR 897</td>\n",
       "      <td>tet01</td>\n",
       "      <td>Eri</td>\n",
       "      <td>A</td>\n",
       "      <td>02583-4018</td>\n",
       "      <td>2.88</td>\n",
       "      <td>13847</td>\n",
       "      <td>18622</td>\n",
       "      <td>44.565311</td>\n",
       "      <td>-40.304672</td>\n",
       "      <td>2016-07-20</td>\n",
       "    </tr>\n",
       "    <tr>\n",
       "      <th>1</th>\n",
       "      <td>Achernar</td>\n",
       "      <td>HR 472</td>\n",
       "      <td>alf</td>\n",
       "      <td>Eri</td>\n",
       "      <td>A</td>\n",
       "      <td>-</td>\n",
       "      <td>0.45</td>\n",
       "      <td>7588</td>\n",
       "      <td>10144</td>\n",
       "      <td>24.428523</td>\n",
       "      <td>-57.236753</td>\n",
       "      <td>2016-06-30</td>\n",
       "    </tr>\n",
       "    <tr>\n",
       "      <th>2</th>\n",
       "      <td>Achird</td>\n",
       "      <td>HR 219</td>\n",
       "      <td>eta</td>\n",
       "      <td>Cas</td>\n",
       "      <td>A</td>\n",
       "      <td>00491+5749</td>\n",
       "      <td>3.46</td>\n",
       "      <td>3821</td>\n",
       "      <td>4614</td>\n",
       "      <td>12.276213</td>\n",
       "      <td>57.815187</td>\n",
       "      <td>2017-09-05</td>\n",
       "    </tr>\n",
       "    <tr>\n",
       "      <th>3</th>\n",
       "      <td>Acrab</td>\n",
       "      <td>HR 5984</td>\n",
       "      <td>bet</td>\n",
       "      <td>Sco</td>\n",
       "      <td>Aa</td>\n",
       "      <td>16054-1948</td>\n",
       "      <td>2.56</td>\n",
       "      <td>78820</td>\n",
       "      <td>144217</td>\n",
       "      <td>241.359300</td>\n",
       "      <td>-19.805453</td>\n",
       "      <td>2016-08-21</td>\n",
       "    </tr>\n",
       "    <tr>\n",
       "      <th>4</th>\n",
       "      <td>Acrux</td>\n",
       "      <td>HR 4730</td>\n",
       "      <td>alf</td>\n",
       "      <td>Cru</td>\n",
       "      <td>Aa</td>\n",
       "      <td>12266-6306</td>\n",
       "      <td>1.33</td>\n",
       "      <td>60718</td>\n",
       "      <td>108248</td>\n",
       "      <td>186.649563</td>\n",
       "      <td>-63.099093</td>\n",
       "      <td>2016-07-20</td>\n",
       "    </tr>\n",
       "    <tr>\n",
       "      <th>...</th>\n",
       "      <td>...</td>\n",
       "      <td>...</td>\n",
       "      <td>...</td>\n",
       "      <td>...</td>\n",
       "      <td>...</td>\n",
       "      <td>...</td>\n",
       "      <td>...</td>\n",
       "      <td>...</td>\n",
       "      <td>...</td>\n",
       "      <td>...</td>\n",
       "      <td>...</td>\n",
       "      <td>...</td>\n",
       "    </tr>\n",
       "    <tr>\n",
       "      <th>325</th>\n",
       "      <td>Zibal</td>\n",
       "      <td>HR 984</td>\n",
       "      <td>zet</td>\n",
       "      <td>Eri</td>\n",
       "      <td>Aa</td>\n",
       "      <td>03158-0849</td>\n",
       "      <td>4.80</td>\n",
       "      <td>15197</td>\n",
       "      <td>20320</td>\n",
       "      <td>48.958436</td>\n",
       "      <td>-8.819731</td>\n",
       "      <td>2016-09-12</td>\n",
       "    </tr>\n",
       "    <tr>\n",
       "      <th>326</th>\n",
       "      <td>Zosma</td>\n",
       "      <td>HR 4357</td>\n",
       "      <td>del</td>\n",
       "      <td>Leo</td>\n",
       "      <td>-</td>\n",
       "      <td>11141+2031</td>\n",
       "      <td>2.56</td>\n",
       "      <td>54872</td>\n",
       "      <td>97603</td>\n",
       "      <td>168.527089</td>\n",
       "      <td>20.523718</td>\n",
       "      <td>2016-07-20</td>\n",
       "    </tr>\n",
       "    <tr>\n",
       "      <th>327</th>\n",
       "      <td>Zubenelgenubi</td>\n",
       "      <td>HR 5531</td>\n",
       "      <td>alf02</td>\n",
       "      <td>Lib</td>\n",
       "      <td>Aa</td>\n",
       "      <td>14509-1603</td>\n",
       "      <td>2.75</td>\n",
       "      <td>72622</td>\n",
       "      <td>130841</td>\n",
       "      <td>222.719638</td>\n",
       "      <td>-16.041777</td>\n",
       "      <td>2016-08-21</td>\n",
       "    </tr>\n",
       "    <tr>\n",
       "      <th>328</th>\n",
       "      <td>Zubenelhakrabi</td>\n",
       "      <td>HR 5787</td>\n",
       "      <td>gam</td>\n",
       "      <td>Lib</td>\n",
       "      <td>A</td>\n",
       "      <td>15355-1447</td>\n",
       "      <td>3.91</td>\n",
       "      <td>76333</td>\n",
       "      <td>138905</td>\n",
       "      <td>233.881578</td>\n",
       "      <td>-14.789536</td>\n",
       "      <td>2017-09-05</td>\n",
       "    </tr>\n",
       "    <tr>\n",
       "      <th>329</th>\n",
       "      <td>Zubeneschamali</td>\n",
       "      <td>HR 5685</td>\n",
       "      <td>bet</td>\n",
       "      <td>Lib</td>\n",
       "      <td>-</td>\n",
       "      <td>-</td>\n",
       "      <td>2.61</td>\n",
       "      <td>74785</td>\n",
       "      <td>135742</td>\n",
       "      <td>229.251724</td>\n",
       "      <td>-9.382914</td>\n",
       "      <td>2016-08-21</td>\n",
       "    </tr>\n",
       "  </tbody>\n",
       "</table>\n",
       "<p>330 rows × 12 columns</p>\n",
       "</div>"
      ],
      "text/plain": [
       "               Name Designation     ID  Con   #       WDS_J  Vmag    HIP  \\\n",
       "0            Acamar      HR 897  tet01  Eri   A  02583-4018  2.88  13847   \n",
       "1          Achernar      HR 472    alf  Eri   A           -  0.45   7588   \n",
       "2            Achird      HR 219    eta  Cas   A  00491+5749  3.46   3821   \n",
       "3             Acrab     HR 5984    bet  Sco  Aa  16054-1948  2.56  78820   \n",
       "4             Acrux     HR 4730    alf  Cru  Aa  12266-6306  1.33  60718   \n",
       "..              ...         ...    ...  ...  ..         ...   ...    ...   \n",
       "325           Zibal      HR 984    zet  Eri  Aa  03158-0849  4.80  15197   \n",
       "326           Zosma     HR 4357    del  Leo   -  11141+2031  2.56  54872   \n",
       "327   Zubenelgenubi     HR 5531  alf02  Lib  Aa  14509-1603  2.75  72622   \n",
       "328  Zubenelhakrabi     HR 5787    gam  Lib   A  15355-1447  3.91  76333   \n",
       "329  Zubeneschamali     HR 5685    bet  Lib   -           -  2.61  74785   \n",
       "\n",
       "         HD   RA(J2000)  Dec(J2000)        Date  \n",
       "0     18622   44.565311  -40.304672  2016-07-20  \n",
       "1     10144   24.428523  -57.236753  2016-06-30  \n",
       "2      4614   12.276213   57.815187  2017-09-05  \n",
       "3    144217  241.359300  -19.805453  2016-08-21  \n",
       "4    108248  186.649563  -63.099093  2016-07-20  \n",
       "..      ...         ...         ...         ...  \n",
       "325   20320   48.958436   -8.819731  2016-09-12  \n",
       "326   97603  168.527089   20.523718  2016-07-20  \n",
       "327  130841  222.719638  -16.041777  2016-08-21  \n",
       "328  138905  233.881578  -14.789536  2017-09-05  \n",
       "329  135742  229.251724   -9.382914  2016-08-21  \n",
       "\n",
       "[330 rows x 12 columns]"
      ]
     },
     "execution_count": 67,
     "metadata": {},
     "output_type": "execute_result"
    }
   ],
   "source": [
    "df = pd.read_csv('IAU-CSN.csv', index_col=0)\n",
    "df"
   ]
  },
  {
   "cell_type": "code",
   "execution_count": 68,
   "metadata": {
    "scrolled": true
   },
   "outputs": [
    {
     "data": {
      "text/html": [
       "<div>\n",
       "<style scoped>\n",
       "    .dataframe tbody tr th:only-of-type {\n",
       "        vertical-align: middle;\n",
       "    }\n",
       "\n",
       "    .dataframe tbody tr th {\n",
       "        vertical-align: top;\n",
       "    }\n",
       "\n",
       "    .dataframe thead th {\n",
       "        text-align: right;\n",
       "    }\n",
       "</style>\n",
       "<table border=\"1\" class=\"dataframe\">\n",
       "  <thead>\n",
       "    <tr style=\"text-align: right;\">\n",
       "      <th></th>\n",
       "      <th>RA(J2000)</th>\n",
       "      <th>Dec(J2000)</th>\n",
       "    </tr>\n",
       "  </thead>\n",
       "  <tbody>\n",
       "    <tr>\n",
       "      <th>count</th>\n",
       "      <td>330.000000</td>\n",
       "      <td>330.000000</td>\n",
       "    </tr>\n",
       "    <tr>\n",
       "      <th>mean</th>\n",
       "      <td>177.576998</td>\n",
       "      <td>9.176696</td>\n",
       "    </tr>\n",
       "    <tr>\n",
       "      <th>std</th>\n",
       "      <td>101.085569</td>\n",
       "      <td>34.752993</td>\n",
       "    </tr>\n",
       "    <tr>\n",
       "      <th>min</th>\n",
       "      <td>2.096916</td>\n",
       "      <td>-88.956499</td>\n",
       "    </tr>\n",
       "    <tr>\n",
       "      <th>25%</th>\n",
       "      <td>84.536455</td>\n",
       "      <td>-16.418395</td>\n",
       "    </tr>\n",
       "    <tr>\n",
       "      <th>50%</th>\n",
       "      <td>182.979952</td>\n",
       "      <td>12.263622</td>\n",
       "    </tr>\n",
       "    <tr>\n",
       "      <th>75%</th>\n",
       "      <td>265.196038</td>\n",
       "      <td>33.818360</td>\n",
       "    </tr>\n",
       "    <tr>\n",
       "      <th>max</th>\n",
       "      <td>354.836655</td>\n",
       "      <td>89.264109</td>\n",
       "    </tr>\n",
       "  </tbody>\n",
       "</table>\n",
       "</div>"
      ],
      "text/plain": [
       "        RA(J2000)  Dec(J2000)\n",
       "count  330.000000  330.000000\n",
       "mean   177.576998    9.176696\n",
       "std    101.085569   34.752993\n",
       "min      2.096916  -88.956499\n",
       "25%     84.536455  -16.418395\n",
       "50%    182.979952   12.263622\n",
       "75%    265.196038   33.818360\n",
       "max    354.836655   89.264109"
      ]
     },
     "execution_count": 68,
     "metadata": {},
     "output_type": "execute_result"
    }
   ],
   "source": [
    "df.describe()"
   ]
  },
  {
   "cell_type": "code",
   "execution_count": 69,
   "metadata": {},
   "outputs": [
    {
     "data": {
      "text/plain": [
       "Name            object\n",
       "Designation     object\n",
       "ID              object\n",
       "Con             object\n",
       "#               object\n",
       "WDS_J           object\n",
       "Vmag            object\n",
       "HIP             object\n",
       "HD              object\n",
       "RA(J2000)      float64\n",
       "Dec(J2000)     float64\n",
       "Date            object\n",
       "dtype: object"
      ]
     },
     "execution_count": 69,
     "metadata": {},
     "output_type": "execute_result"
    }
   ],
   "source": [
    "df.dtypes"
   ]
  },
  {
   "cell_type": "code",
   "execution_count": 73,
   "metadata": {},
   "outputs": [
    {
     "data": {
      "text/html": [
       "<div>\n",
       "<style scoped>\n",
       "    .dataframe tbody tr th:only-of-type {\n",
       "        vertical-align: middle;\n",
       "    }\n",
       "\n",
       "    .dataframe tbody tr th {\n",
       "        vertical-align: top;\n",
       "    }\n",
       "\n",
       "    .dataframe thead th {\n",
       "        text-align: right;\n",
       "    }\n",
       "</style>\n",
       "<table border=\"1\" class=\"dataframe\">\n",
       "  <thead>\n",
       "    <tr style=\"text-align: right;\">\n",
       "      <th></th>\n",
       "      <th>Name</th>\n",
       "      <th>Designation</th>\n",
       "      <th>ID</th>\n",
       "      <th>Con</th>\n",
       "      <th>#</th>\n",
       "      <th>WDS_J</th>\n",
       "      <th>Vmag</th>\n",
       "      <th>HIP</th>\n",
       "      <th>HD</th>\n",
       "      <th>RA(J2000)</th>\n",
       "      <th>Dec(J2000)</th>\n",
       "      <th>Date</th>\n",
       "    </tr>\n",
       "  </thead>\n",
       "  <tbody>\n",
       "    <tr>\n",
       "      <th>0</th>\n",
       "      <td>Acamar</td>\n",
       "      <td>HR 897</td>\n",
       "      <td>tet01</td>\n",
       "      <td>Eri</td>\n",
       "      <td>A</td>\n",
       "      <td>02583-4018</td>\n",
       "      <td>2.88</td>\n",
       "      <td>13847</td>\n",
       "      <td>18622</td>\n",
       "      <td>44.565311</td>\n",
       "      <td>-40.304672</td>\n",
       "      <td>2016-07-20</td>\n",
       "    </tr>\n",
       "    <tr>\n",
       "      <th>1</th>\n",
       "      <td>Achernar</td>\n",
       "      <td>HR 472</td>\n",
       "      <td>alf</td>\n",
       "      <td>Eri</td>\n",
       "      <td>A</td>\n",
       "      <td>-</td>\n",
       "      <td>0.45</td>\n",
       "      <td>7588</td>\n",
       "      <td>10144</td>\n",
       "      <td>24.428523</td>\n",
       "      <td>-57.236753</td>\n",
       "      <td>2016-06-30</td>\n",
       "    </tr>\n",
       "    <tr>\n",
       "      <th>2</th>\n",
       "      <td>Achird</td>\n",
       "      <td>HR 219</td>\n",
       "      <td>eta</td>\n",
       "      <td>Cas</td>\n",
       "      <td>A</td>\n",
       "      <td>00491+5749</td>\n",
       "      <td>3.46</td>\n",
       "      <td>3821</td>\n",
       "      <td>4614</td>\n",
       "      <td>12.276213</td>\n",
       "      <td>57.815187</td>\n",
       "      <td>2017-09-05</td>\n",
       "    </tr>\n",
       "    <tr>\n",
       "      <th>3</th>\n",
       "      <td>Acrab</td>\n",
       "      <td>HR 5984</td>\n",
       "      <td>bet</td>\n",
       "      <td>Sco</td>\n",
       "      <td>Aa</td>\n",
       "      <td>16054-1948</td>\n",
       "      <td>2.56</td>\n",
       "      <td>78820</td>\n",
       "      <td>144217</td>\n",
       "      <td>241.359300</td>\n",
       "      <td>-19.805453</td>\n",
       "      <td>2016-08-21</td>\n",
       "    </tr>\n",
       "    <tr>\n",
       "      <th>4</th>\n",
       "      <td>Acrux</td>\n",
       "      <td>HR 4730</td>\n",
       "      <td>alf</td>\n",
       "      <td>Cru</td>\n",
       "      <td>Aa</td>\n",
       "      <td>12266-6306</td>\n",
       "      <td>1.33</td>\n",
       "      <td>60718</td>\n",
       "      <td>108248</td>\n",
       "      <td>186.649563</td>\n",
       "      <td>-63.099093</td>\n",
       "      <td>2016-07-20</td>\n",
       "    </tr>\n",
       "    <tr>\n",
       "      <th>5</th>\n",
       "      <td>Acubens</td>\n",
       "      <td>HR 3572</td>\n",
       "      <td>alf</td>\n",
       "      <td>Cnc</td>\n",
       "      <td>Aa</td>\n",
       "      <td>08585+1151</td>\n",
       "      <td>4.26</td>\n",
       "      <td>44066</td>\n",
       "      <td>76756</td>\n",
       "      <td>134.621761</td>\n",
       "      <td>11.857700</td>\n",
       "      <td>2016-07-20</td>\n",
       "    </tr>\n",
       "    <tr>\n",
       "      <th>6</th>\n",
       "      <td>Adhafera</td>\n",
       "      <td>HR 4031</td>\n",
       "      <td>zet</td>\n",
       "      <td>Leo</td>\n",
       "      <td>Aa</td>\n",
       "      <td>10167+2325</td>\n",
       "      <td>3.43</td>\n",
       "      <td>50335</td>\n",
       "      <td>89025</td>\n",
       "      <td>154.172567</td>\n",
       "      <td>23.417312</td>\n",
       "      <td>2016-07-20</td>\n",
       "    </tr>\n",
       "    <tr>\n",
       "      <th>7</th>\n",
       "      <td>Adhara</td>\n",
       "      <td>HR 2618</td>\n",
       "      <td>eps</td>\n",
       "      <td>CMa</td>\n",
       "      <td>A</td>\n",
       "      <td>06586-2858</td>\n",
       "      <td>1.50</td>\n",
       "      <td>33579</td>\n",
       "      <td>52089</td>\n",
       "      <td>104.656453</td>\n",
       "      <td>-28.972086</td>\n",
       "      <td>2016-08-21</td>\n",
       "    </tr>\n",
       "    <tr>\n",
       "      <th>8</th>\n",
       "      <td>Adhil</td>\n",
       "      <td>HR 390</td>\n",
       "      <td>ksi</td>\n",
       "      <td>And</td>\n",
       "      <td>-</td>\n",
       "      <td>-</td>\n",
       "      <td>4.87</td>\n",
       "      <td>6411</td>\n",
       "      <td>8207</td>\n",
       "      <td>20.585080</td>\n",
       "      <td>45.528778</td>\n",
       "      <td>2016-08-21</td>\n",
       "    </tr>\n",
       "    <tr>\n",
       "      <th>9</th>\n",
       "      <td>Ain</td>\n",
       "      <td>HR 1409</td>\n",
       "      <td>eps</td>\n",
       "      <td>Tau</td>\n",
       "      <td>Aa1</td>\n",
       "      <td>04286+1911</td>\n",
       "      <td>3.53</td>\n",
       "      <td>20889</td>\n",
       "      <td>28305</td>\n",
       "      <td>67.154163</td>\n",
       "      <td>19.180435</td>\n",
       "      <td>2015-12-15</td>\n",
       "    </tr>\n",
       "  </tbody>\n",
       "</table>\n",
       "</div>"
      ],
      "text/plain": [
       "       Name Designation     ID  Con    #       WDS_J  Vmag    HIP      HD  \\\n",
       "0    Acamar      HR 897  tet01  Eri    A  02583-4018  2.88  13847   18622   \n",
       "1  Achernar      HR 472    alf  Eri    A           -  0.45   7588   10144   \n",
       "2    Achird      HR 219    eta  Cas    A  00491+5749  3.46   3821    4614   \n",
       "3     Acrab     HR 5984    bet  Sco   Aa  16054-1948  2.56  78820  144217   \n",
       "4     Acrux     HR 4730    alf  Cru   Aa  12266-6306  1.33  60718  108248   \n",
       "5   Acubens     HR 3572    alf  Cnc   Aa  08585+1151  4.26  44066   76756   \n",
       "6  Adhafera     HR 4031    zet  Leo   Aa  10167+2325  3.43  50335   89025   \n",
       "7    Adhara     HR 2618    eps  CMa    A  06586-2858  1.50  33579   52089   \n",
       "8     Adhil      HR 390    ksi  And    -           -  4.87   6411    8207   \n",
       "9       Ain     HR 1409    eps  Tau  Aa1  04286+1911  3.53  20889   28305   \n",
       "\n",
       "    RA(J2000)  Dec(J2000)        Date  \n",
       "0   44.565311  -40.304672  2016-07-20  \n",
       "1   24.428523  -57.236753  2016-06-30  \n",
       "2   12.276213   57.815187  2017-09-05  \n",
       "3  241.359300  -19.805453  2016-08-21  \n",
       "4  186.649563  -63.099093  2016-07-20  \n",
       "5  134.621761   11.857700  2016-07-20  \n",
       "6  154.172567   23.417312  2016-07-20  \n",
       "7  104.656453  -28.972086  2016-08-21  \n",
       "8   20.585080   45.528778  2016-08-21  \n",
       "9   67.154163   19.180435  2015-12-15  "
      ]
     },
     "execution_count": 73,
     "metadata": {},
     "output_type": "execute_result"
    }
   ],
   "source": [
    "df[0:10]"
   ]
  },
  {
   "cell_type": "markdown",
   "metadata": {
    "slideshow": {
     "slide_type": "slide"
    }
   },
   "source": [
    "---\n",
    "## Group data"
   ]
  },
  {
   "cell_type": "markdown",
   "metadata": {},
   "source": [
    "We may group the data acording to some criteria. For example, 'Constellation':"
   ]
  },
  {
   "cell_type": "code",
   "execution_count": 74,
   "metadata": {
    "scrolled": false
   },
   "outputs": [
    {
     "data": {
      "text/plain": [
       "{'And': [8, 38, 46, 205, 220, 302, 310], 'Aql': [54, 56, 174, 225, 291], 'Aqr': [13, 64, 97, 257, 259, 260, 277, 278], 'Ara': [105], 'Ari': [93, 95, 149, 176, 198, 275], 'Aur': [37, 99, 148, 150, 178, 190, 256], 'Boo': [33, 69, 157, 195, 213, 219, 271, 317], 'CMa': [7, 59, 139, 208, 212, 276, 308, 314], 'CMi': [145, 240], 'CVn': [108, 111], 'Cam': [303], 'Cap': [24, 55, 114, 117, 218], 'Car': [77, 83, 98, 199], 'Cas': [2, 100, 102, 137, 253, 268, 270], 'Cen': [147, 192, 242, 251], 'Cep': [19, 23, 131, 171], 'Cet': [88, 120, 160, 191, 204], 'Cnc': [5, 74, 75, 110, 189, 216, 230, 292, 294], 'Col': [127, 227, 313], 'Com': [119], 'CrA': [196], 'CrB': [45, 223], 'Crt': [36], 'Cru': [4, 141, 144, 200], 'Crv': [15, 28, 143, 170], 'Cyg': [14, 31, 84, 116, 134, 261], 'Del': [22, 215, 252, 280], 'Dra': [21, 48, 50, 51, 57, 79, 123, 124, 129, 132, 142, 146, 247, 287, 298, 301], 'Equ': [167], 'Eri': [0, 1, 65, 85, 89, 90, 113, 165, 243, 266, 297, 322, 325], 'For': [115], 'Gem': [29, 63, 101, 159, 185, 188, 236, 241, 295, 312], 'Gru': [20, 39, 299], 'Her': [112, 169, 177, 183, 224, 245, 265], 'Hya': [44, 76, 135, 201, 306, 324], 'LMi': [238], 'Leo': [6, 26, 58, 109, 118, 244, 248, 281, 326], 'Lep': [72, 221], 'Lib': [96, 327, 328, 329], 'Lyn': [52], 'Lyr': [11, 274, 283, 309], 'Oct': [234], 'Oph': [87, 103, 180, 246, 255, 318, 319], 'Ori': [41, 42, 91, 92, 151, 187, 203, 250, 262, 285], 'Pav': [226], 'Peg': [25, 35, 94, 130, 152, 154, 181, 184, 258, 263, 267], 'Per': [27, 80, 193, 206, 207, 209], 'Phe': [66, 315], 'PsA': [136], 'Psc': [47, 49, 138, 249, 304], 'Pup': [86, 217, 305], 'Sco': [3, 43, 68, 121, 133, 140, 155, 158, 172, 173, 231, 264, 273, 316], 'Ser': [62, 307], 'Sge': [272], 'Sgr': [10, 12, 40, 70, 71, 73, 162, 163, 164, 222, 235, 254, 296], 'Tau': [9, 17, 18, 78, 81, 104, 107, 125, 128, 179, 197, 232, 239, 269, 293, 300], 'TrA': [82], 'Tri': [211], 'UMa': [16, 30, 32, 34, 60, 61, 106, 122, 156, 186, 194, 210, 214, 228, 286, 288, 289, 290], 'UMi': [168, 229, 233, 320], 'Vel': [53, 182, 282], 'Vir': [126, 153, 161, 166, 175, 202, 237, 279, 284, 311, 321, 323], 'Vul': [67]}"
      ]
     },
     "execution_count": 74,
     "metadata": {},
     "output_type": "execute_result"
    }
   ],
   "source": [
    "df.groupby(['Con']).groups"
   ]
  },
  {
   "cell_type": "code",
   "execution_count": 75,
   "metadata": {},
   "outputs": [
    {
     "data": {
      "text/html": [
       "<div>\n",
       "<style scoped>\n",
       "    .dataframe tbody tr th:only-of-type {\n",
       "        vertical-align: middle;\n",
       "    }\n",
       "\n",
       "    .dataframe tbody tr th {\n",
       "        vertical-align: top;\n",
       "    }\n",
       "\n",
       "    .dataframe thead th {\n",
       "        text-align: right;\n",
       "    }\n",
       "</style>\n",
       "<table border=\"1\" class=\"dataframe\">\n",
       "  <thead>\n",
       "    <tr style=\"text-align: right;\">\n",
       "      <th></th>\n",
       "      <th>Name</th>\n",
       "      <th>Designation</th>\n",
       "      <th>ID</th>\n",
       "      <th>Con</th>\n",
       "      <th>#</th>\n",
       "      <th>WDS_J</th>\n",
       "      <th>Vmag</th>\n",
       "      <th>HIP</th>\n",
       "      <th>HD</th>\n",
       "      <th>RA(J2000)</th>\n",
       "      <th>Dec(J2000)</th>\n",
       "      <th>Date</th>\n",
       "    </tr>\n",
       "  </thead>\n",
       "  <tbody>\n",
       "    <tr>\n",
       "      <th>38</th>\n",
       "      <td>Almach</td>\n",
       "      <td>HR 603</td>\n",
       "      <td>gam</td>\n",
       "      <td>And</td>\n",
       "      <td>A</td>\n",
       "      <td>02039+4220</td>\n",
       "      <td>2.10</td>\n",
       "      <td>9640</td>\n",
       "      <td>12533</td>\n",
       "      <td>30.974804</td>\n",
       "      <td>42.329725</td>\n",
       "      <td>2016-07-20</td>\n",
       "    </tr>\n",
       "  </tbody>\n",
       "</table>\n",
       "</div>"
      ],
      "text/plain": [
       "      Name Designation   ID  Con  #       WDS_J  Vmag   HIP     HD  RA(J2000)  \\\n",
       "38  Almach      HR 603  gam  And  A  02039+4220  2.10  9640  12533  30.974804   \n",
       "\n",
       "    Dec(J2000)        Date  \n",
       "38   42.329725  2016-07-20  "
      ]
     },
     "execution_count": 75,
     "metadata": {},
     "output_type": "execute_result"
    }
   ],
   "source": [
    "df[38:39]"
   ]
  },
  {
   "cell_type": "markdown",
   "metadata": {},
   "source": [
    "If we want to get some specific group:"
   ]
  },
  {
   "cell_type": "code",
   "execution_count": 76,
   "metadata": {
    "scrolled": true
   },
   "outputs": [
    {
     "data": {
      "text/html": [
       "<div>\n",
       "<style scoped>\n",
       "    .dataframe tbody tr th:only-of-type {\n",
       "        vertical-align: middle;\n",
       "    }\n",
       "\n",
       "    .dataframe tbody tr th {\n",
       "        vertical-align: top;\n",
       "    }\n",
       "\n",
       "    .dataframe thead th {\n",
       "        text-align: right;\n",
       "    }\n",
       "</style>\n",
       "<table border=\"1\" class=\"dataframe\">\n",
       "  <thead>\n",
       "    <tr style=\"text-align: right;\">\n",
       "      <th></th>\n",
       "      <th>Name</th>\n",
       "      <th>Designation</th>\n",
       "      <th>ID</th>\n",
       "      <th>Con</th>\n",
       "      <th>#</th>\n",
       "      <th>WDS_J</th>\n",
       "      <th>Vmag</th>\n",
       "      <th>HIP</th>\n",
       "      <th>HD</th>\n",
       "      <th>RA(J2000)</th>\n",
       "      <th>Dec(J2000)</th>\n",
       "      <th>Date</th>\n",
       "    </tr>\n",
       "  </thead>\n",
       "  <tbody>\n",
       "    <tr>\n",
       "      <th>14</th>\n",
       "      <td>Albireo</td>\n",
       "      <td>HR 7417</td>\n",
       "      <td>bet</td>\n",
       "      <td>Cyg</td>\n",
       "      <td>Aa</td>\n",
       "      <td>19307+2758</td>\n",
       "      <td>3.37</td>\n",
       "      <td>95947</td>\n",
       "      <td>183912</td>\n",
       "      <td>292.680351</td>\n",
       "      <td>27.959692</td>\n",
       "      <td>2016-07-20</td>\n",
       "    </tr>\n",
       "    <tr>\n",
       "      <th>31</th>\n",
       "      <td>Aljanah</td>\n",
       "      <td>HR 7949</td>\n",
       "      <td>eps</td>\n",
       "      <td>Cyg</td>\n",
       "      <td>Aa</td>\n",
       "      <td>20462+3358</td>\n",
       "      <td>2.48</td>\n",
       "      <td>102488</td>\n",
       "      <td>197989</td>\n",
       "      <td>311.552843</td>\n",
       "      <td>33.970257</td>\n",
       "      <td>2017-06-30</td>\n",
       "    </tr>\n",
       "    <tr>\n",
       "      <th>84</th>\n",
       "      <td>Azelfafage</td>\n",
       "      <td>HR 8301</td>\n",
       "      <td>pi01</td>\n",
       "      <td>Cyg</td>\n",
       "      <td>-</td>\n",
       "      <td>-</td>\n",
       "      <td>4.69</td>\n",
       "      <td>107136</td>\n",
       "      <td>206672</td>\n",
       "      <td>325.523602</td>\n",
       "      <td>51.189623</td>\n",
       "      <td>2016-09-12</td>\n",
       "    </tr>\n",
       "    <tr>\n",
       "      <th>116</th>\n",
       "      <td>Deneb</td>\n",
       "      <td>HR 7924</td>\n",
       "      <td>alf</td>\n",
       "      <td>Cyg</td>\n",
       "      <td>-</td>\n",
       "      <td>20414+4517</td>\n",
       "      <td>1.25</td>\n",
       "      <td>102098</td>\n",
       "      <td>197345</td>\n",
       "      <td>310.357980</td>\n",
       "      <td>45.280339</td>\n",
       "      <td>2016-06-30</td>\n",
       "    </tr>\n",
       "    <tr>\n",
       "      <th>134</th>\n",
       "      <td>Fawaris</td>\n",
       "      <td>HR 7528</td>\n",
       "      <td>del</td>\n",
       "      <td>Cyg</td>\n",
       "      <td>A</td>\n",
       "      <td>19450+4508</td>\n",
       "      <td>2.90</td>\n",
       "      <td>97165</td>\n",
       "      <td>186882</td>\n",
       "      <td>296.243658</td>\n",
       "      <td>45.130810</td>\n",
       "      <td>2018-06-01</td>\n",
       "    </tr>\n",
       "    <tr>\n",
       "      <th>261</th>\n",
       "      <td>Sadr</td>\n",
       "      <td>HR 7796</td>\n",
       "      <td>gam</td>\n",
       "      <td>Cyg</td>\n",
       "      <td>A</td>\n",
       "      <td>20222+4015</td>\n",
       "      <td>2.23</td>\n",
       "      <td>100453</td>\n",
       "      <td>194093</td>\n",
       "      <td>305.557091</td>\n",
       "      <td>40.256679</td>\n",
       "      <td>2016-08-21</td>\n",
       "    </tr>\n",
       "  </tbody>\n",
       "</table>\n",
       "</div>"
      ],
      "text/plain": [
       "           Name Designation    ID  Con   #       WDS_J  Vmag     HIP      HD  \\\n",
       "14      Albireo     HR 7417   bet  Cyg  Aa  19307+2758  3.37   95947  183912   \n",
       "31      Aljanah     HR 7949   eps  Cyg  Aa  20462+3358  2.48  102488  197989   \n",
       "84   Azelfafage     HR 8301  pi01  Cyg   -           -  4.69  107136  206672   \n",
       "116       Deneb     HR 7924   alf  Cyg   -  20414+4517  1.25  102098  197345   \n",
       "134     Fawaris     HR 7528   del  Cyg   A  19450+4508  2.90   97165  186882   \n",
       "261        Sadr     HR 7796   gam  Cyg   A  20222+4015  2.23  100453  194093   \n",
       "\n",
       "      RA(J2000)  Dec(J2000)        Date  \n",
       "14   292.680351   27.959692  2016-07-20  \n",
       "31   311.552843   33.970257  2017-06-30  \n",
       "84   325.523602   51.189623  2016-09-12  \n",
       "116  310.357980   45.280339  2016-06-30  \n",
       "134  296.243658   45.130810  2018-06-01  \n",
       "261  305.557091   40.256679  2016-08-21  "
      ]
     },
     "execution_count": 76,
     "metadata": {},
     "output_type": "execute_result"
    }
   ],
   "source": [
    "Cyg_df = df.groupby(['Con']).get_group('Cyg')\n",
    "Cyg_df"
   ]
  },
  {
   "cell_type": "markdown",
   "metadata": {},
   "source": [
    "Now, we will group the data according to the 'Vmag' feature"
   ]
  },
  {
   "cell_type": "code",
   "execution_count": 77,
   "metadata": {},
   "outputs": [
    {
     "data": {
      "text/plain": [
       "{'-': [175], '-0.01': [251], '-0.05': [69], '-0.62': [98], '-1.45': [276], '0.03': [309], '0.08': [99], '0.18': [250], '0.40': [240], '0.45': [1, 92], '0.61': [147], '0.76': [56], '0.87': [18], '0.98': [279], '1.06': [68], '1.16': [236], '1.17': [136], '1.25': [116, 200], '1.33': [4], '1.36': [248], '1.50': [7], '1.59': [141], '1.64': [91], '1.65': [128], '1.67': [199], '1.69': [41], '1.73': [39], '1.74': [42], '1.76': [30], '1.79': [162, 207], '1.81': [122], '1.83': [314], '1.85': [32], '1.86': [83, 264], '1.90': [190], '1.91': [82], '1.93': [29], '1.94': [226], '1.98': [101, 208], '1.99': [44, 53], '11.01': [242], '2.01': [149], '2.04': [120], '2.05': [222], '2.06': [192], '2.07': [46, 168, 205, 262], '2.08': [246, 273], '2.09': [27], '2.10': [38], '2.12': [299], '2.13': [233], '2.14': [118], '2.21': [77, 217], '2.22': [45], '2.23': [210, 261, 282], '2.24': [129, 268], '2.25': [203], '2.28': [100], '2.29': [121, 172], '2.34': [194], '2.35': [157], '2.38': [130], '2.40': [66], '2.41': [228], '2.43': [255], '2.44': [267], '2.45': [19, 59], '2.47': [182], '2.48': [31], '2.49': [181], '2.54': [191], '2.56': [3, 326], '2.58': [72, 143], '2.60': [73], '2.61': [26, 329], '2.63': [307], '2.65': [170, 178, 227], '2.66': [253], '2.68': [213], '2.69': [150], '2.70': [173, 275], '2.72': [164, 291], '2.73': [79, 319], '2.75': [327], '2.76': [103], '2.78': [113, 169], '2.79': [247], '2.80': [151], '2.82': [163], '2.83': [25, 221, 305], '2.85': [17, 117, 311], '2.87': [295], '2.88': [0, 12], '2.89': [111, 133, 145], '2.90': [43, 134, 260], '2.93': [184], '2.94': [28], '2.95': [259], '2.97': [300, 322], '2.98': [40], ...}"
      ]
     },
     "execution_count": 77,
     "metadata": {},
     "output_type": "execute_result"
    }
   ],
   "source": [
    "df.groupby(['Vmag']).groups"
   ]
  },
  {
   "cell_type": "markdown",
   "metadata": {},
   "source": [
    "Note that there is one sample with a non-numerical value: item \\[175\\] has 'Vmag' = '-'."
   ]
  },
  {
   "cell_type": "code",
   "execution_count": 78,
   "metadata": {},
   "outputs": [
    {
     "data": {
      "text/html": [
       "<div>\n",
       "<style scoped>\n",
       "    .dataframe tbody tr th:only-of-type {\n",
       "        vertical-align: middle;\n",
       "    }\n",
       "\n",
       "    .dataframe tbody tr th {\n",
       "        vertical-align: top;\n",
       "    }\n",
       "\n",
       "    .dataframe thead th {\n",
       "        text-align: right;\n",
       "    }\n",
       "</style>\n",
       "<table border=\"1\" class=\"dataframe\">\n",
       "  <thead>\n",
       "    <tr style=\"text-align: right;\">\n",
       "      <th></th>\n",
       "      <th>Name</th>\n",
       "      <th>Designation</th>\n",
       "      <th>ID</th>\n",
       "      <th>Con</th>\n",
       "      <th>#</th>\n",
       "      <th>WDS_J</th>\n",
       "      <th>Vmag</th>\n",
       "      <th>HIP</th>\n",
       "      <th>HD</th>\n",
       "      <th>RA(J2000)</th>\n",
       "      <th>Dec(J2000)</th>\n",
       "      <th>Date</th>\n",
       "    </tr>\n",
       "  </thead>\n",
       "  <tbody>\n",
       "    <tr>\n",
       "      <th>175</th>\n",
       "      <td>Lich</td>\n",
       "      <td>PSR B1257+12</td>\n",
       "      <td>-</td>\n",
       "      <td>Vir</td>\n",
       "      <td>-</td>\n",
       "      <td>-</td>\n",
       "      <td>-</td>\n",
       "      <td>-</td>\n",
       "      <td>-</td>\n",
       "      <td>195.012701</td>\n",
       "      <td>12.682417</td>\n",
       "      <td>2015-12-15</td>\n",
       "    </tr>\n",
       "  </tbody>\n",
       "</table>\n",
       "</div>"
      ],
      "text/plain": [
       "     Name   Designation ID  Con  # WDS_J Vmag HIP HD   RA(J2000)  Dec(J2000)  \\\n",
       "175  Lich  PSR B1257+12  -  Vir  -     -    -   -  -  195.012701   12.682417   \n",
       "\n",
       "           Date  \n",
       "175  2015-12-15  "
      ]
     },
     "execution_count": 78,
     "metadata": {},
     "output_type": "execute_result"
    }
   ],
   "source": [
    "df.groupby(['Vmag']).get_group('-')"
   ]
  },
  {
   "cell_type": "code",
   "execution_count": 79,
   "metadata": {
    "slideshow": {
     "slide_type": "subslide"
    }
   },
   "outputs": [
    {
     "data": {
      "text/html": [
       "<div>\n",
       "<style scoped>\n",
       "    .dataframe tbody tr th:only-of-type {\n",
       "        vertical-align: middle;\n",
       "    }\n",
       "\n",
       "    .dataframe tbody tr th {\n",
       "        vertical-align: top;\n",
       "    }\n",
       "\n",
       "    .dataframe thead th {\n",
       "        text-align: right;\n",
       "    }\n",
       "</style>\n",
       "<table border=\"1\" class=\"dataframe\">\n",
       "  <thead>\n",
       "    <tr style=\"text-align: right;\">\n",
       "      <th></th>\n",
       "      <th>Name</th>\n",
       "      <th>Designation</th>\n",
       "      <th>ID</th>\n",
       "      <th>Con</th>\n",
       "      <th>#</th>\n",
       "      <th>WDS_J</th>\n",
       "      <th>Vmag</th>\n",
       "      <th>HIP</th>\n",
       "      <th>HD</th>\n",
       "      <th>RA(J2000)</th>\n",
       "      <th>Dec(J2000)</th>\n",
       "      <th>Date</th>\n",
       "    </tr>\n",
       "  </thead>\n",
       "  <tbody>\n",
       "    <tr>\n",
       "      <th>116</th>\n",
       "      <td>Deneb</td>\n",
       "      <td>HR 7924</td>\n",
       "      <td>alf</td>\n",
       "      <td>Cyg</td>\n",
       "      <td>-</td>\n",
       "      <td>20414+4517</td>\n",
       "      <td>1.25</td>\n",
       "      <td>102098</td>\n",
       "      <td>197345</td>\n",
       "      <td>310.357980</td>\n",
       "      <td>45.280339</td>\n",
       "      <td>2016-06-30</td>\n",
       "    </tr>\n",
       "    <tr>\n",
       "      <th>200</th>\n",
       "      <td>Mimosa</td>\n",
       "      <td>HR 4853</td>\n",
       "      <td>bet</td>\n",
       "      <td>Cru</td>\n",
       "      <td>-</td>\n",
       "      <td>12477-5941</td>\n",
       "      <td>1.25</td>\n",
       "      <td>62434</td>\n",
       "      <td>111123</td>\n",
       "      <td>191.930263</td>\n",
       "      <td>-59.688764</td>\n",
       "      <td>2016-07-20</td>\n",
       "    </tr>\n",
       "  </tbody>\n",
       "</table>\n",
       "</div>"
      ],
      "text/plain": [
       "       Name Designation   ID  Con  #       WDS_J  Vmag     HIP      HD  \\\n",
       "116   Deneb     HR 7924  alf  Cyg  -  20414+4517  1.25  102098  197345   \n",
       "200  Mimosa     HR 4853  bet  Cru  -  12477-5941  1.25   62434  111123   \n",
       "\n",
       "      RA(J2000)  Dec(J2000)        Date  \n",
       "116  310.357980   45.280339  2016-06-30  \n",
       "200  191.930263  -59.688764  2016-07-20  "
      ]
     },
     "execution_count": 79,
     "metadata": {},
     "output_type": "execute_result"
    }
   ],
   "source": [
    "df.groupby(['Vmag']).get_group('1.25')"
   ]
  },
  {
   "cell_type": "markdown",
   "metadata": {},
   "source": [
    "---\n",
    "## Types of data in the dataframe\n",
    "\n",
    "The data type of each column is obtained by"
   ]
  },
  {
   "cell_type": "code",
   "execution_count": 80,
   "metadata": {
    "scrolled": false
   },
   "outputs": [
    {
     "data": {
      "text/plain": [
       "Name            object\n",
       "Designation     object\n",
       "ID              object\n",
       "Con             object\n",
       "#               object\n",
       "WDS_J           object\n",
       "Vmag            object\n",
       "HIP             object\n",
       "HD              object\n",
       "RA(J2000)      float64\n",
       "Dec(J2000)     float64\n",
       "Date            object\n",
       "dtype: object"
      ]
     },
     "execution_count": 80,
     "metadata": {},
     "output_type": "execute_result"
    }
   ],
   "source": [
    "df.dtypes"
   ]
  },
  {
   "cell_type": "markdown",
   "metadata": {},
   "source": [
    "Note that RA and Dec are the only columns with numerical values. The other columns are identified as 'object'. \n",
    "\n",
    "If we want to transform the data type of column 'Vmag' we need to get rid of the row \\[175\\] which has a non-numerical value. hence, we use the `.drop()` method."
   ]
  },
  {
   "cell_type": "code",
   "execution_count": null,
   "metadata": {},
   "outputs": [],
   "source": [
    "#df['Vmag'] = df['Vmag'].astype(float)"
   ]
  },
  {
   "cell_type": "code",
   "execution_count": 81,
   "metadata": {},
   "outputs": [],
   "source": [
    "df = df.drop(175, axis=0)"
   ]
  },
  {
   "cell_type": "code",
   "execution_count": 82,
   "metadata": {},
   "outputs": [
    {
     "data": {
      "text/html": [
       "<div>\n",
       "<style scoped>\n",
       "    .dataframe tbody tr th:only-of-type {\n",
       "        vertical-align: middle;\n",
       "    }\n",
       "\n",
       "    .dataframe tbody tr th {\n",
       "        vertical-align: top;\n",
       "    }\n",
       "\n",
       "    .dataframe thead th {\n",
       "        text-align: right;\n",
       "    }\n",
       "</style>\n",
       "<table border=\"1\" class=\"dataframe\">\n",
       "  <thead>\n",
       "    <tr style=\"text-align: right;\">\n",
       "      <th></th>\n",
       "      <th>Name</th>\n",
       "      <th>Designation</th>\n",
       "      <th>ID</th>\n",
       "      <th>Con</th>\n",
       "      <th>#</th>\n",
       "      <th>WDS_J</th>\n",
       "      <th>Vmag</th>\n",
       "      <th>HIP</th>\n",
       "      <th>HD</th>\n",
       "      <th>RA(J2000)</th>\n",
       "      <th>Dec(J2000)</th>\n",
       "      <th>Date</th>\n",
       "    </tr>\n",
       "  </thead>\n",
       "  <tbody>\n",
       "    <tr>\n",
       "      <th>170</th>\n",
       "      <td>Kraz</td>\n",
       "      <td>HR 4786</td>\n",
       "      <td>bet</td>\n",
       "      <td>Crv</td>\n",
       "      <td>-</td>\n",
       "      <td>-</td>\n",
       "      <td>2.65</td>\n",
       "      <td>61359</td>\n",
       "      <td>109379</td>\n",
       "      <td>188.596810</td>\n",
       "      <td>-23.396759</td>\n",
       "      <td>2018-06-01</td>\n",
       "    </tr>\n",
       "    <tr>\n",
       "      <th>171</th>\n",
       "      <td>Kurhah</td>\n",
       "      <td>HR 8417</td>\n",
       "      <td>ksi</td>\n",
       "      <td>Cep</td>\n",
       "      <td>Aa</td>\n",
       "      <td>22038+6438</td>\n",
       "      <td>4.26</td>\n",
       "      <td>108917</td>\n",
       "      <td>209790</td>\n",
       "      <td>330.947724</td>\n",
       "      <td>64.627971</td>\n",
       "      <td>2016-09-12</td>\n",
       "    </tr>\n",
       "    <tr>\n",
       "      <th>172</th>\n",
       "      <td>Larawag</td>\n",
       "      <td>HR 6241</td>\n",
       "      <td>eps</td>\n",
       "      <td>Sco</td>\n",
       "      <td>-</td>\n",
       "      <td>-</td>\n",
       "      <td>2.29</td>\n",
       "      <td>82396</td>\n",
       "      <td>151680</td>\n",
       "      <td>252.540878</td>\n",
       "      <td>-34.293232</td>\n",
       "      <td>2017-11-17</td>\n",
       "    </tr>\n",
       "    <tr>\n",
       "      <th>173</th>\n",
       "      <td>Lesath</td>\n",
       "      <td>HR 6508</td>\n",
       "      <td>ups</td>\n",
       "      <td>Sco</td>\n",
       "      <td>-</td>\n",
       "      <td>-</td>\n",
       "      <td>2.70</td>\n",
       "      <td>85696</td>\n",
       "      <td>158408</td>\n",
       "      <td>262.690979</td>\n",
       "      <td>-37.295813</td>\n",
       "      <td>2016-08-21</td>\n",
       "    </tr>\n",
       "    <tr>\n",
       "      <th>174</th>\n",
       "      <td>Libertas</td>\n",
       "      <td>HR 7595</td>\n",
       "      <td>ksi</td>\n",
       "      <td>Aql</td>\n",
       "      <td>A</td>\n",
       "      <td>19542+0828</td>\n",
       "      <td>4.71</td>\n",
       "      <td>97938</td>\n",
       "      <td>188310</td>\n",
       "      <td>298.562008</td>\n",
       "      <td>8.461453</td>\n",
       "      <td>2015-12-15</td>\n",
       "    </tr>\n",
       "    <tr>\n",
       "      <th>176</th>\n",
       "      <td>Lilii Borea</td>\n",
       "      <td>HR 824</td>\n",
       "      <td>39</td>\n",
       "      <td>Ari</td>\n",
       "      <td>-</td>\n",
       "      <td>-</td>\n",
       "      <td>4.52</td>\n",
       "      <td>13061</td>\n",
       "      <td>17361</td>\n",
       "      <td>41.977256</td>\n",
       "      <td>29.247115</td>\n",
       "      <td>2017-09-05</td>\n",
       "    </tr>\n",
       "    <tr>\n",
       "      <th>177</th>\n",
       "      <td>Maasym</td>\n",
       "      <td>HR 6526</td>\n",
       "      <td>lam</td>\n",
       "      <td>Her</td>\n",
       "      <td>-</td>\n",
       "      <td>-</td>\n",
       "      <td>4.41</td>\n",
       "      <td>85693</td>\n",
       "      <td>158899</td>\n",
       "      <td>262.684626</td>\n",
       "      <td>26.110645</td>\n",
       "      <td>2016-09-12</td>\n",
       "    </tr>\n",
       "    <tr>\n",
       "      <th>178</th>\n",
       "      <td>Mahasim</td>\n",
       "      <td>HR 2095</td>\n",
       "      <td>tet</td>\n",
       "      <td>Aur</td>\n",
       "      <td>A</td>\n",
       "      <td>05597+3713</td>\n",
       "      <td>2.65</td>\n",
       "      <td>28380</td>\n",
       "      <td>40312</td>\n",
       "      <td>89.930292</td>\n",
       "      <td>37.212585</td>\n",
       "      <td>2017-06-30</td>\n",
       "    </tr>\n",
       "    <tr>\n",
       "      <th>179</th>\n",
       "      <td>Maia</td>\n",
       "      <td>HR 1149</td>\n",
       "      <td>20</td>\n",
       "      <td>Tau</td>\n",
       "      <td>-</td>\n",
       "      <td>03458+2422</td>\n",
       "      <td>3.87</td>\n",
       "      <td>17573</td>\n",
       "      <td>23408</td>\n",
       "      <td>56.456695</td>\n",
       "      <td>24.367751</td>\n",
       "      <td>2016-07-20</td>\n",
       "    </tr>\n",
       "    <tr>\n",
       "      <th>180</th>\n",
       "      <td>Marfik</td>\n",
       "      <td>HR 6149</td>\n",
       "      <td>lam</td>\n",
       "      <td>Oph</td>\n",
       "      <td>A</td>\n",
       "      <td>16309+0159</td>\n",
       "      <td>3.82</td>\n",
       "      <td>80883</td>\n",
       "      <td>148857</td>\n",
       "      <td>247.728453</td>\n",
       "      <td>1.983888</td>\n",
       "      <td>2016-09-12</td>\n",
       "    </tr>\n",
       "  </tbody>\n",
       "</table>\n",
       "</div>"
      ],
      "text/plain": [
       "            Name Designation   ID  Con   #       WDS_J  Vmag     HIP      HD  \\\n",
       "170         Kraz     HR 4786  bet  Crv   -           -  2.65   61359  109379   \n",
       "171       Kurhah     HR 8417  ksi  Cep  Aa  22038+6438  4.26  108917  209790   \n",
       "172      Larawag     HR 6241  eps  Sco   -           -  2.29   82396  151680   \n",
       "173       Lesath     HR 6508  ups  Sco   -           -  2.70   85696  158408   \n",
       "174     Libertas     HR 7595  ksi  Aql   A  19542+0828  4.71   97938  188310   \n",
       "176  Lilii Borea      HR 824   39  Ari   -           -  4.52   13061   17361   \n",
       "177       Maasym     HR 6526  lam  Her   -           -  4.41   85693  158899   \n",
       "178      Mahasim     HR 2095  tet  Aur   A  05597+3713  2.65   28380   40312   \n",
       "179         Maia     HR 1149   20  Tau   -  03458+2422  3.87   17573   23408   \n",
       "180       Marfik     HR 6149  lam  Oph   A  16309+0159  3.82   80883  148857   \n",
       "\n",
       "      RA(J2000)  Dec(J2000)        Date  \n",
       "170  188.596810  -23.396759  2018-06-01  \n",
       "171  330.947724   64.627971  2016-09-12  \n",
       "172  252.540878  -34.293232  2017-11-17  \n",
       "173  262.690979  -37.295813  2016-08-21  \n",
       "174  298.562008    8.461453  2015-12-15  \n",
       "176   41.977256   29.247115  2017-09-05  \n",
       "177  262.684626   26.110645  2016-09-12  \n",
       "178   89.930292   37.212585  2017-06-30  \n",
       "179   56.456695   24.367751  2016-07-20  \n",
       "180  247.728453    1.983888  2016-09-12  "
      ]
     },
     "execution_count": 82,
     "metadata": {},
     "output_type": "execute_result"
    }
   ],
   "source": [
    "df[170:180]"
   ]
  },
  {
   "cell_type": "code",
   "execution_count": 83,
   "metadata": {},
   "outputs": [
    {
     "data": {
      "text/plain": [
       "Name            object\n",
       "Designation     object\n",
       "ID              object\n",
       "Con             object\n",
       "#               object\n",
       "WDS_J           object\n",
       "Vmag            object\n",
       "HIP             object\n",
       "HD              object\n",
       "RA(J2000)      float64\n",
       "Dec(J2000)     float64\n",
       "Date            object\n",
       "dtype: object"
      ]
     },
     "execution_count": 83,
     "metadata": {},
     "output_type": "execute_result"
    }
   ],
   "source": [
    "df.dtypes"
   ]
  },
  {
   "cell_type": "markdown",
   "metadata": {},
   "source": [
    "and now we transform the dtype of the 'Vmag' column to float:"
   ]
  },
  {
   "cell_type": "code",
   "execution_count": 84,
   "metadata": {},
   "outputs": [],
   "source": [
    "df['Vmag'] = df['Vmag'].astype(float)"
   ]
  },
  {
   "cell_type": "markdown",
   "metadata": {},
   "source": [
    "Note that the data type has indeed changed:"
   ]
  },
  {
   "cell_type": "code",
   "execution_count": 85,
   "metadata": {
    "scrolled": true
   },
   "outputs": [
    {
     "data": {
      "text/plain": [
       "Name            object\n",
       "Designation     object\n",
       "ID              object\n",
       "Con             object\n",
       "#               object\n",
       "WDS_J           object\n",
       "Vmag           float64\n",
       "HIP             object\n",
       "HD              object\n",
       "RA(J2000)      float64\n",
       "Dec(J2000)     float64\n",
       "Date            object\n",
       "dtype: object"
      ]
     },
     "execution_count": 85,
     "metadata": {},
     "output_type": "execute_result"
    }
   ],
   "source": [
    "df.dtypes"
   ]
  },
  {
   "cell_type": "markdown",
   "metadata": {},
   "source": [
    "A simplified way to acomplish the same result is using the `.to_numeric()` method, getting rid of errors using the option 'coerce'."
   ]
  },
  {
   "cell_type": "code",
   "execution_count": 89,
   "metadata": {
    "scrolled": true
   },
   "outputs": [
    {
     "data": {
      "text/plain": [
       "Name            object\n",
       "Designation     object\n",
       "ID              object\n",
       "Con             object\n",
       "#               object\n",
       "WDS_J           object\n",
       "Vmag           float64\n",
       "HIP             object\n",
       "HD              object\n",
       "RA(J2000)      float64\n",
       "Dec(J2000)     float64\n",
       "Date            object\n",
       "dtype: object"
      ]
     },
     "execution_count": 89,
     "metadata": {},
     "output_type": "execute_result"
    }
   ],
   "source": [
    "df = pd.read_csv('IAU-CSN.csv', index_col=0) # We read again the original df\n",
    "\n",
    "df['Vmag'] = pd.to_numeric(df['Vmag'],errors='coerce').astype(float)\n",
    "\n",
    "df.dtypes"
   ]
  },
  {
   "cell_type": "code",
   "execution_count": 90,
   "metadata": {
    "scrolled": true
   },
   "outputs": [
    {
     "data": {
      "text/html": [
       "<div>\n",
       "<style scoped>\n",
       "    .dataframe tbody tr th:only-of-type {\n",
       "        vertical-align: middle;\n",
       "    }\n",
       "\n",
       "    .dataframe tbody tr th {\n",
       "        vertical-align: top;\n",
       "    }\n",
       "\n",
       "    .dataframe thead th {\n",
       "        text-align: right;\n",
       "    }\n",
       "</style>\n",
       "<table border=\"1\" class=\"dataframe\">\n",
       "  <thead>\n",
       "    <tr style=\"text-align: right;\">\n",
       "      <th></th>\n",
       "      <th>Name</th>\n",
       "      <th>Designation</th>\n",
       "      <th>ID</th>\n",
       "      <th>Con</th>\n",
       "      <th>#</th>\n",
       "      <th>WDS_J</th>\n",
       "      <th>Vmag</th>\n",
       "      <th>HIP</th>\n",
       "      <th>HD</th>\n",
       "      <th>RA(J2000)</th>\n",
       "      <th>Dec(J2000)</th>\n",
       "      <th>Date</th>\n",
       "    </tr>\n",
       "  </thead>\n",
       "  <tbody>\n",
       "    <tr>\n",
       "      <th>170</th>\n",
       "      <td>Kraz</td>\n",
       "      <td>HR 4786</td>\n",
       "      <td>bet</td>\n",
       "      <td>Crv</td>\n",
       "      <td>-</td>\n",
       "      <td>-</td>\n",
       "      <td>2.65</td>\n",
       "      <td>61359</td>\n",
       "      <td>109379</td>\n",
       "      <td>188.596810</td>\n",
       "      <td>-23.396759</td>\n",
       "      <td>2018-06-01</td>\n",
       "    </tr>\n",
       "    <tr>\n",
       "      <th>171</th>\n",
       "      <td>Kurhah</td>\n",
       "      <td>HR 8417</td>\n",
       "      <td>ksi</td>\n",
       "      <td>Cep</td>\n",
       "      <td>Aa</td>\n",
       "      <td>22038+6438</td>\n",
       "      <td>4.26</td>\n",
       "      <td>108917</td>\n",
       "      <td>209790</td>\n",
       "      <td>330.947724</td>\n",
       "      <td>64.627971</td>\n",
       "      <td>2016-09-12</td>\n",
       "    </tr>\n",
       "    <tr>\n",
       "      <th>172</th>\n",
       "      <td>Larawag</td>\n",
       "      <td>HR 6241</td>\n",
       "      <td>eps</td>\n",
       "      <td>Sco</td>\n",
       "      <td>-</td>\n",
       "      <td>-</td>\n",
       "      <td>2.29</td>\n",
       "      <td>82396</td>\n",
       "      <td>151680</td>\n",
       "      <td>252.540878</td>\n",
       "      <td>-34.293232</td>\n",
       "      <td>2017-11-17</td>\n",
       "    </tr>\n",
       "    <tr>\n",
       "      <th>173</th>\n",
       "      <td>Lesath</td>\n",
       "      <td>HR 6508</td>\n",
       "      <td>ups</td>\n",
       "      <td>Sco</td>\n",
       "      <td>-</td>\n",
       "      <td>-</td>\n",
       "      <td>2.70</td>\n",
       "      <td>85696</td>\n",
       "      <td>158408</td>\n",
       "      <td>262.690979</td>\n",
       "      <td>-37.295813</td>\n",
       "      <td>2016-08-21</td>\n",
       "    </tr>\n",
       "    <tr>\n",
       "      <th>174</th>\n",
       "      <td>Libertas</td>\n",
       "      <td>HR 7595</td>\n",
       "      <td>ksi</td>\n",
       "      <td>Aql</td>\n",
       "      <td>A</td>\n",
       "      <td>19542+0828</td>\n",
       "      <td>4.71</td>\n",
       "      <td>97938</td>\n",
       "      <td>188310</td>\n",
       "      <td>298.562008</td>\n",
       "      <td>8.461453</td>\n",
       "      <td>2015-12-15</td>\n",
       "    </tr>\n",
       "    <tr>\n",
       "      <th>175</th>\n",
       "      <td>Lich</td>\n",
       "      <td>PSR B1257+12</td>\n",
       "      <td>-</td>\n",
       "      <td>Vir</td>\n",
       "      <td>-</td>\n",
       "      <td>-</td>\n",
       "      <td>NaN</td>\n",
       "      <td>-</td>\n",
       "      <td>-</td>\n",
       "      <td>195.012701</td>\n",
       "      <td>12.682417</td>\n",
       "      <td>2015-12-15</td>\n",
       "    </tr>\n",
       "    <tr>\n",
       "      <th>176</th>\n",
       "      <td>Lilii Borea</td>\n",
       "      <td>HR 824</td>\n",
       "      <td>39</td>\n",
       "      <td>Ari</td>\n",
       "      <td>-</td>\n",
       "      <td>-</td>\n",
       "      <td>4.52</td>\n",
       "      <td>13061</td>\n",
       "      <td>17361</td>\n",
       "      <td>41.977256</td>\n",
       "      <td>29.247115</td>\n",
       "      <td>2017-09-05</td>\n",
       "    </tr>\n",
       "    <tr>\n",
       "      <th>177</th>\n",
       "      <td>Maasym</td>\n",
       "      <td>HR 6526</td>\n",
       "      <td>lam</td>\n",
       "      <td>Her</td>\n",
       "      <td>-</td>\n",
       "      <td>-</td>\n",
       "      <td>4.41</td>\n",
       "      <td>85693</td>\n",
       "      <td>158899</td>\n",
       "      <td>262.684626</td>\n",
       "      <td>26.110645</td>\n",
       "      <td>2016-09-12</td>\n",
       "    </tr>\n",
       "    <tr>\n",
       "      <th>178</th>\n",
       "      <td>Mahasim</td>\n",
       "      <td>HR 2095</td>\n",
       "      <td>tet</td>\n",
       "      <td>Aur</td>\n",
       "      <td>A</td>\n",
       "      <td>05597+3713</td>\n",
       "      <td>2.65</td>\n",
       "      <td>28380</td>\n",
       "      <td>40312</td>\n",
       "      <td>89.930292</td>\n",
       "      <td>37.212585</td>\n",
       "      <td>2017-06-30</td>\n",
       "    </tr>\n",
       "    <tr>\n",
       "      <th>179</th>\n",
       "      <td>Maia</td>\n",
       "      <td>HR 1149</td>\n",
       "      <td>20</td>\n",
       "      <td>Tau</td>\n",
       "      <td>-</td>\n",
       "      <td>03458+2422</td>\n",
       "      <td>3.87</td>\n",
       "      <td>17573</td>\n",
       "      <td>23408</td>\n",
       "      <td>56.456695</td>\n",
       "      <td>24.367751</td>\n",
       "      <td>2016-07-20</td>\n",
       "    </tr>\n",
       "  </tbody>\n",
       "</table>\n",
       "</div>"
      ],
      "text/plain": [
       "            Name   Designation   ID  Con   #       WDS_J  Vmag     HIP  \\\n",
       "170         Kraz       HR 4786  bet  Crv   -           -  2.65   61359   \n",
       "171       Kurhah       HR 8417  ksi  Cep  Aa  22038+6438  4.26  108917   \n",
       "172      Larawag       HR 6241  eps  Sco   -           -  2.29   82396   \n",
       "173       Lesath       HR 6508  ups  Sco   -           -  2.70   85696   \n",
       "174     Libertas       HR 7595  ksi  Aql   A  19542+0828  4.71   97938   \n",
       "175         Lich  PSR B1257+12    -  Vir   -           -   NaN       -   \n",
       "176  Lilii Borea        HR 824   39  Ari   -           -  4.52   13061   \n",
       "177       Maasym       HR 6526  lam  Her   -           -  4.41   85693   \n",
       "178      Mahasim       HR 2095  tet  Aur   A  05597+3713  2.65   28380   \n",
       "179         Maia       HR 1149   20  Tau   -  03458+2422  3.87   17573   \n",
       "\n",
       "         HD   RA(J2000)  Dec(J2000)        Date  \n",
       "170  109379  188.596810  -23.396759  2018-06-01  \n",
       "171  209790  330.947724   64.627971  2016-09-12  \n",
       "172  151680  252.540878  -34.293232  2017-11-17  \n",
       "173  158408  262.690979  -37.295813  2016-08-21  \n",
       "174  188310  298.562008    8.461453  2015-12-15  \n",
       "175       -  195.012701   12.682417  2015-12-15  \n",
       "176   17361   41.977256   29.247115  2017-09-05  \n",
       "177  158899  262.684626   26.110645  2016-09-12  \n",
       "178   40312   89.930292   37.212585  2017-06-30  \n",
       "179   23408   56.456695   24.367751  2016-07-20  "
      ]
     },
     "execution_count": 90,
     "metadata": {},
     "output_type": "execute_result"
    }
   ],
   "source": [
    "df[170:180]"
   ]
  },
  {
   "cell_type": "code",
   "execution_count": 91,
   "metadata": {},
   "outputs": [
    {
     "data": {
      "text/html": [
       "<div>\n",
       "<style scoped>\n",
       "    .dataframe tbody tr th:only-of-type {\n",
       "        vertical-align: middle;\n",
       "    }\n",
       "\n",
       "    .dataframe tbody tr th {\n",
       "        vertical-align: top;\n",
       "    }\n",
       "\n",
       "    .dataframe thead th {\n",
       "        text-align: right;\n",
       "    }\n",
       "</style>\n",
       "<table border=\"1\" class=\"dataframe\">\n",
       "  <thead>\n",
       "    <tr style=\"text-align: right;\">\n",
       "      <th></th>\n",
       "      <th>Vmag</th>\n",
       "      <th>RA(J2000)</th>\n",
       "      <th>Dec(J2000)</th>\n",
       "    </tr>\n",
       "  </thead>\n",
       "  <tbody>\n",
       "    <tr>\n",
       "      <th>count</th>\n",
       "      <td>329.00000</td>\n",
       "      <td>330.000000</td>\n",
       "      <td>330.000000</td>\n",
       "    </tr>\n",
       "    <tr>\n",
       "      <th>mean</th>\n",
       "      <td>3.32845</td>\n",
       "      <td>177.576998</td>\n",
       "      <td>9.176696</td>\n",
       "    </tr>\n",
       "    <tr>\n",
       "      <th>std</th>\n",
       "      <td>1.39014</td>\n",
       "      <td>101.085569</td>\n",
       "      <td>34.752993</td>\n",
       "    </tr>\n",
       "    <tr>\n",
       "      <th>min</th>\n",
       "      <td>-1.45000</td>\n",
       "      <td>2.096916</td>\n",
       "      <td>-88.956499</td>\n",
       "    </tr>\n",
       "    <tr>\n",
       "      <th>25%</th>\n",
       "      <td>2.48000</td>\n",
       "      <td>84.536455</td>\n",
       "      <td>-16.418395</td>\n",
       "    </tr>\n",
       "    <tr>\n",
       "      <th>50%</th>\n",
       "      <td>3.37000</td>\n",
       "      <td>182.979952</td>\n",
       "      <td>12.263622</td>\n",
       "    </tr>\n",
       "    <tr>\n",
       "      <th>75%</th>\n",
       "      <td>4.11000</td>\n",
       "      <td>265.196038</td>\n",
       "      <td>33.818360</td>\n",
       "    </tr>\n",
       "    <tr>\n",
       "      <th>max</th>\n",
       "      <td>11.01000</td>\n",
       "      <td>354.836655</td>\n",
       "      <td>89.264109</td>\n",
       "    </tr>\n",
       "  </tbody>\n",
       "</table>\n",
       "</div>"
      ],
      "text/plain": [
       "            Vmag   RA(J2000)  Dec(J2000)\n",
       "count  329.00000  330.000000  330.000000\n",
       "mean     3.32845  177.576998    9.176696\n",
       "std      1.39014  101.085569   34.752993\n",
       "min     -1.45000    2.096916  -88.956499\n",
       "25%      2.48000   84.536455  -16.418395\n",
       "50%      3.37000  182.979952   12.263622\n",
       "75%      4.11000  265.196038   33.818360\n",
       "max     11.01000  354.836655   89.264109"
      ]
     },
     "execution_count": 91,
     "metadata": {},
     "output_type": "execute_result"
    }
   ],
   "source": [
    "df.describe()"
   ]
  },
  {
   "cell_type": "markdown",
   "metadata": {},
   "source": [
    "---\n",
    "Lets now group the data by Constellation and find the maximum value of 'Vmag' in each one,"
   ]
  },
  {
   "cell_type": "code",
   "execution_count": 92,
   "metadata": {},
   "outputs": [
    {
     "data": {
      "text/plain": [
       "Con\n",
       "And    2.07\n",
       "Aql    0.76\n",
       "Aqr    2.90\n",
       "Ara    5.15\n",
       "Ari    2.01\n",
       "       ... \n",
       "UMa    1.76\n",
       "UMi    2.07\n",
       "Vel    1.99\n",
       "Vir    0.98\n",
       "Vul    4.44\n",
       "Name: Vmag, Length: 63, dtype: float64"
      ]
     },
     "execution_count": 92,
     "metadata": {},
     "output_type": "execute_result"
    }
   ],
   "source": [
    "df.groupby('Con')[\"Vmag\"].min()"
   ]
  },
  {
   "cell_type": "markdown",
   "metadata": {},
   "source": [
    "## Plotting"
   ]
  },
  {
   "cell_type": "markdown",
   "metadata": {},
   "source": [
    "Using the method `.plot()` is possible to plot all the numerical columns in the dataframe."
   ]
  },
  {
   "cell_type": "code",
   "execution_count": 93,
   "metadata": {
    "scrolled": true,
    "slideshow": {
     "slide_type": "slide"
    }
   },
   "outputs": [
    {
     "data": {
      "image/png": "[encoded data removed]",
      "text/plain": [
       "<Figure size 720x360 with 1 Axes>"
      ]
     },
     "metadata": {
      "needs_background": "light"
     },
     "output_type": "display_data"
    }
   ],
   "source": [
    "df.plot();"
   ]
  },
  {
   "cell_type": "markdown",
   "metadata": {},
   "source": [
    "A histogram with the data is easily done:"
   ]
  },
  {
   "cell_type": "code",
   "execution_count": 94,
   "metadata": {
    "scrolled": true
   },
   "outputs": [
    {
     "data": {
      "image/png": "[encoded data removed]",
      "text/plain": [
       "<Figure size 720x360 with 4 Axes>"
      ]
     },
     "metadata": {
      "needs_background": "light"
     },
     "output_type": "display_data"
    }
   ],
   "source": [
    "df.hist(); # The semi-colon does not show some extra information about the plot"
   ]
  },
  {
   "cell_type": "markdown",
   "metadata": {},
   "source": [
    "We can adjust some arguments in the function to concentrate in only one of the columns,"
   ]
  },
  {
   "cell_type": "code",
   "execution_count": 95,
   "metadata": {},
   "outputs": [
    {
     "data": {
      "image/png": "[encoded data removed]",
      "text/plain": [
       "<Figure size 720x504 with 1 Axes>"
      ]
     },
     "metadata": {
      "needs_background": "light"
     },
     "output_type": "display_data"
    }
   ],
   "source": [
    "df.hist(column='Vmag', figsize=(10,7));"
   ]
  },
  {
   "cell_type": "markdown",
   "metadata": {},
   "source": [
    "Using `matplotlib.pyplot` it is possible to customize the plot even more "
   ]
  },
  {
   "cell_type": "code",
   "execution_count": 96,
   "metadata": {
    "scrolled": false,
    "slideshow": {
     "slide_type": "slide"
    }
   },
   "outputs": [
    {
     "data": {
      "image/png": "[encoded data removed]",
      "text/plain": [
       "<Figure size 720x504 with 1 Axes>"
      ]
     },
     "metadata": {
      "needs_background": "light"
     },
     "output_type": "display_data"
    }
   ],
   "source": [
    "import matplotlib.pyplot as plt\n",
    "%matplotlib inline\n",
    "\n",
    "ax = df.hist(column='Vmag', figsize=(10,7))\n",
    "ax = ax[0]\n",
    "for x in ax:\n",
    "    x.set_title('Vmag')\n",
    "    x.set_xlabel('Visual Apparent Magnitude')\n",
    "    x.set_ylabel('Count')\n",
    "plt.show()"
   ]
  },
  {
   "cell_type": "markdown",
   "metadata": {},
   "source": [
    "Now, we make a scatter plot to visualise the stars in the sky according to their RA and Dec coordinates."
   ]
  },
  {
   "cell_type": "code",
   "execution_count": 97,
   "metadata": {},
   "outputs": [
    {
     "data": {
      "image/png": "[encoded data removed]",
      "text/plain": [
       "<Figure size 720x504 with 1 Axes>"
      ]
     },
     "metadata": {
      "needs_background": "light"
     },
     "output_type": "display_data"
    }
   ],
   "source": [
    "fig, ax = plt.subplots(figsize=(10,7))\n",
    "ax.scatter(df['RA(J2000)'], df['Dec(J2000)'], marker='.')\n",
    "ax.set_xlabel('RA (J2000)')\n",
    "ax.set_ylabel('Dec (J2000)')\n",
    "plt.show()"
   ]
  },
  {
   "cell_type": "markdown",
   "metadata": {},
   "source": [
    "### Memory Usage of DataFrames"
   ]
  },
  {
   "cell_type": "code",
   "execution_count": null,
   "metadata": {},
   "outputs": [],
   "source": [
    "df.info(memory_usage=\"deep\")"
   ]
  },
  {
   "cell_type": "markdown",
   "metadata": {},
   "source": [
    "### Subsampling"
   ]
  },
  {
   "cell_type": "code",
   "execution_count": null,
   "metadata": {},
   "outputs": [],
   "source": [
    "subsample = df.sample(frac=0.1, random_state=413) \n",
    "# frac = percentage of the original set\n",
    "remaining = df.drop(subsample.index)\n",
    "# .index extract the indices of a dataset"
   ]
  },
  {
   "cell_type": "code",
   "execution_count": null,
   "metadata": {},
   "outputs": [],
   "source": [
    "subsample"
   ]
  },
  {
   "cell_type": "code",
   "execution_count": null,
   "metadata": {},
   "outputs": [],
   "source": [
    "remaining"
   ]
  },
  {
   "cell_type": "code",
   "execution_count": null,
   "metadata": {},
   "outputs": [],
   "source": []
  }
 ],
 "metadata": {
  "@webio": {
   "lastCommId": null,
   "lastKernelId": null
  },
  "kernelspec": {
   "display_name": "Python 3 (ipykernel)",
   "language": "python",
   "name": "python3"
  },
  "language_info": {
   "codemirror_mode": {
    "name": "ipython",
    "version": 3
   },
   "file_extension": ".py",
   "mimetype": "text/x-python",
   "name": "python",
   "nbconvert_exporter": "python",
   "pygments_lexer": "ipython3",
   "version": "3.10.9"
  },
  "nteract": {
   "version": "0.28.0"
  },
  "vscode": {
   "interpreter": {
    "hash": "7cedb68cf63e90bc16f84e333713309767fdee79fa6bfd701075226f4fc8e495"
   }
  }
 },
 "nbformat": 4,
 "nbformat_minor": 4
}
