{
 "cells": [
  {
   "attachments": {},
   "cell_type": "markdown",
   "metadata": {},
   "source": [
    "![Astrofisica Computacional](../../../logo.png)"
   ]
  },
  {
   "cell_type": "markdown",
   "metadata": {},
   "source": [
    "---\n",
    "## 05. csv Files in Julia\n",
    "\n",
    "Eduard Larrañaga (ealarranaga@unal.edu.co)\n",
    "\n",
    "---"
   ]
  },
  {
   "cell_type": "markdown",
   "metadata": {},
   "source": [
    "### About this notebook\n",
    "\n",
    "In this notebook we present an introduction to the use of .csv files using `julia`.\n",
    "\n",
    "---"
   ]
  },
  {
   "cell_type": "code",
   "execution_count": 4,
   "metadata": {
    "slideshow": {
     "slide_type": "slide"
    },
    "tags": []
   },
   "outputs": [],
   "source": [
    "using DataFrames\n",
    "using CSV\n",
    "using Plots"
   ]
  },
  {
   "cell_type": "markdown",
   "metadata": {
    "slideshow": {
     "slide_type": "slide"
    }
   },
   "source": [
    "## The `Dataframe` type"
   ]
  },
  {
   "cell_type": "code",
   "execution_count": 5,
   "metadata": {},
   "outputs": [
    {
     "data": {
      "text/html": [
       "<div class=\"data-frame\"><p>4 rows × 2 columns</p><table class=\"data-frame\"><thead><tr><th></th><th>A</th><th>B</th></tr><tr><th></th><th title=\"Int64\">Int64</th><th title=\"String\">String</th></tr></thead><tbody><tr><th>1</th><td>1</td><td>M</td></tr><tr><th>2</th><td>2</td><td>F</td></tr><tr><th>3</th><td>3</td><td>F</td></tr><tr><th>4</th><td>4</td><td>M</td></tr></tbody></table></div>"
      ],
      "text/latex": [
       "\\begin{tabular}{r|cc}\n",
       "\t& A & B\\\\\n",
       "\t\\hline\n",
       "\t& Int64 & String\\\\\n",
       "\t\\hline\n",
       "\t1 & 1 & M \\\\\n",
       "\t2 & 2 & F \\\\\n",
       "\t3 & 3 & F \\\\\n",
       "\t4 & 4 & M \\\\\n",
       "\\end{tabular}\n"
      ],
      "text/plain": [
       "\u001b[1m4×2 DataFrame\u001b[0m\n",
       "\u001b[1m Row \u001b[0m│\u001b[1m A     \u001b[0m\u001b[1m B      \u001b[0m\n",
       "\u001b[1m     \u001b[0m│\u001b[90m Int64 \u001b[0m\u001b[90m String \u001b[0m\n",
       "─────┼───────────────\n",
       "   1 │     1  M\n",
       "   2 │     2  F\n",
       "   3 │     3  F\n",
       "   4 │     4  M"
      ]
     },
     "execution_count": 5,
     "metadata": {},
     "output_type": "execute_result"
    }
   ],
   "source": [
    "df = DataFrame(A=1:4, B=[\"M\", \"F\", \"F\", \"M\"])\n",
    "df"
   ]
  },
  {
   "cell_type": "code",
   "execution_count": 34,
   "metadata": {},
   "outputs": [
    {
     "data": {
      "text/html": [
       "<div class=\"data-frame\"><p>0 rows × 0 columns</p><table class=\"data-frame\"><thead><tr><th></th></tr><tr><th></th></tr></thead><tbody></tbody></table></div>"
      ],
      "text/latex": [
       "\\begin{tabular}{r|}\n",
       "\t& \\\\\n",
       "\t\\hline\n",
       "\t& \\\\\n",
       "\t\\hline\n",
       "\\end{tabular}\n"
      ],
      "text/plain": [
       "\u001b[1m0×0 DataFrame\u001b[0m"
      ]
     },
     "execution_count": 34,
     "metadata": {},
     "output_type": "execute_result"
    }
   ],
   "source": [
    "df = DataFrame()"
   ]
  },
  {
   "cell_type": "code",
   "execution_count": 35,
   "metadata": {},
   "outputs": [
    {
     "data": {
      "text/plain": [
       "3-element Vector{String}:\n",
       " \"Earth\"\n",
       " \"Mars\"\n",
       " \"Jupiter\""
      ]
     },
     "execution_count": 35,
     "metadata": {},
     "output_type": "execute_result"
    }
   ],
   "source": [
    "df.\"name\"= [\"Earth\", \"Mars\", \"Jupiter\"]"
   ]
  },
  {
   "cell_type": "code",
   "execution_count": 36,
   "metadata": {},
   "outputs": [
    {
     "data": {
      "text/html": [
       "<div class=\"data-frame\"><p>3 rows × 1 columns</p><table class=\"data-frame\"><thead><tr><th></th><th>name</th></tr><tr><th></th><th title=\"String\">String</th></tr></thead><tbody><tr><th>1</th><td>Earth</td></tr><tr><th>2</th><td>Mars</td></tr><tr><th>3</th><td>Jupiter</td></tr></tbody></table></div>"
      ],
      "text/latex": [
       "\\begin{tabular}{r|c}\n",
       "\t& name\\\\\n",
       "\t\\hline\n",
       "\t& String\\\\\n",
       "\t\\hline\n",
       "\t1 & Earth \\\\\n",
       "\t2 & Mars \\\\\n",
       "\t3 & Jupiter \\\\\n",
       "\\end{tabular}\n"
      ],
      "text/plain": [
       "\u001b[1m3×1 DataFrame\u001b[0m\n",
       "\u001b[1m Row \u001b[0m│\u001b[1m name    \u001b[0m\n",
       "\u001b[1m     \u001b[0m│\u001b[90m String  \u001b[0m\n",
       "─────┼─────────\n",
       "   1 │ Earth\n",
       "   2 │ Mars\n",
       "   3 │ Jupiter"
      ]
     },
     "execution_count": 36,
     "metadata": {},
     "output_type": "execute_result"
    }
   ],
   "source": [
    "df"
   ]
  },
  {
   "cell_type": "code",
   "execution_count": 38,
   "metadata": {
    "slideshow": {
     "slide_type": "fragment"
    },
    "tags": []
   },
   "outputs": [
    {
     "data": {
      "text/html": [
       "<div class=\"data-frame\"><p>3 rows × 4 columns</p><table class=\"data-frame\"><thead><tr><th></th><th>name</th><th>mass</th><th>period</th><th>distance</th></tr><tr><th></th><th title=\"String\">String</th><th title=\"Float64\">Float64</th><th title=\"Float64\">Float64</th><th title=\"Float64\">Float64</th></tr></thead><tbody><tr><th>1</th><td>Earth</td><td>1.0</td><td>1.0</td><td>1.0</td></tr><tr><th>2</th><td>Mars</td><td>0.107</td><td>1.88</td><td>1.5</td></tr><tr><th>3</th><td>Jupiter</td><td>317.8</td><td>11.86</td><td>5.2</td></tr></tbody></table></div>"
      ],
      "text/latex": [
       "\\begin{tabular}{r|cccc}\n",
       "\t& name & mass & period & distance\\\\\n",
       "\t\\hline\n",
       "\t& String & Float64 & Float64 & Float64\\\\\n",
       "\t\\hline\n",
       "\t1 & Earth & 1.0 & 1.0 & 1.0 \\\\\n",
       "\t2 & Mars & 0.107 & 1.88 & 1.5 \\\\\n",
       "\t3 & Jupiter & 317.8 & 11.86 & 5.2 \\\\\n",
       "\\end{tabular}\n"
      ],
      "text/plain": [
       "\u001b[1m3×4 DataFrame\u001b[0m\n",
       "\u001b[1m Row \u001b[0m│\u001b[1m name    \u001b[0m\u001b[1m mass    \u001b[0m\u001b[1m period  \u001b[0m\u001b[1m distance \u001b[0m\n",
       "\u001b[1m     \u001b[0m│\u001b[90m String  \u001b[0m\u001b[90m Float64 \u001b[0m\u001b[90m Float64 \u001b[0m\u001b[90m Float64  \u001b[0m\n",
       "─────┼─────────────────────────────────────\n",
       "   1 │ Earth      1.0       1.0        1.0\n",
       "   2 │ Mars       0.107     1.88       1.5\n",
       "   3 │ Jupiter  317.8      11.86       5.2"
      ]
     },
     "execution_count": 38,
     "metadata": {},
     "output_type": "execute_result"
    }
   ],
   "source": [
    "# Some data about planets\n",
    "# mass in [Earth masses]\n",
    "# orbital period in [Earth years]\n",
    "# mean distance tu Sun in [au]\n",
    "\n",
    "df.\"mass\" = [1., 0.107, 317.8]\n",
    "df.\"period\" = [1., 1.88, 11.86]\n",
    "df.\"distance\" = [1., 1.5, 5.2]\n",
    "\n",
    "df"
   ]
  },
  {
   "cell_type": "markdown",
   "metadata": {
    "slideshow": {
     "slide_type": "subslide"
    }
   },
   "source": [
    "### Accesing Features  (`Series`)"
   ]
  },
  {
   "cell_type": "code",
   "execution_count": 39,
   "metadata": {
    "slideshow": {
     "slide_type": "fragment"
    }
   },
   "outputs": [
    {
     "data": {
      "text/plain": [
       "3-element Vector{Float64}:\n",
       "   1.0\n",
       "   0.107\n",
       " 317.8"
      ]
     },
     "execution_count": 39,
     "metadata": {},
     "output_type": "execute_result"
    }
   ],
   "source": [
    "df.\"mass\""
   ]
  },
  {
   "cell_type": "code",
   "execution_count": 41,
   "metadata": {
    "slideshow": {
     "slide_type": "fragment"
    }
   },
   "outputs": [
    {
     "data": {
      "text/plain": [
       "3-element Vector{Float64}:\n",
       " 5.972e24\n",
       " 6.39004e23\n",
       " 1.8979016000000002e27"
      ]
     },
     "execution_count": 41,
     "metadata": {},
     "output_type": "execute_result"
    }
   ],
   "source": [
    "# Mass * 5.972e24 = Mass in kg\n",
    "\n",
    "df.\"mass\" * 5.972e24"
   ]
  },
  {
   "cell_type": "code",
   "execution_count": 42,
   "metadata": {
    "scrolled": true
   },
   "outputs": [
    {
     "data": {
      "text/html": [
       "<div class=\"data-frame\"><p>3 rows × 4 columns</p><table class=\"data-frame\"><thead><tr><th></th><th>name</th><th>mass</th><th>period</th><th>distance</th></tr><tr><th></th><th title=\"String\">String</th><th title=\"Float64\">Float64</th><th title=\"Float64\">Float64</th><th title=\"Float64\">Float64</th></tr></thead><tbody><tr><th>1</th><td>Earth</td><td>1.0</td><td>1.0</td><td>1.0</td></tr><tr><th>2</th><td>Mars</td><td>0.107</td><td>1.88</td><td>1.5</td></tr><tr><th>3</th><td>Jupiter</td><td>317.8</td><td>11.86</td><td>5.2</td></tr></tbody></table></div>"
      ],
      "text/latex": [
       "\\begin{tabular}{r|cccc}\n",
       "\t& name & mass & period & distance\\\\\n",
       "\t\\hline\n",
       "\t& String & Float64 & Float64 & Float64\\\\\n",
       "\t\\hline\n",
       "\t1 & Earth & 1.0 & 1.0 & 1.0 \\\\\n",
       "\t2 & Mars & 0.107 & 1.88 & 1.5 \\\\\n",
       "\t3 & Jupiter & 317.8 & 11.86 & 5.2 \\\\\n",
       "\\end{tabular}\n"
      ],
      "text/plain": [
       "\u001b[1m3×4 DataFrame\u001b[0m\n",
       "\u001b[1m Row \u001b[0m│\u001b[1m name    \u001b[0m\u001b[1m mass    \u001b[0m\u001b[1m period  \u001b[0m\u001b[1m distance \u001b[0m\n",
       "\u001b[1m     \u001b[0m│\u001b[90m String  \u001b[0m\u001b[90m Float64 \u001b[0m\u001b[90m Float64 \u001b[0m\u001b[90m Float64  \u001b[0m\n",
       "─────┼─────────────────────────────────────\n",
       "   1 │ Earth      1.0       1.0        1.0\n",
       "   2 │ Mars       0.107     1.88       1.5\n",
       "   3 │ Jupiter  317.8      11.86       5.2"
      ]
     },
     "execution_count": 42,
     "metadata": {},
     "output_type": "execute_result"
    }
   ],
   "source": [
    "df"
   ]
  },
  {
   "cell_type": "code",
   "execution_count": 44,
   "metadata": {},
   "outputs": [
    {
     "data": {
      "text/html": [
       "<div class=\"data-frame\"><p>3 rows × 5 columns</p><table class=\"data-frame\"><thead><tr><th></th><th>name</th><th>mass</th><th>period</th><th>distance</th><th>mass [kg]</th></tr><tr><th></th><th title=\"String\">String</th><th title=\"Float64\">Float64</th><th title=\"Float64\">Float64</th><th title=\"Float64\">Float64</th><th title=\"Float64\">Float64</th></tr></thead><tbody><tr><th>1</th><td>Earth</td><td>1.0</td><td>1.0</td><td>1.0</td><td>5.972e24</td></tr><tr><th>2</th><td>Mars</td><td>0.107</td><td>1.88</td><td>1.5</td><td>6.39004e23</td></tr><tr><th>3</th><td>Jupiter</td><td>317.8</td><td>11.86</td><td>5.2</td><td>1.8979e27</td></tr></tbody></table></div>"
      ],
      "text/latex": [
       "\\begin{tabular}{r|ccccc}\n",
       "\t& name & mass & period & distance & mass [kg]\\\\\n",
       "\t\\hline\n",
       "\t& String & Float64 & Float64 & Float64 & Float64\\\\\n",
       "\t\\hline\n",
       "\t1 & Earth & 1.0 & 1.0 & 1.0 & 5.972e24 \\\\\n",
       "\t2 & Mars & 0.107 & 1.88 & 1.5 & 6.39004e23 \\\\\n",
       "\t3 & Jupiter & 317.8 & 11.86 & 5.2 & 1.8979e27 \\\\\n",
       "\\end{tabular}\n"
      ],
      "text/plain": [
       "\u001b[1m3×5 DataFrame\u001b[0m\n",
       "\u001b[1m Row \u001b[0m│\u001b[1m name    \u001b[0m\u001b[1m mass    \u001b[0m\u001b[1m period  \u001b[0m\u001b[1m distance \u001b[0m\u001b[1m mass [kg]  \u001b[0m\n",
       "\u001b[1m     \u001b[0m│\u001b[90m String  \u001b[0m\u001b[90m Float64 \u001b[0m\u001b[90m Float64 \u001b[0m\u001b[90m Float64  \u001b[0m\u001b[90m Float64    \u001b[0m\n",
       "─────┼─────────────────────────────────────────────────\n",
       "   1 │ Earth      1.0       1.0        1.0  5.972e24\n",
       "   2 │ Mars       0.107     1.88       1.5  6.39004e23\n",
       "   3 │ Jupiter  317.8      11.86       5.2  1.8979e27"
      ]
     },
     "execution_count": 44,
     "metadata": {},
     "output_type": "execute_result"
    }
   ],
   "source": [
    "df.\"mass [kg]\" = df.\"mass\" * 5.972e24\n",
    "df"
   ]
  },
  {
   "cell_type": "code",
   "execution_count": 45,
   "metadata": {},
   "outputs": [
    {
     "data": {
      "text/html": [
       "<div class=\"data-frame\"><p>4 rows × 5 columns</p><table class=\"data-frame\"><thead><tr><th></th><th>name</th><th>mass</th><th>period</th><th>distance</th><th>mass [kg]</th></tr><tr><th></th><th title=\"String\">String</th><th title=\"Float64\">Float64</th><th title=\"Float64\">Float64</th><th title=\"Float64\">Float64</th><th title=\"Float64\">Float64</th></tr></thead><tbody><tr><th>1</th><td>Earth</td><td>1.0</td><td>1.0</td><td>1.0</td><td>5.972e24</td></tr><tr><th>2</th><td>Mars</td><td>0.107</td><td>1.88</td><td>1.5</td><td>6.39004e23</td></tr><tr><th>3</th><td>Jupiter</td><td>317.8</td><td>11.86</td><td>5.2</td><td>1.8979e27</td></tr><tr><th>4</th><td>Venus</td><td>0.815</td><td>0.62</td><td>0.72</td><td>4.86718e24</td></tr></tbody></table></div>"
      ],
      "text/latex": [
       "\\begin{tabular}{r|ccccc}\n",
       "\t& name & mass & period & distance & mass [kg]\\\\\n",
       "\t\\hline\n",
       "\t& String & Float64 & Float64 & Float64 & Float64\\\\\n",
       "\t\\hline\n",
       "\t1 & Earth & 1.0 & 1.0 & 1.0 & 5.972e24 \\\\\n",
       "\t2 & Mars & 0.107 & 1.88 & 1.5 & 6.39004e23 \\\\\n",
       "\t3 & Jupiter & 317.8 & 11.86 & 5.2 & 1.8979e27 \\\\\n",
       "\t4 & Venus & 0.815 & 0.62 & 0.72 & 4.86718e24 \\\\\n",
       "\\end{tabular}\n"
      ],
      "text/plain": [
       "\u001b[1m4×5 DataFrame\u001b[0m\n",
       "\u001b[1m Row \u001b[0m│\u001b[1m name    \u001b[0m\u001b[1m mass    \u001b[0m\u001b[1m period  \u001b[0m\u001b[1m distance \u001b[0m\u001b[1m mass [kg]  \u001b[0m\n",
       "\u001b[1m     \u001b[0m│\u001b[90m String  \u001b[0m\u001b[90m Float64 \u001b[0m\u001b[90m Float64 \u001b[0m\u001b[90m Float64  \u001b[0m\u001b[90m Float64    \u001b[0m\n",
       "─────┼─────────────────────────────────────────────────\n",
       "   1 │ Earth      1.0       1.0       1.0   5.972e24\n",
       "   2 │ Mars       0.107     1.88      1.5   6.39004e23\n",
       "   3 │ Jupiter  317.8      11.86      5.2   1.8979e27\n",
       "   4 │ Venus      0.815     0.62      0.72  4.86718e24"
      ]
     },
     "execution_count": 45,
     "metadata": {},
     "output_type": "execute_result"
    }
   ],
   "source": [
    "# Add a row to the dataframe\n",
    "push!(df,[\"Venus\", 0.815, 0.62, 0.72, 0.815*5.972e24])\n",
    "df"
   ]
  },
  {
   "cell_type": "markdown",
   "metadata": {
    "slideshow": {
     "slide_type": "slide"
    }
   },
   "source": [
    "## Examining a `DataFrame`"
   ]
  },
  {
   "cell_type": "code",
   "execution_count": 46,
   "metadata": {
    "slideshow": {
     "slide_type": "fragment"
    }
   },
   "outputs": [
    {
     "data": {
      "text/plain": [
       "5-element Vector{String}:\n",
       " \"name\"\n",
       " \"mass\"\n",
       " \"period\"\n",
       " \"distance\"\n",
       " \"mass [kg]\""
      ]
     },
     "execution_count": 46,
     "metadata": {},
     "output_type": "execute_result"
    }
   ],
   "source": [
    "# Names of the features (columns)\n",
    "names(df)"
   ]
  },
  {
   "cell_type": "code",
   "execution_count": 47,
   "metadata": {},
   "outputs": [
    {
     "data": {
      "text/plain": [
       "(4, 5)"
      ]
     },
     "execution_count": 47,
     "metadata": {},
     "output_type": "execute_result"
    }
   ],
   "source": [
    "# Size of the Dataframe\n",
    "size(df)"
   ]
  },
  {
   "cell_type": "code",
   "execution_count": 49,
   "metadata": {
    "slideshow": {
     "slide_type": "fragment"
    }
   },
   "outputs": [
    {
     "data": {
      "text/html": [
       "<div class=\"data-frame\"><p>4 rows × 5 columns</p><table class=\"data-frame\"><thead><tr><th></th><th>name</th><th>mass</th><th>period</th><th>distance</th><th>mass [kg]</th></tr><tr><th></th><th title=\"String\">String</th><th title=\"Float64\">Float64</th><th title=\"Float64\">Float64</th><th title=\"Float64\">Float64</th><th title=\"Float64\">Float64</th></tr></thead><tbody><tr><th>1</th><td>Venus</td><td>0.815</td><td>0.62</td><td>0.72</td><td>4.86718e24</td></tr><tr><th>2</th><td>Earth</td><td>1.0</td><td>1.0</td><td>1.0</td><td>5.972e24</td></tr><tr><th>3</th><td>Mars</td><td>0.107</td><td>1.88</td><td>1.5</td><td>6.39004e23</td></tr><tr><th>4</th><td>Jupiter</td><td>317.8</td><td>11.86</td><td>5.2</td><td>1.8979e27</td></tr></tbody></table></div>"
      ],
      "text/latex": [
       "\\begin{tabular}{r|ccccc}\n",
       "\t& name & mass & period & distance & mass [kg]\\\\\n",
       "\t\\hline\n",
       "\t& String & Float64 & Float64 & Float64 & Float64\\\\\n",
       "\t\\hline\n",
       "\t1 & Venus & 0.815 & 0.62 & 0.72 & 4.86718e24 \\\\\n",
       "\t2 & Earth & 1.0 & 1.0 & 1.0 & 5.972e24 \\\\\n",
       "\t3 & Mars & 0.107 & 1.88 & 1.5 & 6.39004e23 \\\\\n",
       "\t4 & Jupiter & 317.8 & 11.86 & 5.2 & 1.8979e27 \\\\\n",
       "\\end{tabular}\n"
      ],
      "text/plain": [
       "\u001b[1m4×5 DataFrame\u001b[0m\n",
       "\u001b[1m Row \u001b[0m│\u001b[1m name    \u001b[0m\u001b[1m mass    \u001b[0m\u001b[1m period  \u001b[0m\u001b[1m distance \u001b[0m\u001b[1m mass [kg]  \u001b[0m\n",
       "\u001b[1m     \u001b[0m│\u001b[90m String  \u001b[0m\u001b[90m Float64 \u001b[0m\u001b[90m Float64 \u001b[0m\u001b[90m Float64  \u001b[0m\u001b[90m Float64    \u001b[0m\n",
       "─────┼─────────────────────────────────────────────────\n",
       "   1 │ Venus      0.815     0.62      0.72  4.86718e24\n",
       "   2 │ Earth      1.0       1.0       1.0   5.972e24\n",
       "   3 │ Mars       0.107     1.88      1.5   6.39004e23\n",
       "   4 │ Jupiter  317.8      11.86      5.2   1.8979e27"
      ]
     },
     "execution_count": 49,
     "metadata": {},
     "output_type": "execute_result"
    }
   ],
   "source": [
    "sort!(df, \"distance\")"
   ]
  },
  {
   "cell_type": "code",
   "execution_count": 50,
   "metadata": {
    "slideshow": {
     "slide_type": "fragment"
    }
   },
   "outputs": [
    {
     "data": {
      "text/html": [
       "<div class=\"data-frame\"><p>4 rows × 5 columns</p><table class=\"data-frame\"><thead><tr><th></th><th>name</th><th>mass</th><th>period</th><th>distance</th><th>mass [kg]</th></tr><tr><th></th><th title=\"String\">String</th><th title=\"Float64\">Float64</th><th title=\"Float64\">Float64</th><th title=\"Float64\">Float64</th><th title=\"Float64\">Float64</th></tr></thead><tbody><tr><th>1</th><td>Venus</td><td>0.815</td><td>0.62</td><td>0.72</td><td>4.86718e24</td></tr><tr><th>2</th><td>Earth</td><td>1.0</td><td>1.0</td><td>1.0</td><td>5.972e24</td></tr><tr><th>3</th><td>Mars</td><td>0.107</td><td>1.88</td><td>1.5</td><td>6.39004e23</td></tr><tr><th>4</th><td>Jupiter</td><td>317.8</td><td>11.86</td><td>5.2</td><td>1.8979e27</td></tr></tbody></table></div>"
      ],
      "text/latex": [
       "\\begin{tabular}{r|ccccc}\n",
       "\t& name & mass & period & distance & mass [kg]\\\\\n",
       "\t\\hline\n",
       "\t& String & Float64 & Float64 & Float64 & Float64\\\\\n",
       "\t\\hline\n",
       "\t1 & Venus & 0.815 & 0.62 & 0.72 & 4.86718e24 \\\\\n",
       "\t2 & Earth & 1.0 & 1.0 & 1.0 & 5.972e24 \\\\\n",
       "\t3 & Mars & 0.107 & 1.88 & 1.5 & 6.39004e23 \\\\\n",
       "\t4 & Jupiter & 317.8 & 11.86 & 5.2 & 1.8979e27 \\\\\n",
       "\\end{tabular}\n"
      ],
      "text/plain": [
       "\u001b[1m4×5 DataFrame\u001b[0m\n",
       "\u001b[1m Row \u001b[0m│\u001b[1m name    \u001b[0m\u001b[1m mass    \u001b[0m\u001b[1m period  \u001b[0m\u001b[1m distance \u001b[0m\u001b[1m mass [kg]  \u001b[0m\n",
       "\u001b[1m     \u001b[0m│\u001b[90m String  \u001b[0m\u001b[90m Float64 \u001b[0m\u001b[90m Float64 \u001b[0m\u001b[90m Float64  \u001b[0m\u001b[90m Float64    \u001b[0m\n",
       "─────┼─────────────────────────────────────────────────\n",
       "   1 │ Venus      0.815     0.62      0.72  4.86718e24\n",
       "   2 │ Earth      1.0       1.0       1.0   5.972e24\n",
       "   3 │ Mars       0.107     1.88      1.5   6.39004e23\n",
       "   4 │ Jupiter  317.8      11.86      5.2   1.8979e27"
      ]
     },
     "execution_count": 50,
     "metadata": {},
     "output_type": "execute_result"
    }
   ],
   "source": [
    "df"
   ]
  },
  {
   "cell_type": "markdown",
   "metadata": {
    "slideshow": {
     "slide_type": "subslide"
    }
   },
   "source": [
    "### Looking into the data"
   ]
  },
  {
   "cell_type": "code",
   "execution_count": 51,
   "metadata": {
    "slideshow": {
     "slide_type": "fragment"
    }
   },
   "outputs": [
    {
     "data": {
      "text/html": [
       "<div class=\"data-frame\"><p>3 rows × 5 columns</p><table class=\"data-frame\"><thead><tr><th></th><th>name</th><th>mass</th><th>period</th><th>distance</th><th>mass [kg]</th></tr><tr><th></th><th title=\"String\">String</th><th title=\"Float64\">Float64</th><th title=\"Float64\">Float64</th><th title=\"Float64\">Float64</th><th title=\"Float64\">Float64</th></tr></thead><tbody><tr><th>1</th><td>Venus</td><td>0.815</td><td>0.62</td><td>0.72</td><td>4.86718e24</td></tr><tr><th>2</th><td>Earth</td><td>1.0</td><td>1.0</td><td>1.0</td><td>5.972e24</td></tr><tr><th>3</th><td>Mars</td><td>0.107</td><td>1.88</td><td>1.5</td><td>6.39004e23</td></tr></tbody></table></div>"
      ],
      "text/latex": [
       "\\begin{tabular}{r|ccccc}\n",
       "\t& name & mass & period & distance & mass [kg]\\\\\n",
       "\t\\hline\n",
       "\t& String & Float64 & Float64 & Float64 & Float64\\\\\n",
       "\t\\hline\n",
       "\t1 & Venus & 0.815 & 0.62 & 0.72 & 4.86718e24 \\\\\n",
       "\t2 & Earth & 1.0 & 1.0 & 1.0 & 5.972e24 \\\\\n",
       "\t3 & Mars & 0.107 & 1.88 & 1.5 & 6.39004e23 \\\\\n",
       "\\end{tabular}\n"
      ],
      "text/plain": [
       "\u001b[1m3×5 DataFrame\u001b[0m\n",
       "\u001b[1m Row \u001b[0m│\u001b[1m name   \u001b[0m\u001b[1m mass    \u001b[0m\u001b[1m period  \u001b[0m\u001b[1m distance \u001b[0m\u001b[1m mass [kg]  \u001b[0m\n",
       "\u001b[1m     \u001b[0m│\u001b[90m String \u001b[0m\u001b[90m Float64 \u001b[0m\u001b[90m Float64 \u001b[0m\u001b[90m Float64  \u001b[0m\u001b[90m Float64    \u001b[0m\n",
       "─────┼────────────────────────────────────────────────\n",
       "   1 │ Venus     0.815     0.62      0.72  4.86718e24\n",
       "   2 │ Earth     1.0       1.0       1.0   5.972e24\n",
       "   3 │ Mars      0.107     1.88      1.5   6.39004e23"
      ]
     },
     "execution_count": 51,
     "metadata": {},
     "output_type": "execute_result"
    }
   ],
   "source": [
    "first(df,3) # First entries"
   ]
  },
  {
   "cell_type": "code",
   "execution_count": 52,
   "metadata": {
    "slideshow": {
     "slide_type": "fragment"
    }
   },
   "outputs": [
    {
     "data": {
      "text/html": [
       "<div class=\"data-frame\"><p>2 rows × 5 columns</p><table class=\"data-frame\"><thead><tr><th></th><th>name</th><th>mass</th><th>period</th><th>distance</th><th>mass [kg]</th></tr><tr><th></th><th title=\"String\">String</th><th title=\"Float64\">Float64</th><th title=\"Float64\">Float64</th><th title=\"Float64\">Float64</th><th title=\"Float64\">Float64</th></tr></thead><tbody><tr><th>1</th><td>Mars</td><td>0.107</td><td>1.88</td><td>1.5</td><td>6.39004e23</td></tr><tr><th>2</th><td>Jupiter</td><td>317.8</td><td>11.86</td><td>5.2</td><td>1.8979e27</td></tr></tbody></table></div>"
      ],
      "text/latex": [
       "\\begin{tabular}{r|ccccc}\n",
       "\t& name & mass & period & distance & mass [kg]\\\\\n",
       "\t\\hline\n",
       "\t& String & Float64 & Float64 & Float64 & Float64\\\\\n",
       "\t\\hline\n",
       "\t1 & Mars & 0.107 & 1.88 & 1.5 & 6.39004e23 \\\\\n",
       "\t2 & Jupiter & 317.8 & 11.86 & 5.2 & 1.8979e27 \\\\\n",
       "\\end{tabular}\n"
      ],
      "text/plain": [
       "\u001b[1m2×5 DataFrame\u001b[0m\n",
       "\u001b[1m Row \u001b[0m│\u001b[1m name    \u001b[0m\u001b[1m mass    \u001b[0m\u001b[1m period  \u001b[0m\u001b[1m distance \u001b[0m\u001b[1m mass [kg]  \u001b[0m\n",
       "\u001b[1m     \u001b[0m│\u001b[90m String  \u001b[0m\u001b[90m Float64 \u001b[0m\u001b[90m Float64 \u001b[0m\u001b[90m Float64  \u001b[0m\u001b[90m Float64    \u001b[0m\n",
       "─────┼─────────────────────────────────────────────────\n",
       "   1 │ Mars       0.107     1.88       1.5  6.39004e23\n",
       "   2 │ Jupiter  317.8      11.86       5.2  1.8979e27"
      ]
     },
     "execution_count": 52,
     "metadata": {},
     "output_type": "execute_result"
    }
   ],
   "source": [
    "last(df,2) # Last entries"
   ]
  },
  {
   "cell_type": "code",
   "execution_count": 57,
   "metadata": {
    "slideshow": {
     "slide_type": "slide"
    }
   },
   "outputs": [
    {
     "data": {
      "text/html": [
       "<div class=\"data-frame\"><p>5 rows × 7 columns</p><table class=\"data-frame\"><thead><tr><th></th><th>variable</th><th>mean</th><th>min</th><th>median</th><th>max</th><th>nmissing</th><th>eltype</th></tr><tr><th></th><th title=\"Symbol\">Symbol</th><th title=\"Union{Nothing, Float64}\">Union…</th><th title=\"Any\">Any</th><th title=\"Union{Nothing, Float64}\">Union…</th><th title=\"Any\">Any</th><th title=\"Int64\">Int64</th><th title=\"DataType\">DataType</th></tr></thead><tbody><tr><th>1</th><td>name</td><td></td><td>Earth</td><td></td><td>Venus</td><td>0</td><td>String</td></tr><tr><th>2</th><td>mass</td><td>79.9305</td><td>0.107</td><td>0.9075</td><td>317.8</td><td>0</td><td>Float64</td></tr><tr><th>3</th><td>period</td><td>3.84</td><td>0.62</td><td>1.44</td><td>11.86</td><td>0</td><td>Float64</td></tr><tr><th>4</th><td>distance</td><td>2.105</td><td>0.72</td><td>1.25</td><td>5.2</td><td>0</td><td>Float64</td></tr><tr><th>5</th><td>mass [kg]</td><td>4.77345e26</td><td>6.39004e23</td><td>5.41959e24</td><td>1.8979e27</td><td>0</td><td>Float64</td></tr></tbody></table></div>"
      ],
      "text/latex": [
       "\\begin{tabular}{r|ccccccc}\n",
       "\t& variable & mean & min & median & max & nmissing & eltype\\\\\n",
       "\t\\hline\n",
       "\t& Symbol & Union… & Any & Union… & Any & Int64 & DataType\\\\\n",
       "\t\\hline\n",
       "\t1 & name &  & Earth &  & Venus & 0 & String \\\\\n",
       "\t2 & mass & 79.9305 & 0.107 & 0.9075 & 317.8 & 0 & Float64 \\\\\n",
       "\t3 & period & 3.84 & 0.62 & 1.44 & 11.86 & 0 & Float64 \\\\\n",
       "\t4 & distance & 2.105 & 0.72 & 1.25 & 5.2 & 0 & Float64 \\\\\n",
       "\t5 & mass [kg] & 4.77345e26 & 6.39004e23 & 5.41959e24 & 1.8979e27 & 0 & Float64 \\\\\n",
       "\\end{tabular}\n"
      ],
      "text/plain": [
       "\u001b[1m5×7 DataFrame\u001b[0m\n",
       "\u001b[1m Row \u001b[0m│\u001b[1m variable  \u001b[0m\u001b[1m mean       \u001b[0m\u001b[1m min        \u001b[0m\u001b[1m median     \u001b[0m\u001b[1m max       \u001b[0m\u001b[1m nmissing \u001b[0m\u001b[1m elt\u001b[0m ⋯\n",
       "\u001b[1m     \u001b[0m│\u001b[90m Symbol    \u001b[0m\u001b[90m Union…     \u001b[0m\u001b[90m Any        \u001b[0m\u001b[90m Union…     \u001b[0m\u001b[90m Any       \u001b[0m\u001b[90m Int64    \u001b[0m\u001b[90m Dat\u001b[0m ⋯\n",
       "─────┼──────────────────────────────────────────────────────────────────────────\n",
       "   1 │ name      \u001b[90m            \u001b[0m Earth      \u001b[90m            \u001b[0m Venus             0  Str ⋯\n",
       "   2 │ mass       79.9305     0.107       0.9075      317.8             0  Flo\n",
       "   3 │ period     3.84        0.62        1.44        11.86             0  Flo\n",
       "   4 │ distance   2.105       0.72        1.25        5.2               0  Flo\n",
       "   5 │ mass [kg]  4.77345e26  6.39004e23  5.41959e24  1.8979e27         0  Flo ⋯\n",
       "\u001b[36m                                                                1 column omitted\u001b[0m"
      ]
     },
     "execution_count": 57,
     "metadata": {},
     "output_type": "execute_result"
    }
   ],
   "source": [
    "describe(df)"
   ]
  },
  {
   "cell_type": "markdown",
   "metadata": {
    "slideshow": {
     "slide_type": "slide"
    }
   },
   "source": [
    "## Indexing and Slicing\n",
    "\n",
    "There are different ways to index/slice data in pandas."
   ]
  },
  {
   "cell_type": "code",
   "execution_count": 54,
   "metadata": {
    "scrolled": true
   },
   "outputs": [
    {
     "data": {
      "text/html": [
       "<div class=\"data-frame\"><p>2 rows × 5 columns</p><table class=\"data-frame\"><thead><tr><th></th><th>name</th><th>mass</th><th>period</th><th>distance</th><th>mass [kg]</th></tr><tr><th></th><th title=\"String\">String</th><th title=\"Float64\">Float64</th><th title=\"Float64\">Float64</th><th title=\"Float64\">Float64</th><th title=\"Float64\">Float64</th></tr></thead><tbody><tr><th>1</th><td>Venus</td><td>0.815</td><td>0.62</td><td>0.72</td><td>4.86718e24</td></tr><tr><th>2</th><td>Earth</td><td>1.0</td><td>1.0</td><td>1.0</td><td>5.972e24</td></tr></tbody></table></div>"
      ],
      "text/latex": [
       "\\begin{tabular}{r|ccccc}\n",
       "\t& name & mass & period & distance & mass [kg]\\\\\n",
       "\t\\hline\n",
       "\t& String & Float64 & Float64 & Float64 & Float64\\\\\n",
       "\t\\hline\n",
       "\t1 & Venus & 0.815 & 0.62 & 0.72 & 4.86718e24 \\\\\n",
       "\t2 & Earth & 1.0 & 1.0 & 1.0 & 5.972e24 \\\\\n",
       "\\end{tabular}\n"
      ],
      "text/plain": [
       "\u001b[1m2×5 DataFrame\u001b[0m\n",
       "\u001b[1m Row \u001b[0m│\u001b[1m name   \u001b[0m\u001b[1m mass    \u001b[0m\u001b[1m period  \u001b[0m\u001b[1m distance \u001b[0m\u001b[1m mass [kg]  \u001b[0m\n",
       "\u001b[1m     \u001b[0m│\u001b[90m String \u001b[0m\u001b[90m Float64 \u001b[0m\u001b[90m Float64 \u001b[0m\u001b[90m Float64  \u001b[0m\u001b[90m Float64    \u001b[0m\n",
       "─────┼────────────────────────────────────────────────\n",
       "   1 │ Venus     0.815     0.62      0.72  4.86718e24\n",
       "   2 │ Earth     1.0       1.0       1.0   5.972e24"
      ]
     },
     "execution_count": 54,
     "metadata": {},
     "output_type": "execute_result"
    }
   ],
   "source": [
    "df[1:2,:]"
   ]
  },
  {
   "cell_type": "code",
   "execution_count": 55,
   "metadata": {
    "slideshow": {
     "slide_type": "fragment"
    }
   },
   "outputs": [
    {
     "data": {
      "text/html": [
       "<div class=\"data-frame\"><p>2 rows × 2 columns</p><table class=\"data-frame\"><thead><tr><th></th><th>mass</th><th>period</th></tr><tr><th></th><th title=\"Float64\">Float64</th><th title=\"Float64\">Float64</th></tr></thead><tbody><tr><th>1</th><td>0.815</td><td>0.62</td></tr><tr><th>2</th><td>1.0</td><td>1.0</td></tr></tbody></table></div>"
      ],
      "text/latex": [
       "\\begin{tabular}{r|cc}\n",
       "\t& mass & period\\\\\n",
       "\t\\hline\n",
       "\t& Float64 & Float64\\\\\n",
       "\t\\hline\n",
       "\t1 & 0.815 & 0.62 \\\\\n",
       "\t2 & 1.0 & 1.0 \\\\\n",
       "\\end{tabular}\n"
      ],
      "text/plain": [
       "\u001b[1m2×2 DataFrame\u001b[0m\n",
       "\u001b[1m Row \u001b[0m│\u001b[1m mass    \u001b[0m\u001b[1m period  \u001b[0m\n",
       "\u001b[1m     \u001b[0m│\u001b[90m Float64 \u001b[0m\u001b[90m Float64 \u001b[0m\n",
       "─────┼──────────────────\n",
       "   1 │   0.815     0.62\n",
       "   2 │   1.0       1.0"
      ]
     },
     "execution_count": 55,
     "metadata": {},
     "output_type": "execute_result"
    }
   ],
   "source": [
    "df[1:2, 2:3]"
   ]
  },
  {
   "cell_type": "code",
   "execution_count": 56,
   "metadata": {
    "slideshow": {
     "slide_type": "fragment"
    }
   },
   "outputs": [
    {
     "data": {
      "text/html": [
       "<div class=\"data-frame\"><p>2 rows × 2 columns</p><table class=\"data-frame\"><thead><tr><th></th><th>name</th><th>mass</th></tr><tr><th></th><th title=\"String\">String</th><th title=\"Float64\">Float64</th></tr></thead><tbody><tr><th>1</th><td>Venus</td><td>0.815</td></tr><tr><th>2</th><td>Earth</td><td>1.0</td></tr></tbody></table></div>"
      ],
      "text/latex": [
       "\\begin{tabular}{r|cc}\n",
       "\t& name & mass\\\\\n",
       "\t\\hline\n",
       "\t& String & Float64\\\\\n",
       "\t\\hline\n",
       "\t1 & Venus & 0.815 \\\\\n",
       "\t2 & Earth & 1.0 \\\\\n",
       "\\end{tabular}\n"
      ],
      "text/plain": [
       "\u001b[1m2×2 DataFrame\u001b[0m\n",
       "\u001b[1m Row \u001b[0m│\u001b[1m name   \u001b[0m\u001b[1m mass    \u001b[0m\n",
       "\u001b[1m     \u001b[0m│\u001b[90m String \u001b[0m\u001b[90m Float64 \u001b[0m\n",
       "─────┼─────────────────\n",
       "   1 │ Venus     0.815\n",
       "   2 │ Earth     1.0"
      ]
     },
     "execution_count": 56,
     "metadata": {},
     "output_type": "execute_result"
    }
   ],
   "source": [
    "df[1:2,[\"name\", \"mass\"]]"
   ]
  },
  {
   "cell_type": "markdown",
   "metadata": {},
   "source": [
    "---\n",
    "## Reading a File "
   ]
  },
  {
   "cell_type": "markdown",
   "metadata": {},
   "source": [
    "We will use, as an example, a catalog of all official named stars collected by the IAU in .csv format available at\n",
    "https://www.kaggle.com/ecotner/named-stars \n",
    "\n",
    "This catalog contains 330 stars and the following columns:\n",
    "\n",
    "* **Name**: Proper name adopted by IAU Working Group on Star Names (WGSN).\n",
    "\n",
    "* **Designation**: Fiducial designation (in order of preference and availability):\n",
    "HR, GJ, HD, HIP, PSR. (see SIMBAD; http://simbad.u-strasbg.fr/simbad/).\n",
    "\n",
    "* **ID**: ID column is either (in order of preference and availability)\n",
    "Bayer greek letter (using SIMBAD databases; e.g. \"alf\" = alpha; see table http://simbad.u-strasbg.fr/Pages/guide/chA.htx), Flamsteed numbers (both following The Bright Star Catalogue [BSC], 5th Revised Ed. (Hoffleit & Warren 1991), or variable star designations.\n",
    "\n",
    "* **Con**: Constellation (3-letter IAU abbrev.; following \"The IAU Style Manual\", Wilkins 1989, Table 11).\n",
    "\n",
    "* **#**: The \"#\" after the constellation column is the component ID to Washington Double Star (WDS) catalog multiple system, if needed (e.g. Proxima Centauri = alf Cen \"C\"), but may be left blank (\"-\") where the primary, by visual brightness, is unambiguous (blank = A) or if the other WDS catalogue entries are obviously unphysical (i.e. the star appears to have no known physical stellar companions). Component IDs are also given where the star does not have a WDS entry (i.e. is not a resolved multiple), but the star is either known to be a spectroscopic binary or astrometric binary in the literature (usually a \"A\" or \"Aa\" is given in those cases, e.g. Wezen). Many thanks to Brian Mason (IAU Commission G1 Binary and Multiple Star Systems) for help with vetting the WDS designations and IDs.\n",
    "\n",
    "* **WDS_J**: WDS designation for multiple systems (or candidate multiple systems), the official double star catalogue of IAU Commission 26 (now G1).\n",
    "\n",
    "* **Vmag**: Johnson V magnitude. For multiple stars, the V magnitude of the component is listed where available or calculable, however in some cases (e.g. some spectroscopic binaries, astrometric binaries), the unresolved magnitude is listed. Magnitudes are preferentially from The Hipparcos and Tycho catalogues (ESA 1997) and WDS.\n",
    "\n",
    "* **HIP**: HIP designations from The Hipparcos and Tycho Catalogues (ESA 1997).\n",
    "\n",
    "* **HD**: HD designations, usually cross-identified from SIMBAD, BSC, HIP catalogues.\n",
    "\n",
    "* **RA(J2000)**: Right Ascension, ICRS (epoch 2000.0)\n",
    "\n",
    "* **Dec(J2000)**: Declination, ICRS (epoch 2000.0)Columns 10 and 11 are calculated with Vizier for epoch 2000.0, usually using positions and proper motions from the revised Hipparcos catalogue (\"Hipparcos, the New Reduction of the Raw Data\" (van Leeuwen 2007 A&A, 474, 653), Gaia DR1 (Gaia Collaboration 2016) or Tycho-2 catalogue (Hog et al. 2000, A&A, 355, L27).\n",
    "\n",
    "* **Date**: Date approved by WGSN. Names marked approved \"2015-12-15\" are exoplanet host star names - a mix of common names and names adopted via the NameExoWorlds contest - reviewed and adopted by the Executive Committee WG Public Naming of Planets and Planetary Satellites, and recognized by WGSN (although the posted date pre-dates WGSN)."
   ]
  },
  {
   "cell_type": "code",
   "execution_count": 58,
   "metadata": {
    "scrolled": false
   },
   "outputs": [
    {
     "data": {
      "text/html": [
       "<div class=\"data-frame\"><p>330 rows × 13 columns (omitted printing of 5 columns)</p><table class=\"data-frame\"><thead><tr><th></th><th>Column1</th><th>Name</th><th>Designation</th><th>ID</th><th>Con</th><th>#</th><th>WDS_J</th><th>Vmag</th></tr><tr><th></th><th title=\"Int64\">Int64</th><th title=\"String31\">String31</th><th title=\"String15\">String15</th><th title=\"String7\">String7</th><th title=\"String3\">String3</th><th title=\"String3\">String3</th><th title=\"String15\">String15</th><th title=\"String7\">String7</th></tr></thead><tbody><tr><th>1</th><td>0</td><td>Acamar</td><td>HR 897</td><td>tet01</td><td>Eri</td><td>A</td><td>02583-4018</td><td>2.88</td></tr><tr><th>2</th><td>1</td><td>Achernar</td><td>HR 472</td><td>alf</td><td>Eri</td><td>A</td><td>-</td><td>0.45</td></tr><tr><th>3</th><td>2</td><td>Achird</td><td>HR 219</td><td>eta</td><td>Cas</td><td>A</td><td>00491+5749</td><td>3.46</td></tr><tr><th>4</th><td>3</td><td>Acrab</td><td>HR 5984</td><td>bet</td><td>Sco</td><td>Aa</td><td>16054-1948</td><td>2.56</td></tr><tr><th>5</th><td>4</td><td>Acrux</td><td>HR 4730</td><td>alf</td><td>Cru</td><td>Aa</td><td>12266-6306</td><td>1.33</td></tr><tr><th>6</th><td>5</td><td>Acubens</td><td>HR 3572</td><td>alf</td><td>Cnc</td><td>Aa</td><td>08585+1151</td><td>4.26</td></tr><tr><th>7</th><td>6</td><td>Adhafera</td><td>HR 4031</td><td>zet</td><td>Leo</td><td>Aa</td><td>10167+2325</td><td>3.43</td></tr><tr><th>8</th><td>7</td><td>Adhara</td><td>HR 2618</td><td>eps</td><td>CMa</td><td>A</td><td>06586-2858</td><td>1.50</td></tr><tr><th>9</th><td>8</td><td>Adhil</td><td>HR 390</td><td>ksi</td><td>And</td><td>-</td><td>-</td><td>4.87</td></tr><tr><th>10</th><td>9</td><td>Ain</td><td>HR 1409</td><td>eps</td><td>Tau</td><td>Aa1</td><td>04286+1911</td><td>3.53</td></tr><tr><th>11</th><td>10</td><td>Ainalrami</td><td>HR 7116</td><td>nu01</td><td>Sgr</td><td>A</td><td>18542-2245</td><td>4.86</td></tr><tr><th>12</th><td>11</td><td>Aladfar</td><td>HR 7298</td><td>eta</td><td>Lyr</td><td>Aa</td><td>19138+3909</td><td>4.43</td></tr><tr><th>13</th><td>12</td><td>Albaldah</td><td>HR 7264</td><td>pi</td><td>Sgr</td><td>A</td><td>19098-2101</td><td>2.88</td></tr><tr><th>14</th><td>13</td><td>Albali</td><td>HR 7950</td><td>eps</td><td>Aqr</td><td>-</td><td>-</td><td>3.78</td></tr><tr><th>15</th><td>14</td><td>Albireo</td><td>HR 7417</td><td>bet</td><td>Cyg</td><td>Aa</td><td>19307+2758</td><td>3.37</td></tr><tr><th>16</th><td>15</td><td>Alchiba</td><td>HR 4623</td><td>alf</td><td>Crv</td><td>-</td><td>-</td><td>4.02</td></tr><tr><th>17</th><td>16</td><td>Alcor</td><td>HR 5062</td><td>80</td><td>UMa</td><td>Ca</td><td>13239+5456</td><td>3.99</td></tr><tr><th>18</th><td>17</td><td>Alcyone</td><td>HR 1165</td><td>eta</td><td>Tau</td><td>A</td><td>03475+2406</td><td>2.85</td></tr><tr><th>19</th><td>18</td><td>Aldebaran</td><td>HR 1457</td><td>alf</td><td>Tau</td><td>-</td><td>04359+1631</td><td>0.87</td></tr><tr><th>20</th><td>19</td><td>Alderamin</td><td>HR 8162</td><td>alf</td><td>Cep</td><td>-</td><td>21186+6235</td><td>2.45</td></tr><tr><th>21</th><td>20</td><td>Aldhanab</td><td>HR 8353</td><td>gam</td><td>Gru</td><td>-</td><td>-</td><td>3.00</td></tr><tr><th>22</th><td>21</td><td>Aldhibah</td><td>HR 6396</td><td>zet</td><td>Dra</td><td>A</td><td>17088+6543</td><td>3.17</td></tr><tr><th>23</th><td>22</td><td>Aldulfin</td><td>HR 7852</td><td>eps</td><td>Del</td><td>-</td><td>-</td><td>4.03</td></tr><tr><th>24</th><td>23</td><td>Alfirk</td><td>HR 8238</td><td>bet</td><td>Cep</td><td>Aa</td><td>21287+7034</td><td>3.23</td></tr><tr><th>25</th><td>24</td><td>Algedi</td><td>HR 7754</td><td>alf02</td><td>Cap</td><td>A</td><td>20181-1233</td><td>3.58</td></tr><tr><th>26</th><td>25</td><td>Algenib</td><td>HR 39</td><td>gam</td><td>Peg</td><td>-</td><td>00132+1511</td><td>2.83</td></tr><tr><th>27</th><td>26</td><td>Algieba</td><td>HR 4057</td><td>gam01</td><td>Leo</td><td>-</td><td>10200+1950</td><td>2.61</td></tr><tr><th>28</th><td>27</td><td>Algol</td><td>HR 936</td><td>bet</td><td>Per</td><td>Aa1</td><td>03082+4057</td><td>2.09</td></tr><tr><th>29</th><td>28</td><td>Algorab</td><td>HR 4757</td><td>del</td><td>Crv</td><td>A</td><td>12299-1631</td><td>2.94</td></tr><tr><th>30</th><td>29</td><td>Alhena</td><td>HR 2421</td><td>gam</td><td>Gem</td><td>Aa</td><td>06377+1624</td><td>1.93</td></tr><tr><th>&vellip;</th><td>&vellip;</td><td>&vellip;</td><td>&vellip;</td><td>&vellip;</td><td>&vellip;</td><td>&vellip;</td><td>&vellip;</td><td>&vellip;</td></tr></tbody></table></div>"
      ],
      "text/latex": [
       "\\begin{tabular}{r|ccccccccc}\n",
       "\t& Column1 & Name & Designation & ID & Con & \\# & WDS\\_J & Vmag & \\\\\n",
       "\t\\hline\n",
       "\t& Int64 & String31 & String15 & String7 & String3 & String3 & String15 & String7 & \\\\\n",
       "\t\\hline\n",
       "\t1 & 0 & Acamar & HR 897 & tet01 & Eri & A & 02583-4018 & 2.88 & $\\dots$ \\\\\n",
       "\t2 & 1 & Achernar & HR 472 & alf & Eri & A & - & 0.45 & $\\dots$ \\\\\n",
       "\t3 & 2 & Achird & HR 219 & eta & Cas & A & 00491+5749 & 3.46 & $\\dots$ \\\\\n",
       "\t4 & 3 & Acrab & HR 5984 & bet & Sco & Aa & 16054-1948 & 2.56 & $\\dots$ \\\\\n",
       "\t5 & 4 & Acrux & HR 4730 & alf & Cru & Aa & 12266-6306 & 1.33 & $\\dots$ \\\\\n",
       "\t6 & 5 & Acubens & HR 3572 & alf & Cnc & Aa & 08585+1151 & 4.26 & $\\dots$ \\\\\n",
       "\t7 & 6 & Adhafera & HR 4031 & zet & Leo & Aa & 10167+2325 & 3.43 & $\\dots$ \\\\\n",
       "\t8 & 7 & Adhara & HR 2618 & eps & CMa & A & 06586-2858 & 1.50 & $\\dots$ \\\\\n",
       "\t9 & 8 & Adhil & HR 390 & ksi & And & - & - & 4.87 & $\\dots$ \\\\\n",
       "\t10 & 9 & Ain & HR 1409 & eps & Tau & Aa1 & 04286+1911 & 3.53 & $\\dots$ \\\\\n",
       "\t11 & 10 & Ainalrami & HR 7116 & nu01 & Sgr & A & 18542-2245 & 4.86 & $\\dots$ \\\\\n",
       "\t12 & 11 & Aladfar & HR 7298 & eta & Lyr & Aa & 19138+3909 & 4.43 & $\\dots$ \\\\\n",
       "\t13 & 12 & Albaldah & HR 7264 & pi & Sgr & A & 19098-2101 & 2.88 & $\\dots$ \\\\\n",
       "\t14 & 13 & Albali & HR 7950 & eps & Aqr & - & - & 3.78 & $\\dots$ \\\\\n",
       "\t15 & 14 & Albireo & HR 7417 & bet & Cyg & Aa & 19307+2758 & 3.37 & $\\dots$ \\\\\n",
       "\t16 & 15 & Alchiba & HR 4623 & alf & Crv & - & - & 4.02 & $\\dots$ \\\\\n",
       "\t17 & 16 & Alcor & HR 5062 & 80 & UMa & Ca & 13239+5456 & 3.99 & $\\dots$ \\\\\n",
       "\t18 & 17 & Alcyone & HR 1165 & eta & Tau & A & 03475+2406 & 2.85 & $\\dots$ \\\\\n",
       "\t19 & 18 & Aldebaran & HR 1457 & alf & Tau & - & 04359+1631 & 0.87 & $\\dots$ \\\\\n",
       "\t20 & 19 & Alderamin & HR 8162 & alf & Cep & - & 21186+6235 & 2.45 & $\\dots$ \\\\\n",
       "\t21 & 20 & Aldhanab & HR 8353 & gam & Gru & - & - & 3.00 & $\\dots$ \\\\\n",
       "\t22 & 21 & Aldhibah & HR 6396 & zet & Dra & A & 17088+6543 & 3.17 & $\\dots$ \\\\\n",
       "\t23 & 22 & Aldulfin & HR 7852 & eps & Del & - & - & 4.03 & $\\dots$ \\\\\n",
       "\t24 & 23 & Alfirk & HR 8238 & bet & Cep & Aa & 21287+7034 & 3.23 & $\\dots$ \\\\\n",
       "\t25 & 24 & Algedi & HR 7754 & alf02 & Cap & A & 20181-1233 & 3.58 & $\\dots$ \\\\\n",
       "\t26 & 25 & Algenib & HR 39 & gam & Peg & - & 00132+1511 & 2.83 & $\\dots$ \\\\\n",
       "\t27 & 26 & Algieba & HR 4057 & gam01 & Leo & - & 10200+1950 & 2.61 & $\\dots$ \\\\\n",
       "\t28 & 27 & Algol & HR 936 & bet & Per & Aa1 & 03082+4057 & 2.09 & $\\dots$ \\\\\n",
       "\t29 & 28 & Algorab & HR 4757 & del & Crv & A & 12299-1631 & 2.94 & $\\dots$ \\\\\n",
       "\t30 & 29 & Alhena & HR 2421 & gam & Gem & Aa & 06377+1624 & 1.93 & $\\dots$ \\\\\n",
       "\t$\\dots$ & $\\dots$ & $\\dots$ & $\\dots$ & $\\dots$ & $\\dots$ & $\\dots$ & $\\dots$ & $\\dots$ &  \\\\\n",
       "\\end{tabular}\n"
      ],
      "text/plain": [
       "\u001b[1m330×13 DataFrame\u001b[0m\n",
       "\u001b[1m Row \u001b[0m│\u001b[1m Column1 \u001b[0m\u001b[1m Name           \u001b[0m\u001b[1m Designation \u001b[0m\u001b[1m ID      \u001b[0m\u001b[1m Con     \u001b[0m\u001b[1m #       \u001b[0m\u001b[1m WDS_J \u001b[0m ⋯\n",
       "\u001b[1m     \u001b[0m│\u001b[90m Int64   \u001b[0m\u001b[90m String31       \u001b[0m\u001b[90m String15    \u001b[0m\u001b[90m String7 \u001b[0m\u001b[90m String3 \u001b[0m\u001b[90m String3 \u001b[0m\u001b[90m String\u001b[0m ⋯\n",
       "─────┼──────────────────────────────────────────────────────────────────────────\n",
       "   1 │       0  Acamar          HR 897       tet01    Eri      A        02583- ⋯\n",
       "   2 │       1  Achernar        HR 472       alf      Eri      A        -\n",
       "   3 │       2  Achird          HR 219       eta      Cas      A        00491+\n",
       "   4 │       3  Acrab           HR 5984      bet      Sco      Aa       16054-\n",
       "   5 │       4  Acrux           HR 4730      alf      Cru      Aa       12266- ⋯\n",
       "   6 │       5  Acubens         HR 3572      alf      Cnc      Aa       08585+\n",
       "   7 │       6  Adhafera        HR 4031      zet      Leo      Aa       10167+\n",
       "   8 │       7  Adhara          HR 2618      eps      CMa      A        06586-\n",
       "   9 │       8  Adhil           HR 390       ksi      And      -        -      ⋯\n",
       "  10 │       9  Ain             HR 1409      eps      Tau      Aa1      04286+\n",
       "  11 │      10  Ainalrami       HR 7116      nu01     Sgr      A        18542-\n",
       "  ⋮  │    ⋮           ⋮              ⋮          ⋮        ⋮        ⋮         ⋮  ⋱\n",
       " 321 │     320  Yildun          HR 6789      del      UMi      -        17322+\n",
       " 322 │     321  Zaniah          HR 4689      eta      Vir      Aa       12199- ⋯\n",
       " 323 │     322  Zaurak          HR 1231      gam      Eri      -        03580-\n",
       " 324 │     323  Zavijava        HR 4540      bet      Vir      -        11507+\n",
       " 325 │     324  Zhang           HR 3903      ups01    Hya      A        -\n",
       " 326 │     325  Zibal           HR 984       zet      Eri      Aa       03158- ⋯\n",
       " 327 │     326  Zosma           HR 4357      del      Leo      -        11141+\n",
       " 328 │     327  Zubenelgenubi   HR 5531      alf02    Lib      Aa       14509-\n",
       " 329 │     328  Zubenelhakrabi  HR 5787      gam      Lib      A        15355-\n",
       " 330 │     329  Zubeneschamali  HR 5685      bet      Lib      -        -      ⋯\n",
       "\u001b[36m                                                  7 columns and 309 rows omitted\u001b[0m"
      ]
     },
     "execution_count": 58,
     "metadata": {},
     "output_type": "execute_result"
    }
   ],
   "source": [
    "using CSV\n",
    "df = DataFrame(CSV.File(\"IAU-CSN.csv\"))\n",
    "df"
   ]
  },
  {
   "cell_type": "code",
   "execution_count": 59,
   "metadata": {
    "scrolled": true
   },
   "outputs": [
    {
     "data": {
      "text/html": [
       "<div class=\"data-frame\"><p>13 rows × 7 columns</p><table class=\"data-frame\"><thead><tr><th></th><th>variable</th><th>mean</th><th>min</th><th>median</th><th>max</th><th>nmissing</th><th>eltype</th></tr><tr><th></th><th title=\"Symbol\">Symbol</th><th title=\"Union{Nothing, Float64}\">Union…</th><th title=\"Any\">Any</th><th title=\"Any\">Any</th><th title=\"Any\">Any</th><th title=\"Int64\">Int64</th><th title=\"DataType\">DataType</th></tr></thead><tbody><tr><th>1</th><td>Column1</td><td>164.5</td><td>0</td><td>164.5</td><td>329</td><td>0</td><td>Int64</td></tr><tr><th>2</th><td>Name</td><td></td><td>Acamar</td><td></td><td>Zubeneschamali</td><td>0</td><td>String31</td></tr><tr><th>3</th><td>Designation</td><td></td><td>GJ 551</td><td></td><td>PSR B1257+12</td><td>0</td><td>String15</td></tr><tr><th>4</th><td>ID</td><td></td><td>-</td><td></td><td>zet01</td><td>0</td><td>String7</td></tr><tr><th>5</th><td>Con</td><td></td><td>And</td><td></td><td>Vul</td><td>0</td><td>String3</td></tr><tr><th>6</th><td>#</td><td></td><td>-</td><td></td><td>_</td><td>0</td><td>String3</td></tr><tr><th>7</th><td>WDS_J</td><td></td><td>-</td><td></td><td>_</td><td>0</td><td>String15</td></tr><tr><th>8</th><td>Vmag</td><td></td><td>-</td><td></td><td>9.54</td><td>0</td><td>String7</td></tr><tr><th>9</th><td>HIP</td><td></td><td>-</td><td></td><td>9884</td><td>0</td><td>String7</td></tr><tr><th>10</th><td>HD</td><td></td><td>-</td><td></td><td>999999</td><td>0</td><td>String7</td></tr><tr><th>11</th><td>RA(J2000)</td><td>177.577</td><td>2.09692</td><td>182.98</td><td>354.837</td><td>0</td><td>Float64</td></tr><tr><th>12</th><td>Dec(J2000)</td><td>9.1767</td><td>-88.9565</td><td>12.2636</td><td>89.2641</td><td>0</td><td>Float64</td></tr><tr><th>13</th><td>Date</td><td></td><td>2015-12-15</td><td>2016-08-21</td><td>2018-06-01</td><td>0</td><td>Date</td></tr></tbody></table></div>"
      ],
      "text/latex": [
       "\\begin{tabular}{r|ccccccc}\n",
       "\t& variable & mean & min & median & max & nmissing & eltype\\\\\n",
       "\t\\hline\n",
       "\t& Symbol & Union… & Any & Any & Any & Int64 & DataType\\\\\n",
       "\t\\hline\n",
       "\t1 & Column1 & 164.5 & 0 & 164.5 & 329 & 0 & Int64 \\\\\n",
       "\t2 & Name &  & Acamar &  & Zubeneschamali & 0 & String31 \\\\\n",
       "\t3 & Designation &  & GJ 551 &  & PSR B1257+12 & 0 & String15 \\\\\n",
       "\t4 & ID &  & - &  & zet01 & 0 & String7 \\\\\n",
       "\t5 & Con &  & And &  & Vul & 0 & String3 \\\\\n",
       "\t6 & \\# &  & - &  & \\_ & 0 & String3 \\\\\n",
       "\t7 & WDS\\_J &  & - &  & \\_ & 0 & String15 \\\\\n",
       "\t8 & Vmag &  & - &  & 9.54 & 0 & String7 \\\\\n",
       "\t9 & HIP &  & - &  & 9884 & 0 & String7 \\\\\n",
       "\t10 & HD &  & - &  & 999999 & 0 & String7 \\\\\n",
       "\t11 & RA(J2000) & 177.577 & 2.09692 & 182.98 & 354.837 & 0 & Float64 \\\\\n",
       "\t12 & Dec(J2000) & 9.1767 & -88.9565 & 12.2636 & 89.2641 & 0 & Float64 \\\\\n",
       "\t13 & Date &  & 2015-12-15 & 2016-08-21 & 2018-06-01 & 0 & Date \\\\\n",
       "\\end{tabular}\n"
      ],
      "text/plain": [
       "\u001b[1m13×7 DataFrame\u001b[0m\n",
       "\u001b[1m Row \u001b[0m│\u001b[1m variable    \u001b[0m\u001b[1m mean    \u001b[0m\u001b[1m min        \u001b[0m\u001b[1m median     \u001b[0m\u001b[1m max            \u001b[0m\u001b[1m nmissing \u001b[0m\u001b[1m\u001b[0m ⋯\n",
       "\u001b[1m     \u001b[0m│\u001b[90m Symbol      \u001b[0m\u001b[90m Union…  \u001b[0m\u001b[90m Any        \u001b[0m\u001b[90m Any        \u001b[0m\u001b[90m Any            \u001b[0m\u001b[90m Int64    \u001b[0m\u001b[90m\u001b[0m ⋯\n",
       "─────┼──────────────────────────────────────────────────────────────────────────\n",
       "   1 │ Column1      164.5    0           164.5       329                    0  ⋯\n",
       "   2 │ Name        \u001b[90m         \u001b[0m Acamar     \u001b[90m            \u001b[0m Zubeneschamali         0\n",
       "   3 │ Designation \u001b[90m         \u001b[0m GJ 551     \u001b[90m            \u001b[0m PSR B1257+12           0\n",
       "   4 │ ID          \u001b[90m         \u001b[0m -          \u001b[90m            \u001b[0m zet01                  0\n",
       "   5 │ Con         \u001b[90m         \u001b[0m And        \u001b[90m            \u001b[0m Vul                    0  ⋯\n",
       "   6 │ #           \u001b[90m         \u001b[0m -          \u001b[90m            \u001b[0m _                      0\n",
       "   7 │ WDS_J       \u001b[90m         \u001b[0m -          \u001b[90m            \u001b[0m _                      0\n",
       "   8 │ Vmag        \u001b[90m         \u001b[0m -          \u001b[90m            \u001b[0m 9.54                   0\n",
       "   9 │ HIP         \u001b[90m         \u001b[0m -          \u001b[90m            \u001b[0m 9884                   0  ⋯\n",
       "  10 │ HD          \u001b[90m         \u001b[0m -          \u001b[90m            \u001b[0m 999999                 0\n",
       "  11 │ RA(J2000)    177.577  2.09692     182.98      354.837                0\n",
       "  12 │ Dec(J2000)   9.1767   -88.9565    12.2636     89.2641                0\n",
       "  13 │ Date        \u001b[90m         \u001b[0m 2015-12-15  2016-08-21  2018-06-01             0  ⋯\n",
       "\u001b[36m                                                                1 column omitted\u001b[0m"
      ]
     },
     "execution_count": 59,
     "metadata": {},
     "output_type": "execute_result"
    }
   ],
   "source": [
    "describe(df)"
   ]
  },
  {
   "cell_type": "code",
   "execution_count": 61,
   "metadata": {},
   "outputs": [
    {
     "data": {
      "text/html": [
       "<div class=\"data-frame\"><p>10 rows × 13 columns (omitted printing of 5 columns)</p><table class=\"data-frame\"><thead><tr><th></th><th>Column1</th><th>Name</th><th>Designation</th><th>ID</th><th>Con</th><th>#</th><th>WDS_J</th><th>Vmag</th></tr><tr><th></th><th title=\"Int64\">Int64</th><th title=\"String31\">String31</th><th title=\"String15\">String15</th><th title=\"String7\">String7</th><th title=\"String3\">String3</th><th title=\"String3\">String3</th><th title=\"String15\">String15</th><th title=\"String7\">String7</th></tr></thead><tbody><tr><th>1</th><td>0</td><td>Acamar</td><td>HR 897</td><td>tet01</td><td>Eri</td><td>A</td><td>02583-4018</td><td>2.88</td></tr><tr><th>2</th><td>1</td><td>Achernar</td><td>HR 472</td><td>alf</td><td>Eri</td><td>A</td><td>-</td><td>0.45</td></tr><tr><th>3</th><td>2</td><td>Achird</td><td>HR 219</td><td>eta</td><td>Cas</td><td>A</td><td>00491+5749</td><td>3.46</td></tr><tr><th>4</th><td>3</td><td>Acrab</td><td>HR 5984</td><td>bet</td><td>Sco</td><td>Aa</td><td>16054-1948</td><td>2.56</td></tr><tr><th>5</th><td>4</td><td>Acrux</td><td>HR 4730</td><td>alf</td><td>Cru</td><td>Aa</td><td>12266-6306</td><td>1.33</td></tr><tr><th>6</th><td>5</td><td>Acubens</td><td>HR 3572</td><td>alf</td><td>Cnc</td><td>Aa</td><td>08585+1151</td><td>4.26</td></tr><tr><th>7</th><td>6</td><td>Adhafera</td><td>HR 4031</td><td>zet</td><td>Leo</td><td>Aa</td><td>10167+2325</td><td>3.43</td></tr><tr><th>8</th><td>7</td><td>Adhara</td><td>HR 2618</td><td>eps</td><td>CMa</td><td>A</td><td>06586-2858</td><td>1.50</td></tr><tr><th>9</th><td>8</td><td>Adhil</td><td>HR 390</td><td>ksi</td><td>And</td><td>-</td><td>-</td><td>4.87</td></tr><tr><th>10</th><td>9</td><td>Ain</td><td>HR 1409</td><td>eps</td><td>Tau</td><td>Aa1</td><td>04286+1911</td><td>3.53</td></tr></tbody></table></div>"
      ],
      "text/latex": [
       "\\begin{tabular}{r|ccccccccc}\n",
       "\t& Column1 & Name & Designation & ID & Con & \\# & WDS\\_J & Vmag & \\\\\n",
       "\t\\hline\n",
       "\t& Int64 & String31 & String15 & String7 & String3 & String3 & String15 & String7 & \\\\\n",
       "\t\\hline\n",
       "\t1 & 0 & Acamar & HR 897 & tet01 & Eri & A & 02583-4018 & 2.88 & $\\dots$ \\\\\n",
       "\t2 & 1 & Achernar & HR 472 & alf & Eri & A & - & 0.45 & $\\dots$ \\\\\n",
       "\t3 & 2 & Achird & HR 219 & eta & Cas & A & 00491+5749 & 3.46 & $\\dots$ \\\\\n",
       "\t4 & 3 & Acrab & HR 5984 & bet & Sco & Aa & 16054-1948 & 2.56 & $\\dots$ \\\\\n",
       "\t5 & 4 & Acrux & HR 4730 & alf & Cru & Aa & 12266-6306 & 1.33 & $\\dots$ \\\\\n",
       "\t6 & 5 & Acubens & HR 3572 & alf & Cnc & Aa & 08585+1151 & 4.26 & $\\dots$ \\\\\n",
       "\t7 & 6 & Adhafera & HR 4031 & zet & Leo & Aa & 10167+2325 & 3.43 & $\\dots$ \\\\\n",
       "\t8 & 7 & Adhara & HR 2618 & eps & CMa & A & 06586-2858 & 1.50 & $\\dots$ \\\\\n",
       "\t9 & 8 & Adhil & HR 390 & ksi & And & - & - & 4.87 & $\\dots$ \\\\\n",
       "\t10 & 9 & Ain & HR 1409 & eps & Tau & Aa1 & 04286+1911 & 3.53 & $\\dots$ \\\\\n",
       "\\end{tabular}\n"
      ],
      "text/plain": [
       "\u001b[1m10×13 DataFrame\u001b[0m\n",
       "\u001b[1m Row \u001b[0m│\u001b[1m Column1 \u001b[0m\u001b[1m Name     \u001b[0m\u001b[1m Designation \u001b[0m\u001b[1m ID      \u001b[0m\u001b[1m Con     \u001b[0m\u001b[1m #       \u001b[0m\u001b[1m WDS_J      \u001b[0m\u001b[1m \u001b[0m ⋯\n",
       "\u001b[1m     \u001b[0m│\u001b[90m Int64   \u001b[0m\u001b[90m String31 \u001b[0m\u001b[90m String15    \u001b[0m\u001b[90m String7 \u001b[0m\u001b[90m String3 \u001b[0m\u001b[90m String3 \u001b[0m\u001b[90m String15   \u001b[0m\u001b[90m \u001b[0m ⋯\n",
       "─────┼──────────────────────────────────────────────────────────────────────────\n",
       "   1 │       0  Acamar    HR 897       tet01    Eri      A        02583-4018   ⋯\n",
       "   2 │       1  Achernar  HR 472       alf      Eri      A        -\n",
       "   3 │       2  Achird    HR 219       eta      Cas      A        00491+5749\n",
       "   4 │       3  Acrab     HR 5984      bet      Sco      Aa       16054-1948\n",
       "   5 │       4  Acrux     HR 4730      alf      Cru      Aa       12266-6306   ⋯\n",
       "   6 │       5  Acubens   HR 3572      alf      Cnc      Aa       08585+1151\n",
       "   7 │       6  Adhafera  HR 4031      zet      Leo      Aa       10167+2325\n",
       "   8 │       7  Adhara    HR 2618      eps      CMa      A        06586-2858\n",
       "   9 │       8  Adhil     HR 390       ksi      And      -        -            ⋯\n",
       "  10 │       9  Ain       HR 1409      eps      Tau      Aa1      04286+1911\n",
       "\u001b[36m                                                               6 columns omitted\u001b[0m"
      ]
     },
     "execution_count": 61,
     "metadata": {},
     "output_type": "execute_result"
    }
   ],
   "source": [
    "df[1:10,:]"
   ]
  },
  {
   "cell_type": "markdown",
   "metadata": {
    "slideshow": {
     "slide_type": "slide"
    }
   },
   "source": [
    "---\n",
    "## Group data"
   ]
  },
  {
   "cell_type": "markdown",
   "metadata": {},
   "source": [
    "We may group the data acording to some criteria. For example, 'Constellation':"
   ]
  },
  {
   "cell_type": "code",
   "execution_count": 72,
   "metadata": {},
   "outputs": [
    {
     "data": {
      "text/html": [
       "<div class=\"data-frame\"><p>330 rows × 13 columns (omitted printing of 5 columns)</p><table class=\"data-frame\"><thead><tr><th></th><th>Column1</th><th>Name</th><th>Designation</th><th>ID</th><th>Con</th><th>#</th><th>WDS_J</th><th>Vmag</th></tr><tr><th></th><th title=\"Int64\">Int64</th><th title=\"String31\">String31</th><th title=\"String15\">String15</th><th title=\"String7\">String7</th><th title=\"String3\">String3</th><th title=\"String3\">String3</th><th title=\"String15\">String15</th><th title=\"String7\">String7</th></tr></thead><tbody><tr><th>1</th><td>8</td><td>Adhil</td><td>HR 390</td><td>ksi</td><td>And</td><td>-</td><td>-</td><td>4.87</td></tr><tr><th>2</th><td>38</td><td>Almach</td><td>HR 603</td><td>gam</td><td>And</td><td>A</td><td>02039+4220</td><td>2.10</td></tr><tr><th>3</th><td>46</td><td>Alpheratz</td><td>HR 15</td><td>alf</td><td>And</td><td>Aa</td><td>00084+2905</td><td>2.07</td></tr><tr><th>4</th><td>205</td><td>Mirach</td><td>HR 337</td><td>bet</td><td>And</td><td>-</td><td>01097+3537</td><td>2.07</td></tr><tr><th>5</th><td>220</td><td>Nembus</td><td>HR 464</td><td>51</td><td>And</td><td>-</td><td>-</td><td>3.59</td></tr><tr><th>6</th><td>302</td><td>Titawin</td><td>HR 458</td><td>ups</td><td>And</td><td>A</td><td>01368+4124</td><td>4.09</td></tr><tr><th>7</th><td>310</td><td>Veritate</td><td>HR 8930</td><td>14</td><td>And</td><td>A</td><td>23313+3914</td><td>5.22</td></tr><tr><th>8</th><td>54</td><td>Alshain</td><td>HR 7602</td><td>bet</td><td>Aql</td><td>A</td><td>19553+0624</td><td>3.71</td></tr><tr><th>9</th><td>56</td><td>Altair</td><td>HR 7557</td><td>alf</td><td>Aql</td><td>-</td><td>19508+0852</td><td>0.76</td></tr><tr><th>10</th><td>174</td><td>Libertas</td><td>HR 7595</td><td>ksi</td><td>Aql</td><td>A</td><td>19542+0828</td><td>4.71</td></tr><tr><th>11</th><td>225</td><td>Okab</td><td>HR 7235</td><td>zet</td><td>Aql</td><td>A</td><td>19054+1352</td><td>2.99</td></tr><tr><th>12</th><td>291</td><td>Tarazed</td><td>HR 7525</td><td>gam</td><td>Aql</td><td>-</td><td>19463+1037</td><td>2.72</td></tr><tr><th>13</th><td>13</td><td>Albali</td><td>HR 7950</td><td>eps</td><td>Aqr</td><td>-</td><td>-</td><td>3.78</td></tr><tr><th>14</th><td>64</td><td>Ancha</td><td>HR 8499</td><td>tet</td><td>Aqr</td><td>-</td><td>-</td><td>4.17</td></tr><tr><th>15</th><td>97</td><td>Bunda</td><td>HR 8264</td><td>ksi</td><td>Aqr</td><td>A</td><td>21378-0751</td><td>4.80</td></tr><tr><th>16</th><td>257</td><td>Sadachbia</td><td>HR 8518</td><td>gam</td><td>Aqr</td><td>Aa</td><td>22217-0123</td><td>3.86</td></tr><tr><th>17</th><td>259</td><td>Sadalmelik</td><td>HR 8414</td><td>alf</td><td>Aqr</td><td>A</td><td>22058-0019</td><td>2.95</td></tr><tr><th>18</th><td>260</td><td>Sadalsuud</td><td>HR 8232</td><td>bet</td><td>Aqr</td><td>A</td><td>21316-0534</td><td>2.90</td></tr><tr><th>19</th><td>277</td><td>Situla</td><td>HR 8610</td><td>kap</td><td>Aqr</td><td>A</td><td>22378-0414</td><td>5.04</td></tr><tr><th>20</th><td>278</td><td>Skat</td><td>HR 8709</td><td>del</td><td>Aqr</td><td>A</td><td>-</td><td>3.27</td></tr><tr><th>21</th><td>105</td><td>Cervantes</td><td>HR 6585</td><td>mu</td><td>Ara</td><td>-</td><td>-</td><td>5.15</td></tr><tr><th>22</th><td>93</td><td>Bharani</td><td>HR 838</td><td>41</td><td>Ari</td><td>Aa</td><td>02500+2716</td><td>3.61</td></tr><tr><th>23</th><td>95</td><td>Botein</td><td>HR 951</td><td>del</td><td>Ari</td><td>-</td><td>-</td><td>4.35</td></tr><tr><th>24</th><td>149</td><td>Hamal</td><td>HR 617</td><td>alf</td><td>Ari</td><td>-</td><td>-</td><td>2.01</td></tr><tr><th>25</th><td>176</td><td>Lilii Borea</td><td>HR 824</td><td>39</td><td>Ari</td><td>-</td><td>-</td><td>4.52</td></tr><tr><th>26</th><td>198</td><td>Mesarthim</td><td>HR 546</td><td>gam02</td><td>Ari</td><td>A</td><td>01535+1918</td><td>4.75</td></tr><tr><th>27</th><td>275</td><td>Sheratan</td><td>HR 553</td><td>bet</td><td>Ari</td><td>A</td><td>01546+2049</td><td>2.70</td></tr><tr><th>28</th><td>37</td><td>Almaaz</td><td>HR 1605</td><td>eps</td><td>Aur</td><td>-</td><td>05020+4349</td><td>3.03</td></tr><tr><th>29</th><td>99</td><td>Capella</td><td>HR 1708</td><td>alf</td><td>Aur</td><td>Aa</td><td>05167+4600</td><td>0.08</td></tr><tr><th>30</th><td>148</td><td>Haedus</td><td>HR 1641</td><td>eta</td><td>Aur</td><td>-</td><td>-</td><td>3.18</td></tr><tr><th>&vellip;</th><td>&vellip;</td><td>&vellip;</td><td>&vellip;</td><td>&vellip;</td><td>&vellip;</td><td>&vellip;</td><td>&vellip;</td><td>&vellip;</td></tr></tbody></table></div>"
      ],
      "text/latex": [
       "\\begin{tabular}{r|ccccccccc}\n",
       "\t& Column1 & Name & Designation & ID & Con & \\# & WDS\\_J & Vmag & \\\\\n",
       "\t\\hline\n",
       "\t& Int64 & String31 & String15 & String7 & String3 & String3 & String15 & String7 & \\\\\n",
       "\t\\hline\n",
       "\t1 & 8 & Adhil & HR 390 & ksi & And & - & - & 4.87 & $\\dots$ \\\\\n",
       "\t2 & 38 & Almach & HR 603 & gam & And & A & 02039+4220 & 2.10 & $\\dots$ \\\\\n",
       "\t3 & 46 & Alpheratz & HR 15 & alf & And & Aa & 00084+2905 & 2.07 & $\\dots$ \\\\\n",
       "\t4 & 205 & Mirach & HR 337 & bet & And & - & 01097+3537 & 2.07 & $\\dots$ \\\\\n",
       "\t5 & 220 & Nembus & HR 464 & 51 & And & - & - & 3.59 & $\\dots$ \\\\\n",
       "\t6 & 302 & Titawin & HR 458 & ups & And & A & 01368+4124 & 4.09 & $\\dots$ \\\\\n",
       "\t7 & 310 & Veritate & HR 8930 & 14 & And & A & 23313+3914 & 5.22 & $\\dots$ \\\\\n",
       "\t8 & 54 & Alshain & HR 7602 & bet & Aql & A & 19553+0624 & 3.71 & $\\dots$ \\\\\n",
       "\t9 & 56 & Altair & HR 7557 & alf & Aql & - & 19508+0852 & 0.76 & $\\dots$ \\\\\n",
       "\t10 & 174 & Libertas & HR 7595 & ksi & Aql & A & 19542+0828 & 4.71 & $\\dots$ \\\\\n",
       "\t11 & 225 & Okab & HR 7235 & zet & Aql & A & 19054+1352 & 2.99 & $\\dots$ \\\\\n",
       "\t12 & 291 & Tarazed & HR 7525 & gam & Aql & - & 19463+1037 & 2.72 & $\\dots$ \\\\\n",
       "\t13 & 13 & Albali & HR 7950 & eps & Aqr & - & - & 3.78 & $\\dots$ \\\\\n",
       "\t14 & 64 & Ancha & HR 8499 & tet & Aqr & - & - & 4.17 & $\\dots$ \\\\\n",
       "\t15 & 97 & Bunda & HR 8264 & ksi & Aqr & A & 21378-0751 & 4.80 & $\\dots$ \\\\\n",
       "\t16 & 257 & Sadachbia & HR 8518 & gam & Aqr & Aa & 22217-0123 & 3.86 & $\\dots$ \\\\\n",
       "\t17 & 259 & Sadalmelik & HR 8414 & alf & Aqr & A & 22058-0019 & 2.95 & $\\dots$ \\\\\n",
       "\t18 & 260 & Sadalsuud & HR 8232 & bet & Aqr & A & 21316-0534 & 2.90 & $\\dots$ \\\\\n",
       "\t19 & 277 & Situla & HR 8610 & kap & Aqr & A & 22378-0414 & 5.04 & $\\dots$ \\\\\n",
       "\t20 & 278 & Skat & HR 8709 & del & Aqr & A & - & 3.27 & $\\dots$ \\\\\n",
       "\t21 & 105 & Cervantes & HR 6585 & mu & Ara & - & - & 5.15 & $\\dots$ \\\\\n",
       "\t22 & 93 & Bharani & HR 838 & 41 & Ari & Aa & 02500+2716 & 3.61 & $\\dots$ \\\\\n",
       "\t23 & 95 & Botein & HR 951 & del & Ari & - & - & 4.35 & $\\dots$ \\\\\n",
       "\t24 & 149 & Hamal & HR 617 & alf & Ari & - & - & 2.01 & $\\dots$ \\\\\n",
       "\t25 & 176 & Lilii Borea & HR 824 & 39 & Ari & - & - & 4.52 & $\\dots$ \\\\\n",
       "\t26 & 198 & Mesarthim & HR 546 & gam02 & Ari & A & 01535+1918 & 4.75 & $\\dots$ \\\\\n",
       "\t27 & 275 & Sheratan & HR 553 & bet & Ari & A & 01546+2049 & 2.70 & $\\dots$ \\\\\n",
       "\t28 & 37 & Almaaz & HR 1605 & eps & Aur & - & 05020+4349 & 3.03 & $\\dots$ \\\\\n",
       "\t29 & 99 & Capella & HR 1708 & alf & Aur & Aa & 05167+4600 & 0.08 & $\\dots$ \\\\\n",
       "\t30 & 148 & Haedus & HR 1641 & eta & Aur & - & - & 3.18 & $\\dots$ \\\\\n",
       "\t$\\dots$ & $\\dots$ & $\\dots$ & $\\dots$ & $\\dots$ & $\\dots$ & $\\dots$ & $\\dots$ & $\\dots$ &  \\\\\n",
       "\\end{tabular}\n"
      ],
      "text/plain": [
       "\u001b[1m330×13 DataFrame\u001b[0m\n",
       "\u001b[1m Row \u001b[0m│\u001b[1m Column1 \u001b[0m\u001b[1m Name         \u001b[0m\u001b[1m Designation  \u001b[0m\u001b[1m ID      \u001b[0m\u001b[1m Con     \u001b[0m\u001b[1m #       \u001b[0m\u001b[1m WDS_J  \u001b[0m ⋯\n",
       "\u001b[1m     \u001b[0m│\u001b[90m Int64   \u001b[0m\u001b[90m String31     \u001b[0m\u001b[90m String15     \u001b[0m\u001b[90m String7 \u001b[0m\u001b[90m String3 \u001b[0m\u001b[90m String3 \u001b[0m\u001b[90m String1\u001b[0m ⋯\n",
       "─────┼──────────────────────────────────────────────────────────────────────────\n",
       "   1 │       8  Adhil         HR 390        ksi      And      -        -       ⋯\n",
       "   2 │      38  Almach        HR 603        gam      And      A        02039+4\n",
       "   3 │      46  Alpheratz     HR 15         alf      And      Aa       00084+2\n",
       "   4 │     205  Mirach        HR 337        bet      And      -        01097+3\n",
       "   5 │     220  Nembus        HR 464        51       And      -        -       ⋯\n",
       "   6 │     302  Titawin       HR 458        ups      And      A        01368+4\n",
       "   7 │     310  Veritate      HR 8930       14       And      A        23313+3\n",
       "   8 │      54  Alshain       HR 7602       bet      Aql      A        19553+0\n",
       "   9 │      56  Altair        HR 7557       alf      Aql      -        19508+0 ⋯\n",
       "  10 │     174  Libertas      HR 7595       ksi      Aql      A        19542+0\n",
       "  11 │     225  Okab          HR 7235       zet      Aql      A        19054+1\n",
       "  ⋮  │    ⋮          ⋮             ⋮           ⋮        ⋮        ⋮         ⋮   ⋱\n",
       " 321 │     166  Khambalia     HR 5359       lam      Vir      A        14191-1\n",
       " 322 │     175  Lich          PSR B1257+12  -        Vir      -        -       ⋯\n",
       " 323 │     202  Minelauva     HR 4910       del      Vir      -        12556+0\n",
       " 324 │     237  Porrima       HR 4825       gam      Vir      A        12417-0\n",
       " 325 │     279  Spica         HR 5056       alf      Vir      Aa       13252-1\n",
       " 326 │     284  Syrma         HR 5338       iot      Vir      -        -       ⋯\n",
       " 327 │     311  Vindemiatrix  HR 4932       eps      Vir      -        13022+1\n",
       " 328 │     321  Zaniah        HR 4689       eta      Vir      Aa       12199-0\n",
       " 329 │     323  Zavijava      HR 4540       bet      Vir      -        11507+0\n",
       " 330 │      67  Anser         HR 7405       alf      Vul      -        19287+2 ⋯\n",
       "\u001b[36m                                                  7 columns and 309 rows omitted\u001b[0m"
      ]
     },
     "execution_count": 72,
     "metadata": {},
     "output_type": "execute_result"
    }
   ],
   "source": [
    "sort(df, \"Con\")"
   ]
  },
  {
   "cell_type": "markdown",
   "metadata": {},
   "source": [
    "If we want to get some specific group:"
   ]
  },
  {
   "cell_type": "code",
   "execution_count": 73,
   "metadata": {},
   "outputs": [
    {
     "data": {
      "text/html": [
       "<div class=\"data-frame\"><p>13 rows × 13 columns (omitted printing of 5 columns)</p><table class=\"data-frame\"><thead><tr><th></th><th>Column1</th><th>Name</th><th>Designation</th><th>ID</th><th>Con</th><th>#</th><th>WDS_J</th><th>Vmag</th></tr><tr><th></th><th title=\"Int64\">Int64</th><th title=\"String31\">String31</th><th title=\"String15\">String15</th><th title=\"String7\">String7</th><th title=\"String3\">String3</th><th title=\"String3\">String3</th><th title=\"String15\">String15</th><th title=\"String7\">String7</th></tr></thead><tbody><tr><th>1</th><td>10</td><td>Ainalrami</td><td>HR 7116</td><td>nu01</td><td>Sgr</td><td>A</td><td>18542-2245</td><td>4.86</td></tr><tr><th>2</th><td>12</td><td>Albaldah</td><td>HR 7264</td><td>pi</td><td>Sgr</td><td>A</td><td>19098-2101</td><td>2.88</td></tr><tr><th>3</th><td>40</td><td>Alnasl</td><td>HR 6746</td><td>gam02</td><td>Sgr</td><td>-</td><td>-</td><td>2.98</td></tr><tr><th>4</th><td>70</td><td>Arkab Posterior</td><td>HR 7343</td><td>bet02</td><td>Sgr</td><td>-</td><td>-</td><td>4.27</td></tr><tr><th>5</th><td>71</td><td>Arkab Prior</td><td>HR 7337</td><td>bet01</td><td>Sgr</td><td>-</td><td>19226-4428</td><td>3.96</td></tr><tr><th>6</th><td>73</td><td>Ascella</td><td>HR 7194</td><td>zet</td><td>Sgr</td><td>A</td><td>19026-2953</td><td>2.60</td></tr><tr><th>7</th><td>162</td><td>Kaus Australis</td><td>HR 6879</td><td>eps</td><td>Sgr</td><td>A</td><td>18242-3423</td><td>1.79</td></tr><tr><th>8</th><td>163</td><td>Kaus Borealis</td><td>HR 6913</td><td>lam</td><td>Sgr</td><td>-</td><td>18280-2525</td><td>2.82</td></tr><tr><th>9</th><td>164</td><td>Kaus Media</td><td>HR 6859</td><td>del</td><td>Sgr</td><td>-</td><td>18210-2950</td><td>2.72</td></tr><tr><th>10</th><td>222</td><td>Nunki</td><td>HR 7121</td><td>sig</td><td>Sgr</td><td>Aa</td><td>18553-2618</td><td>2.05</td></tr><tr><th>11</th><td>235</td><td>Polis</td><td>HR 6812</td><td>mu</td><td>Sgr</td><td>Aa</td><td>18138-2104</td><td>3.84</td></tr><tr><th>12</th><td>254</td><td>Rukbat</td><td>HR 7348</td><td>alf</td><td>Sgr</td><td>-</td><td>-</td><td>3.96</td></tr><tr><th>13</th><td>296</td><td>Terebellum</td><td>HR 7597</td><td>ome</td><td>Sgr</td><td>A</td><td>-</td><td>4.70</td></tr></tbody></table></div>"
      ],
      "text/latex": [
       "\\begin{tabular}{r|ccccccccc}\n",
       "\t& Column1 & Name & Designation & ID & Con & \\# & WDS\\_J & Vmag & \\\\\n",
       "\t\\hline\n",
       "\t& Int64 & String31 & String15 & String7 & String3 & String3 & String15 & String7 & \\\\\n",
       "\t\\hline\n",
       "\t1 & 10 & Ainalrami & HR 7116 & nu01 & Sgr & A & 18542-2245 & 4.86 & $\\dots$ \\\\\n",
       "\t2 & 12 & Albaldah & HR 7264 & pi & Sgr & A & 19098-2101 & 2.88 & $\\dots$ \\\\\n",
       "\t3 & 40 & Alnasl & HR 6746 & gam02 & Sgr & - & - & 2.98 & $\\dots$ \\\\\n",
       "\t4 & 70 & Arkab Posterior & HR 7343 & bet02 & Sgr & - & - & 4.27 & $\\dots$ \\\\\n",
       "\t5 & 71 & Arkab Prior & HR 7337 & bet01 & Sgr & - & 19226-4428 & 3.96 & $\\dots$ \\\\\n",
       "\t6 & 73 & Ascella & HR 7194 & zet & Sgr & A & 19026-2953 & 2.60 & $\\dots$ \\\\\n",
       "\t7 & 162 & Kaus Australis & HR 6879 & eps & Sgr & A & 18242-3423 & 1.79 & $\\dots$ \\\\\n",
       "\t8 & 163 & Kaus Borealis & HR 6913 & lam & Sgr & - & 18280-2525 & 2.82 & $\\dots$ \\\\\n",
       "\t9 & 164 & Kaus Media & HR 6859 & del & Sgr & - & 18210-2950 & 2.72 & $\\dots$ \\\\\n",
       "\t10 & 222 & Nunki & HR 7121 & sig & Sgr & Aa & 18553-2618 & 2.05 & $\\dots$ \\\\\n",
       "\t11 & 235 & Polis & HR 6812 & mu & Sgr & Aa & 18138-2104 & 3.84 & $\\dots$ \\\\\n",
       "\t12 & 254 & Rukbat & HR 7348 & alf & Sgr & - & - & 3.96 & $\\dots$ \\\\\n",
       "\t13 & 296 & Terebellum & HR 7597 & ome & Sgr & A & - & 4.70 & $\\dots$ \\\\\n",
       "\\end{tabular}\n"
      ],
      "text/plain": [
       "\u001b[1m13×13 DataFrame\u001b[0m\n",
       "\u001b[1m Row \u001b[0m│\u001b[1m Column1 \u001b[0m\u001b[1m Name            \u001b[0m\u001b[1m Designation \u001b[0m\u001b[1m ID      \u001b[0m\u001b[1m Con     \u001b[0m\u001b[1m #       \u001b[0m\u001b[1m WDS_J\u001b[0m ⋯\n",
       "\u001b[1m     \u001b[0m│\u001b[90m Int64   \u001b[0m\u001b[90m String31        \u001b[0m\u001b[90m String15    \u001b[0m\u001b[90m String7 \u001b[0m\u001b[90m String3 \u001b[0m\u001b[90m String3 \u001b[0m\u001b[90m Strin\u001b[0m ⋯\n",
       "─────┼──────────────────────────────────────────────────────────────────────────\n",
       "   1 │      10  Ainalrami        HR 7116      nu01     Sgr      A        18542 ⋯\n",
       "   2 │      12  Albaldah         HR 7264      pi       Sgr      A        19098\n",
       "   3 │      40  Alnasl           HR 6746      gam02    Sgr      -        -\n",
       "   4 │      70  Arkab Posterior  HR 7343      bet02    Sgr      -        -\n",
       "   5 │      71  Arkab Prior      HR 7337      bet01    Sgr      -        19226 ⋯\n",
       "   6 │      73  Ascella          HR 7194      zet      Sgr      A        19026\n",
       "   7 │     162  Kaus Australis   HR 6879      eps      Sgr      A        18242\n",
       "   8 │     163  Kaus Borealis    HR 6913      lam      Sgr      -        18280\n",
       "   9 │     164  Kaus Media       HR 6859      del      Sgr      -        18210 ⋯\n",
       "  10 │     222  Nunki            HR 7121      sig      Sgr      Aa       18553\n",
       "  11 │     235  Polis            HR 6812      mu       Sgr      Aa       18138\n",
       "  12 │     254  Rukbat           HR 7348      alf      Sgr      -        -\n",
       "  13 │     296  Terebellum       HR 7597      ome      Sgr      A        -     ⋯\n",
       "\u001b[36m                                                               7 columns omitted\u001b[0m"
      ]
     },
     "execution_count": 73,
     "metadata": {},
     "output_type": "execute_result"
    }
   ],
   "source": [
    "df[df.\"Con\" .== \"Sgr\",:]"
   ]
  },
  {
   "cell_type": "code",
   "execution_count": 74,
   "metadata": {
    "scrolled": false
   },
   "outputs": [
    {
     "data": {
      "text/html": [
       "<div class=\"data-frame\"><p>13 rows × 13 columns (omitted printing of 5 columns)</p><table class=\"data-frame\"><thead><tr><th></th><th>Column1</th><th>Name</th><th>Designation</th><th>ID</th><th>Con</th><th>#</th><th>WDS_J</th><th>Vmag</th></tr><tr><th></th><th title=\"Int64\">Int64</th><th title=\"String31\">String31</th><th title=\"String15\">String15</th><th title=\"String7\">String7</th><th title=\"String3\">String3</th><th title=\"String3\">String3</th><th title=\"String15\">String15</th><th title=\"String7\">String7</th></tr></thead><tbody><tr><th>1</th><td>10</td><td>Ainalrami</td><td>HR 7116</td><td>nu01</td><td>Sgr</td><td>A</td><td>18542-2245</td><td>4.86</td></tr><tr><th>2</th><td>12</td><td>Albaldah</td><td>HR 7264</td><td>pi</td><td>Sgr</td><td>A</td><td>19098-2101</td><td>2.88</td></tr><tr><th>3</th><td>40</td><td>Alnasl</td><td>HR 6746</td><td>gam02</td><td>Sgr</td><td>-</td><td>-</td><td>2.98</td></tr><tr><th>4</th><td>70</td><td>Arkab Posterior</td><td>HR 7343</td><td>bet02</td><td>Sgr</td><td>-</td><td>-</td><td>4.27</td></tr><tr><th>5</th><td>71</td><td>Arkab Prior</td><td>HR 7337</td><td>bet01</td><td>Sgr</td><td>-</td><td>19226-4428</td><td>3.96</td></tr><tr><th>6</th><td>73</td><td>Ascella</td><td>HR 7194</td><td>zet</td><td>Sgr</td><td>A</td><td>19026-2953</td><td>2.60</td></tr><tr><th>7</th><td>162</td><td>Kaus Australis</td><td>HR 6879</td><td>eps</td><td>Sgr</td><td>A</td><td>18242-3423</td><td>1.79</td></tr><tr><th>8</th><td>163</td><td>Kaus Borealis</td><td>HR 6913</td><td>lam</td><td>Sgr</td><td>-</td><td>18280-2525</td><td>2.82</td></tr><tr><th>9</th><td>164</td><td>Kaus Media</td><td>HR 6859</td><td>del</td><td>Sgr</td><td>-</td><td>18210-2950</td><td>2.72</td></tr><tr><th>10</th><td>222</td><td>Nunki</td><td>HR 7121</td><td>sig</td><td>Sgr</td><td>Aa</td><td>18553-2618</td><td>2.05</td></tr><tr><th>11</th><td>235</td><td>Polis</td><td>HR 6812</td><td>mu</td><td>Sgr</td><td>Aa</td><td>18138-2104</td><td>3.84</td></tr><tr><th>12</th><td>254</td><td>Rukbat</td><td>HR 7348</td><td>alf</td><td>Sgr</td><td>-</td><td>-</td><td>3.96</td></tr><tr><th>13</th><td>296</td><td>Terebellum</td><td>HR 7597</td><td>ome</td><td>Sgr</td><td>A</td><td>-</td><td>4.70</td></tr></tbody></table></div>"
      ],
      "text/latex": [
       "\\begin{tabular}{r|ccccccccc}\n",
       "\t& Column1 & Name & Designation & ID & Con & \\# & WDS\\_J & Vmag & \\\\\n",
       "\t\\hline\n",
       "\t& Int64 & String31 & String15 & String7 & String3 & String3 & String15 & String7 & \\\\\n",
       "\t\\hline\n",
       "\t1 & 10 & Ainalrami & HR 7116 & nu01 & Sgr & A & 18542-2245 & 4.86 & $\\dots$ \\\\\n",
       "\t2 & 12 & Albaldah & HR 7264 & pi & Sgr & A & 19098-2101 & 2.88 & $\\dots$ \\\\\n",
       "\t3 & 40 & Alnasl & HR 6746 & gam02 & Sgr & - & - & 2.98 & $\\dots$ \\\\\n",
       "\t4 & 70 & Arkab Posterior & HR 7343 & bet02 & Sgr & - & - & 4.27 & $\\dots$ \\\\\n",
       "\t5 & 71 & Arkab Prior & HR 7337 & bet01 & Sgr & - & 19226-4428 & 3.96 & $\\dots$ \\\\\n",
       "\t6 & 73 & Ascella & HR 7194 & zet & Sgr & A & 19026-2953 & 2.60 & $\\dots$ \\\\\n",
       "\t7 & 162 & Kaus Australis & HR 6879 & eps & Sgr & A & 18242-3423 & 1.79 & $\\dots$ \\\\\n",
       "\t8 & 163 & Kaus Borealis & HR 6913 & lam & Sgr & - & 18280-2525 & 2.82 & $\\dots$ \\\\\n",
       "\t9 & 164 & Kaus Media & HR 6859 & del & Sgr & - & 18210-2950 & 2.72 & $\\dots$ \\\\\n",
       "\t10 & 222 & Nunki & HR 7121 & sig & Sgr & Aa & 18553-2618 & 2.05 & $\\dots$ \\\\\n",
       "\t11 & 235 & Polis & HR 6812 & mu & Sgr & Aa & 18138-2104 & 3.84 & $\\dots$ \\\\\n",
       "\t12 & 254 & Rukbat & HR 7348 & alf & Sgr & - & - & 3.96 & $\\dots$ \\\\\n",
       "\t13 & 296 & Terebellum & HR 7597 & ome & Sgr & A & - & 4.70 & $\\dots$ \\\\\n",
       "\\end{tabular}\n"
      ],
      "text/plain": [
       "\u001b[1m13×13 DataFrame\u001b[0m\n",
       "\u001b[1m Row \u001b[0m│\u001b[1m Column1 \u001b[0m\u001b[1m Name            \u001b[0m\u001b[1m Designation \u001b[0m\u001b[1m ID      \u001b[0m\u001b[1m Con     \u001b[0m\u001b[1m #       \u001b[0m\u001b[1m WDS_J\u001b[0m ⋯\n",
       "\u001b[1m     \u001b[0m│\u001b[90m Int64   \u001b[0m\u001b[90m String31        \u001b[0m\u001b[90m String15    \u001b[0m\u001b[90m String7 \u001b[0m\u001b[90m String3 \u001b[0m\u001b[90m String3 \u001b[0m\u001b[90m Strin\u001b[0m ⋯\n",
       "─────┼──────────────────────────────────────────────────────────────────────────\n",
       "   1 │      10  Ainalrami        HR 7116      nu01     Sgr      A        18542 ⋯\n",
       "   2 │      12  Albaldah         HR 7264      pi       Sgr      A        19098\n",
       "   3 │      40  Alnasl           HR 6746      gam02    Sgr      -        -\n",
       "   4 │      70  Arkab Posterior  HR 7343      bet02    Sgr      -        -\n",
       "   5 │      71  Arkab Prior      HR 7337      bet01    Sgr      -        19226 ⋯\n",
       "   6 │      73  Ascella          HR 7194      zet      Sgr      A        19026\n",
       "   7 │     162  Kaus Australis   HR 6879      eps      Sgr      A        18242\n",
       "   8 │     163  Kaus Borealis    HR 6913      lam      Sgr      -        18280\n",
       "   9 │     164  Kaus Media       HR 6859      del      Sgr      -        18210 ⋯\n",
       "  10 │     222  Nunki            HR 7121      sig      Sgr      Aa       18553\n",
       "  11 │     235  Polis            HR 6812      mu       Sgr      Aa       18138\n",
       "  12 │     254  Rukbat           HR 7348      alf      Sgr      -        -\n",
       "  13 │     296  Terebellum       HR 7597      ome      Sgr      A        -     ⋯\n",
       "\u001b[36m                                                               7 columns omitted\u001b[0m"
      ]
     },
     "execution_count": 74,
     "metadata": {},
     "output_type": "execute_result"
    }
   ],
   "source": [
    "Cyg_df = df[df.\"Con\" .== \"Sgr\",:]\n",
    "Cyg_df"
   ]
  },
  {
   "cell_type": "markdown",
   "metadata": {},
   "source": [
    "Now, we will group the data according to the 'Vmag' feature"
   ]
  },
  {
   "cell_type": "code",
   "execution_count": 75,
   "metadata": {},
   "outputs": [
    {
     "data": {
      "text/html": [
       "<div class=\"data-frame\"><p>13 rows × 13 columns (omitted printing of 5 columns)</p><table class=\"data-frame\"><thead><tr><th></th><th>Column1</th><th>Name</th><th>Designation</th><th>ID</th><th>Con</th><th>#</th><th>WDS_J</th><th>Vmag</th></tr><tr><th></th><th title=\"Int64\">Int64</th><th title=\"String31\">String31</th><th title=\"String15\">String15</th><th title=\"String7\">String7</th><th title=\"String3\">String3</th><th title=\"String3\">String3</th><th title=\"String15\">String15</th><th title=\"String7\">String7</th></tr></thead><tbody><tr><th>1</th><td>162</td><td>Kaus Australis</td><td>HR 6879</td><td>eps</td><td>Sgr</td><td>A</td><td>18242-3423</td><td>1.79</td></tr><tr><th>2</th><td>222</td><td>Nunki</td><td>HR 7121</td><td>sig</td><td>Sgr</td><td>Aa</td><td>18553-2618</td><td>2.05</td></tr><tr><th>3</th><td>73</td><td>Ascella</td><td>HR 7194</td><td>zet</td><td>Sgr</td><td>A</td><td>19026-2953</td><td>2.60</td></tr><tr><th>4</th><td>164</td><td>Kaus Media</td><td>HR 6859</td><td>del</td><td>Sgr</td><td>-</td><td>18210-2950</td><td>2.72</td></tr><tr><th>5</th><td>163</td><td>Kaus Borealis</td><td>HR 6913</td><td>lam</td><td>Sgr</td><td>-</td><td>18280-2525</td><td>2.82</td></tr><tr><th>6</th><td>12</td><td>Albaldah</td><td>HR 7264</td><td>pi</td><td>Sgr</td><td>A</td><td>19098-2101</td><td>2.88</td></tr><tr><th>7</th><td>40</td><td>Alnasl</td><td>HR 6746</td><td>gam02</td><td>Sgr</td><td>-</td><td>-</td><td>2.98</td></tr><tr><th>8</th><td>235</td><td>Polis</td><td>HR 6812</td><td>mu</td><td>Sgr</td><td>Aa</td><td>18138-2104</td><td>3.84</td></tr><tr><th>9</th><td>71</td><td>Arkab Prior</td><td>HR 7337</td><td>bet01</td><td>Sgr</td><td>-</td><td>19226-4428</td><td>3.96</td></tr><tr><th>10</th><td>254</td><td>Rukbat</td><td>HR 7348</td><td>alf</td><td>Sgr</td><td>-</td><td>-</td><td>3.96</td></tr><tr><th>11</th><td>70</td><td>Arkab Posterior</td><td>HR 7343</td><td>bet02</td><td>Sgr</td><td>-</td><td>-</td><td>4.27</td></tr><tr><th>12</th><td>296</td><td>Terebellum</td><td>HR 7597</td><td>ome</td><td>Sgr</td><td>A</td><td>-</td><td>4.70</td></tr><tr><th>13</th><td>10</td><td>Ainalrami</td><td>HR 7116</td><td>nu01</td><td>Sgr</td><td>A</td><td>18542-2245</td><td>4.86</td></tr></tbody></table></div>"
      ],
      "text/latex": [
       "\\begin{tabular}{r|ccccccccc}\n",
       "\t& Column1 & Name & Designation & ID & Con & \\# & WDS\\_J & Vmag & \\\\\n",
       "\t\\hline\n",
       "\t& Int64 & String31 & String15 & String7 & String3 & String3 & String15 & String7 & \\\\\n",
       "\t\\hline\n",
       "\t1 & 162 & Kaus Australis & HR 6879 & eps & Sgr & A & 18242-3423 & 1.79 & $\\dots$ \\\\\n",
       "\t2 & 222 & Nunki & HR 7121 & sig & Sgr & Aa & 18553-2618 & 2.05 & $\\dots$ \\\\\n",
       "\t3 & 73 & Ascella & HR 7194 & zet & Sgr & A & 19026-2953 & 2.60 & $\\dots$ \\\\\n",
       "\t4 & 164 & Kaus Media & HR 6859 & del & Sgr & - & 18210-2950 & 2.72 & $\\dots$ \\\\\n",
       "\t5 & 163 & Kaus Borealis & HR 6913 & lam & Sgr & - & 18280-2525 & 2.82 & $\\dots$ \\\\\n",
       "\t6 & 12 & Albaldah & HR 7264 & pi & Sgr & A & 19098-2101 & 2.88 & $\\dots$ \\\\\n",
       "\t7 & 40 & Alnasl & HR 6746 & gam02 & Sgr & - & - & 2.98 & $\\dots$ \\\\\n",
       "\t8 & 235 & Polis & HR 6812 & mu & Sgr & Aa & 18138-2104 & 3.84 & $\\dots$ \\\\\n",
       "\t9 & 71 & Arkab Prior & HR 7337 & bet01 & Sgr & - & 19226-4428 & 3.96 & $\\dots$ \\\\\n",
       "\t10 & 254 & Rukbat & HR 7348 & alf & Sgr & - & - & 3.96 & $\\dots$ \\\\\n",
       "\t11 & 70 & Arkab Posterior & HR 7343 & bet02 & Sgr & - & - & 4.27 & $\\dots$ \\\\\n",
       "\t12 & 296 & Terebellum & HR 7597 & ome & Sgr & A & - & 4.70 & $\\dots$ \\\\\n",
       "\t13 & 10 & Ainalrami & HR 7116 & nu01 & Sgr & A & 18542-2245 & 4.86 & $\\dots$ \\\\\n",
       "\\end{tabular}\n"
      ],
      "text/plain": [
       "\u001b[1m13×13 DataFrame\u001b[0m\n",
       "\u001b[1m Row \u001b[0m│\u001b[1m Column1 \u001b[0m\u001b[1m Name            \u001b[0m\u001b[1m Designation \u001b[0m\u001b[1m ID      \u001b[0m\u001b[1m Con     \u001b[0m\u001b[1m #       \u001b[0m\u001b[1m WDS_J\u001b[0m ⋯\n",
       "\u001b[1m     \u001b[0m│\u001b[90m Int64   \u001b[0m\u001b[90m String31        \u001b[0m\u001b[90m String15    \u001b[0m\u001b[90m String7 \u001b[0m\u001b[90m String3 \u001b[0m\u001b[90m String3 \u001b[0m\u001b[90m Strin\u001b[0m ⋯\n",
       "─────┼──────────────────────────────────────────────────────────────────────────\n",
       "   1 │     162  Kaus Australis   HR 6879      eps      Sgr      A        18242 ⋯\n",
       "   2 │     222  Nunki            HR 7121      sig      Sgr      Aa       18553\n",
       "   3 │      73  Ascella          HR 7194      zet      Sgr      A        19026\n",
       "   4 │     164  Kaus Media       HR 6859      del      Sgr      -        18210\n",
       "   5 │     163  Kaus Borealis    HR 6913      lam      Sgr      -        18280 ⋯\n",
       "   6 │      12  Albaldah         HR 7264      pi       Sgr      A        19098\n",
       "   7 │      40  Alnasl           HR 6746      gam02    Sgr      -        -\n",
       "   8 │     235  Polis            HR 6812      mu       Sgr      Aa       18138\n",
       "   9 │      71  Arkab Prior      HR 7337      bet01    Sgr      -        19226 ⋯\n",
       "  10 │     254  Rukbat           HR 7348      alf      Sgr      -        -\n",
       "  11 │      70  Arkab Posterior  HR 7343      bet02    Sgr      -        -\n",
       "  12 │     296  Terebellum       HR 7597      ome      Sgr      A        -\n",
       "  13 │      10  Ainalrami        HR 7116      nu01     Sgr      A        18542 ⋯\n",
       "\u001b[36m                                                               7 columns omitted\u001b[0m"
      ]
     },
     "execution_count": 75,
     "metadata": {},
     "output_type": "execute_result"
    }
   ],
   "source": [
    "sort!(Cyg_df,\"Vmag\")"
   ]
  },
  {
   "cell_type": "markdown",
   "metadata": {},
   "source": [
    "Note that there is one sample with a non-numerical value: item \\[175\\] has 'Vmag' = '-'."
   ]
  },
  {
   "cell_type": "code",
   "execution_count": 78,
   "metadata": {},
   "outputs": [
    {
     "data": {
      "text/html": [
       "<div class=\"data-frame\"><p>1 rows × 13 columns (omitted printing of 4 columns)</p><table class=\"data-frame\"><thead><tr><th></th><th>Column1</th><th>Name</th><th>Designation</th><th>ID</th><th>Con</th><th>#</th><th>WDS_J</th><th>Vmag</th><th>HIP</th></tr><tr><th></th><th title=\"Int64\">Int64</th><th title=\"String31\">String31</th><th title=\"String15\">String15</th><th title=\"String7\">String7</th><th title=\"String3\">String3</th><th title=\"String3\">String3</th><th title=\"String15\">String15</th><th title=\"String7\">String7</th><th title=\"String7\">String7</th></tr></thead><tbody><tr><th>1</th><td>175</td><td>Lich</td><td>PSR B1257+12</td><td>-</td><td>Vir</td><td>-</td><td>-</td><td>-</td><td>-</td></tr></tbody></table></div>"
      ],
      "text/latex": [
       "\\begin{tabular}{r|cccccccccc}\n",
       "\t& Column1 & Name & Designation & ID & Con & \\# & WDS\\_J & Vmag & HIP & \\\\\n",
       "\t\\hline\n",
       "\t& Int64 & String31 & String15 & String7 & String3 & String3 & String15 & String7 & String7 & \\\\\n",
       "\t\\hline\n",
       "\t1 & 175 & Lich & PSR B1257+12 & - & Vir & - & - & - & - & $\\dots$ \\\\\n",
       "\\end{tabular}\n"
      ],
      "text/plain": [
       "\u001b[1m1×13 DataFrame\u001b[0m\n",
       "\u001b[1m Row \u001b[0m│\u001b[1m Column1 \u001b[0m\u001b[1m Name     \u001b[0m\u001b[1m Designation  \u001b[0m\u001b[1m ID      \u001b[0m\u001b[1m Con     \u001b[0m\u001b[1m #       \u001b[0m\u001b[1m WDS_J    \u001b[0m\u001b[1m V\u001b[0m ⋯\n",
       "\u001b[1m     \u001b[0m│\u001b[90m Int64   \u001b[0m\u001b[90m String31 \u001b[0m\u001b[90m String15     \u001b[0m\u001b[90m String7 \u001b[0m\u001b[90m String3 \u001b[0m\u001b[90m String3 \u001b[0m\u001b[90m String15 \u001b[0m\u001b[90m S\u001b[0m ⋯\n",
       "─────┼──────────────────────────────────────────────────────────────────────────\n",
       "   1 │     175  Lich      PSR B1257+12  -        Vir      -        -         - ⋯\n",
       "\u001b[36m                                                               6 columns omitted\u001b[0m"
      ]
     },
     "execution_count": 78,
     "metadata": {},
     "output_type": "execute_result"
    }
   ],
   "source": [
    "df[df.\"Vmag\" .== \"-\",:]"
   ]
  },
  {
   "cell_type": "code",
   "execution_count": 80,
   "metadata": {
    "slideshow": {
     "slide_type": "subslide"
    }
   },
   "outputs": [
    {
     "data": {
      "text/html": [
       "<div class=\"data-frame\"><p>2 rows × 13 columns (omitted printing of 5 columns)</p><table class=\"data-frame\"><thead><tr><th></th><th>Column1</th><th>Name</th><th>Designation</th><th>ID</th><th>Con</th><th>#</th><th>WDS_J</th><th>Vmag</th></tr><tr><th></th><th title=\"Int64\">Int64</th><th title=\"String31\">String31</th><th title=\"String15\">String15</th><th title=\"String7\">String7</th><th title=\"String3\">String3</th><th title=\"String3\">String3</th><th title=\"String15\">String15</th><th title=\"String7\">String7</th></tr></thead><tbody><tr><th>1</th><td>116</td><td>Deneb</td><td>HR 7924</td><td>alf</td><td>Cyg</td><td>-</td><td>20414+4517</td><td>1.25</td></tr><tr><th>2</th><td>200</td><td>Mimosa</td><td>HR 4853</td><td>bet</td><td>Cru</td><td>-</td><td>12477-5941</td><td>1.25</td></tr></tbody></table></div>"
      ],
      "text/latex": [
       "\\begin{tabular}{r|ccccccccc}\n",
       "\t& Column1 & Name & Designation & ID & Con & \\# & WDS\\_J & Vmag & \\\\\n",
       "\t\\hline\n",
       "\t& Int64 & String31 & String15 & String7 & String3 & String3 & String15 & String7 & \\\\\n",
       "\t\\hline\n",
       "\t1 & 116 & Deneb & HR 7924 & alf & Cyg & - & 20414+4517 & 1.25 & $\\dots$ \\\\\n",
       "\t2 & 200 & Mimosa & HR 4853 & bet & Cru & - & 12477-5941 & 1.25 & $\\dots$ \\\\\n",
       "\\end{tabular}\n"
      ],
      "text/plain": [
       "\u001b[1m2×13 DataFrame\u001b[0m\n",
       "\u001b[1m Row \u001b[0m│\u001b[1m Column1 \u001b[0m\u001b[1m Name     \u001b[0m\u001b[1m Designation \u001b[0m\u001b[1m ID      \u001b[0m\u001b[1m Con     \u001b[0m\u001b[1m #       \u001b[0m\u001b[1m WDS_J      \u001b[0m\u001b[1m \u001b[0m ⋯\n",
       "\u001b[1m     \u001b[0m│\u001b[90m Int64   \u001b[0m\u001b[90m String31 \u001b[0m\u001b[90m String15    \u001b[0m\u001b[90m String7 \u001b[0m\u001b[90m String3 \u001b[0m\u001b[90m String3 \u001b[0m\u001b[90m String15   \u001b[0m\u001b[90m \u001b[0m ⋯\n",
       "─────┼──────────────────────────────────────────────────────────────────────────\n",
       "   1 │     116  Deneb     HR 7924      alf      Cyg      -        20414+4517   ⋯\n",
       "   2 │     200  Mimosa    HR 4853      bet      Cru      -        12477-5941\n",
       "\u001b[36m                                                               6 columns omitted\u001b[0m"
      ]
     },
     "execution_count": 80,
     "metadata": {},
     "output_type": "execute_result"
    }
   ],
   "source": [
    "df[df.\"Vmag\" .== \"1.25\",:]"
   ]
  },
  {
   "cell_type": "markdown",
   "metadata": {},
   "source": [
    "---\n"
   ]
  },
  {
   "cell_type": "markdown",
   "metadata": {},
   "source": [
    "Note that RA and Dec are the only columns with numerical values. The other columns are identified as 'object'. \n",
    "\n",
    "If we want to transform the data type of column 'Vmag' we need to get rid of the row \\[175\\] which has a non-numerical value. hence, we use the `.drop()` method."
   ]
  },
  {
   "cell_type": "code",
   "execution_count": 85,
   "metadata": {},
   "outputs": [
    {
     "data": {
      "text/html": [
       "<div class=\"data-frame\"><p>330 rows × 13 columns (omitted printing of 5 columns)</p><table class=\"data-frame\"><thead><tr><th></th><th>Column1</th><th>Name</th><th>Designation</th><th>ID</th><th>Con</th><th>#</th><th>WDS_J</th><th>Vmag</th></tr><tr><th></th><th title=\"Int64\">Int64</th><th title=\"String31\">String31</th><th title=\"String15\">String15</th><th title=\"String7\">String7</th><th title=\"String3\">String3</th><th title=\"String3\">String3</th><th title=\"String15\">String15</th><th title=\"String7\">String7</th></tr></thead><tbody><tr><th>1</th><td>0</td><td>Acamar</td><td>HR 897</td><td>tet01</td><td>Eri</td><td>A</td><td>02583-4018</td><td>2.88</td></tr><tr><th>2</th><td>1</td><td>Achernar</td><td>HR 472</td><td>alf</td><td>Eri</td><td>A</td><td>-</td><td>0.45</td></tr><tr><th>3</th><td>2</td><td>Achird</td><td>HR 219</td><td>eta</td><td>Cas</td><td>A</td><td>00491+5749</td><td>3.46</td></tr><tr><th>4</th><td>3</td><td>Acrab</td><td>HR 5984</td><td>bet</td><td>Sco</td><td>Aa</td><td>16054-1948</td><td>2.56</td></tr><tr><th>5</th><td>4</td><td>Acrux</td><td>HR 4730</td><td>alf</td><td>Cru</td><td>Aa</td><td>12266-6306</td><td>1.33</td></tr><tr><th>6</th><td>5</td><td>Acubens</td><td>HR 3572</td><td>alf</td><td>Cnc</td><td>Aa</td><td>08585+1151</td><td>4.26</td></tr><tr><th>7</th><td>6</td><td>Adhafera</td><td>HR 4031</td><td>zet</td><td>Leo</td><td>Aa</td><td>10167+2325</td><td>3.43</td></tr><tr><th>8</th><td>7</td><td>Adhara</td><td>HR 2618</td><td>eps</td><td>CMa</td><td>A</td><td>06586-2858</td><td>1.50</td></tr><tr><th>9</th><td>8</td><td>Adhil</td><td>HR 390</td><td>ksi</td><td>And</td><td>-</td><td>-</td><td>4.87</td></tr><tr><th>10</th><td>9</td><td>Ain</td><td>HR 1409</td><td>eps</td><td>Tau</td><td>Aa1</td><td>04286+1911</td><td>3.53</td></tr><tr><th>11</th><td>10</td><td>Ainalrami</td><td>HR 7116</td><td>nu01</td><td>Sgr</td><td>A</td><td>18542-2245</td><td>4.86</td></tr><tr><th>12</th><td>11</td><td>Aladfar</td><td>HR 7298</td><td>eta</td><td>Lyr</td><td>Aa</td><td>19138+3909</td><td>4.43</td></tr><tr><th>13</th><td>12</td><td>Albaldah</td><td>HR 7264</td><td>pi</td><td>Sgr</td><td>A</td><td>19098-2101</td><td>2.88</td></tr><tr><th>14</th><td>13</td><td>Albali</td><td>HR 7950</td><td>eps</td><td>Aqr</td><td>-</td><td>-</td><td>3.78</td></tr><tr><th>15</th><td>14</td><td>Albireo</td><td>HR 7417</td><td>bet</td><td>Cyg</td><td>Aa</td><td>19307+2758</td><td>3.37</td></tr><tr><th>16</th><td>15</td><td>Alchiba</td><td>HR 4623</td><td>alf</td><td>Crv</td><td>-</td><td>-</td><td>4.02</td></tr><tr><th>17</th><td>16</td><td>Alcor</td><td>HR 5062</td><td>80</td><td>UMa</td><td>Ca</td><td>13239+5456</td><td>3.99</td></tr><tr><th>18</th><td>17</td><td>Alcyone</td><td>HR 1165</td><td>eta</td><td>Tau</td><td>A</td><td>03475+2406</td><td>2.85</td></tr><tr><th>19</th><td>18</td><td>Aldebaran</td><td>HR 1457</td><td>alf</td><td>Tau</td><td>-</td><td>04359+1631</td><td>0.87</td></tr><tr><th>20</th><td>19</td><td>Alderamin</td><td>HR 8162</td><td>alf</td><td>Cep</td><td>-</td><td>21186+6235</td><td>2.45</td></tr><tr><th>21</th><td>20</td><td>Aldhanab</td><td>HR 8353</td><td>gam</td><td>Gru</td><td>-</td><td>-</td><td>3.00</td></tr><tr><th>22</th><td>21</td><td>Aldhibah</td><td>HR 6396</td><td>zet</td><td>Dra</td><td>A</td><td>17088+6543</td><td>3.17</td></tr><tr><th>23</th><td>22</td><td>Aldulfin</td><td>HR 7852</td><td>eps</td><td>Del</td><td>-</td><td>-</td><td>4.03</td></tr><tr><th>24</th><td>23</td><td>Alfirk</td><td>HR 8238</td><td>bet</td><td>Cep</td><td>Aa</td><td>21287+7034</td><td>3.23</td></tr><tr><th>25</th><td>24</td><td>Algedi</td><td>HR 7754</td><td>alf02</td><td>Cap</td><td>A</td><td>20181-1233</td><td>3.58</td></tr><tr><th>26</th><td>25</td><td>Algenib</td><td>HR 39</td><td>gam</td><td>Peg</td><td>-</td><td>00132+1511</td><td>2.83</td></tr><tr><th>27</th><td>26</td><td>Algieba</td><td>HR 4057</td><td>gam01</td><td>Leo</td><td>-</td><td>10200+1950</td><td>2.61</td></tr><tr><th>28</th><td>27</td><td>Algol</td><td>HR 936</td><td>bet</td><td>Per</td><td>Aa1</td><td>03082+4057</td><td>2.09</td></tr><tr><th>29</th><td>28</td><td>Algorab</td><td>HR 4757</td><td>del</td><td>Crv</td><td>A</td><td>12299-1631</td><td>2.94</td></tr><tr><th>30</th><td>29</td><td>Alhena</td><td>HR 2421</td><td>gam</td><td>Gem</td><td>Aa</td><td>06377+1624</td><td>1.93</td></tr><tr><th>&vellip;</th><td>&vellip;</td><td>&vellip;</td><td>&vellip;</td><td>&vellip;</td><td>&vellip;</td><td>&vellip;</td><td>&vellip;</td><td>&vellip;</td></tr></tbody></table></div>"
      ],
      "text/latex": [
       "\\begin{tabular}{r|ccccccccc}\n",
       "\t& Column1 & Name & Designation & ID & Con & \\# & WDS\\_J & Vmag & \\\\\n",
       "\t\\hline\n",
       "\t& Int64 & String31 & String15 & String7 & String3 & String3 & String15 & String7 & \\\\\n",
       "\t\\hline\n",
       "\t1 & 0 & Acamar & HR 897 & tet01 & Eri & A & 02583-4018 & 2.88 & $\\dots$ \\\\\n",
       "\t2 & 1 & Achernar & HR 472 & alf & Eri & A & - & 0.45 & $\\dots$ \\\\\n",
       "\t3 & 2 & Achird & HR 219 & eta & Cas & A & 00491+5749 & 3.46 & $\\dots$ \\\\\n",
       "\t4 & 3 & Acrab & HR 5984 & bet & Sco & Aa & 16054-1948 & 2.56 & $\\dots$ \\\\\n",
       "\t5 & 4 & Acrux & HR 4730 & alf & Cru & Aa & 12266-6306 & 1.33 & $\\dots$ \\\\\n",
       "\t6 & 5 & Acubens & HR 3572 & alf & Cnc & Aa & 08585+1151 & 4.26 & $\\dots$ \\\\\n",
       "\t7 & 6 & Adhafera & HR 4031 & zet & Leo & Aa & 10167+2325 & 3.43 & $\\dots$ \\\\\n",
       "\t8 & 7 & Adhara & HR 2618 & eps & CMa & A & 06586-2858 & 1.50 & $\\dots$ \\\\\n",
       "\t9 & 8 & Adhil & HR 390 & ksi & And & - & - & 4.87 & $\\dots$ \\\\\n",
       "\t10 & 9 & Ain & HR 1409 & eps & Tau & Aa1 & 04286+1911 & 3.53 & $\\dots$ \\\\\n",
       "\t11 & 10 & Ainalrami & HR 7116 & nu01 & Sgr & A & 18542-2245 & 4.86 & $\\dots$ \\\\\n",
       "\t12 & 11 & Aladfar & HR 7298 & eta & Lyr & Aa & 19138+3909 & 4.43 & $\\dots$ \\\\\n",
       "\t13 & 12 & Albaldah & HR 7264 & pi & Sgr & A & 19098-2101 & 2.88 & $\\dots$ \\\\\n",
       "\t14 & 13 & Albali & HR 7950 & eps & Aqr & - & - & 3.78 & $\\dots$ \\\\\n",
       "\t15 & 14 & Albireo & HR 7417 & bet & Cyg & Aa & 19307+2758 & 3.37 & $\\dots$ \\\\\n",
       "\t16 & 15 & Alchiba & HR 4623 & alf & Crv & - & - & 4.02 & $\\dots$ \\\\\n",
       "\t17 & 16 & Alcor & HR 5062 & 80 & UMa & Ca & 13239+5456 & 3.99 & $\\dots$ \\\\\n",
       "\t18 & 17 & Alcyone & HR 1165 & eta & Tau & A & 03475+2406 & 2.85 & $\\dots$ \\\\\n",
       "\t19 & 18 & Aldebaran & HR 1457 & alf & Tau & - & 04359+1631 & 0.87 & $\\dots$ \\\\\n",
       "\t20 & 19 & Alderamin & HR 8162 & alf & Cep & - & 21186+6235 & 2.45 & $\\dots$ \\\\\n",
       "\t21 & 20 & Aldhanab & HR 8353 & gam & Gru & - & - & 3.00 & $\\dots$ \\\\\n",
       "\t22 & 21 & Aldhibah & HR 6396 & zet & Dra & A & 17088+6543 & 3.17 & $\\dots$ \\\\\n",
       "\t23 & 22 & Aldulfin & HR 7852 & eps & Del & - & - & 4.03 & $\\dots$ \\\\\n",
       "\t24 & 23 & Alfirk & HR 8238 & bet & Cep & Aa & 21287+7034 & 3.23 & $\\dots$ \\\\\n",
       "\t25 & 24 & Algedi & HR 7754 & alf02 & Cap & A & 20181-1233 & 3.58 & $\\dots$ \\\\\n",
       "\t26 & 25 & Algenib & HR 39 & gam & Peg & - & 00132+1511 & 2.83 & $\\dots$ \\\\\n",
       "\t27 & 26 & Algieba & HR 4057 & gam01 & Leo & - & 10200+1950 & 2.61 & $\\dots$ \\\\\n",
       "\t28 & 27 & Algol & HR 936 & bet & Per & Aa1 & 03082+4057 & 2.09 & $\\dots$ \\\\\n",
       "\t29 & 28 & Algorab & HR 4757 & del & Crv & A & 12299-1631 & 2.94 & $\\dots$ \\\\\n",
       "\t30 & 29 & Alhena & HR 2421 & gam & Gem & Aa & 06377+1624 & 1.93 & $\\dots$ \\\\\n",
       "\t$\\dots$ & $\\dots$ & $\\dots$ & $\\dots$ & $\\dots$ & $\\dots$ & $\\dots$ & $\\dots$ & $\\dots$ &  \\\\\n",
       "\\end{tabular}\n"
      ],
      "text/plain": [
       "\u001b[1m330×13 DataFrame\u001b[0m\n",
       "\u001b[1m Row \u001b[0m│\u001b[1m Column1 \u001b[0m\u001b[1m Name           \u001b[0m\u001b[1m Designation \u001b[0m\u001b[1m ID      \u001b[0m\u001b[1m Con     \u001b[0m\u001b[1m #       \u001b[0m\u001b[1m WDS_J \u001b[0m ⋯\n",
       "\u001b[1m     \u001b[0m│\u001b[90m Int64   \u001b[0m\u001b[90m String31       \u001b[0m\u001b[90m String15    \u001b[0m\u001b[90m String7 \u001b[0m\u001b[90m String3 \u001b[0m\u001b[90m String3 \u001b[0m\u001b[90m String\u001b[0m ⋯\n",
       "─────┼──────────────────────────────────────────────────────────────────────────\n",
       "   1 │       0  Acamar          HR 897       tet01    Eri      A        02583- ⋯\n",
       "   2 │       1  Achernar        HR 472       alf      Eri      A        -\n",
       "   3 │       2  Achird          HR 219       eta      Cas      A        00491+\n",
       "   4 │       3  Acrab           HR 5984      bet      Sco      Aa       16054-\n",
       "   5 │       4  Acrux           HR 4730      alf      Cru      Aa       12266- ⋯\n",
       "   6 │       5  Acubens         HR 3572      alf      Cnc      Aa       08585+\n",
       "   7 │       6  Adhafera        HR 4031      zet      Leo      Aa       10167+\n",
       "   8 │       7  Adhara          HR 2618      eps      CMa      A        06586-\n",
       "   9 │       8  Adhil           HR 390       ksi      And      -        -      ⋯\n",
       "  10 │       9  Ain             HR 1409      eps      Tau      Aa1      04286+\n",
       "  11 │      10  Ainalrami       HR 7116      nu01     Sgr      A        18542-\n",
       "  ⋮  │    ⋮           ⋮              ⋮          ⋮        ⋮        ⋮         ⋮  ⋱\n",
       " 321 │     320  Yildun          HR 6789      del      UMi      -        17322+\n",
       " 322 │     321  Zaniah          HR 4689      eta      Vir      Aa       12199- ⋯\n",
       " 323 │     322  Zaurak          HR 1231      gam      Eri      -        03580-\n",
       " 324 │     323  Zavijava        HR 4540      bet      Vir      -        11507+\n",
       " 325 │     324  Zhang           HR 3903      ups01    Hya      A        -\n",
       " 326 │     325  Zibal           HR 984       zet      Eri      Aa       03158- ⋯\n",
       " 327 │     326  Zosma           HR 4357      del      Leo      -        11141+\n",
       " 328 │     327  Zubenelgenubi   HR 5531      alf02    Lib      Aa       14509-\n",
       " 329 │     328  Zubenelhakrabi  HR 5787      gam      Lib      A        15355-\n",
       " 330 │     329  Zubeneschamali  HR 5685      bet      Lib      -        -      ⋯\n",
       "\u001b[36m                                                  7 columns and 309 rows omitted\u001b[0m"
      ]
     },
     "execution_count": 85,
     "metadata": {},
     "output_type": "execute_result"
    }
   ],
   "source": [
    "df"
   ]
  },
  {
   "cell_type": "code",
   "execution_count": 86,
   "metadata": {},
   "outputs": [
    {
     "data": {
      "text/html": [
       "<div class=\"data-frame\"><p>329 rows × 13 columns (omitted printing of 5 columns)</p><table class=\"data-frame\"><thead><tr><th></th><th>Column1</th><th>Name</th><th>Designation</th><th>ID</th><th>Con</th><th>#</th><th>WDS_J</th><th>Vmag</th></tr><tr><th></th><th title=\"Int64\">Int64</th><th title=\"String31\">String31</th><th title=\"String15\">String15</th><th title=\"String7\">String7</th><th title=\"String3\">String3</th><th title=\"String3\">String3</th><th title=\"String15\">String15</th><th title=\"String7\">String7</th></tr></thead><tbody><tr><th>1</th><td>0</td><td>Acamar</td><td>HR 897</td><td>tet01</td><td>Eri</td><td>A</td><td>02583-4018</td><td>2.88</td></tr><tr><th>2</th><td>1</td><td>Achernar</td><td>HR 472</td><td>alf</td><td>Eri</td><td>A</td><td>-</td><td>0.45</td></tr><tr><th>3</th><td>2</td><td>Achird</td><td>HR 219</td><td>eta</td><td>Cas</td><td>A</td><td>00491+5749</td><td>3.46</td></tr><tr><th>4</th><td>3</td><td>Acrab</td><td>HR 5984</td><td>bet</td><td>Sco</td><td>Aa</td><td>16054-1948</td><td>2.56</td></tr><tr><th>5</th><td>4</td><td>Acrux</td><td>HR 4730</td><td>alf</td><td>Cru</td><td>Aa</td><td>12266-6306</td><td>1.33</td></tr><tr><th>6</th><td>5</td><td>Acubens</td><td>HR 3572</td><td>alf</td><td>Cnc</td><td>Aa</td><td>08585+1151</td><td>4.26</td></tr><tr><th>7</th><td>6</td><td>Adhafera</td><td>HR 4031</td><td>zet</td><td>Leo</td><td>Aa</td><td>10167+2325</td><td>3.43</td></tr><tr><th>8</th><td>7</td><td>Adhara</td><td>HR 2618</td><td>eps</td><td>CMa</td><td>A</td><td>06586-2858</td><td>1.50</td></tr><tr><th>9</th><td>8</td><td>Adhil</td><td>HR 390</td><td>ksi</td><td>And</td><td>-</td><td>-</td><td>4.87</td></tr><tr><th>10</th><td>9</td><td>Ain</td><td>HR 1409</td><td>eps</td><td>Tau</td><td>Aa1</td><td>04286+1911</td><td>3.53</td></tr><tr><th>11</th><td>10</td><td>Ainalrami</td><td>HR 7116</td><td>nu01</td><td>Sgr</td><td>A</td><td>18542-2245</td><td>4.86</td></tr><tr><th>12</th><td>11</td><td>Aladfar</td><td>HR 7298</td><td>eta</td><td>Lyr</td><td>Aa</td><td>19138+3909</td><td>4.43</td></tr><tr><th>13</th><td>12</td><td>Albaldah</td><td>HR 7264</td><td>pi</td><td>Sgr</td><td>A</td><td>19098-2101</td><td>2.88</td></tr><tr><th>14</th><td>13</td><td>Albali</td><td>HR 7950</td><td>eps</td><td>Aqr</td><td>-</td><td>-</td><td>3.78</td></tr><tr><th>15</th><td>14</td><td>Albireo</td><td>HR 7417</td><td>bet</td><td>Cyg</td><td>Aa</td><td>19307+2758</td><td>3.37</td></tr><tr><th>16</th><td>15</td><td>Alchiba</td><td>HR 4623</td><td>alf</td><td>Crv</td><td>-</td><td>-</td><td>4.02</td></tr><tr><th>17</th><td>16</td><td>Alcor</td><td>HR 5062</td><td>80</td><td>UMa</td><td>Ca</td><td>13239+5456</td><td>3.99</td></tr><tr><th>18</th><td>17</td><td>Alcyone</td><td>HR 1165</td><td>eta</td><td>Tau</td><td>A</td><td>03475+2406</td><td>2.85</td></tr><tr><th>19</th><td>18</td><td>Aldebaran</td><td>HR 1457</td><td>alf</td><td>Tau</td><td>-</td><td>04359+1631</td><td>0.87</td></tr><tr><th>20</th><td>19</td><td>Alderamin</td><td>HR 8162</td><td>alf</td><td>Cep</td><td>-</td><td>21186+6235</td><td>2.45</td></tr><tr><th>21</th><td>20</td><td>Aldhanab</td><td>HR 8353</td><td>gam</td><td>Gru</td><td>-</td><td>-</td><td>3.00</td></tr><tr><th>22</th><td>21</td><td>Aldhibah</td><td>HR 6396</td><td>zet</td><td>Dra</td><td>A</td><td>17088+6543</td><td>3.17</td></tr><tr><th>23</th><td>22</td><td>Aldulfin</td><td>HR 7852</td><td>eps</td><td>Del</td><td>-</td><td>-</td><td>4.03</td></tr><tr><th>24</th><td>23</td><td>Alfirk</td><td>HR 8238</td><td>bet</td><td>Cep</td><td>Aa</td><td>21287+7034</td><td>3.23</td></tr><tr><th>25</th><td>24</td><td>Algedi</td><td>HR 7754</td><td>alf02</td><td>Cap</td><td>A</td><td>20181-1233</td><td>3.58</td></tr><tr><th>26</th><td>25</td><td>Algenib</td><td>HR 39</td><td>gam</td><td>Peg</td><td>-</td><td>00132+1511</td><td>2.83</td></tr><tr><th>27</th><td>26</td><td>Algieba</td><td>HR 4057</td><td>gam01</td><td>Leo</td><td>-</td><td>10200+1950</td><td>2.61</td></tr><tr><th>28</th><td>27</td><td>Algol</td><td>HR 936</td><td>bet</td><td>Per</td><td>Aa1</td><td>03082+4057</td><td>2.09</td></tr><tr><th>29</th><td>28</td><td>Algorab</td><td>HR 4757</td><td>del</td><td>Crv</td><td>A</td><td>12299-1631</td><td>2.94</td></tr><tr><th>30</th><td>29</td><td>Alhena</td><td>HR 2421</td><td>gam</td><td>Gem</td><td>Aa</td><td>06377+1624</td><td>1.93</td></tr><tr><th>&vellip;</th><td>&vellip;</td><td>&vellip;</td><td>&vellip;</td><td>&vellip;</td><td>&vellip;</td><td>&vellip;</td><td>&vellip;</td><td>&vellip;</td></tr></tbody></table></div>"
      ],
      "text/latex": [
       "\\begin{tabular}{r|ccccccccc}\n",
       "\t& Column1 & Name & Designation & ID & Con & \\# & WDS\\_J & Vmag & \\\\\n",
       "\t\\hline\n",
       "\t& Int64 & String31 & String15 & String7 & String3 & String3 & String15 & String7 & \\\\\n",
       "\t\\hline\n",
       "\t1 & 0 & Acamar & HR 897 & tet01 & Eri & A & 02583-4018 & 2.88 & $\\dots$ \\\\\n",
       "\t2 & 1 & Achernar & HR 472 & alf & Eri & A & - & 0.45 & $\\dots$ \\\\\n",
       "\t3 & 2 & Achird & HR 219 & eta & Cas & A & 00491+5749 & 3.46 & $\\dots$ \\\\\n",
       "\t4 & 3 & Acrab & HR 5984 & bet & Sco & Aa & 16054-1948 & 2.56 & $\\dots$ \\\\\n",
       "\t5 & 4 & Acrux & HR 4730 & alf & Cru & Aa & 12266-6306 & 1.33 & $\\dots$ \\\\\n",
       "\t6 & 5 & Acubens & HR 3572 & alf & Cnc & Aa & 08585+1151 & 4.26 & $\\dots$ \\\\\n",
       "\t7 & 6 & Adhafera & HR 4031 & zet & Leo & Aa & 10167+2325 & 3.43 & $\\dots$ \\\\\n",
       "\t8 & 7 & Adhara & HR 2618 & eps & CMa & A & 06586-2858 & 1.50 & $\\dots$ \\\\\n",
       "\t9 & 8 & Adhil & HR 390 & ksi & And & - & - & 4.87 & $\\dots$ \\\\\n",
       "\t10 & 9 & Ain & HR 1409 & eps & Tau & Aa1 & 04286+1911 & 3.53 & $\\dots$ \\\\\n",
       "\t11 & 10 & Ainalrami & HR 7116 & nu01 & Sgr & A & 18542-2245 & 4.86 & $\\dots$ \\\\\n",
       "\t12 & 11 & Aladfar & HR 7298 & eta & Lyr & Aa & 19138+3909 & 4.43 & $\\dots$ \\\\\n",
       "\t13 & 12 & Albaldah & HR 7264 & pi & Sgr & A & 19098-2101 & 2.88 & $\\dots$ \\\\\n",
       "\t14 & 13 & Albali & HR 7950 & eps & Aqr & - & - & 3.78 & $\\dots$ \\\\\n",
       "\t15 & 14 & Albireo & HR 7417 & bet & Cyg & Aa & 19307+2758 & 3.37 & $\\dots$ \\\\\n",
       "\t16 & 15 & Alchiba & HR 4623 & alf & Crv & - & - & 4.02 & $\\dots$ \\\\\n",
       "\t17 & 16 & Alcor & HR 5062 & 80 & UMa & Ca & 13239+5456 & 3.99 & $\\dots$ \\\\\n",
       "\t18 & 17 & Alcyone & HR 1165 & eta & Tau & A & 03475+2406 & 2.85 & $\\dots$ \\\\\n",
       "\t19 & 18 & Aldebaran & HR 1457 & alf & Tau & - & 04359+1631 & 0.87 & $\\dots$ \\\\\n",
       "\t20 & 19 & Alderamin & HR 8162 & alf & Cep & - & 21186+6235 & 2.45 & $\\dots$ \\\\\n",
       "\t21 & 20 & Aldhanab & HR 8353 & gam & Gru & - & - & 3.00 & $\\dots$ \\\\\n",
       "\t22 & 21 & Aldhibah & HR 6396 & zet & Dra & A & 17088+6543 & 3.17 & $\\dots$ \\\\\n",
       "\t23 & 22 & Aldulfin & HR 7852 & eps & Del & - & - & 4.03 & $\\dots$ \\\\\n",
       "\t24 & 23 & Alfirk & HR 8238 & bet & Cep & Aa & 21287+7034 & 3.23 & $\\dots$ \\\\\n",
       "\t25 & 24 & Algedi & HR 7754 & alf02 & Cap & A & 20181-1233 & 3.58 & $\\dots$ \\\\\n",
       "\t26 & 25 & Algenib & HR 39 & gam & Peg & - & 00132+1511 & 2.83 & $\\dots$ \\\\\n",
       "\t27 & 26 & Algieba & HR 4057 & gam01 & Leo & - & 10200+1950 & 2.61 & $\\dots$ \\\\\n",
       "\t28 & 27 & Algol & HR 936 & bet & Per & Aa1 & 03082+4057 & 2.09 & $\\dots$ \\\\\n",
       "\t29 & 28 & Algorab & HR 4757 & del & Crv & A & 12299-1631 & 2.94 & $\\dots$ \\\\\n",
       "\t30 & 29 & Alhena & HR 2421 & gam & Gem & Aa & 06377+1624 & 1.93 & $\\dots$ \\\\\n",
       "\t$\\dots$ & $\\dots$ & $\\dots$ & $\\dots$ & $\\dots$ & $\\dots$ & $\\dots$ & $\\dots$ & $\\dots$ &  \\\\\n",
       "\\end{tabular}\n"
      ],
      "text/plain": [
       "\u001b[1m329×13 DataFrame\u001b[0m\n",
       "\u001b[1m Row \u001b[0m│\u001b[1m Column1 \u001b[0m\u001b[1m Name           \u001b[0m\u001b[1m Designation \u001b[0m\u001b[1m ID      \u001b[0m\u001b[1m Con     \u001b[0m\u001b[1m #       \u001b[0m\u001b[1m WDS_J \u001b[0m ⋯\n",
       "\u001b[1m     \u001b[0m│\u001b[90m Int64   \u001b[0m\u001b[90m String31       \u001b[0m\u001b[90m String15    \u001b[0m\u001b[90m String7 \u001b[0m\u001b[90m String3 \u001b[0m\u001b[90m String3 \u001b[0m\u001b[90m String\u001b[0m ⋯\n",
       "─────┼──────────────────────────────────────────────────────────────────────────\n",
       "   1 │       0  Acamar          HR 897       tet01    Eri      A        02583- ⋯\n",
       "   2 │       1  Achernar        HR 472       alf      Eri      A        -\n",
       "   3 │       2  Achird          HR 219       eta      Cas      A        00491+\n",
       "   4 │       3  Acrab           HR 5984      bet      Sco      Aa       16054-\n",
       "   5 │       4  Acrux           HR 4730      alf      Cru      Aa       12266- ⋯\n",
       "   6 │       5  Acubens         HR 3572      alf      Cnc      Aa       08585+\n",
       "   7 │       6  Adhafera        HR 4031      zet      Leo      Aa       10167+\n",
       "   8 │       7  Adhara          HR 2618      eps      CMa      A        06586-\n",
       "   9 │       8  Adhil           HR 390       ksi      And      -        -      ⋯\n",
       "  10 │       9  Ain             HR 1409      eps      Tau      Aa1      04286+\n",
       "  11 │      10  Ainalrami       HR 7116      nu01     Sgr      A        18542-\n",
       "  ⋮  │    ⋮           ⋮              ⋮          ⋮        ⋮        ⋮         ⋮  ⋱\n",
       " 320 │     320  Yildun          HR 6789      del      UMi      -        17322+\n",
       " 321 │     321  Zaniah          HR 4689      eta      Vir      Aa       12199- ⋯\n",
       " 322 │     322  Zaurak          HR 1231      gam      Eri      -        03580-\n",
       " 323 │     323  Zavijava        HR 4540      bet      Vir      -        11507+\n",
       " 324 │     324  Zhang           HR 3903      ups01    Hya      A        -\n",
       " 325 │     325  Zibal           HR 984       zet      Eri      Aa       03158- ⋯\n",
       " 326 │     326  Zosma           HR 4357      del      Leo      -        11141+\n",
       " 327 │     327  Zubenelgenubi   HR 5531      alf02    Lib      Aa       14509-\n",
       " 328 │     328  Zubenelhakrabi  HR 5787      gam      Lib      A        15355-\n",
       " 329 │     329  Zubeneschamali  HR 5685      bet      Lib      -        -      ⋯\n",
       "\u001b[36m                                                  7 columns and 308 rows omitted\u001b[0m"
      ]
     },
     "execution_count": 86,
     "metadata": {},
     "output_type": "execute_result"
    }
   ],
   "source": [
    "df = df[df.\"Vmag\" .!= \"-\",:]\n",
    "df"
   ]
  },
  {
   "cell_type": "markdown",
   "metadata": {},
   "source": [
    "and now we transform the dtype of the 'Vmag' column to float:"
   ]
  },
  {
   "cell_type": "code",
   "execution_count": 90,
   "metadata": {},
   "outputs": [
    {
     "data": {
      "text/plain": [
       "329-element Vector{Float64}:\n",
       " 2.88\n",
       " 0.45\n",
       " 3.46\n",
       " 2.56\n",
       " 1.33\n",
       " 4.26\n",
       " 3.43\n",
       " 1.5\n",
       " 4.87\n",
       " 3.53\n",
       " 4.86\n",
       " 4.43\n",
       " 2.88\n",
       " ⋮\n",
       " 3.23\n",
       " 2.73\n",
       " 4.35\n",
       " 4.6\n",
       " 2.97\n",
       " 3.59\n",
       " 4.11\n",
       " 4.8\n",
       " 2.56\n",
       " 2.75\n",
       " 3.91\n",
       " 2.61"
      ]
     },
     "execution_count": 90,
     "metadata": {},
     "output_type": "execute_result"
    }
   ],
   "source": [
    "df.\"Vmag\" = parse.(Float64,df.\"Vmag\")\n",
    "df"
   ]
  },
  {
   "cell_type": "code",
   "execution_count": 92,
   "metadata": {},
   "outputs": [
    {
     "data": {
      "text/html": [
       "<div class=\"data-frame\"><p>13 rows × 7 columns</p><table class=\"data-frame\"><thead><tr><th></th><th>variable</th><th>mean</th><th>min</th><th>median</th><th>max</th><th>nmissing</th><th>eltype</th></tr><tr><th></th><th title=\"Symbol\">Symbol</th><th title=\"Union{Nothing, Float64}\">Union…</th><th title=\"Any\">Any</th><th title=\"Any\">Any</th><th title=\"Any\">Any</th><th title=\"Int64\">Int64</th><th title=\"DataType\">DataType</th></tr></thead><tbody><tr><th>1</th><td>Column1</td><td>164.468</td><td>0</td><td>164.0</td><td>329</td><td>0</td><td>Int64</td></tr><tr><th>2</th><td>Name</td><td></td><td>Acamar</td><td></td><td>Zubeneschamali</td><td>0</td><td>String31</td></tr><tr><th>3</th><td>Designation</td><td></td><td>GJ 551</td><td></td><td>HR 99</td><td>0</td><td>String15</td></tr><tr><th>4</th><td>ID</td><td></td><td>-</td><td></td><td>zet01</td><td>0</td><td>String7</td></tr><tr><th>5</th><td>Con</td><td></td><td>And</td><td></td><td>Vul</td><td>0</td><td>String3</td></tr><tr><th>6</th><td>#</td><td></td><td>-</td><td></td><td>_</td><td>0</td><td>String3</td></tr><tr><th>7</th><td>WDS_J</td><td></td><td>-</td><td></td><td>_</td><td>0</td><td>String15</td></tr><tr><th>8</th><td>Vmag</td><td>3.32845</td><td>-1.45</td><td>3.37</td><td>11.01</td><td>0</td><td>Float64</td></tr><tr><th>9</th><td>HIP</td><td></td><td>100064</td><td></td><td>9884</td><td>0</td><td>String7</td></tr><tr><th>10</th><td>HD</td><td></td><td>-</td><td></td><td>999999</td><td>0</td><td>String7</td></tr><tr><th>11</th><td>RA(J2000)</td><td>177.524</td><td>2.09692</td><td>182.103</td><td>354.837</td><td>0</td><td>Float64</td></tr><tr><th>12</th><td>Dec(J2000)</td><td>9.16604</td><td>-88.9565</td><td>11.9672</td><td>89.2641</td><td>0</td><td>Float64</td></tr><tr><th>13</th><td>Date</td><td></td><td>2015-12-15</td><td>2016-08-21</td><td>2018-06-01</td><td>0</td><td>Date</td></tr></tbody></table></div>"
      ],
      "text/latex": [
       "\\begin{tabular}{r|ccccccc}\n",
       "\t& variable & mean & min & median & max & nmissing & eltype\\\\\n",
       "\t\\hline\n",
       "\t& Symbol & Union… & Any & Any & Any & Int64 & DataType\\\\\n",
       "\t\\hline\n",
       "\t1 & Column1 & 164.468 & 0 & 164.0 & 329 & 0 & Int64 \\\\\n",
       "\t2 & Name &  & Acamar &  & Zubeneschamali & 0 & String31 \\\\\n",
       "\t3 & Designation &  & GJ 551 &  & HR 99 & 0 & String15 \\\\\n",
       "\t4 & ID &  & - &  & zet01 & 0 & String7 \\\\\n",
       "\t5 & Con &  & And &  & Vul & 0 & String3 \\\\\n",
       "\t6 & \\# &  & - &  & \\_ & 0 & String3 \\\\\n",
       "\t7 & WDS\\_J &  & - &  & \\_ & 0 & String15 \\\\\n",
       "\t8 & Vmag & 3.32845 & -1.45 & 3.37 & 11.01 & 0 & Float64 \\\\\n",
       "\t9 & HIP &  & 100064 &  & 9884 & 0 & String7 \\\\\n",
       "\t10 & HD &  & - &  & 999999 & 0 & String7 \\\\\n",
       "\t11 & RA(J2000) & 177.524 & 2.09692 & 182.103 & 354.837 & 0 & Float64 \\\\\n",
       "\t12 & Dec(J2000) & 9.16604 & -88.9565 & 11.9672 & 89.2641 & 0 & Float64 \\\\\n",
       "\t13 & Date &  & 2015-12-15 & 2016-08-21 & 2018-06-01 & 0 & Date \\\\\n",
       "\\end{tabular}\n"
      ],
      "text/plain": [
       "\u001b[1m13×7 DataFrame\u001b[0m\n",
       "\u001b[1m Row \u001b[0m│\u001b[1m variable    \u001b[0m\u001b[1m mean    \u001b[0m\u001b[1m min        \u001b[0m\u001b[1m median     \u001b[0m\u001b[1m max            \u001b[0m\u001b[1m nmissing \u001b[0m\u001b[1m\u001b[0m ⋯\n",
       "\u001b[1m     \u001b[0m│\u001b[90m Symbol      \u001b[0m\u001b[90m Union…  \u001b[0m\u001b[90m Any        \u001b[0m\u001b[90m Any        \u001b[0m\u001b[90m Any            \u001b[0m\u001b[90m Int64    \u001b[0m\u001b[90m\u001b[0m ⋯\n",
       "─────┼──────────────────────────────────────────────────────────────────────────\n",
       "   1 │ Column1      164.468  0           164.0       329                    0  ⋯\n",
       "   2 │ Name        \u001b[90m         \u001b[0m Acamar     \u001b[90m            \u001b[0m Zubeneschamali         0\n",
       "   3 │ Designation \u001b[90m         \u001b[0m GJ 551     \u001b[90m            \u001b[0m HR 99                  0\n",
       "   4 │ ID          \u001b[90m         \u001b[0m -          \u001b[90m            \u001b[0m zet01                  0\n",
       "   5 │ Con         \u001b[90m         \u001b[0m And        \u001b[90m            \u001b[0m Vul                    0  ⋯\n",
       "   6 │ #           \u001b[90m         \u001b[0m -          \u001b[90m            \u001b[0m _                      0\n",
       "   7 │ WDS_J       \u001b[90m         \u001b[0m -          \u001b[90m            \u001b[0m _                      0\n",
       "   8 │ Vmag         3.32845  -1.45       3.37        11.01                  0\n",
       "   9 │ HIP         \u001b[90m         \u001b[0m 100064     \u001b[90m            \u001b[0m 9884                   0  ⋯\n",
       "  10 │ HD          \u001b[90m         \u001b[0m -          \u001b[90m            \u001b[0m 999999                 0\n",
       "  11 │ RA(J2000)    177.524  2.09692     182.103     354.837                0\n",
       "  12 │ Dec(J2000)   9.16604  -88.9565    11.9672     89.2641                0\n",
       "  13 │ Date        \u001b[90m         \u001b[0m 2015-12-15  2016-08-21  2018-06-01             0  ⋯\n",
       "\u001b[36m                                                                1 column omitted\u001b[0m"
      ]
     },
     "execution_count": 92,
     "metadata": {},
     "output_type": "execute_result"
    }
   ],
   "source": [
    "describe(df)"
   ]
  },
  {
   "cell_type": "markdown",
   "metadata": {},
   "source": [
    "---\n",
    "Lets now group the data by Constellation and find the maximum value of 'Vmag' in each one,"
   ]
  },
  {
   "cell_type": "code",
   "execution_count": 94,
   "metadata": {},
   "outputs": [
    {
     "data": {
      "text/html": [
       "<p><b>GroupedDataFrame with 63 groups based on key: Con</b></p><p><i>First Group (13 rows): Con = &quot;Eri&quot;</i></p><div class=\"data-frame\"><table class=\"data-frame\"><thead><tr><th></th><th>Column1</th><th>Name</th><th>Designation</th><th>ID</th><th>Con</th><th>#</th><th>WDS_J</th><th>Vmag</th></tr><tr><th></th><th title=\"Int64\">Int64</th><th title=\"String31\">String31</th><th title=\"String15\">String15</th><th title=\"String7\">String7</th><th title=\"String3\">String3</th><th title=\"String3\">String3</th><th title=\"String15\">String15</th><th title=\"Float64\">Float64</th></tr></thead><tbody><tr><th>1</th><td>0</td><td>Acamar</td><td>HR 897</td><td>tet01</td><td>Eri</td><td>A</td><td>02583-4018</td><td>2.88</td></tr><tr><th>2</th><td>1</td><td>Achernar</td><td>HR 472</td><td>alf</td><td>Eri</td><td>A</td><td>-</td><td>0.45</td></tr><tr><th>3</th><td>65</td><td>Angetenar</td><td>HR 850</td><td>tau02</td><td>Eri</td><td>-</td><td>02510-2100</td><td>4.76</td></tr><tr><th>4</th><td>85</td><td>Azha</td><td>HR 874</td><td>eta</td><td>Eri</td><td>-</td><td>-</td><td>3.89</td></tr><tr><th>5</th><td>89</td><td>Beemim</td><td>HR 1393</td><td>ups03</td><td>Eri</td><td>-</td><td>-</td><td>3.97</td></tr><tr><th>6</th><td>90</td><td>Beid</td><td>HR 1298</td><td>omi01</td><td>Eri</td><td>-</td><td>-</td><td>4.04</td></tr><tr><th>7</th><td>113</td><td>Cursa</td><td>HR 1666</td><td>bet</td><td>Eri</td><td>-</td><td>05078-0505</td><td>2.78</td></tr><tr><th>8</th><td>165</td><td>Keid</td><td>HR 1325</td><td>omi02</td><td>Eri</td><td>A</td><td>04153-0739</td><td>4.43</td></tr><tr><th>9</th><td>243</td><td>Ran</td><td>HR 1084</td><td>eps</td><td>Eri</td><td>-</td><td>03329-0927</td><td>3.73</td></tr><tr><th>10</th><td>266</td><td>Sceptrum</td><td>HR 1481</td><td>53</td><td>Eri</td><td>A</td><td>04382-1418</td><td>4.02</td></tr><tr><th>11</th><td>297</td><td>Theemin</td><td>HR 1464</td><td>ups02</td><td>Eri</td><td>-</td><td>-</td><td>3.81</td></tr><tr><th>12</th><td>322</td><td>Zaurak</td><td>HR 1231</td><td>gam</td><td>Eri</td><td>-</td><td>03580-1331</td><td>2.97</td></tr><tr><th>13</th><td>325</td><td>Zibal</td><td>HR 984</td><td>zet</td><td>Eri</td><td>Aa</td><td>03158-0849</td><td>4.8</td></tr></tbody></table></div><p>&vellip;</p><p><i>Last Group (1 row): Con = &quot;Cam&quot;</i></p><div class=\"data-frame\"><table class=\"data-frame\"><thead><tr><th></th><th>Column1</th><th>Name</th><th>Designation</th><th>ID</th><th>Con</th><th>#</th><th>WDS_J</th><th>Vmag</th><th>HIP</th></tr><tr><th></th><th title=\"Int64\">Int64</th><th title=\"String31\">String31</th><th title=\"String15\">String15</th><th title=\"String7\">String7</th><th title=\"String3\">String3</th><th title=\"String3\">String3</th><th title=\"String15\">String15</th><th title=\"Float64\">Float64</th><th title=\"String7\">String7</th></tr></thead><tbody><tr><th>1</th><td>303</td><td>Tonatiuh</td><td>HR 4609</td><td>-</td><td>Cam</td><td>-</td><td>-</td><td>5.8</td><td>58952</td></tr></tbody></table></div>"
      ],
      "text/latex": [
       "GroupedDataFrame with 63 groups based on key: Con\n",
       "\n",
       "First Group (13 rows): Con = \"Eri\"\n",
       "\n",
       "\\begin{tabular}{r|ccccccccc}\n",
       "\t& Column1 & Name & Designation & ID & Con & \\# & WDS\\_J & Vmag & \\\\\n",
       "\t\\hline\n",
       "\t& Int64 & String31 & String15 & String7 & String3 & String3 & String15 & Float64 & \\\\\n",
       "\t\\hline\n",
       "\t1 & 0 & Acamar & HR 897 & tet01 & Eri & A & 02583-4018 & 2.88 & $\\dots$ \\\\\n",
       "\t2 & 1 & Achernar & HR 472 & alf & Eri & A & - & 0.45 & $\\dots$ \\\\\n",
       "\t3 & 65 & Angetenar & HR 850 & tau02 & Eri & - & 02510-2100 & 4.76 & $\\dots$ \\\\\n",
       "\t4 & 85 & Azha & HR 874 & eta & Eri & - & - & 3.89 & $\\dots$ \\\\\n",
       "\t5 & 89 & Beemim & HR 1393 & ups03 & Eri & - & - & 3.97 & $\\dots$ \\\\\n",
       "\t6 & 90 & Beid & HR 1298 & omi01 & Eri & - & - & 4.04 & $\\dots$ \\\\\n",
       "\t7 & 113 & Cursa & HR 1666 & bet & Eri & - & 05078-0505 & 2.78 & $\\dots$ \\\\\n",
       "\t8 & 165 & Keid & HR 1325 & omi02 & Eri & A & 04153-0739 & 4.43 & $\\dots$ \\\\\n",
       "\t9 & 243 & Ran & HR 1084 & eps & Eri & - & 03329-0927 & 3.73 & $\\dots$ \\\\\n",
       "\t10 & 266 & Sceptrum & HR 1481 & 53 & Eri & A & 04382-1418 & 4.02 & $\\dots$ \\\\\n",
       "\t11 & 297 & Theemin & HR 1464 & ups02 & Eri & - & - & 3.81 & $\\dots$ \\\\\n",
       "\t12 & 322 & Zaurak & HR 1231 & gam & Eri & - & 03580-1331 & 2.97 & $\\dots$ \\\\\n",
       "\t13 & 325 & Zibal & HR 984 & zet & Eri & Aa & 03158-0849 & 4.8 & $\\dots$ \\\\\n",
       "\\end{tabular}\n",
       "\n",
       "$\\dots$\n",
       "\n",
       "Last Group (1 row): Con = \"Cam\"\n",
       "\n",
       "\\begin{tabular}{r|cccccccccc}\n",
       "\t& Column1 & Name & Designation & ID & Con & \\# & WDS\\_J & Vmag & HIP & \\\\\n",
       "\t\\hline\n",
       "\t& Int64 & String31 & String15 & String7 & String3 & String3 & String15 & Float64 & String7 & \\\\\n",
       "\t\\hline\n",
       "\t1 & 303 & Tonatiuh & HR 4609 & - & Cam & - & - & 5.8 & 58952 & $\\dots$ \\\\\n",
       "\\end{tabular}\n"
      ],
      "text/plain": [
       "GroupedDataFrame with 63 groups based on key: Con\n",
       "First Group (13 rows): Con = \"Eri\"\n",
       "\u001b[1m Row \u001b[0m│\u001b[1m Column1 \u001b[0m\u001b[1m Name      \u001b[0m\u001b[1m Designation \u001b[0m\u001b[1m ID      \u001b[0m\u001b[1m Con     \u001b[0m\u001b[1m #       \u001b[0m\u001b[1m WDS_J      \u001b[0m\u001b[1m\u001b[0m ⋯\n",
       "\u001b[1m     \u001b[0m│\u001b[90m Int64   \u001b[0m\u001b[90m String31  \u001b[0m\u001b[90m String15    \u001b[0m\u001b[90m String7 \u001b[0m\u001b[90m String3 \u001b[0m\u001b[90m String3 \u001b[0m\u001b[90m String15   \u001b[0m\u001b[90m\u001b[0m ⋯\n",
       "─────┼──────────────────────────────────────────────────────────────────────────\n",
       "   1 │       0  Acamar     HR 897       tet01    Eri      A        02583-4018  ⋯\n",
       "   2 │       1  Achernar   HR 472       alf      Eri      A        -\n",
       "   3 │      65  Angetenar  HR 850       tau02    Eri      -        02510-2100\n",
       "   4 │      85  Azha       HR 874       eta      Eri      -        -\n",
       "   5 │      89  Beemim     HR 1393      ups03    Eri      -        -           ⋯\n",
       "   6 │      90  Beid       HR 1298      omi01    Eri      -        -\n",
       "   7 │     113  Cursa      HR 1666      bet      Eri      -        05078-0505\n",
       "   8 │     165  Keid       HR 1325      omi02    Eri      A        04153-0739\n",
       "   9 │     243  Ran        HR 1084      eps      Eri      -        03329-0927  ⋯\n",
       "  10 │     266  Sceptrum   HR 1481      53       Eri      A        04382-1418\n",
       "  11 │     297  Theemin    HR 1464      ups02    Eri      -        -\n",
       "  12 │     322  Zaurak     HR 1231      gam      Eri      -        03580-1331\n",
       "  13 │     325  Zibal      HR 984       zet      Eri      Aa       03158-0849  ⋯\n",
       "\u001b[36m                                                               6 columns omitted\u001b[0m\n",
       "⋮\n",
       "Last Group (1 row): Con = \"Cam\"\n",
       "\u001b[1m Row \u001b[0m│\u001b[1m Column1 \u001b[0m\u001b[1m Name     \u001b[0m\u001b[1m Designation \u001b[0m\u001b[1m ID      \u001b[0m\u001b[1m Con     \u001b[0m\u001b[1m #       \u001b[0m\u001b[1m WDS_J    \u001b[0m\u001b[1m Vm\u001b[0m ⋯\n",
       "\u001b[1m     \u001b[0m│\u001b[90m Int64   \u001b[0m\u001b[90m String31 \u001b[0m\u001b[90m String15    \u001b[0m\u001b[90m String7 \u001b[0m\u001b[90m String3 \u001b[0m\u001b[90m String3 \u001b[0m\u001b[90m String15 \u001b[0m\u001b[90m Fl\u001b[0m ⋯\n",
       "─────┼──────────────────────────────────────────────────────────────────────────\n",
       "   1 │     303  Tonatiuh  HR 4609      -        Cam      -        -            ⋯\n",
       "\u001b[36m                                                               6 columns omitted\u001b[0m"
      ]
     },
     "execution_count": 94,
     "metadata": {},
     "output_type": "execute_result"
    }
   ],
   "source": [
    "grouped_df = groupby(df,\"Con\")\n",
    "grouped_df"
   ]
  },
  {
   "cell_type": "code",
   "execution_count": 97,
   "metadata": {},
   "outputs": [
    {
     "data": {
      "text/html": [
       "<div class=\"data-frame\"><p>13 rows × 13 columns (omitted printing of 5 columns)</p><table class=\"data-frame\"><thead><tr><th></th><th>Column1</th><th>Name</th><th>Designation</th><th>ID</th><th>Con</th><th>#</th><th>WDS_J</th><th>Vmag</th></tr><tr><th></th><th title=\"Int64\">Int64</th><th title=\"String31\">String31</th><th title=\"String15\">String15</th><th title=\"String7\">String7</th><th title=\"String3\">String3</th><th title=\"String3\">String3</th><th title=\"String15\">String15</th><th title=\"Float64\">Float64</th></tr></thead><tbody><tr><th>1</th><td>0</td><td>Acamar</td><td>HR 897</td><td>tet01</td><td>Eri</td><td>A</td><td>02583-4018</td><td>2.88</td></tr><tr><th>2</th><td>1</td><td>Achernar</td><td>HR 472</td><td>alf</td><td>Eri</td><td>A</td><td>-</td><td>0.45</td></tr><tr><th>3</th><td>65</td><td>Angetenar</td><td>HR 850</td><td>tau02</td><td>Eri</td><td>-</td><td>02510-2100</td><td>4.76</td></tr><tr><th>4</th><td>85</td><td>Azha</td><td>HR 874</td><td>eta</td><td>Eri</td><td>-</td><td>-</td><td>3.89</td></tr><tr><th>5</th><td>89</td><td>Beemim</td><td>HR 1393</td><td>ups03</td><td>Eri</td><td>-</td><td>-</td><td>3.97</td></tr><tr><th>6</th><td>90</td><td>Beid</td><td>HR 1298</td><td>omi01</td><td>Eri</td><td>-</td><td>-</td><td>4.04</td></tr><tr><th>7</th><td>113</td><td>Cursa</td><td>HR 1666</td><td>bet</td><td>Eri</td><td>-</td><td>05078-0505</td><td>2.78</td></tr><tr><th>8</th><td>165</td><td>Keid</td><td>HR 1325</td><td>omi02</td><td>Eri</td><td>A</td><td>04153-0739</td><td>4.43</td></tr><tr><th>9</th><td>243</td><td>Ran</td><td>HR 1084</td><td>eps</td><td>Eri</td><td>-</td><td>03329-0927</td><td>3.73</td></tr><tr><th>10</th><td>266</td><td>Sceptrum</td><td>HR 1481</td><td>53</td><td>Eri</td><td>A</td><td>04382-1418</td><td>4.02</td></tr><tr><th>11</th><td>297</td><td>Theemin</td><td>HR 1464</td><td>ups02</td><td>Eri</td><td>-</td><td>-</td><td>3.81</td></tr><tr><th>12</th><td>322</td><td>Zaurak</td><td>HR 1231</td><td>gam</td><td>Eri</td><td>-</td><td>03580-1331</td><td>2.97</td></tr><tr><th>13</th><td>325</td><td>Zibal</td><td>HR 984</td><td>zet</td><td>Eri</td><td>Aa</td><td>03158-0849</td><td>4.8</td></tr></tbody></table></div>"
      ],
      "text/latex": [
       "\\begin{tabular}{r|ccccccccc}\n",
       "\t& Column1 & Name & Designation & ID & Con & \\# & WDS\\_J & Vmag & \\\\\n",
       "\t\\hline\n",
       "\t& Int64 & String31 & String15 & String7 & String3 & String3 & String15 & Float64 & \\\\\n",
       "\t\\hline\n",
       "\t1 & 0 & Acamar & HR 897 & tet01 & Eri & A & 02583-4018 & 2.88 & $\\dots$ \\\\\n",
       "\t2 & 1 & Achernar & HR 472 & alf & Eri & A & - & 0.45 & $\\dots$ \\\\\n",
       "\t3 & 65 & Angetenar & HR 850 & tau02 & Eri & - & 02510-2100 & 4.76 & $\\dots$ \\\\\n",
       "\t4 & 85 & Azha & HR 874 & eta & Eri & - & - & 3.89 & $\\dots$ \\\\\n",
       "\t5 & 89 & Beemim & HR 1393 & ups03 & Eri & - & - & 3.97 & $\\dots$ \\\\\n",
       "\t6 & 90 & Beid & HR 1298 & omi01 & Eri & - & - & 4.04 & $\\dots$ \\\\\n",
       "\t7 & 113 & Cursa & HR 1666 & bet & Eri & - & 05078-0505 & 2.78 & $\\dots$ \\\\\n",
       "\t8 & 165 & Keid & HR 1325 & omi02 & Eri & A & 04153-0739 & 4.43 & $\\dots$ \\\\\n",
       "\t9 & 243 & Ran & HR 1084 & eps & Eri & - & 03329-0927 & 3.73 & $\\dots$ \\\\\n",
       "\t10 & 266 & Sceptrum & HR 1481 & 53 & Eri & A & 04382-1418 & 4.02 & $\\dots$ \\\\\n",
       "\t11 & 297 & Theemin & HR 1464 & ups02 & Eri & - & - & 3.81 & $\\dots$ \\\\\n",
       "\t12 & 322 & Zaurak & HR 1231 & gam & Eri & - & 03580-1331 & 2.97 & $\\dots$ \\\\\n",
       "\t13 & 325 & Zibal & HR 984 & zet & Eri & Aa & 03158-0849 & 4.8 & $\\dots$ \\\\\n",
       "\\end{tabular}\n"
      ],
      "text/plain": [
       "\u001b[1m13×13 SubDataFrame\u001b[0m\n",
       "\u001b[1m Row \u001b[0m│\u001b[1m Column1 \u001b[0m\u001b[1m Name      \u001b[0m\u001b[1m Designation \u001b[0m\u001b[1m ID      \u001b[0m\u001b[1m Con     \u001b[0m\u001b[1m #       \u001b[0m\u001b[1m WDS_J      \u001b[0m\u001b[1m\u001b[0m ⋯\n",
       "\u001b[1m     \u001b[0m│\u001b[90m Int64   \u001b[0m\u001b[90m String31  \u001b[0m\u001b[90m String15    \u001b[0m\u001b[90m String7 \u001b[0m\u001b[90m String3 \u001b[0m\u001b[90m String3 \u001b[0m\u001b[90m String15   \u001b[0m\u001b[90m\u001b[0m ⋯\n",
       "─────┼──────────────────────────────────────────────────────────────────────────\n",
       "   1 │       0  Acamar     HR 897       tet01    Eri      A        02583-4018  ⋯\n",
       "   2 │       1  Achernar   HR 472       alf      Eri      A        -\n",
       "   3 │      65  Angetenar  HR 850       tau02    Eri      -        02510-2100\n",
       "   4 │      85  Azha       HR 874       eta      Eri      -        -\n",
       "   5 │      89  Beemim     HR 1393      ups03    Eri      -        -           ⋯\n",
       "   6 │      90  Beid       HR 1298      omi01    Eri      -        -\n",
       "   7 │     113  Cursa      HR 1666      bet      Eri      -        05078-0505\n",
       "   8 │     165  Keid       HR 1325      omi02    Eri      A        04153-0739\n",
       "   9 │     243  Ran        HR 1084      eps      Eri      -        03329-0927  ⋯\n",
       "  10 │     266  Sceptrum   HR 1481      53       Eri      A        04382-1418\n",
       "  11 │     297  Theemin    HR 1464      ups02    Eri      -        -\n",
       "  12 │     322  Zaurak     HR 1231      gam      Eri      -        03580-1331\n",
       "  13 │     325  Zibal      HR 984       zet      Eri      Aa       03158-0849  ⋯\n",
       "\u001b[36m                                                               6 columns omitted\u001b[0m"
      ]
     },
     "execution_count": 97,
     "metadata": {},
     "output_type": "execute_result"
    }
   ],
   "source": [
    "grouped_df[1]"
   ]
  },
  {
   "cell_type": "code",
   "execution_count": 110,
   "metadata": {},
   "outputs": [
    {
     "data": {
      "text/html": [
       "<div class=\"data-frame\"><p>13 rows × 13 columns (omitted printing of 5 columns)</p><table class=\"data-frame\"><thead><tr><th></th><th>Column1</th><th>Name</th><th>Designation</th><th>ID</th><th>Con</th><th>#</th><th>WDS_J</th><th>Vmag</th></tr><tr><th></th><th title=\"Int64\">Int64</th><th title=\"String31\">String31</th><th title=\"String15\">String15</th><th title=\"String7\">String7</th><th title=\"String3\">String3</th><th title=\"String3\">String3</th><th title=\"String15\">String15</th><th title=\"Float64\">Float64</th></tr></thead><tbody><tr><th>1</th><td>1</td><td>Achernar</td><td>HR 472</td><td>alf</td><td>Eri</td><td>A</td><td>-</td><td>0.45</td></tr><tr><th>2</th><td>113</td><td>Cursa</td><td>HR 1666</td><td>bet</td><td>Eri</td><td>-</td><td>05078-0505</td><td>2.78</td></tr><tr><th>3</th><td>0</td><td>Acamar</td><td>HR 897</td><td>tet01</td><td>Eri</td><td>A</td><td>02583-4018</td><td>2.88</td></tr><tr><th>4</th><td>322</td><td>Zaurak</td><td>HR 1231</td><td>gam</td><td>Eri</td><td>-</td><td>03580-1331</td><td>2.97</td></tr><tr><th>5</th><td>243</td><td>Ran</td><td>HR 1084</td><td>eps</td><td>Eri</td><td>-</td><td>03329-0927</td><td>3.73</td></tr><tr><th>6</th><td>297</td><td>Theemin</td><td>HR 1464</td><td>ups02</td><td>Eri</td><td>-</td><td>-</td><td>3.81</td></tr><tr><th>7</th><td>85</td><td>Azha</td><td>HR 874</td><td>eta</td><td>Eri</td><td>-</td><td>-</td><td>3.89</td></tr><tr><th>8</th><td>89</td><td>Beemim</td><td>HR 1393</td><td>ups03</td><td>Eri</td><td>-</td><td>-</td><td>3.97</td></tr><tr><th>9</th><td>266</td><td>Sceptrum</td><td>HR 1481</td><td>53</td><td>Eri</td><td>A</td><td>04382-1418</td><td>4.02</td></tr><tr><th>10</th><td>90</td><td>Beid</td><td>HR 1298</td><td>omi01</td><td>Eri</td><td>-</td><td>-</td><td>4.04</td></tr><tr><th>11</th><td>165</td><td>Keid</td><td>HR 1325</td><td>omi02</td><td>Eri</td><td>A</td><td>04153-0739</td><td>4.43</td></tr><tr><th>12</th><td>65</td><td>Angetenar</td><td>HR 850</td><td>tau02</td><td>Eri</td><td>-</td><td>02510-2100</td><td>4.76</td></tr><tr><th>13</th><td>325</td><td>Zibal</td><td>HR 984</td><td>zet</td><td>Eri</td><td>Aa</td><td>03158-0849</td><td>4.8</td></tr></tbody></table></div>"
      ],
      "text/latex": [
       "\\begin{tabular}{r|ccccccccc}\n",
       "\t& Column1 & Name & Designation & ID & Con & \\# & WDS\\_J & Vmag & \\\\\n",
       "\t\\hline\n",
       "\t& Int64 & String31 & String15 & String7 & String3 & String3 & String15 & Float64 & \\\\\n",
       "\t\\hline\n",
       "\t1 & 1 & Achernar & HR 472 & alf & Eri & A & - & 0.45 & $\\dots$ \\\\\n",
       "\t2 & 113 & Cursa & HR 1666 & bet & Eri & - & 05078-0505 & 2.78 & $\\dots$ \\\\\n",
       "\t3 & 0 & Acamar & HR 897 & tet01 & Eri & A & 02583-4018 & 2.88 & $\\dots$ \\\\\n",
       "\t4 & 322 & Zaurak & HR 1231 & gam & Eri & - & 03580-1331 & 2.97 & $\\dots$ \\\\\n",
       "\t5 & 243 & Ran & HR 1084 & eps & Eri & - & 03329-0927 & 3.73 & $\\dots$ \\\\\n",
       "\t6 & 297 & Theemin & HR 1464 & ups02 & Eri & - & - & 3.81 & $\\dots$ \\\\\n",
       "\t7 & 85 & Azha & HR 874 & eta & Eri & - & - & 3.89 & $\\dots$ \\\\\n",
       "\t8 & 89 & Beemim & HR 1393 & ups03 & Eri & - & - & 3.97 & $\\dots$ \\\\\n",
       "\t9 & 266 & Sceptrum & HR 1481 & 53 & Eri & A & 04382-1418 & 4.02 & $\\dots$ \\\\\n",
       "\t10 & 90 & Beid & HR 1298 & omi01 & Eri & - & - & 4.04 & $\\dots$ \\\\\n",
       "\t11 & 165 & Keid & HR 1325 & omi02 & Eri & A & 04153-0739 & 4.43 & $\\dots$ \\\\\n",
       "\t12 & 65 & Angetenar & HR 850 & tau02 & Eri & - & 02510-2100 & 4.76 & $\\dots$ \\\\\n",
       "\t13 & 325 & Zibal & HR 984 & zet & Eri & Aa & 03158-0849 & 4.8 & $\\dots$ \\\\\n",
       "\\end{tabular}\n"
      ],
      "text/plain": [
       "\u001b[1m13×13 DataFrame\u001b[0m\n",
       "\u001b[1m Row \u001b[0m│\u001b[1m Column1 \u001b[0m\u001b[1m Name      \u001b[0m\u001b[1m Designation \u001b[0m\u001b[1m ID      \u001b[0m\u001b[1m Con     \u001b[0m\u001b[1m #       \u001b[0m\u001b[1m WDS_J      \u001b[0m\u001b[1m\u001b[0m ⋯\n",
       "\u001b[1m     \u001b[0m│\u001b[90m Int64   \u001b[0m\u001b[90m String31  \u001b[0m\u001b[90m String15    \u001b[0m\u001b[90m String7 \u001b[0m\u001b[90m String3 \u001b[0m\u001b[90m String3 \u001b[0m\u001b[90m String15   \u001b[0m\u001b[90m\u001b[0m ⋯\n",
       "─────┼──────────────────────────────────────────────────────────────────────────\n",
       "   1 │       1  Achernar   HR 472       alf      Eri      A        -           ⋯\n",
       "   2 │     113  Cursa      HR 1666      bet      Eri      -        05078-0505\n",
       "   3 │       0  Acamar     HR 897       tet01    Eri      A        02583-4018\n",
       "   4 │     322  Zaurak     HR 1231      gam      Eri      -        03580-1331\n",
       "   5 │     243  Ran        HR 1084      eps      Eri      -        03329-0927  ⋯\n",
       "   6 │     297  Theemin    HR 1464      ups02    Eri      -        -\n",
       "   7 │      85  Azha       HR 874       eta      Eri      -        -\n",
       "   8 │      89  Beemim     HR 1393      ups03    Eri      -        -\n",
       "   9 │     266  Sceptrum   HR 1481      53       Eri      A        04382-1418  ⋯\n",
       "  10 │      90  Beid       HR 1298      omi01    Eri      -        -\n",
       "  11 │     165  Keid       HR 1325      omi02    Eri      A        04153-0739\n",
       "  12 │      65  Angetenar  HR 850       tau02    Eri      -        02510-2100\n",
       "  13 │     325  Zibal      HR 984       zet      Eri      Aa       03158-0849  ⋯\n",
       "\u001b[36m                                                               6 columns omitted\u001b[0m"
      ]
     },
     "execution_count": 110,
     "metadata": {},
     "output_type": "execute_result"
    }
   ],
   "source": [
    "sort(grouped_df[1], \"Vmag\")"
   ]
  },
  {
   "cell_type": "markdown",
   "metadata": {},
   "source": [
    "## Plotting"
   ]
  },
  {
   "cell_type": "code",
   "execution_count": 120,
   "metadata": {
    "scrolled": false,
    "slideshow": {
     "slide_type": "slide"
    }
   },
   "outputs": [
    {
     "data": {
      "image/svg+xml": "<?xml version=\"1.0\" encoding=\"utf-8\"?>\n<svg xmlns=\"http://www.w3.org/2000/svg\" xmlns:xlink=\"http://www.w3.org/1999/xlink\" width=\"600\" height=\"400\" viewBox=\"0 0 2400 1600\">\n<defs>\n  <clipPath id=\"clip890\">\n    <rect x=\"0\" y=\"0\" width=\"2400\" height=\"1600\"/>\n  </clipPath>\n</defs>\n<path clip-path=\"url(#clip890)\" d=\"\nM0 1600 L2400 1600 L2400 0 L0 0  Z\n  \" fill=\"#ffffff\" fill-rule=\"evenodd\" fill-opacity=\"1\"/>\n<defs>\n  <clipPath id=\"clip891\">\n    <rect x=\"480\" y=\"0\" width=\"1681\" height=\"1600\"/>\n  </clipPath>\n</defs>\n<path clip-path=\"url(#clip890)\" d=\"\nM247.459 1423.18 L2352.76 1423.18 L2352.76 47.2441 L247.459 47.2441  Z\n  \" fill=\"#ffffff\" fill-rule=\"evenodd\" fill-opacity=\"1\"/>\n<defs>\n  <clipPath id=\"clip892\">\n    <rect x=\"247\" y=\"47\" width=\"2106\" height=\"1377\"/>\n  </clipPath>\n</defs>\n<polyline clip-path=\"url(#clip892)\" style=\"stroke:#000000; stroke-linecap:butt; stroke-linejoin:round; stroke-width:2; stroke-opacity:0.1; fill:none\" points=\"\n  300.987,1423.18 300.987,47.2441 \n  \"/>\n<polyline clip-path=\"url(#clip892)\" style=\"stroke:#000000; stroke-linecap:butt; stroke-linejoin:round; stroke-width:2; stroke-opacity:0.1; fill:none\" points=\"\n  906.515,1423.18 906.515,47.2441 \n  \"/>\n<polyline clip-path=\"url(#clip892)\" style=\"stroke:#000000; stroke-linecap:butt; stroke-linejoin:round; stroke-width:2; stroke-opacity:0.1; fill:none\" points=\"\n  1512.04,1423.18 1512.04,47.2441 \n  \"/>\n<polyline clip-path=\"url(#clip892)\" style=\"stroke:#000000; stroke-linecap:butt; stroke-linejoin:round; stroke-width:2; stroke-opacity:0.1; fill:none\" points=\"\n  2117.57,1423.18 2117.57,47.2441 \n  \"/>\n<polyline clip-path=\"url(#clip890)\" style=\"stroke:#000000; stroke-linecap:butt; stroke-linejoin:round; stroke-width:4; stroke-opacity:1; fill:none\" points=\"\n  247.459,1423.18 2352.76,1423.18 \n  \"/>\n<polyline clip-path=\"url(#clip890)\" style=\"stroke:#000000; stroke-linecap:butt; stroke-linejoin:round; stroke-width:4; stroke-opacity:1; fill:none\" points=\"\n  300.987,1423.18 300.987,1404.28 \n  \"/>\n<polyline clip-path=\"url(#clip890)\" style=\"stroke:#000000; stroke-linecap:butt; stroke-linejoin:round; stroke-width:4; stroke-opacity:1; fill:none\" points=\"\n  906.515,1423.18 906.515,1404.28 \n  \"/>\n<polyline clip-path=\"url(#clip890)\" style=\"stroke:#000000; stroke-linecap:butt; stroke-linejoin:round; stroke-width:4; stroke-opacity:1; fill:none\" points=\"\n  1512.04,1423.18 1512.04,1404.28 \n  \"/>\n<polyline clip-path=\"url(#clip890)\" style=\"stroke:#000000; stroke-linecap:butt; stroke-linejoin:round; stroke-width:4; stroke-opacity:1; fill:none\" points=\"\n  2117.57,1423.18 2117.57,1404.28 \n  \"/>\n<path clip-path=\"url(#clip890)\" d=\"M300.987 1454.1 Q297.376 1454.1 295.548 1457.66 Q293.742 1461.2 293.742 1468.33 Q293.742 1475.44 295.548 1479.01 Q297.376 1482.55 300.987 1482.55 Q304.622 1482.55 306.427 1479.01 Q308.256 1475.44 308.256 1468.33 Q308.256 1461.2 306.427 1457.66 Q304.622 1454.1 300.987 1454.1 M300.987 1450.39 Q306.797 1450.39 309.853 1455 Q312.932 1459.58 312.932 1468.33 Q312.932 1477.06 309.853 1481.67 Q306.797 1486.25 300.987 1486.25 Q295.177 1486.25 292.098 1481.67 Q289.043 1477.06 289.043 1468.33 Q289.043 1459.58 292.098 1455 Q295.177 1450.39 300.987 1450.39 Z\" fill=\"#000000\" fill-rule=\"evenodd\" fill-opacity=\"1\" /><path clip-path=\"url(#clip890)\" d=\"M866.121 1481.64 L873.76 1481.64 L873.76 1455.28 L865.45 1456.95 L865.45 1452.69 L873.714 1451.02 L878.39 1451.02 L878.39 1481.64 L886.029 1481.64 L886.029 1485.58 L866.121 1485.58 L866.121 1481.64 Z\" fill=\"#000000\" fill-rule=\"evenodd\" fill-opacity=\"1\" /><path clip-path=\"url(#clip890)\" d=\"M905.473 1454.1 Q901.862 1454.1 900.033 1457.66 Q898.228 1461.2 898.228 1468.33 Q898.228 1475.44 900.033 1479.01 Q901.862 1482.55 905.473 1482.55 Q909.107 1482.55 910.913 1479.01 Q912.741 1475.44 912.741 1468.33 Q912.741 1461.2 910.913 1457.66 Q909.107 1454.1 905.473 1454.1 M905.473 1450.39 Q911.283 1450.39 914.339 1455 Q917.417 1459.58 917.417 1468.33 Q917.417 1477.06 914.339 1481.67 Q911.283 1486.25 905.473 1486.25 Q899.663 1486.25 896.584 1481.67 Q893.529 1477.06 893.529 1468.33 Q893.529 1459.58 896.584 1455 Q899.663 1450.39 905.473 1450.39 Z\" fill=\"#000000\" fill-rule=\"evenodd\" fill-opacity=\"1\" /><path clip-path=\"url(#clip890)\" d=\"M935.635 1454.1 Q932.024 1454.1 930.195 1457.66 Q928.389 1461.2 928.389 1468.33 Q928.389 1475.44 930.195 1479.01 Q932.024 1482.55 935.635 1482.55 Q939.269 1482.55 941.075 1479.01 Q942.903 1475.44 942.903 1468.33 Q942.903 1461.2 941.075 1457.66 Q939.269 1454.1 935.635 1454.1 M935.635 1450.39 Q941.445 1450.39 944.5 1455 Q947.579 1459.58 947.579 1468.33 Q947.579 1477.06 944.5 1481.67 Q941.445 1486.25 935.635 1486.25 Q929.825 1486.25 926.746 1481.67 Q923.69 1477.06 923.69 1468.33 Q923.69 1459.58 926.746 1455 Q929.825 1450.39 935.635 1450.39 Z\" fill=\"#000000\" fill-rule=\"evenodd\" fill-opacity=\"1\" /><path clip-path=\"url(#clip890)\" d=\"M1475.73 1481.64 L1492.05 1481.64 L1492.05 1485.58 L1470.11 1485.58 L1470.11 1481.64 Q1472.77 1478.89 1477.35 1474.26 Q1481.96 1469.61 1483.14 1468.27 Q1485.39 1465.74 1486.27 1464.01 Q1487.17 1462.25 1487.17 1460.56 Q1487.17 1457.8 1485.22 1456.07 Q1483.3 1454.33 1480.2 1454.33 Q1478 1454.33 1475.55 1455.09 Q1473.12 1455.86 1470.34 1457.41 L1470.34 1452.69 Q1473.16 1451.55 1475.62 1450.97 Q1478.07 1450.39 1480.11 1450.39 Q1485.48 1450.39 1488.67 1453.08 Q1491.87 1455.77 1491.87 1460.26 Q1491.87 1462.39 1491.06 1464.31 Q1490.27 1466.2 1488.16 1468.8 Q1487.59 1469.47 1484.48 1472.69 Q1481.38 1475.88 1475.73 1481.64 Z\" fill=\"#000000\" fill-rule=\"evenodd\" fill-opacity=\"1\" /><path clip-path=\"url(#clip890)\" d=\"M1511.87 1454.1 Q1508.26 1454.1 1506.43 1457.66 Q1504.62 1461.2 1504.62 1468.33 Q1504.62 1475.44 1506.43 1479.01 Q1508.26 1482.55 1511.87 1482.55 Q1515.5 1482.55 1517.31 1479.01 Q1519.14 1475.44 1519.14 1468.33 Q1519.14 1461.2 1517.31 1457.66 Q1515.5 1454.1 1511.87 1454.1 M1511.87 1450.39 Q1517.68 1450.39 1520.73 1455 Q1523.81 1459.58 1523.81 1468.33 Q1523.81 1477.06 1520.73 1481.67 Q1517.68 1486.25 1511.87 1486.25 Q1506.06 1486.25 1502.98 1481.67 Q1499.92 1477.06 1499.92 1468.33 Q1499.92 1459.58 1502.98 1455 Q1506.06 1450.39 1511.87 1450.39 Z\" fill=\"#000000\" fill-rule=\"evenodd\" fill-opacity=\"1\" /><path clip-path=\"url(#clip890)\" d=\"M1542.03 1454.1 Q1538.42 1454.1 1536.59 1457.66 Q1534.78 1461.2 1534.78 1468.33 Q1534.78 1475.44 1536.59 1479.01 Q1538.42 1482.55 1542.03 1482.55 Q1545.66 1482.55 1547.47 1479.01 Q1549.3 1475.44 1549.3 1468.33 Q1549.3 1461.2 1547.47 1457.66 Q1545.66 1454.1 1542.03 1454.1 M1542.03 1450.39 Q1547.84 1450.39 1550.9 1455 Q1553.97 1459.58 1553.97 1468.33 Q1553.97 1477.06 1550.9 1481.67 Q1547.84 1486.25 1542.03 1486.25 Q1536.22 1486.25 1533.14 1481.67 Q1530.09 1477.06 1530.09 1468.33 Q1530.09 1459.58 1533.14 1455 Q1536.22 1450.39 1542.03 1450.39 Z\" fill=\"#000000\" fill-rule=\"evenodd\" fill-opacity=\"1\" /><path clip-path=\"url(#clip890)\" d=\"M2091.33 1466.95 Q2094.69 1467.66 2096.56 1469.93 Q2098.46 1472.2 2098.46 1475.53 Q2098.46 1480.65 2094.94 1483.45 Q2091.42 1486.25 2084.94 1486.25 Q2082.77 1486.25 2080.45 1485.81 Q2078.16 1485.39 2075.71 1484.54 L2075.71 1480.02 Q2077.65 1481.16 2079.97 1481.74 Q2082.28 1482.32 2084.8 1482.32 Q2089.2 1482.32 2091.49 1480.58 Q2093.81 1478.84 2093.81 1475.53 Q2093.81 1472.48 2091.65 1470.77 Q2089.53 1469.03 2085.71 1469.03 L2081.68 1469.03 L2081.68 1465.19 L2085.89 1465.19 Q2089.34 1465.19 2091.17 1463.82 Q2093 1462.43 2093 1459.84 Q2093 1457.18 2091.1 1455.77 Q2089.22 1454.33 2085.71 1454.33 Q2083.78 1454.33 2081.59 1454.75 Q2079.39 1455.16 2076.75 1456.04 L2076.75 1451.88 Q2079.41 1451.14 2081.72 1450.77 Q2084.06 1450.39 2086.12 1450.39 Q2091.45 1450.39 2094.55 1452.83 Q2097.65 1455.23 2097.65 1459.35 Q2097.65 1462.22 2096.01 1464.21 Q2094.36 1466.18 2091.33 1466.95 Z\" fill=\"#000000\" fill-rule=\"evenodd\" fill-opacity=\"1\" /><path clip-path=\"url(#clip890)\" d=\"M2117.33 1454.1 Q2113.71 1454.1 2111.89 1457.66 Q2110.08 1461.2 2110.08 1468.33 Q2110.08 1475.44 2111.89 1479.01 Q2113.71 1482.55 2117.33 1482.55 Q2120.96 1482.55 2122.77 1479.01 Q2124.59 1475.44 2124.59 1468.33 Q2124.59 1461.2 2122.77 1457.66 Q2120.96 1454.1 2117.33 1454.1 M2117.33 1450.39 Q2123.14 1450.39 2126.19 1455 Q2129.27 1459.58 2129.27 1468.33 Q2129.27 1477.06 2126.19 1481.67 Q2123.14 1486.25 2117.33 1486.25 Q2111.52 1486.25 2108.44 1481.67 Q2105.38 1477.06 2105.38 1468.33 Q2105.38 1459.58 2108.44 1455 Q2111.52 1450.39 2117.33 1450.39 Z\" fill=\"#000000\" fill-rule=\"evenodd\" fill-opacity=\"1\" /><path clip-path=\"url(#clip890)\" d=\"M2147.49 1454.1 Q2143.88 1454.1 2142.05 1457.66 Q2140.24 1461.2 2140.24 1468.33 Q2140.24 1475.44 2142.05 1479.01 Q2143.88 1482.55 2147.49 1482.55 Q2151.12 1482.55 2152.93 1479.01 Q2154.76 1475.44 2154.76 1468.33 Q2154.76 1461.2 2152.93 1457.66 Q2151.12 1454.1 2147.49 1454.1 M2147.49 1450.39 Q2153.3 1450.39 2156.35 1455 Q2159.43 1459.58 2159.43 1468.33 Q2159.43 1477.06 2156.35 1481.67 Q2153.3 1486.25 2147.49 1486.25 Q2141.68 1486.25 2138.6 1481.67 Q2135.54 1477.06 2135.54 1468.33 Q2135.54 1459.58 2138.6 1455 Q2141.68 1450.39 2147.49 1450.39 Z\" fill=\"#000000\" fill-rule=\"evenodd\" fill-opacity=\"1\" /><path clip-path=\"url(#clip890)\" d=\"M1165.57 1533.45 L1165.57 1538.98 Q1163.09 1537.71 1160.41 1537.07 Q1157.74 1536.44 1154.87 1536.44 Q1150.51 1536.44 1148.32 1537.77 Q1146.15 1539.11 1146.15 1541.79 Q1146.15 1543.82 1147.71 1545 Q1149.27 1546.15 1153.98 1547.2 L1155.99 1547.64 Q1162.23 1548.98 1164.84 1551.43 Q1167.48 1553.85 1167.48 1558.21 Q1167.48 1563.17 1163.53 1566.07 Q1159.62 1568.97 1152.74 1568.97 Q1149.88 1568.97 1146.76 1568.39 Q1143.67 1567.85 1140.23 1566.74 L1140.23 1560.69 Q1143.48 1562.38 1146.63 1563.24 Q1149.78 1564.07 1152.87 1564.07 Q1157.01 1564.07 1159.23 1562.66 Q1161.46 1561.23 1161.46 1558.65 Q1161.46 1556.27 1159.84 1554.99 Q1158.25 1553.72 1152.8 1552.54 L1150.77 1552.07 Q1145.33 1550.92 1142.91 1548.56 Q1140.49 1546.18 1140.49 1542.04 Q1140.49 1537.01 1144.05 1534.27 Q1147.62 1531.54 1154.17 1531.54 Q1157.42 1531.54 1160.28 1532.01 Q1163.15 1532.49 1165.57 1533.45 Z\" fill=\"#000000\" fill-rule=\"evenodd\" fill-opacity=\"1\" /><path clip-path=\"url(#clip890)\" d=\"M1193 1550.12 Q1185.91 1550.12 1183.17 1551.75 Q1180.43 1553.37 1180.43 1557.29 Q1180.43 1560.4 1182.47 1562.25 Q1184.54 1564.07 1188.07 1564.07 Q1192.94 1564.07 1195.87 1560.63 Q1198.83 1557.16 1198.83 1551.43 L1198.83 1550.12 L1193 1550.12 M1204.69 1547.71 L1204.69 1568.04 L1198.83 1568.04 L1198.83 1562.63 Q1196.82 1565.88 1193.83 1567.44 Q1190.84 1568.97 1186.51 1568.97 Q1181.04 1568.97 1177.79 1565.91 Q1174.58 1562.82 1174.58 1557.67 Q1174.58 1551.65 1178.59 1548.6 Q1182.63 1545.54 1190.62 1545.54 L1198.83 1545.54 L1198.83 1544.97 Q1198.83 1540.93 1196.16 1538.73 Q1193.51 1536.5 1188.71 1536.5 Q1185.65 1536.5 1182.76 1537.23 Q1179.86 1537.97 1177.19 1539.43 L1177.19 1534.02 Q1180.4 1532.78 1183.42 1532.17 Q1186.45 1531.54 1189.31 1531.54 Q1197.05 1531.54 1200.87 1535.55 Q1204.69 1539.56 1204.69 1547.71 Z\" fill=\"#000000\" fill-rule=\"evenodd\" fill-opacity=\"1\" /><path clip-path=\"url(#clip890)\" d=\"M1244.5 1539.24 Q1246.7 1535.29 1249.75 1533.41 Q1252.81 1531.54 1256.95 1531.54 Q1262.52 1531.54 1265.54 1535.45 Q1268.57 1539.33 1268.57 1546.53 L1268.57 1568.04 L1262.68 1568.04 L1262.68 1546.72 Q1262.68 1541.59 1260.86 1539.11 Q1259.05 1536.63 1255.32 1536.63 Q1250.77 1536.63 1248.13 1539.65 Q1245.49 1542.68 1245.49 1547.9 L1245.49 1568.04 L1239.6 1568.04 L1239.6 1546.72 Q1239.6 1541.56 1237.79 1539.11 Q1235.97 1536.63 1232.19 1536.63 Q1227.7 1536.63 1225.06 1539.68 Q1222.41 1542.71 1222.41 1547.9 L1222.41 1568.04 L1216.53 1568.04 L1216.53 1532.4 L1222.41 1532.4 L1222.41 1537.93 Q1224.42 1534.66 1227.22 1533.1 Q1230.02 1531.54 1233.87 1531.54 Q1237.76 1531.54 1240.46 1533.51 Q1243.2 1535.48 1244.5 1539.24 Z\" fill=\"#000000\" fill-rule=\"evenodd\" fill-opacity=\"1\" /><path clip-path=\"url(#clip890)\" d=\"M1285.91 1562.7 L1285.91 1581.6 L1280.02 1581.6 L1280.02 1532.4 L1285.91 1532.4 L1285.91 1537.81 Q1287.76 1534.62 1290.56 1533.1 Q1293.39 1531.54 1297.31 1531.54 Q1303.8 1531.54 1307.84 1536.69 Q1311.92 1541.85 1311.92 1550.25 Q1311.92 1558.65 1307.84 1563.81 Q1303.8 1568.97 1297.31 1568.97 Q1293.39 1568.97 1290.56 1567.44 Q1287.76 1565.88 1285.91 1562.7 M1305.84 1550.25 Q1305.84 1543.79 1303.16 1540.13 Q1300.52 1536.44 1295.87 1536.44 Q1291.23 1536.44 1288.55 1540.13 Q1285.91 1543.79 1285.91 1550.25 Q1285.91 1556.71 1288.55 1560.4 Q1291.23 1564.07 1295.87 1564.07 Q1300.52 1564.07 1303.16 1560.4 Q1305.84 1556.71 1305.84 1550.25 Z\" fill=\"#000000\" fill-rule=\"evenodd\" fill-opacity=\"1\" /><path clip-path=\"url(#clip890)\" d=\"M1321.62 1518.52 L1327.48 1518.52 L1327.48 1568.04 L1321.62 1568.04 L1321.62 1518.52 Z\" fill=\"#000000\" fill-rule=\"evenodd\" fill-opacity=\"1\" /><path clip-path=\"url(#clip890)\" d=\"M1370.23 1548.76 L1370.23 1551.62 L1343.3 1551.62 Q1343.68 1557.67 1346.93 1560.85 Q1350.21 1564 1356.03 1564 Q1359.4 1564 1362.55 1563.17 Q1365.74 1562.35 1368.86 1560.69 L1368.86 1566.23 Q1365.71 1567.57 1362.4 1568.27 Q1359.09 1568.97 1355.68 1568.97 Q1347.15 1568.97 1342.15 1564 Q1337.19 1559.04 1337.19 1550.57 Q1337.19 1541.82 1341.9 1536.69 Q1346.64 1531.54 1354.66 1531.54 Q1361.85 1531.54 1366.02 1536.18 Q1370.23 1540.8 1370.23 1548.76 M1364.37 1547.04 Q1364.31 1542.23 1361.66 1539.37 Q1359.05 1536.5 1354.73 1536.5 Q1349.82 1536.5 1346.86 1539.27 Q1343.94 1542.04 1343.49 1547.07 L1364.37 1547.04 Z\" fill=\"#000000\" fill-rule=\"evenodd\" fill-opacity=\"1\" /><path clip-path=\"url(#clip890)\" d=\"M1400.81 1520.52 L1407.24 1520.52 L1407.24 1568.04 L1400.81 1568.04 L1400.81 1520.52 Z\" fill=\"#000000\" fill-rule=\"evenodd\" fill-opacity=\"1\" /><path clip-path=\"url(#clip890)\" d=\"M1426.47 1525.81 L1426.47 1562.76 L1434.23 1562.76 Q1444.07 1562.76 1448.62 1558.3 Q1453.2 1553.85 1453.2 1544.24 Q1453.2 1534.69 1448.62 1530.26 Q1444.07 1525.81 1434.23 1525.81 L1426.47 1525.81 M1420.04 1520.52 L1433.25 1520.52 Q1447.06 1520.52 1453.52 1526.28 Q1459.98 1532.01 1459.98 1544.24 Q1459.98 1556.52 1453.49 1562.28 Q1447 1568.04 1433.25 1568.04 L1420.04 1568.04 L1420.04 1520.52 Z\" fill=\"#000000\" fill-rule=\"evenodd\" fill-opacity=\"1\" /><polyline clip-path=\"url(#clip892)\" style=\"stroke:#000000; stroke-linecap:butt; stroke-linejoin:round; stroke-width:2; stroke-opacity:0.1; fill:none\" points=\"\n  247.459,1233.18 2352.76,1233.18 \n  \"/>\n<polyline clip-path=\"url(#clip892)\" style=\"stroke:#000000; stroke-linecap:butt; stroke-linejoin:round; stroke-width:2; stroke-opacity:0.1; fill:none\" points=\"\n  247.459,972.737 2352.76,972.737 \n  \"/>\n<polyline clip-path=\"url(#clip892)\" style=\"stroke:#000000; stroke-linecap:butt; stroke-linejoin:round; stroke-width:2; stroke-opacity:0.1; fill:none\" points=\"\n  247.459,712.293 2352.76,712.293 \n  \"/>\n<polyline clip-path=\"url(#clip892)\" style=\"stroke:#000000; stroke-linecap:butt; stroke-linejoin:round; stroke-width:2; stroke-opacity:0.1; fill:none\" points=\"\n  247.459,451.849 2352.76,451.849 \n  \"/>\n<polyline clip-path=\"url(#clip892)\" style=\"stroke:#000000; stroke-linecap:butt; stroke-linejoin:round; stroke-width:2; stroke-opacity:0.1; fill:none\" points=\"\n  247.459,191.405 2352.76,191.405 \n  \"/>\n<polyline clip-path=\"url(#clip890)\" style=\"stroke:#000000; stroke-linecap:butt; stroke-linejoin:round; stroke-width:4; stroke-opacity:1; fill:none\" points=\"\n  247.459,1423.18 247.459,47.2441 \n  \"/>\n<polyline clip-path=\"url(#clip890)\" style=\"stroke:#000000; stroke-linecap:butt; stroke-linejoin:round; stroke-width:4; stroke-opacity:1; fill:none\" points=\"\n  247.459,1233.18 266.356,1233.18 \n  \"/>\n<polyline clip-path=\"url(#clip890)\" style=\"stroke:#000000; stroke-linecap:butt; stroke-linejoin:round; stroke-width:4; stroke-opacity:1; fill:none\" points=\"\n  247.459,972.737 266.356,972.737 \n  \"/>\n<polyline clip-path=\"url(#clip890)\" style=\"stroke:#000000; stroke-linecap:butt; stroke-linejoin:round; stroke-width:4; stroke-opacity:1; fill:none\" points=\"\n  247.459,712.293 266.356,712.293 \n  \"/>\n<polyline clip-path=\"url(#clip890)\" style=\"stroke:#000000; stroke-linecap:butt; stroke-linejoin:round; stroke-width:4; stroke-opacity:1; fill:none\" points=\"\n  247.459,451.849 266.356,451.849 \n  \"/>\n<polyline clip-path=\"url(#clip890)\" style=\"stroke:#000000; stroke-linecap:butt; stroke-linejoin:round; stroke-width:4; stroke-opacity:1; fill:none\" points=\"\n  247.459,191.405 266.356,191.405 \n  \"/>\n<path clip-path=\"url(#clip890)\" d=\"M154.283 1218.98 Q150.672 1218.98 148.843 1222.54 Q147.038 1226.09 147.038 1233.22 Q147.038 1240.32 148.843 1243.89 Q150.672 1247.43 154.283 1247.43 Q157.917 1247.43 159.723 1243.89 Q161.552 1240.32 161.552 1233.22 Q161.552 1226.09 159.723 1222.54 Q157.917 1218.98 154.283 1218.98 M154.283 1215.28 Q160.093 1215.28 163.149 1219.88 Q166.227 1224.47 166.227 1233.22 Q166.227 1241.94 163.149 1246.55 Q160.093 1251.13 154.283 1251.13 Q148.473 1251.13 145.394 1246.55 Q142.339 1241.94 142.339 1233.22 Q142.339 1224.47 145.394 1219.88 Q148.473 1215.28 154.283 1215.28 Z\" fill=\"#000000\" fill-rule=\"evenodd\" fill-opacity=\"1\" /><path clip-path=\"url(#clip890)\" d=\"M174.445 1244.58 L179.329 1244.58 L179.329 1250.46 L174.445 1250.46 L174.445 1244.58 Z\" fill=\"#000000\" fill-rule=\"evenodd\" fill-opacity=\"1\" /><path clip-path=\"url(#clip890)\" d=\"M199.514 1218.98 Q195.903 1218.98 194.075 1222.54 Q192.269 1226.09 192.269 1233.22 Q192.269 1240.32 194.075 1243.89 Q195.903 1247.43 199.514 1247.43 Q203.149 1247.43 204.954 1243.89 Q206.783 1240.32 206.783 1233.22 Q206.783 1226.09 204.954 1222.54 Q203.149 1218.98 199.514 1218.98 M199.514 1215.28 Q205.324 1215.28 208.38 1219.88 Q211.459 1224.47 211.459 1233.22 Q211.459 1241.94 208.38 1246.55 Q205.324 1251.13 199.514 1251.13 Q193.704 1251.13 190.625 1246.55 Q187.57 1241.94 187.57 1233.22 Q187.57 1224.47 190.625 1219.88 Q193.704 1215.28 199.514 1215.28 Z\" fill=\"#000000\" fill-rule=\"evenodd\" fill-opacity=\"1\" /><path clip-path=\"url(#clip890)\" d=\"M149.306 986.082 L165.626 986.082 L165.626 990.017 L143.681 990.017 L143.681 986.082 Q146.343 983.327 150.927 978.697 Q155.533 974.045 156.714 972.702 Q158.959 970.179 159.839 968.443 Q160.741 966.684 160.741 964.994 Q160.741 962.239 158.797 960.503 Q156.876 958.767 153.774 958.767 Q151.575 958.767 149.121 959.531 Q146.691 960.295 143.913 961.846 L143.913 957.123 Q146.737 955.989 149.191 955.411 Q151.644 954.832 153.681 954.832 Q159.052 954.832 162.246 957.517 Q165.44 960.202 165.44 964.693 Q165.44 966.823 164.63 968.744 Q163.843 970.642 161.737 973.235 Q161.158 973.906 158.056 977.123 Q154.954 980.318 149.306 986.082 Z\" fill=\"#000000\" fill-rule=\"evenodd\" fill-opacity=\"1\" /><path clip-path=\"url(#clip890)\" d=\"M175.44 984.137 L180.325 984.137 L180.325 990.017 L175.44 990.017 L175.44 984.137 Z\" fill=\"#000000\" fill-rule=\"evenodd\" fill-opacity=\"1\" /><path clip-path=\"url(#clip890)\" d=\"M190.556 955.457 L208.912 955.457 L208.912 959.392 L194.838 959.392 L194.838 967.864 Q195.857 967.517 196.875 967.355 Q197.894 967.17 198.912 967.17 Q204.699 967.17 208.079 970.341 Q211.459 973.512 211.459 978.929 Q211.459 984.508 207.987 987.609 Q204.514 990.688 198.195 990.688 Q196.019 990.688 193.75 990.318 Q191.505 989.947 189.098 989.207 L189.098 984.508 Q191.181 985.642 193.403 986.197 Q195.625 986.753 198.102 986.753 Q202.107 986.753 204.445 984.646 Q206.783 982.54 206.783 978.929 Q206.783 975.318 204.445 973.211 Q202.107 971.105 198.102 971.105 Q196.227 971.105 194.352 971.522 Q192.5 971.938 190.556 972.818 L190.556 955.457 Z\" fill=\"#000000\" fill-rule=\"evenodd\" fill-opacity=\"1\" /><path clip-path=\"url(#clip890)\" d=\"M144.329 695.013 L162.686 695.013 L162.686 698.948 L148.612 698.948 L148.612 707.42 Q149.63 707.073 150.649 706.911 Q151.667 706.726 152.686 706.726 Q158.473 706.726 161.852 709.897 Q165.232 713.068 165.232 718.485 Q165.232 724.064 161.76 727.166 Q158.288 730.244 151.968 730.244 Q149.792 730.244 147.524 729.874 Q145.279 729.503 142.871 728.763 L142.871 724.064 Q144.954 725.198 147.177 725.753 Q149.399 726.309 151.876 726.309 Q155.88 726.309 158.218 724.203 Q160.556 722.096 160.556 718.485 Q160.556 714.874 158.218 712.767 Q155.88 710.661 151.876 710.661 Q150.001 710.661 148.126 711.078 Q146.274 711.494 144.329 712.374 L144.329 695.013 Z\" fill=\"#000000\" fill-rule=\"evenodd\" fill-opacity=\"1\" /><path clip-path=\"url(#clip890)\" d=\"M174.445 723.693 L179.329 723.693 L179.329 729.573 L174.445 729.573 L174.445 723.693 Z\" fill=\"#000000\" fill-rule=\"evenodd\" fill-opacity=\"1\" /><path clip-path=\"url(#clip890)\" d=\"M199.514 698.092 Q195.903 698.092 194.075 701.656 Q192.269 705.198 192.269 712.328 Q192.269 719.434 194.075 722.999 Q195.903 726.541 199.514 726.541 Q203.149 726.541 204.954 722.999 Q206.783 719.434 206.783 712.328 Q206.783 705.198 204.954 701.656 Q203.149 698.092 199.514 698.092 M199.514 694.388 Q205.324 694.388 208.38 698.994 Q211.459 703.578 211.459 712.328 Q211.459 721.054 208.38 725.661 Q205.324 730.244 199.514 730.244 Q193.704 730.244 190.625 725.661 Q187.57 721.054 187.57 712.328 Q187.57 703.578 190.625 698.994 Q193.704 694.388 199.514 694.388 Z\" fill=\"#000000\" fill-rule=\"evenodd\" fill-opacity=\"1\" /><path clip-path=\"url(#clip890)\" d=\"M144.098 434.569 L166.32 434.569 L166.32 436.56 L153.774 469.129 L148.89 469.129 L160.695 438.504 L144.098 438.504 L144.098 434.569 Z\" fill=\"#000000\" fill-rule=\"evenodd\" fill-opacity=\"1\" /><path clip-path=\"url(#clip890)\" d=\"M175.44 463.249 L180.325 463.249 L180.325 469.129 L175.44 469.129 L175.44 463.249 Z\" fill=\"#000000\" fill-rule=\"evenodd\" fill-opacity=\"1\" /><path clip-path=\"url(#clip890)\" d=\"M190.556 434.569 L208.912 434.569 L208.912 438.504 L194.838 438.504 L194.838 446.976 Q195.857 446.629 196.875 446.467 Q197.894 446.282 198.912 446.282 Q204.699 446.282 208.079 449.453 Q211.459 452.624 211.459 458.041 Q211.459 463.62 207.987 466.722 Q204.514 469.8 198.195 469.8 Q196.019 469.8 193.75 469.43 Q191.505 469.06 189.098 468.319 L189.098 463.62 Q191.181 464.754 193.403 465.31 Q195.625 465.865 198.102 465.865 Q202.107 465.865 204.445 463.759 Q206.783 461.652 206.783 458.041 Q206.783 454.43 204.445 452.323 Q202.107 450.217 198.102 450.217 Q196.227 450.217 194.352 450.634 Q192.5 451.05 190.556 451.93 L190.556 434.569 Z\" fill=\"#000000\" fill-rule=\"evenodd\" fill-opacity=\"1\" /><path clip-path=\"url(#clip890)\" d=\"M114.931 204.75 L122.57 204.75 L122.57 178.384 L114.26 180.051 L114.26 175.792 L122.524 174.125 L127.2 174.125 L127.2 204.75 L134.839 204.75 L134.839 208.685 L114.931 208.685 L114.931 204.75 Z\" fill=\"#000000\" fill-rule=\"evenodd\" fill-opacity=\"1\" /><path clip-path=\"url(#clip890)\" d=\"M154.283 177.204 Q150.672 177.204 148.843 180.769 Q147.038 184.31 147.038 191.44 Q147.038 198.546 148.843 202.111 Q150.672 205.653 154.283 205.653 Q157.917 205.653 159.723 202.111 Q161.552 198.546 161.552 191.44 Q161.552 184.31 159.723 180.769 Q157.917 177.204 154.283 177.204 M154.283 173.5 Q160.093 173.5 163.149 178.106 Q166.227 182.69 166.227 191.44 Q166.227 200.167 163.149 204.773 Q160.093 209.356 154.283 209.356 Q148.473 209.356 145.394 204.773 Q142.339 200.167 142.339 191.44 Q142.339 182.69 145.394 178.106 Q148.473 173.5 154.283 173.5 Z\" fill=\"#000000\" fill-rule=\"evenodd\" fill-opacity=\"1\" /><path clip-path=\"url(#clip890)\" d=\"M174.445 202.805 L179.329 202.805 L179.329 208.685 L174.445 208.685 L174.445 202.805 Z\" fill=\"#000000\" fill-rule=\"evenodd\" fill-opacity=\"1\" /><path clip-path=\"url(#clip890)\" d=\"M199.514 177.204 Q195.903 177.204 194.075 180.769 Q192.269 184.31 192.269 191.44 Q192.269 198.546 194.075 202.111 Q195.903 205.653 199.514 205.653 Q203.149 205.653 204.954 202.111 Q206.783 198.546 206.783 191.44 Q206.783 184.31 204.954 180.769 Q203.149 177.204 199.514 177.204 M199.514 173.5 Q205.324 173.5 208.38 178.106 Q211.459 182.69 211.459 191.44 Q211.459 200.167 208.38 204.773 Q205.324 209.356 199.514 209.356 Q193.704 209.356 190.625 204.773 Q187.57 200.167 187.57 191.44 Q187.57 182.69 190.625 178.106 Q193.704 173.5 199.514 173.5 Z\" fill=\"#000000\" fill-rule=\"evenodd\" fill-opacity=\"1\" /><path clip-path=\"url(#clip890)\" d=\"M64.0042 808.561 L16.4842 826.703 L16.4842 819.987 L56.4926 804.932 L16.4842 789.846 L16.4842 783.162 L64.0042 801.272 L64.0042 808.561 Z\" fill=\"#000000\" fill-rule=\"evenodd\" fill-opacity=\"1\" /><path clip-path=\"url(#clip890)\" d=\"M35.1993 748.723 Q31.2526 746.527 29.3747 743.471 Q27.4968 740.416 27.4968 736.278 Q27.4968 730.708 31.4117 727.685 Q35.2948 724.661 42.4881 724.661 L64.0042 724.661 L64.0042 730.549 L42.679 730.549 Q37.5546 730.549 35.072 732.363 Q32.5894 734.178 32.5894 737.901 Q32.5894 742.453 35.6131 745.095 Q38.6368 747.736 43.8567 747.736 L64.0042 747.736 L64.0042 753.625 L42.679 753.625 Q37.5228 753.625 35.072 755.439 Q32.5894 757.253 32.5894 761.041 Q32.5894 765.529 35.6449 768.17 Q38.6686 770.812 43.8567 770.812 L64.0042 770.812 L64.0042 776.7 L28.3562 776.7 L28.3562 770.812 L33.8944 770.812 Q30.616 768.807 29.0564 766.006 Q27.4968 763.205 27.4968 759.354 Q27.4968 755.471 29.4702 752.765 Q31.4436 750.028 35.1993 748.723 Z\" fill=\"#000000\" fill-rule=\"evenodd\" fill-opacity=\"1\" /><path clip-path=\"url(#clip890)\" d=\"M46.0847 696.779 Q46.0847 703.877 47.7079 706.614 Q49.3312 709.351 53.2461 709.351 Q56.3653 709.351 58.2114 707.314 Q60.0256 705.245 60.0256 701.712 Q60.0256 696.843 56.5881 693.914 Q53.1188 690.954 47.3897 690.954 L46.0847 690.954 L46.0847 696.779 M43.6657 685.098 L64.0042 685.098 L64.0042 690.954 L58.5933 690.954 Q61.8398 692.96 63.3994 695.951 Q64.9272 698.943 64.9272 703.272 Q64.9272 708.747 61.8716 711.993 Q58.7843 715.208 53.6281 715.208 Q47.6125 715.208 44.5569 711.197 Q41.5014 707.155 41.5014 699.166 L41.5014 690.954 L40.9285 690.954 Q36.8862 690.954 34.6901 693.628 Q32.4621 696.27 32.4621 701.076 Q32.4621 704.131 33.1941 707.028 Q33.9262 709.924 35.3903 712.598 L29.9795 712.598 Q28.7381 709.383 28.1334 706.359 Q27.4968 703.336 27.4968 700.471 Q27.4968 692.737 31.5072 688.917 Q35.5176 685.098 43.6657 685.098 Z\" fill=\"#000000\" fill-rule=\"evenodd\" fill-opacity=\"1\" /><path clip-path=\"url(#clip890)\" d=\"M45.7664 649.577 Q39.4007 649.577 35.8996 652.219 Q32.3984 654.829 32.3984 659.571 Q32.3984 664.282 35.8996 666.924 Q39.4007 669.534 45.7664 669.534 Q52.1003 669.534 55.6014 666.924 Q59.1026 664.282 59.1026 659.571 Q59.1026 654.829 55.6014 652.219 Q52.1003 649.577 45.7664 649.577 M59.58 643.721 Q68.683 643.721 73.1071 647.763 Q77.5631 651.805 77.5631 660.144 Q77.5631 663.232 77.0857 665.969 Q76.6401 668.706 75.6852 671.284 L69.9879 671.284 Q71.3884 668.706 72.0568 666.192 Q72.7252 663.677 72.7252 661.067 Q72.7252 655.306 69.7015 652.442 Q66.7096 649.577 60.6303 649.577 L57.7339 649.577 Q60.885 651.392 62.4446 654.224 Q64.0042 657.057 64.0042 661.004 Q64.0042 667.56 59.0071 671.571 Q54.01 675.581 45.7664 675.581 Q37.491 675.581 32.4939 671.571 Q27.4968 667.56 27.4968 661.004 Q27.4968 657.057 29.0564 654.224 Q30.616 651.392 33.7671 649.577 L28.3562 649.577 L28.3562 643.721 L59.58 643.721 Z\" fill=\"#000000\" fill-rule=\"evenodd\" fill-opacity=\"1\" /><circle clip-path=\"url(#clip892)\" cx=\"307.043\" cy=\"933.149\" r=\"14.4\" fill=\"#009af9\" fill-rule=\"evenodd\" fill-opacity=\"1\" stroke=\"#000000\" stroke-opacity=\"1\" stroke-width=\"3.2\"/>\n<circle clip-path=\"url(#clip892)\" cx=\"313.098\" cy=\"1186.3\" r=\"14.4\" fill=\"#009af9\" fill-rule=\"evenodd\" fill-opacity=\"1\" stroke=\"#000000\" stroke-opacity=\"1\" stroke-width=\"3.2\"/>\n<circle clip-path=\"url(#clip892)\" cx=\"319.153\" cy=\"872.726\" r=\"14.4\" fill=\"#009af9\" fill-rule=\"evenodd\" fill-opacity=\"1\" stroke=\"#000000\" stroke-opacity=\"1\" stroke-width=\"3.2\"/>\n<circle clip-path=\"url(#clip892)\" cx=\"325.208\" cy=\"966.486\" r=\"14.4\" fill=\"#009af9\" fill-rule=\"evenodd\" fill-opacity=\"1\" stroke=\"#000000\" stroke-opacity=\"1\" stroke-width=\"3.2\"/>\n<circle clip-path=\"url(#clip892)\" cx=\"331.264\" cy=\"1094.62\" r=\"14.4\" fill=\"#009af9\" fill-rule=\"evenodd\" fill-opacity=\"1\" stroke=\"#000000\" stroke-opacity=\"1\" stroke-width=\"3.2\"/>\n<circle clip-path=\"url(#clip892)\" cx=\"337.319\" cy=\"789.384\" r=\"14.4\" fill=\"#009af9\" fill-rule=\"evenodd\" fill-opacity=\"1\" stroke=\"#000000\" stroke-opacity=\"1\" stroke-width=\"3.2\"/>\n<circle clip-path=\"url(#clip892)\" cx=\"343.374\" cy=\"875.852\" r=\"14.4\" fill=\"#009af9\" fill-rule=\"evenodd\" fill-opacity=\"1\" stroke=\"#000000\" stroke-opacity=\"1\" stroke-width=\"3.2\"/>\n<circle clip-path=\"url(#clip892)\" cx=\"349.43\" cy=\"1076.91\" r=\"14.4\" fill=\"#009af9\" fill-rule=\"evenodd\" fill-opacity=\"1\" stroke=\"#000000\" stroke-opacity=\"1\" stroke-width=\"3.2\"/>\n<circle clip-path=\"url(#clip892)\" cx=\"355.485\" cy=\"725.836\" r=\"14.4\" fill=\"#009af9\" fill-rule=\"evenodd\" fill-opacity=\"1\" stroke=\"#000000\" stroke-opacity=\"1\" stroke-width=\"3.2\"/>\n<circle clip-path=\"url(#clip892)\" cx=\"361.54\" cy=\"865.434\" r=\"14.4\" fill=\"#009af9\" fill-rule=\"evenodd\" fill-opacity=\"1\" stroke=\"#000000\" stroke-opacity=\"1\" stroke-width=\"3.2\"/>\n<circle clip-path=\"url(#clip892)\" cx=\"367.595\" cy=\"726.878\" r=\"14.4\" fill=\"#009af9\" fill-rule=\"evenodd\" fill-opacity=\"1\" stroke=\"#000000\" stroke-opacity=\"1\" stroke-width=\"3.2\"/>\n<circle clip-path=\"url(#clip892)\" cx=\"373.651\" cy=\"771.674\" r=\"14.4\" fill=\"#009af9\" fill-rule=\"evenodd\" fill-opacity=\"1\" stroke=\"#000000\" stroke-opacity=\"1\" stroke-width=\"3.2\"/>\n<circle clip-path=\"url(#clip892)\" cx=\"379.706\" cy=\"933.149\" r=\"14.4\" fill=\"#009af9\" fill-rule=\"evenodd\" fill-opacity=\"1\" stroke=\"#000000\" stroke-opacity=\"1\" stroke-width=\"3.2\"/>\n<circle clip-path=\"url(#clip892)\" cx=\"385.761\" cy=\"839.39\" r=\"14.4\" fill=\"#009af9\" fill-rule=\"evenodd\" fill-opacity=\"1\" stroke=\"#000000\" stroke-opacity=\"1\" stroke-width=\"3.2\"/>\n<circle clip-path=\"url(#clip892)\" cx=\"391.816\" cy=\"882.102\" r=\"14.4\" fill=\"#009af9\" fill-rule=\"evenodd\" fill-opacity=\"1\" stroke=\"#000000\" stroke-opacity=\"1\" stroke-width=\"3.2\"/>\n<circle clip-path=\"url(#clip892)\" cx=\"397.872\" cy=\"814.387\" r=\"14.4\" fill=\"#009af9\" fill-rule=\"evenodd\" fill-opacity=\"1\" stroke=\"#000000\" stroke-opacity=\"1\" stroke-width=\"3.2\"/>\n<circle clip-path=\"url(#clip892)\" cx=\"403.927\" cy=\"817.512\" r=\"14.4\" fill=\"#009af9\" fill-rule=\"evenodd\" fill-opacity=\"1\" stroke=\"#000000\" stroke-opacity=\"1\" stroke-width=\"3.2\"/>\n<circle clip-path=\"url(#clip892)\" cx=\"409.982\" cy=\"936.275\" r=\"14.4\" fill=\"#009af9\" fill-rule=\"evenodd\" fill-opacity=\"1\" stroke=\"#000000\" stroke-opacity=\"1\" stroke-width=\"3.2\"/>\n<circle clip-path=\"url(#clip892)\" cx=\"416.038\" cy=\"1142.55\" r=\"14.4\" fill=\"#009af9\" fill-rule=\"evenodd\" fill-opacity=\"1\" stroke=\"#000000\" stroke-opacity=\"1\" stroke-width=\"3.2\"/>\n<circle clip-path=\"url(#clip892)\" cx=\"422.093\" cy=\"977.946\" r=\"14.4\" fill=\"#009af9\" fill-rule=\"evenodd\" fill-opacity=\"1\" stroke=\"#000000\" stroke-opacity=\"1\" stroke-width=\"3.2\"/>\n<circle clip-path=\"url(#clip892)\" cx=\"428.148\" cy=\"920.648\" r=\"14.4\" fill=\"#009af9\" fill-rule=\"evenodd\" fill-opacity=\"1\" stroke=\"#000000\" stroke-opacity=\"1\" stroke-width=\"3.2\"/>\n<circle clip-path=\"url(#clip892)\" cx=\"434.203\" cy=\"902.938\" r=\"14.4\" fill=\"#009af9\" fill-rule=\"evenodd\" fill-opacity=\"1\" stroke=\"#000000\" stroke-opacity=\"1\" stroke-width=\"3.2\"/>\n<circle clip-path=\"url(#clip892)\" cx=\"440.259\" cy=\"813.345\" r=\"14.4\" fill=\"#009af9\" fill-rule=\"evenodd\" fill-opacity=\"1\" stroke=\"#000000\" stroke-opacity=\"1\" stroke-width=\"3.2\"/>\n<circle clip-path=\"url(#clip892)\" cx=\"446.314\" cy=\"896.687\" r=\"14.4\" fill=\"#009af9\" fill-rule=\"evenodd\" fill-opacity=\"1\" stroke=\"#000000\" stroke-opacity=\"1\" stroke-width=\"3.2\"/>\n<circle clip-path=\"url(#clip892)\" cx=\"452.369\" cy=\"860.225\" r=\"14.4\" fill=\"#009af9\" fill-rule=\"evenodd\" fill-opacity=\"1\" stroke=\"#000000\" stroke-opacity=\"1\" stroke-width=\"3.2\"/>\n<circle clip-path=\"url(#clip892)\" cx=\"458.424\" cy=\"938.358\" r=\"14.4\" fill=\"#009af9\" fill-rule=\"evenodd\" fill-opacity=\"1\" stroke=\"#000000\" stroke-opacity=\"1\" stroke-width=\"3.2\"/>\n<circle clip-path=\"url(#clip892)\" cx=\"464.48\" cy=\"961.277\" r=\"14.4\" fill=\"#009af9\" fill-rule=\"evenodd\" fill-opacity=\"1\" stroke=\"#000000\" stroke-opacity=\"1\" stroke-width=\"3.2\"/>\n<circle clip-path=\"url(#clip892)\" cx=\"470.535\" cy=\"1015.45\" r=\"14.4\" fill=\"#009af9\" fill-rule=\"evenodd\" fill-opacity=\"1\" stroke=\"#000000\" stroke-opacity=\"1\" stroke-width=\"3.2\"/>\n<circle clip-path=\"url(#clip892)\" cx=\"476.59\" cy=\"926.899\" r=\"14.4\" fill=\"#009af9\" fill-rule=\"evenodd\" fill-opacity=\"1\" stroke=\"#000000\" stroke-opacity=\"1\" stroke-width=\"3.2\"/>\n<circle clip-path=\"url(#clip892)\" cx=\"482.646\" cy=\"1032.12\" r=\"14.4\" fill=\"#009af9\" fill-rule=\"evenodd\" fill-opacity=\"1\" stroke=\"#000000\" stroke-opacity=\"1\" stroke-width=\"3.2\"/>\n<circle clip-path=\"url(#clip892)\" cx=\"488.701\" cy=\"1049.83\" r=\"14.4\" fill=\"#009af9\" fill-rule=\"evenodd\" fill-opacity=\"1\" stroke=\"#000000\" stroke-opacity=\"1\" stroke-width=\"3.2\"/>\n<circle clip-path=\"url(#clip892)\" cx=\"494.756\" cy=\"974.82\" r=\"14.4\" fill=\"#009af9\" fill-rule=\"evenodd\" fill-opacity=\"1\" stroke=\"#000000\" stroke-opacity=\"1\" stroke-width=\"3.2\"/>\n<circle clip-path=\"url(#clip892)\" cx=\"500.811\" cy=\"1040.45\" r=\"14.4\" fill=\"#009af9\" fill-rule=\"evenodd\" fill-opacity=\"1\" stroke=\"#000000\" stroke-opacity=\"1\" stroke-width=\"3.2\"/>\n<circle clip-path=\"url(#clip892)\" cx=\"506.867\" cy=\"784.175\" r=\"14.4\" fill=\"#009af9\" fill-rule=\"evenodd\" fill-opacity=\"1\" stroke=\"#000000\" stroke-opacity=\"1\" stroke-width=\"3.2\"/>\n<circle clip-path=\"url(#clip892)\" cx=\"512.922\" cy=\"799.802\" r=\"14.4\" fill=\"#009af9\" fill-rule=\"evenodd\" fill-opacity=\"1\" stroke=\"#000000\" stroke-opacity=\"1\" stroke-width=\"3.2\"/>\n<circle clip-path=\"url(#clip892)\" cx=\"518.977\" cy=\"772.716\" r=\"14.4\" fill=\"#009af9\" fill-rule=\"evenodd\" fill-opacity=\"1\" stroke=\"#000000\" stroke-opacity=\"1\" stroke-width=\"3.2\"/>\n<circle clip-path=\"url(#clip892)\" cx=\"525.032\" cy=\"808.136\" r=\"14.4\" fill=\"#009af9\" fill-rule=\"evenodd\" fill-opacity=\"1\" stroke=\"#000000\" stroke-opacity=\"1\" stroke-width=\"3.2\"/>\n<circle clip-path=\"url(#clip892)\" cx=\"531.088\" cy=\"917.523\" r=\"14.4\" fill=\"#009af9\" fill-rule=\"evenodd\" fill-opacity=\"1\" stroke=\"#000000\" stroke-opacity=\"1\" stroke-width=\"3.2\"/>\n<circle clip-path=\"url(#clip892)\" cx=\"537.143\" cy=\"1014.41\" r=\"14.4\" fill=\"#009af9\" fill-rule=\"evenodd\" fill-opacity=\"1\" stroke=\"#000000\" stroke-opacity=\"1\" stroke-width=\"3.2\"/>\n<circle clip-path=\"url(#clip892)\" cx=\"543.198\" cy=\"1052.95\" r=\"14.4\" fill=\"#009af9\" fill-rule=\"evenodd\" fill-opacity=\"1\" stroke=\"#000000\" stroke-opacity=\"1\" stroke-width=\"3.2\"/>\n<circle clip-path=\"url(#clip892)\" cx=\"549.253\" cy=\"922.732\" r=\"14.4\" fill=\"#009af9\" fill-rule=\"evenodd\" fill-opacity=\"1\" stroke=\"#000000\" stroke-opacity=\"1\" stroke-width=\"3.2\"/>\n<circle clip-path=\"url(#clip892)\" cx=\"555.309\" cy=\"1057.12\" r=\"14.4\" fill=\"#009af9\" fill-rule=\"evenodd\" fill-opacity=\"1\" stroke=\"#000000\" stroke-opacity=\"1\" stroke-width=\"3.2\"/>\n<circle clip-path=\"url(#clip892)\" cx=\"561.364\" cy=\"1051.91\" r=\"14.4\" fill=\"#009af9\" fill-rule=\"evenodd\" fill-opacity=\"1\" stroke=\"#000000\" stroke-opacity=\"1\" stroke-width=\"3.2\"/>\n<circle clip-path=\"url(#clip892)\" cx=\"567.419\" cy=\"931.066\" r=\"14.4\" fill=\"#009af9\" fill-rule=\"evenodd\" fill-opacity=\"1\" stroke=\"#000000\" stroke-opacity=\"1\" stroke-width=\"3.2\"/>\n<circle clip-path=\"url(#clip892)\" cx=\"573.475\" cy=\"1025.87\" r=\"14.4\" fill=\"#009af9\" fill-rule=\"evenodd\" fill-opacity=\"1\" stroke=\"#000000\" stroke-opacity=\"1\" stroke-width=\"3.2\"/>\n<circle clip-path=\"url(#clip892)\" cx=\"579.53\" cy=\"1001.91\" r=\"14.4\" fill=\"#009af9\" fill-rule=\"evenodd\" fill-opacity=\"1\" stroke=\"#000000\" stroke-opacity=\"1\" stroke-width=\"3.2\"/>\n<circle clip-path=\"url(#clip892)\" cx=\"585.585\" cy=\"1017.53\" r=\"14.4\" fill=\"#009af9\" fill-rule=\"evenodd\" fill-opacity=\"1\" stroke=\"#000000\" stroke-opacity=\"1\" stroke-width=\"3.2\"/>\n<circle clip-path=\"url(#clip892)\" cx=\"591.64\" cy=\"834.181\" r=\"14.4\" fill=\"#009af9\" fill-rule=\"evenodd\" fill-opacity=\"1\" stroke=\"#000000\" stroke-opacity=\"1\" stroke-width=\"3.2\"/>\n<circle clip-path=\"url(#clip892)\" cx=\"597.696\" cy=\"654.995\" r=\"14.4\" fill=\"#009af9\" fill-rule=\"evenodd\" fill-opacity=\"1\" stroke=\"#000000\" stroke-opacity=\"1\" stroke-width=\"3.2\"/>\n<circle clip-path=\"url(#clip892)\" cx=\"603.751\" cy=\"835.222\" r=\"14.4\" fill=\"#009af9\" fill-rule=\"evenodd\" fill-opacity=\"1\" stroke=\"#000000\" stroke-opacity=\"1\" stroke-width=\"3.2\"/>\n<circle clip-path=\"url(#clip892)\" cx=\"609.806\" cy=\"634.16\" r=\"14.4\" fill=\"#009af9\" fill-rule=\"evenodd\" fill-opacity=\"1\" stroke=\"#000000\" stroke-opacity=\"1\" stroke-width=\"3.2\"/>\n<circle clip-path=\"url(#clip892)\" cx=\"615.861\" cy=\"746.672\" r=\"14.4\" fill=\"#009af9\" fill-rule=\"evenodd\" fill-opacity=\"1\" stroke=\"#000000\" stroke-opacity=\"1\" stroke-width=\"3.2\"/>\n<circle clip-path=\"url(#clip892)\" cx=\"621.917\" cy=\"790.426\" r=\"14.4\" fill=\"#009af9\" fill-rule=\"evenodd\" fill-opacity=\"1\" stroke=\"#000000\" stroke-opacity=\"1\" stroke-width=\"3.2\"/>\n<circle clip-path=\"url(#clip892)\" cx=\"627.972\" cy=\"1025.87\" r=\"14.4\" fill=\"#009af9\" fill-rule=\"evenodd\" fill-opacity=\"1\" stroke=\"#000000\" stroke-opacity=\"1\" stroke-width=\"3.2\"/>\n<circle clip-path=\"url(#clip892)\" cx=\"634.027\" cy=\"846.682\" r=\"14.4\" fill=\"#009af9\" fill-rule=\"evenodd\" fill-opacity=\"1\" stroke=\"#000000\" stroke-opacity=\"1\" stroke-width=\"3.2\"/>\n<circle clip-path=\"url(#clip892)\" cx=\"640.083\" cy=\"736.254\" r=\"14.4\" fill=\"#009af9\" fill-rule=\"evenodd\" fill-opacity=\"1\" stroke=\"#000000\" stroke-opacity=\"1\" stroke-width=\"3.2\"/>\n<circle clip-path=\"url(#clip892)\" cx=\"646.138\" cy=\"1154.01\" r=\"14.4\" fill=\"#009af9\" fill-rule=\"evenodd\" fill-opacity=\"1\" stroke=\"#000000\" stroke-opacity=\"1\" stroke-width=\"3.2\"/>\n<circle clip-path=\"url(#clip892)\" cx=\"652.193\" cy=\"913.356\" r=\"14.4\" fill=\"#009af9\" fill-rule=\"evenodd\" fill-opacity=\"1\" stroke=\"#000000\" stroke-opacity=\"1\" stroke-width=\"3.2\"/>\n<circle clip-path=\"url(#clip892)\" cx=\"658.248\" cy=\"783.134\" r=\"14.4\" fill=\"#009af9\" fill-rule=\"evenodd\" fill-opacity=\"1\" stroke=\"#000000\" stroke-opacity=\"1\" stroke-width=\"3.2\"/>\n<circle clip-path=\"url(#clip892)\" cx=\"664.304\" cy=\"977.946\" r=\"14.4\" fill=\"#009af9\" fill-rule=\"evenodd\" fill-opacity=\"1\" stroke=\"#000000\" stroke-opacity=\"1\" stroke-width=\"3.2\"/>\n<circle clip-path=\"url(#clip892)\" cx=\"670.359\" cy=\"773.758\" r=\"14.4\" fill=\"#009af9\" fill-rule=\"evenodd\" fill-opacity=\"1\" stroke=\"#000000\" stroke-opacity=\"1\" stroke-width=\"3.2\"/>\n<circle clip-path=\"url(#clip892)\" cx=\"676.414\" cy=\"869.601\" r=\"14.4\" fill=\"#009af9\" fill-rule=\"evenodd\" fill-opacity=\"1\" stroke=\"#000000\" stroke-opacity=\"1\" stroke-width=\"3.2\"/>\n<circle clip-path=\"url(#clip892)\" cx=\"682.469\" cy=\"751.88\" r=\"14.4\" fill=\"#009af9\" fill-rule=\"evenodd\" fill-opacity=\"1\" stroke=\"#000000\" stroke-opacity=\"1\" stroke-width=\"3.2\"/>\n<circle clip-path=\"url(#clip892)\" cx=\"688.525\" cy=\"884.186\" r=\"14.4\" fill=\"#009af9\" fill-rule=\"evenodd\" fill-opacity=\"1\" stroke=\"#000000\" stroke-opacity=\"1\" stroke-width=\"3.2\"/>\n<circle clip-path=\"url(#clip892)\" cx=\"694.58\" cy=\"798.76\" r=\"14.4\" fill=\"#009af9\" fill-rule=\"evenodd\" fill-opacity=\"1\" stroke=\"#000000\" stroke-opacity=\"1\" stroke-width=\"3.2\"/>\n<circle clip-path=\"url(#clip892)\" cx=\"700.635\" cy=\"737.296\" r=\"14.4\" fill=\"#009af9\" fill-rule=\"evenodd\" fill-opacity=\"1\" stroke=\"#000000\" stroke-opacity=\"1\" stroke-width=\"3.2\"/>\n<circle clip-path=\"url(#clip892)\" cx=\"706.691\" cy=\"983.155\" r=\"14.4\" fill=\"#009af9\" fill-rule=\"evenodd\" fill-opacity=\"1\" stroke=\"#000000\" stroke-opacity=\"1\" stroke-width=\"3.2\"/>\n<circle clip-path=\"url(#clip892)\" cx=\"712.746\" cy=\"770.632\" r=\"14.4\" fill=\"#009af9\" fill-rule=\"evenodd\" fill-opacity=\"1\" stroke=\"#000000\" stroke-opacity=\"1\" stroke-width=\"3.2\"/>\n<circle clip-path=\"url(#clip892)\" cx=\"718.801\" cy=\"1122.75\" r=\"14.4\" fill=\"#009af9\" fill-rule=\"evenodd\" fill-opacity=\"1\" stroke=\"#000000\" stroke-opacity=\"1\" stroke-width=\"3.2\"/>\n<circle clip-path=\"url(#clip892)\" cx=\"724.856\" cy=\"1238.39\" r=\"14.4\" fill=\"#009af9\" fill-rule=\"evenodd\" fill-opacity=\"1\" stroke=\"#000000\" stroke-opacity=\"1\" stroke-width=\"3.2\"/>\n<circle clip-path=\"url(#clip892)\" cx=\"730.912\" cy=\"788.343\" r=\"14.4\" fill=\"#009af9\" fill-rule=\"evenodd\" fill-opacity=\"1\" stroke=\"#000000\" stroke-opacity=\"1\" stroke-width=\"3.2\"/>\n<circle clip-path=\"url(#clip892)\" cx=\"736.967\" cy=\"820.638\" r=\"14.4\" fill=\"#009af9\" fill-rule=\"evenodd\" fill-opacity=\"1\" stroke=\"#000000\" stroke-opacity=\"1\" stroke-width=\"3.2\"/>\n<circle clip-path=\"url(#clip892)\" cx=\"743.022\" cy=\"964.403\" r=\"14.4\" fill=\"#009af9\" fill-rule=\"evenodd\" fill-opacity=\"1\" stroke=\"#000000\" stroke-opacity=\"1\" stroke-width=\"3.2\"/>\n<circle clip-path=\"url(#clip892)\" cx=\"749.077\" cy=\"962.319\" r=\"14.4\" fill=\"#009af9\" fill-rule=\"evenodd\" fill-opacity=\"1\" stroke=\"#000000\" stroke-opacity=\"1\" stroke-width=\"3.2\"/>\n<circle clip-path=\"url(#clip892)\" cx=\"755.133\" cy=\"822.721\" r=\"14.4\" fill=\"#009af9\" fill-rule=\"evenodd\" fill-opacity=\"1\" stroke=\"#000000\" stroke-opacity=\"1\" stroke-width=\"3.2\"/>\n<circle clip-path=\"url(#clip892)\" cx=\"761.188\" cy=\"747.713\" r=\"14.4\" fill=\"#009af9\" fill-rule=\"evenodd\" fill-opacity=\"1\" stroke=\"#000000\" stroke-opacity=\"1\" stroke-width=\"3.2\"/>\n<circle clip-path=\"url(#clip892)\" cx=\"767.243\" cy=\"869.601\" r=\"14.4\" fill=\"#009af9\" fill-rule=\"evenodd\" fill-opacity=\"1\" stroke=\"#000000\" stroke-opacity=\"1\" stroke-width=\"3.2\"/>\n<circle clip-path=\"url(#clip892)\" cx=\"773.299\" cy=\"1002.95\" r=\"14.4\" fill=\"#009af9\" fill-rule=\"evenodd\" fill-opacity=\"1\" stroke=\"#000000\" stroke-opacity=\"1\" stroke-width=\"3.2\"/>\n<circle clip-path=\"url(#clip892)\" cx=\"779.354\" cy=\"633.118\" r=\"14.4\" fill=\"#009af9\" fill-rule=\"evenodd\" fill-opacity=\"1\" stroke=\"#000000\" stroke-opacity=\"1\" stroke-width=\"3.2\"/>\n<circle clip-path=\"url(#clip892)\" cx=\"785.409\" cy=\"948.776\" r=\"14.4\" fill=\"#009af9\" fill-rule=\"evenodd\" fill-opacity=\"1\" stroke=\"#000000\" stroke-opacity=\"1\" stroke-width=\"3.2\"/>\n<circle clip-path=\"url(#clip892)\" cx=\"791.464\" cy=\"833.139\" r=\"14.4\" fill=\"#009af9\" fill-rule=\"evenodd\" fill-opacity=\"1\" stroke=\"#000000\" stroke-opacity=\"1\" stroke-width=\"3.2\"/>\n<circle clip-path=\"url(#clip892)\" cx=\"797.52\" cy=\"856.058\" r=\"14.4\" fill=\"#009af9\" fill-rule=\"evenodd\" fill-opacity=\"1\" stroke=\"#000000\" stroke-opacity=\"1\" stroke-width=\"3.2\"/>\n<circle clip-path=\"url(#clip892)\" cx=\"803.575\" cy=\"1034.2\" r=\"14.4\" fill=\"#009af9\" fill-rule=\"evenodd\" fill-opacity=\"1\" stroke=\"#000000\" stroke-opacity=\"1\" stroke-width=\"3.2\"/>\n<circle clip-path=\"url(#clip892)\" cx=\"809.63\" cy=\"1039.41\" r=\"14.4\" fill=\"#009af9\" fill-rule=\"evenodd\" fill-opacity=\"1\" stroke=\"#000000\" stroke-opacity=\"1\" stroke-width=\"3.2\"/>\n<circle clip-path=\"url(#clip892)\" cx=\"815.685\" cy=\"744.588\" r=\"14.4\" fill=\"#009af9\" fill-rule=\"evenodd\" fill-opacity=\"1\" stroke=\"#000000\" stroke-opacity=\"1\" stroke-width=\"3.2\"/>\n<circle clip-path=\"url(#clip892)\" cx=\"821.741\" cy=\"827.93\" r=\"14.4\" fill=\"#009af9\" fill-rule=\"evenodd\" fill-opacity=\"1\" stroke=\"#000000\" stroke-opacity=\"1\" stroke-width=\"3.2\"/>\n<circle clip-path=\"url(#clip892)\" cx=\"827.796\" cy=\"873.768\" r=\"14.4\" fill=\"#009af9\" fill-rule=\"evenodd\" fill-opacity=\"1\" stroke=\"#000000\" stroke-opacity=\"1\" stroke-width=\"3.2\"/>\n<circle clip-path=\"url(#clip892)\" cx=\"833.851\" cy=\"239.327\" r=\"14.4\" fill=\"#009af9\" fill-rule=\"evenodd\" fill-opacity=\"1\" stroke=\"#000000\" stroke-opacity=\"1\" stroke-width=\"3.2\"/>\n<circle clip-path=\"url(#clip892)\" cx=\"839.907\" cy=\"843.557\" r=\"14.4\" fill=\"#009af9\" fill-rule=\"evenodd\" fill-opacity=\"1\" stroke=\"#000000\" stroke-opacity=\"1\" stroke-width=\"3.2\"/>\n<circle clip-path=\"url(#clip892)\" cx=\"845.962\" cy=\"819.596\" r=\"14.4\" fill=\"#009af9\" fill-rule=\"evenodd\" fill-opacity=\"1\" stroke=\"#000000\" stroke-opacity=\"1\" stroke-width=\"3.2\"/>\n<circle clip-path=\"url(#clip892)\" cx=\"852.017\" cy=\"812.303\" r=\"14.4\" fill=\"#009af9\" fill-rule=\"evenodd\" fill-opacity=\"1\" stroke=\"#000000\" stroke-opacity=\"1\" stroke-width=\"3.2\"/>\n<circle clip-path=\"url(#clip892)\" cx=\"858.072\" cy=\"1062.33\" r=\"14.4\" fill=\"#009af9\" fill-rule=\"evenodd\" fill-opacity=\"1\" stroke=\"#000000\" stroke-opacity=\"1\" stroke-width=\"3.2\"/>\n<circle clip-path=\"url(#clip892)\" cx=\"864.128\" cy=\"1186.3\" r=\"14.4\" fill=\"#009af9\" fill-rule=\"evenodd\" fill-opacity=\"1\" stroke=\"#000000\" stroke-opacity=\"1\" stroke-width=\"3.2\"/>\n<circle clip-path=\"url(#clip892)\" cx=\"870.183\" cy=\"857.1\" r=\"14.4\" fill=\"#009af9\" fill-rule=\"evenodd\" fill-opacity=\"1\" stroke=\"#000000\" stroke-opacity=\"1\" stroke-width=\"3.2\"/>\n<circle clip-path=\"url(#clip892)\" cx=\"876.238\" cy=\"866.476\" r=\"14.4\" fill=\"#009af9\" fill-rule=\"evenodd\" fill-opacity=\"1\" stroke=\"#000000\" stroke-opacity=\"1\" stroke-width=\"3.2\"/>\n<circle clip-path=\"url(#clip892)\" cx=\"882.293\" cy=\"780.008\" r=\"14.4\" fill=\"#009af9\" fill-rule=\"evenodd\" fill-opacity=\"1\" stroke=\"#000000\" stroke-opacity=\"1\" stroke-width=\"3.2\"/>\n<circle clip-path=\"url(#clip892)\" cx=\"888.349\" cy=\"894.604\" r=\"14.4\" fill=\"#009af9\" fill-rule=\"evenodd\" fill-opacity=\"1\" stroke=\"#000000\" stroke-opacity=\"1\" stroke-width=\"3.2\"/>\n<circle clip-path=\"url(#clip892)\" cx=\"894.404\" cy=\"733.128\" r=\"14.4\" fill=\"#009af9\" fill-rule=\"evenodd\" fill-opacity=\"1\" stroke=\"#000000\" stroke-opacity=\"1\" stroke-width=\"3.2\"/>\n<circle clip-path=\"url(#clip892)\" cx=\"900.459\" cy=\"1297.77\" r=\"14.4\" fill=\"#009af9\" fill-rule=\"evenodd\" fill-opacity=\"1\" stroke=\"#000000\" stroke-opacity=\"1\" stroke-width=\"3.2\"/>\n<circle clip-path=\"url(#clip892)\" cx=\"906.515\" cy=\"1224.85\" r=\"14.4\" fill=\"#009af9\" fill-rule=\"evenodd\" fill-opacity=\"1\" stroke=\"#000000\" stroke-opacity=\"1\" stroke-width=\"3.2\"/>\n<circle clip-path=\"url(#clip892)\" cx=\"912.57\" cy=\"995.656\" r=\"14.4\" fill=\"#009af9\" fill-rule=\"evenodd\" fill-opacity=\"1\" stroke=\"#000000\" stroke-opacity=\"1\" stroke-width=\"3.2\"/>\n<circle clip-path=\"url(#clip892)\" cx=\"918.625\" cy=\"1026.91\" r=\"14.4\" fill=\"#009af9\" fill-rule=\"evenodd\" fill-opacity=\"1\" stroke=\"#000000\" stroke-opacity=\"1\" stroke-width=\"3.2\"/>\n<circle clip-path=\"url(#clip892)\" cx=\"924.68\" cy=\"751.88\" r=\"14.4\" fill=\"#009af9\" fill-rule=\"evenodd\" fill-opacity=\"1\" stroke=\"#000000\" stroke-opacity=\"1\" stroke-width=\"3.2\"/>\n<circle clip-path=\"url(#clip892)\" cx=\"930.736\" cy=\"945.651\" r=\"14.4\" fill=\"#009af9\" fill-rule=\"evenodd\" fill-opacity=\"1\" stroke=\"#000000\" stroke-opacity=\"1\" stroke-width=\"3.2\"/>\n<circle clip-path=\"url(#clip892)\" cx=\"936.791\" cy=\"665.413\" r=\"14.4\" fill=\"#009af9\" fill-rule=\"evenodd\" fill-opacity=\"1\" stroke=\"#000000\" stroke-opacity=\"1\" stroke-width=\"3.2\"/>\n<circle clip-path=\"url(#clip892)\" cx=\"942.846\" cy=\"696.666\" r=\"14.4\" fill=\"#009af9\" fill-rule=\"evenodd\" fill-opacity=\"1\" stroke=\"#000000\" stroke-opacity=\"1\" stroke-width=\"3.2\"/>\n<circle clip-path=\"url(#clip892)\" cx=\"948.901\" cy=\"709.168\" r=\"14.4\" fill=\"#009af9\" fill-rule=\"evenodd\" fill-opacity=\"1\" stroke=\"#000000\" stroke-opacity=\"1\" stroke-width=\"3.2\"/>\n<circle clip-path=\"url(#clip892)\" cx=\"954.957\" cy=\"844.598\" r=\"14.4\" fill=\"#009af9\" fill-rule=\"evenodd\" fill-opacity=\"1\" stroke=\"#000000\" stroke-opacity=\"1\" stroke-width=\"3.2\"/>\n<circle clip-path=\"url(#clip892)\" cx=\"961.012\" cy=\"791.468\" r=\"14.4\" fill=\"#009af9\" fill-rule=\"evenodd\" fill-opacity=\"1\" stroke=\"#000000\" stroke-opacity=\"1\" stroke-width=\"3.2\"/>\n<circle clip-path=\"url(#clip892)\" cx=\"967.067\" cy=\"886.269\" r=\"14.4\" fill=\"#009af9\" fill-rule=\"evenodd\" fill-opacity=\"1\" stroke=\"#000000\" stroke-opacity=\"1\" stroke-width=\"3.2\"/>\n<circle clip-path=\"url(#clip892)\" cx=\"973.123\" cy=\"613.324\" r=\"14.4\" fill=\"#009af9\" fill-rule=\"evenodd\" fill-opacity=\"1\" stroke=\"#000000\" stroke-opacity=\"1\" stroke-width=\"3.2\"/>\n<circle clip-path=\"url(#clip892)\" cx=\"979.178\" cy=\"932.108\" r=\"14.4\" fill=\"#009af9\" fill-rule=\"evenodd\" fill-opacity=\"1\" stroke=\"#000000\" stroke-opacity=\"1\" stroke-width=\"3.2\"/>\n<circle clip-path=\"url(#clip892)\" cx=\"985.233\" cy=\"757.089\" r=\"14.4\" fill=\"#009af9\" fill-rule=\"evenodd\" fill-opacity=\"1\" stroke=\"#000000\" stroke-opacity=\"1\" stroke-width=\"3.2\"/>\n<circle clip-path=\"url(#clip892)\" cx=\"991.288\" cy=\"943.567\" r=\"14.4\" fill=\"#009af9\" fill-rule=\"evenodd\" fill-opacity=\"1\" stroke=\"#000000\" stroke-opacity=\"1\" stroke-width=\"3.2\"/>\n<circle clip-path=\"url(#clip892)\" cx=\"997.344\" cy=\"915.439\" r=\"14.4\" fill=\"#009af9\" fill-rule=\"evenodd\" fill-opacity=\"1\" stroke=\"#000000\" stroke-opacity=\"1\" stroke-width=\"3.2\"/>\n<circle clip-path=\"url(#clip892)\" cx=\"1003.4\" cy=\"831.055\" r=\"14.4\" fill=\"#009af9\" fill-rule=\"evenodd\" fill-opacity=\"1\" stroke=\"#000000\" stroke-opacity=\"1\" stroke-width=\"3.2\"/>\n<circle clip-path=\"url(#clip892)\" cx=\"1009.45\" cy=\"1102.96\" r=\"14.4\" fill=\"#009af9\" fill-rule=\"evenodd\" fill-opacity=\"1\" stroke=\"#000000\" stroke-opacity=\"1\" stroke-width=\"3.2\"/>\n<circle clip-path=\"url(#clip892)\" cx=\"1015.51\" cy=\"936.275\" r=\"14.4\" fill=\"#009af9\" fill-rule=\"evenodd\" fill-opacity=\"1\" stroke=\"#000000\" stroke-opacity=\"1\" stroke-width=\"3.2\"/>\n<circle clip-path=\"url(#clip892)\" cx=\"1021.56\" cy=\"1010.24\" r=\"14.4\" fill=\"#009af9\" fill-rule=\"evenodd\" fill-opacity=\"1\" stroke=\"#000000\" stroke-opacity=\"1\" stroke-width=\"3.2\"/>\n<circle clip-path=\"url(#clip892)\" cx=\"1027.62\" cy=\"727.92\" r=\"14.4\" fill=\"#009af9\" fill-rule=\"evenodd\" fill-opacity=\"1\" stroke=\"#000000\" stroke-opacity=\"1\" stroke-width=\"3.2\"/>\n<circle clip-path=\"url(#clip892)\" cx=\"1033.68\" cy=\"1020.66\" r=\"14.4\" fill=\"#009af9\" fill-rule=\"evenodd\" fill-opacity=\"1\" stroke=\"#000000\" stroke-opacity=\"1\" stroke-width=\"3.2\"/>\n<circle clip-path=\"url(#clip892)\" cx=\"1039.73\" cy=\"994.614\" r=\"14.4\" fill=\"#009af9\" fill-rule=\"evenodd\" fill-opacity=\"1\" stroke=\"#000000\" stroke-opacity=\"1\" stroke-width=\"3.2\"/>\n<circle clip-path=\"url(#clip892)\" cx=\"1045.79\" cy=\"1044.62\" r=\"14.4\" fill=\"#009af9\" fill-rule=\"evenodd\" fill-opacity=\"1\" stroke=\"#000000\" stroke-opacity=\"1\" stroke-width=\"3.2\"/>\n<circle clip-path=\"url(#clip892)\" cx=\"1051.84\" cy=\"757.089\" r=\"14.4\" fill=\"#009af9\" fill-rule=\"evenodd\" fill-opacity=\"1\" stroke=\"#000000\" stroke-opacity=\"1\" stroke-width=\"3.2\"/>\n<circle clip-path=\"url(#clip892)\" cx=\"1057.9\" cy=\"890.437\" r=\"14.4\" fill=\"#009af9\" fill-rule=\"evenodd\" fill-opacity=\"1\" stroke=\"#000000\" stroke-opacity=\"1\" stroke-width=\"3.2\"/>\n<circle clip-path=\"url(#clip892)\" cx=\"1063.95\" cy=\"845.64\" r=\"14.4\" fill=\"#009af9\" fill-rule=\"evenodd\" fill-opacity=\"1\" stroke=\"#000000\" stroke-opacity=\"1\" stroke-width=\"3.2\"/>\n<circle clip-path=\"url(#clip892)\" cx=\"1070.01\" cy=\"728.961\" r=\"14.4\" fill=\"#009af9\" fill-rule=\"evenodd\" fill-opacity=\"1\" stroke=\"#000000\" stroke-opacity=\"1\" stroke-width=\"3.2\"/>\n<circle clip-path=\"url(#clip892)\" cx=\"1076.06\" cy=\"712.293\" r=\"14.4\" fill=\"#009af9\" fill-rule=\"evenodd\" fill-opacity=\"1\" stroke=\"#000000\" stroke-opacity=\"1\" stroke-width=\"3.2\"/>\n<circle clip-path=\"url(#clip892)\" cx=\"1082.12\" cy=\"1061.29\" r=\"14.4\" fill=\"#009af9\" fill-rule=\"evenodd\" fill-opacity=\"1\" stroke=\"#000000\" stroke-opacity=\"1\" stroke-width=\"3.2\"/>\n<circle clip-path=\"url(#clip892)\" cx=\"1088.17\" cy=\"999.823\" r=\"14.4\" fill=\"#009af9\" fill-rule=\"evenodd\" fill-opacity=\"1\" stroke=\"#000000\" stroke-opacity=\"1\" stroke-width=\"3.2\"/>\n<circle clip-path=\"url(#clip892)\" cx=\"1094.23\" cy=\"985.238\" r=\"14.4\" fill=\"#009af9\" fill-rule=\"evenodd\" fill-opacity=\"1\" stroke=\"#000000\" stroke-opacity=\"1\" stroke-width=\"3.2\"/>\n<circle clip-path=\"url(#clip892)\" cx=\"1100.28\" cy=\"898.771\" r=\"14.4\" fill=\"#009af9\" fill-rule=\"evenodd\" fill-opacity=\"1\" stroke=\"#000000\" stroke-opacity=\"1\" stroke-width=\"3.2\"/>\n<circle clip-path=\"url(#clip892)\" cx=\"1106.34\" cy=\"731.045\" r=\"14.4\" fill=\"#009af9\" fill-rule=\"evenodd\" fill-opacity=\"1\" stroke=\"#000000\" stroke-opacity=\"1\" stroke-width=\"3.2\"/>\n<circle clip-path=\"url(#clip892)\" cx=\"1112.39\" cy=\"932.108\" r=\"14.4\" fill=\"#009af9\" fill-rule=\"evenodd\" fill-opacity=\"1\" stroke=\"#000000\" stroke-opacity=\"1\" stroke-width=\"3.2\"/>\n<circle clip-path=\"url(#clip892)\" cx=\"1118.45\" cy=\"931.066\" r=\"14.4\" fill=\"#009af9\" fill-rule=\"evenodd\" fill-opacity=\"1\" stroke=\"#000000\" stroke-opacity=\"1\" stroke-width=\"3.2\"/>\n<circle clip-path=\"url(#clip892)\" cx=\"1124.5\" cy=\"718.544\" r=\"14.4\" fill=\"#009af9\" fill-rule=\"evenodd\" fill-opacity=\"1\" stroke=\"#000000\" stroke-opacity=\"1\" stroke-width=\"3.2\"/>\n<circle clip-path=\"url(#clip892)\" cx=\"1130.56\" cy=\"1111.29\" r=\"14.4\" fill=\"#009af9\" fill-rule=\"evenodd\" fill-opacity=\"1\" stroke=\"#000000\" stroke-opacity=\"1\" stroke-width=\"3.2\"/>\n<circle clip-path=\"url(#clip892)\" cx=\"1136.61\" cy=\"848.766\" r=\"14.4\" fill=\"#009af9\" fill-rule=\"evenodd\" fill-opacity=\"1\" stroke=\"#000000\" stroke-opacity=\"1\" stroke-width=\"3.2\"/>\n<circle clip-path=\"url(#clip892)\" cx=\"1142.67\" cy=\"766.465\" r=\"14.4\" fill=\"#009af9\" fill-rule=\"evenodd\" fill-opacity=\"1\" stroke=\"#000000\" stroke-opacity=\"1\" stroke-width=\"3.2\"/>\n<circle clip-path=\"url(#clip892)\" cx=\"1148.73\" cy=\"918.565\" r=\"14.4\" fill=\"#009af9\" fill-rule=\"evenodd\" fill-opacity=\"1\" stroke=\"#000000\" stroke-opacity=\"1\" stroke-width=\"3.2\"/>\n<circle clip-path=\"url(#clip892)\" cx=\"1154.78\" cy=\"900.854\" r=\"14.4\" fill=\"#009af9\" fill-rule=\"evenodd\" fill-opacity=\"1\" stroke=\"#000000\" stroke-opacity=\"1\" stroke-width=\"3.2\"/>\n<circle clip-path=\"url(#clip892)\" cx=\"1160.84\" cy=\"1067.54\" r=\"14.4\" fill=\"#009af9\" fill-rule=\"evenodd\" fill-opacity=\"1\" stroke=\"#000000\" stroke-opacity=\"1\" stroke-width=\"3.2\"/>\n<circle clip-path=\"url(#clip892)\" cx=\"1166.89\" cy=\"835.222\" r=\"14.4\" fill=\"#009af9\" fill-rule=\"evenodd\" fill-opacity=\"1\" stroke=\"#000000\" stroke-opacity=\"1\" stroke-width=\"3.2\"/>\n<circle clip-path=\"url(#clip892)\" cx=\"1172.95\" cy=\"964.403\" r=\"14.4\" fill=\"#009af9\" fill-rule=\"evenodd\" fill-opacity=\"1\" stroke=\"#000000\" stroke-opacity=\"1\" stroke-width=\"3.2\"/>\n<circle clip-path=\"url(#clip892)\" cx=\"1179\" cy=\"859.183\" r=\"14.4\" fill=\"#009af9\" fill-rule=\"evenodd\" fill-opacity=\"1\" stroke=\"#000000\" stroke-opacity=\"1\" stroke-width=\"3.2\"/>\n<circle clip-path=\"url(#clip892)\" cx=\"1185.06\" cy=\"932.108\" r=\"14.4\" fill=\"#009af9\" fill-rule=\"evenodd\" fill-opacity=\"1\" stroke=\"#000000\" stroke-opacity=\"1\" stroke-width=\"3.2\"/>\n<circle clip-path=\"url(#clip892)\" cx=\"1191.11\" cy=\"844.598\" r=\"14.4\" fill=\"#009af9\" fill-rule=\"evenodd\" fill-opacity=\"1\" stroke=\"#000000\" stroke-opacity=\"1\" stroke-width=\"3.2\"/>\n<circle clip-path=\"url(#clip892)\" cx=\"1197.17\" cy=\"1169.63\" r=\"14.4\" fill=\"#009af9\" fill-rule=\"evenodd\" fill-opacity=\"1\" stroke=\"#000000\" stroke-opacity=\"1\" stroke-width=\"3.2\"/>\n<circle clip-path=\"url(#clip892)\" cx=\"1203.22\" cy=\"901.896\" r=\"14.4\" fill=\"#009af9\" fill-rule=\"evenodd\" fill-opacity=\"1\" stroke=\"#000000\" stroke-opacity=\"1\" stroke-width=\"3.2\"/>\n<circle clip-path=\"url(#clip892)\" cx=\"1209.28\" cy=\"1023.78\" r=\"14.4\" fill=\"#009af9\" fill-rule=\"evenodd\" fill-opacity=\"1\" stroke=\"#000000\" stroke-opacity=\"1\" stroke-width=\"3.2\"/>\n<circle clip-path=\"url(#clip892)\" cx=\"1215.33\" cy=\"952.943\" r=\"14.4\" fill=\"#009af9\" fill-rule=\"evenodd\" fill-opacity=\"1\" stroke=\"#000000\" stroke-opacity=\"1\" stroke-width=\"3.2\"/>\n<circle clip-path=\"url(#clip892)\" cx=\"1221.39\" cy=\"941.484\" r=\"14.4\" fill=\"#009af9\" fill-rule=\"evenodd\" fill-opacity=\"1\" stroke=\"#000000\" stroke-opacity=\"1\" stroke-width=\"3.2\"/>\n<circle clip-path=\"url(#clip892)\" cx=\"1227.44\" cy=\"661.246\" r=\"14.4\" fill=\"#009af9\" fill-rule=\"evenodd\" fill-opacity=\"1\" stroke=\"#000000\" stroke-opacity=\"1\" stroke-width=\"3.2\"/>\n<circle clip-path=\"url(#clip892)\" cx=\"1233.5\" cy=\"881.061\" r=\"14.4\" fill=\"#009af9\" fill-rule=\"evenodd\" fill-opacity=\"1\" stroke=\"#000000\" stroke-opacity=\"1\" stroke-width=\"3.2\"/>\n<circle clip-path=\"url(#clip892)\" cx=\"1239.55\" cy=\"877.935\" r=\"14.4\" fill=\"#009af9\" fill-rule=\"evenodd\" fill-opacity=\"1\" stroke=\"#000000\" stroke-opacity=\"1\" stroke-width=\"3.2\"/>\n<circle clip-path=\"url(#clip892)\" cx=\"1245.61\" cy=\"830.014\" r=\"14.4\" fill=\"#009af9\" fill-rule=\"evenodd\" fill-opacity=\"1\" stroke=\"#000000\" stroke-opacity=\"1\" stroke-width=\"3.2\"/>\n<circle clip-path=\"url(#clip892)\" cx=\"1251.67\" cy=\"669.58\" r=\"14.4\" fill=\"#009af9\" fill-rule=\"evenodd\" fill-opacity=\"1\" stroke=\"#000000\" stroke-opacity=\"1\" stroke-width=\"3.2\"/>\n<circle clip-path=\"url(#clip892)\" cx=\"1257.72\" cy=\"988.363\" r=\"14.4\" fill=\"#009af9\" fill-rule=\"evenodd\" fill-opacity=\"1\" stroke=\"#000000\" stroke-opacity=\"1\" stroke-width=\"3.2\"/>\n<circle clip-path=\"url(#clip892)\" cx=\"1263.78\" cy=\"764.382\" r=\"14.4\" fill=\"#009af9\" fill-rule=\"evenodd\" fill-opacity=\"1\" stroke=\"#000000\" stroke-opacity=\"1\" stroke-width=\"3.2\"/>\n<circle clip-path=\"url(#clip892)\" cx=\"1269.83\" cy=\"723.752\" r=\"14.4\" fill=\"#009af9\" fill-rule=\"evenodd\" fill-opacity=\"1\" stroke=\"#000000\" stroke-opacity=\"1\" stroke-width=\"3.2\"/>\n<circle clip-path=\"url(#clip892)\" cx=\"1275.89\" cy=\"862.309\" r=\"14.4\" fill=\"#009af9\" fill-rule=\"evenodd\" fill-opacity=\"1\" stroke=\"#000000\" stroke-opacity=\"1\" stroke-width=\"3.2\"/>\n<circle clip-path=\"url(#clip892)\" cx=\"1281.94\" cy=\"797.719\" r=\"14.4\" fill=\"#009af9\" fill-rule=\"evenodd\" fill-opacity=\"1\" stroke=\"#000000\" stroke-opacity=\"1\" stroke-width=\"3.2\"/>\n<circle clip-path=\"url(#clip892)\" cx=\"1288\" cy=\"1046.7\" r=\"14.4\" fill=\"#009af9\" fill-rule=\"evenodd\" fill-opacity=\"1\" stroke=\"#000000\" stroke-opacity=\"1\" stroke-width=\"3.2\"/>\n<circle clip-path=\"url(#clip892)\" cx=\"1294.05\" cy=\"939.4\" r=\"14.4\" fill=\"#009af9\" fill-rule=\"evenodd\" fill-opacity=\"1\" stroke=\"#000000\" stroke-opacity=\"1\" stroke-width=\"3.2\"/>\n<circle clip-path=\"url(#clip892)\" cx=\"1300.11\" cy=\"949.818\" r=\"14.4\" fill=\"#009af9\" fill-rule=\"evenodd\" fill-opacity=\"1\" stroke=\"#000000\" stroke-opacity=\"1\" stroke-width=\"3.2\"/>\n<circle clip-path=\"url(#clip892)\" cx=\"1306.16\" cy=\"771.674\" r=\"14.4\" fill=\"#009af9\" fill-rule=\"evenodd\" fill-opacity=\"1\" stroke=\"#000000\" stroke-opacity=\"1\" stroke-width=\"3.2\"/>\n<circle clip-path=\"url(#clip892)\" cx=\"1312.22\" cy=\"762.298\" r=\"14.4\" fill=\"#009af9\" fill-rule=\"evenodd\" fill-opacity=\"1\" stroke=\"#000000\" stroke-opacity=\"1\" stroke-width=\"3.2\"/>\n<circle clip-path=\"url(#clip892)\" cx=\"1318.27\" cy=\"824.805\" r=\"14.4\" fill=\"#009af9\" fill-rule=\"evenodd\" fill-opacity=\"1\" stroke=\"#000000\" stroke-opacity=\"1\" stroke-width=\"3.2\"/>\n<circle clip-path=\"url(#clip892)\" cx=\"1324.33\" cy=\"1017.53\" r=\"14.4\" fill=\"#009af9\" fill-rule=\"evenodd\" fill-opacity=\"1\" stroke=\"#000000\" stroke-opacity=\"1\" stroke-width=\"3.2\"/>\n<circle clip-path=\"url(#clip892)\" cx=\"1330.38\" cy=\"943.567\" r=\"14.4\" fill=\"#009af9\" fill-rule=\"evenodd\" fill-opacity=\"1\" stroke=\"#000000\" stroke-opacity=\"1\" stroke-width=\"3.2\"/>\n<circle clip-path=\"url(#clip892)\" cx=\"1336.44\" cy=\"957.11\" r=\"14.4\" fill=\"#009af9\" fill-rule=\"evenodd\" fill-opacity=\"1\" stroke=\"#000000\" stroke-opacity=\"1\" stroke-width=\"3.2\"/>\n<circle clip-path=\"url(#clip892)\" cx=\"1342.49\" cy=\"789.384\" r=\"14.4\" fill=\"#009af9\" fill-rule=\"evenodd\" fill-opacity=\"1\" stroke=\"#000000\" stroke-opacity=\"1\" stroke-width=\"3.2\"/>\n<circle clip-path=\"url(#clip892)\" cx=\"1348.55\" cy=\"994.614\" r=\"14.4\" fill=\"#009af9\" fill-rule=\"evenodd\" fill-opacity=\"1\" stroke=\"#000000\" stroke-opacity=\"1\" stroke-width=\"3.2\"/>\n<circle clip-path=\"url(#clip892)\" cx=\"1354.6\" cy=\"951.901\" r=\"14.4\" fill=\"#009af9\" fill-rule=\"evenodd\" fill-opacity=\"1\" stroke=\"#000000\" stroke-opacity=\"1\" stroke-width=\"3.2\"/>\n<circle clip-path=\"url(#clip892)\" cx=\"1360.66\" cy=\"742.504\" r=\"14.4\" fill=\"#009af9\" fill-rule=\"evenodd\" fill-opacity=\"1\" stroke=\"#000000\" stroke-opacity=\"1\" stroke-width=\"3.2\"/>\n<circle clip-path=\"url(#clip892)\" cx=\"1366.72\" cy=\"762.298\" r=\"14.4\" fill=\"#009af9\" fill-rule=\"evenodd\" fill-opacity=\"1\" stroke=\"#000000\" stroke-opacity=\"1\" stroke-width=\"3.2\"/>\n<circle clip-path=\"url(#clip892)\" cx=\"1372.77\" cy=\"773.758\" r=\"14.4\" fill=\"#009af9\" fill-rule=\"evenodd\" fill-opacity=\"1\" stroke=\"#000000\" stroke-opacity=\"1\" stroke-width=\"3.2\"/>\n<circle clip-path=\"url(#clip892)\" cx=\"1378.83\" cy=\"957.11\" r=\"14.4\" fill=\"#009af9\" fill-rule=\"evenodd\" fill-opacity=\"1\" stroke=\"#000000\" stroke-opacity=\"1\" stroke-width=\"3.2\"/>\n<circle clip-path=\"url(#clip892)\" cx=\"1384.88\" cy=\"830.014\" r=\"14.4\" fill=\"#009af9\" fill-rule=\"evenodd\" fill-opacity=\"1\" stroke=\"#000000\" stroke-opacity=\"1\" stroke-width=\"3.2\"/>\n<circle clip-path=\"url(#clip892)\" cx=\"1390.94\" cy=\"835.222\" r=\"14.4\" fill=\"#009af9\" fill-rule=\"evenodd\" fill-opacity=\"1\" stroke=\"#000000\" stroke-opacity=\"1\" stroke-width=\"3.2\"/>\n<circle clip-path=\"url(#clip892)\" cx=\"1396.99\" cy=\"973.779\" r=\"14.4\" fill=\"#009af9\" fill-rule=\"evenodd\" fill-opacity=\"1\" stroke=\"#000000\" stroke-opacity=\"1\" stroke-width=\"3.2\"/>\n<circle clip-path=\"url(#clip892)\" cx=\"1403.05\" cy=\"975.862\" r=\"14.4\" fill=\"#009af9\" fill-rule=\"evenodd\" fill-opacity=\"1\" stroke=\"#000000\" stroke-opacity=\"1\" stroke-width=\"3.2\"/>\n<circle clip-path=\"url(#clip892)\" cx=\"1409.1\" cy=\"712.293\" r=\"14.4\" fill=\"#009af9\" fill-rule=\"evenodd\" fill-opacity=\"1\" stroke=\"#000000\" stroke-opacity=\"1\" stroke-width=\"3.2\"/>\n<circle clip-path=\"url(#clip892)\" cx=\"1415.16\" cy=\"927.94\" r=\"14.4\" fill=\"#009af9\" fill-rule=\"evenodd\" fill-opacity=\"1\" stroke=\"#000000\" stroke-opacity=\"1\" stroke-width=\"3.2\"/>\n<circle clip-path=\"url(#clip892)\" cx=\"1421.21\" cy=\"914.397\" r=\"14.4\" fill=\"#009af9\" fill-rule=\"evenodd\" fill-opacity=\"1\" stroke=\"#000000\" stroke-opacity=\"1\" stroke-width=\"3.2\"/>\n<circle clip-path=\"url(#clip892)\" cx=\"1427.27\" cy=\"887.311\" r=\"14.4\" fill=\"#009af9\" fill-rule=\"evenodd\" fill-opacity=\"1\" stroke=\"#000000\" stroke-opacity=\"1\" stroke-width=\"3.2\"/>\n<circle clip-path=\"url(#clip892)\" cx=\"1433.32\" cy=\"880.019\" r=\"14.4\" fill=\"#009af9\" fill-rule=\"evenodd\" fill-opacity=\"1\" stroke=\"#000000\" stroke-opacity=\"1\" stroke-width=\"3.2\"/>\n<circle clip-path=\"url(#clip892)\" cx=\"1439.38\" cy=\"815.429\" r=\"14.4\" fill=\"#009af9\" fill-rule=\"evenodd\" fill-opacity=\"1\" stroke=\"#000000\" stroke-opacity=\"1\" stroke-width=\"3.2\"/>\n<circle clip-path=\"url(#clip892)\" cx=\"1445.43\" cy=\"577.904\" r=\"14.4\" fill=\"#009af9\" fill-rule=\"evenodd\" fill-opacity=\"1\" stroke=\"#000000\" stroke-opacity=\"1\" stroke-width=\"3.2\"/>\n<circle clip-path=\"url(#clip892)\" cx=\"1451.49\" cy=\"1035.24\" r=\"14.4\" fill=\"#009af9\" fill-rule=\"evenodd\" fill-opacity=\"1\" stroke=\"#000000\" stroke-opacity=\"1\" stroke-width=\"3.2\"/>\n<circle clip-path=\"url(#clip892)\" cx=\"1457.54\" cy=\"968.57\" r=\"14.4\" fill=\"#009af9\" fill-rule=\"evenodd\" fill-opacity=\"1\" stroke=\"#000000\" stroke-opacity=\"1\" stroke-width=\"3.2\"/>\n<circle clip-path=\"url(#clip892)\" cx=\"1463.6\" cy=\"1018.57\" r=\"14.4\" fill=\"#009af9\" fill-rule=\"evenodd\" fill-opacity=\"1\" stroke=\"#000000\" stroke-opacity=\"1\" stroke-width=\"3.2\"/>\n<circle clip-path=\"url(#clip892)\" cx=\"1469.65\" cy=\"818.554\" r=\"14.4\" fill=\"#009af9\" fill-rule=\"evenodd\" fill-opacity=\"1\" stroke=\"#000000\" stroke-opacity=\"1\" stroke-width=\"3.2\"/>\n<circle clip-path=\"url(#clip892)\" cx=\"1475.71\" cy=\"989.405\" r=\"14.4\" fill=\"#009af9\" fill-rule=\"evenodd\" fill-opacity=\"1\" stroke=\"#000000\" stroke-opacity=\"1\" stroke-width=\"3.2\"/>\n<circle clip-path=\"url(#clip892)\" cx=\"1481.77\" cy=\"633.118\" r=\"14.4\" fill=\"#009af9\" fill-rule=\"evenodd\" fill-opacity=\"1\" stroke=\"#000000\" stroke-opacity=\"1\" stroke-width=\"3.2\"/>\n<circle clip-path=\"url(#clip892)\" cx=\"1487.82\" cy=\"805.011\" r=\"14.4\" fill=\"#009af9\" fill-rule=\"evenodd\" fill-opacity=\"1\" stroke=\"#000000\" stroke-opacity=\"1\" stroke-width=\"3.2\"/>\n<circle clip-path=\"url(#clip892)\" cx=\"1493.88\" cy=\"801.886\" r=\"14.4\" fill=\"#009af9\" fill-rule=\"evenodd\" fill-opacity=\"1\" stroke=\"#000000\" stroke-opacity=\"1\" stroke-width=\"3.2\"/>\n<circle clip-path=\"url(#clip892)\" cx=\"1499.93\" cy=\"738.337\" r=\"14.4\" fill=\"#009af9\" fill-rule=\"evenodd\" fill-opacity=\"1\" stroke=\"#000000\" stroke-opacity=\"1\" stroke-width=\"3.2\"/>\n<circle clip-path=\"url(#clip892)\" cx=\"1505.99\" cy=\"1059.2\" r=\"14.4\" fill=\"#009af9\" fill-rule=\"evenodd\" fill-opacity=\"1\" stroke=\"#000000\" stroke-opacity=\"1\" stroke-width=\"3.2\"/>\n<circle clip-path=\"url(#clip892)\" cx=\"1512.04\" cy=\"1102.96\" r=\"14.4\" fill=\"#009af9\" fill-rule=\"evenodd\" fill-opacity=\"1\" stroke=\"#000000\" stroke-opacity=\"1\" stroke-width=\"3.2\"/>\n<circle clip-path=\"url(#clip892)\" cx=\"1518.1\" cy=\"769.591\" r=\"14.4\" fill=\"#009af9\" fill-rule=\"evenodd\" fill-opacity=\"1\" stroke=\"#000000\" stroke-opacity=\"1\" stroke-width=\"3.2\"/>\n<circle clip-path=\"url(#clip892)\" cx=\"1524.15\" cy=\"880.019\" r=\"14.4\" fill=\"#009af9\" fill-rule=\"evenodd\" fill-opacity=\"1\" stroke=\"#000000\" stroke-opacity=\"1\" stroke-width=\"3.2\"/>\n<circle clip-path=\"url(#clip892)\" cx=\"1530.21\" cy=\"998.781\" r=\"14.4\" fill=\"#009af9\" fill-rule=\"evenodd\" fill-opacity=\"1\" stroke=\"#000000\" stroke-opacity=\"1\" stroke-width=\"3.2\"/>\n<circle clip-path=\"url(#clip892)\" cx=\"1536.26\" cy=\"559.152\" r=\"14.4\" fill=\"#009af9\" fill-rule=\"evenodd\" fill-opacity=\"1\" stroke=\"#000000\" stroke-opacity=\"1\" stroke-width=\"3.2\"/>\n<circle clip-path=\"url(#clip892)\" cx=\"1542.32\" cy=\"1017.53\" r=\"14.4\" fill=\"#009af9\" fill-rule=\"evenodd\" fill-opacity=\"1\" stroke=\"#000000\" stroke-opacity=\"1\" stroke-width=\"3.2\"/>\n<circle clip-path=\"url(#clip892)\" cx=\"1548.37\" cy=\"840.431\" r=\"14.4\" fill=\"#009af9\" fill-rule=\"evenodd\" fill-opacity=\"1\" stroke=\"#000000\" stroke-opacity=\"1\" stroke-width=\"3.2\"/>\n<circle clip-path=\"url(#clip892)\" cx=\"1554.43\" cy=\"1046.7\" r=\"14.4\" fill=\"#009af9\" fill-rule=\"evenodd\" fill-opacity=\"1\" stroke=\"#000000\" stroke-opacity=\"1\" stroke-width=\"3.2\"/>\n<circle clip-path=\"url(#clip892)\" cx=\"1560.48\" cy=\"1026.91\" r=\"14.4\" fill=\"#009af9\" fill-rule=\"evenodd\" fill-opacity=\"1\" stroke=\"#000000\" stroke-opacity=\"1\" stroke-width=\"3.2\"/>\n<circle clip-path=\"url(#clip892)\" cx=\"1566.54\" cy=\"838.348\" r=\"14.4\" fill=\"#009af9\" fill-rule=\"evenodd\" fill-opacity=\"1\" stroke=\"#000000\" stroke-opacity=\"1\" stroke-width=\"3.2\"/>\n<circle clip-path=\"url(#clip892)\" cx=\"1572.59\" cy=\"1000.86\" r=\"14.4\" fill=\"#009af9\" fill-rule=\"evenodd\" fill-opacity=\"1\" stroke=\"#000000\" stroke-opacity=\"1\" stroke-width=\"3.2\"/>\n<circle clip-path=\"url(#clip892)\" cx=\"1578.65\" cy=\"876.893\" r=\"14.4\" fill=\"#009af9\" fill-rule=\"evenodd\" fill-opacity=\"1\" stroke=\"#000000\" stroke-opacity=\"1\" stroke-width=\"3.2\"/>\n<circle clip-path=\"url(#clip892)\" cx=\"1584.71\" cy=\"805.011\" r=\"14.4\" fill=\"#009af9\" fill-rule=\"evenodd\" fill-opacity=\"1\" stroke=\"#000000\" stroke-opacity=\"1\" stroke-width=\"3.2\"/>\n<circle clip-path=\"url(#clip892)\" cx=\"1590.76\" cy=\"953.985\" r=\"14.4\" fill=\"#009af9\" fill-rule=\"evenodd\" fill-opacity=\"1\" stroke=\"#000000\" stroke-opacity=\"1\" stroke-width=\"3.2\"/>\n<circle clip-path=\"url(#clip892)\" cx=\"1596.82\" cy=\"884.186\" r=\"14.4\" fill=\"#009af9\" fill-rule=\"evenodd\" fill-opacity=\"1\" stroke=\"#000000\" stroke-opacity=\"1\" stroke-width=\"3.2\"/>\n<circle clip-path=\"url(#clip892)\" cx=\"1602.87\" cy=\"662.288\" r=\"14.4\" fill=\"#009af9\" fill-rule=\"evenodd\" fill-opacity=\"1\" stroke=\"#000000\" stroke-opacity=\"1\" stroke-width=\"3.2\"/>\n<circle clip-path=\"url(#clip892)\" cx=\"1608.93\" cy=\"639.369\" r=\"14.4\" fill=\"#009af9\" fill-rule=\"evenodd\" fill-opacity=\"1\" stroke=\"#000000\" stroke-opacity=\"1\" stroke-width=\"3.2\"/>\n<circle clip-path=\"url(#clip892)\" cx=\"1614.98\" cy=\"1002.95\" r=\"14.4\" fill=\"#009af9\" fill-rule=\"evenodd\" fill-opacity=\"1\" stroke=\"#000000\" stroke-opacity=\"1\" stroke-width=\"3.2\"/>\n<circle clip-path=\"url(#clip892)\" cx=\"1621.04\" cy=\"848.766\" r=\"14.4\" fill=\"#009af9\" fill-rule=\"evenodd\" fill-opacity=\"1\" stroke=\"#000000\" stroke-opacity=\"1\" stroke-width=\"3.2\"/>\n<circle clip-path=\"url(#clip892)\" cx=\"1627.09\" cy=\"869.601\" r=\"14.4\" fill=\"#009af9\" fill-rule=\"evenodd\" fill-opacity=\"1\" stroke=\"#000000\" stroke-opacity=\"1\" stroke-width=\"3.2\"/>\n<circle clip-path=\"url(#clip892)\" cx=\"1633.15\" cy=\"859.183\" r=\"14.4\" fill=\"#009af9\" fill-rule=\"evenodd\" fill-opacity=\"1\" stroke=\"#000000\" stroke-opacity=\"1\" stroke-width=\"3.2\"/>\n<circle clip-path=\"url(#clip892)\" cx=\"1639.2\" cy=\"938.358\" r=\"14.4\" fill=\"#009af9\" fill-rule=\"evenodd\" fill-opacity=\"1\" stroke=\"#000000\" stroke-opacity=\"1\" stroke-width=\"3.2\"/>\n<circle clip-path=\"url(#clip892)\" cx=\"1645.26\" cy=\"1019.62\" r=\"14.4\" fill=\"#009af9\" fill-rule=\"evenodd\" fill-opacity=\"1\" stroke=\"#000000\" stroke-opacity=\"1\" stroke-width=\"3.2\"/>\n<circle clip-path=\"url(#clip892)\" cx=\"1651.31\" cy=\"826.888\" r=\"14.4\" fill=\"#009af9\" fill-rule=\"evenodd\" fill-opacity=\"1\" stroke=\"#000000\" stroke-opacity=\"1\" stroke-width=\"3.2\"/>\n<circle clip-path=\"url(#clip892)\" cx=\"1657.37\" cy=\"383.092\" r=\"14.4\" fill=\"#009af9\" fill-rule=\"evenodd\" fill-opacity=\"1\" stroke=\"#000000\" stroke-opacity=\"1\" stroke-width=\"3.2\"/>\n<circle clip-path=\"url(#clip892)\" cx=\"1663.42\" cy=\"921.69\" r=\"14.4\" fill=\"#009af9\" fill-rule=\"evenodd\" fill-opacity=\"1\" stroke=\"#000000\" stroke-opacity=\"1\" stroke-width=\"3.2\"/>\n<circle clip-path=\"url(#clip892)\" cx=\"1669.48\" cy=\"1031.08\" r=\"14.4\" fill=\"#009af9\" fill-rule=\"evenodd\" fill-opacity=\"1\" stroke=\"#000000\" stroke-opacity=\"1\" stroke-width=\"3.2\"/>\n<circle clip-path=\"url(#clip892)\" cx=\"1675.53\" cy=\"957.11\" r=\"14.4\" fill=\"#009af9\" fill-rule=\"evenodd\" fill-opacity=\"1\" stroke=\"#000000\" stroke-opacity=\"1\" stroke-width=\"3.2\"/>\n<circle clip-path=\"url(#clip892)\" cx=\"1681.59\" cy=\"982.113\" r=\"14.4\" fill=\"#009af9\" fill-rule=\"evenodd\" fill-opacity=\"1\" stroke=\"#000000\" stroke-opacity=\"1\" stroke-width=\"3.2\"/>\n<circle clip-path=\"url(#clip892)\" cx=\"1687.64\" cy=\"920.648\" r=\"14.4\" fill=\"#009af9\" fill-rule=\"evenodd\" fill-opacity=\"1\" stroke=\"#000000\" stroke-opacity=\"1\" stroke-width=\"3.2\"/>\n<circle clip-path=\"url(#clip892)\" cx=\"1693.7\" cy=\"616.45\" r=\"14.4\" fill=\"#009af9\" fill-rule=\"evenodd\" fill-opacity=\"1\" stroke=\"#000000\" stroke-opacity=\"1\" stroke-width=\"3.2\"/>\n<circle clip-path=\"url(#clip892)\" cx=\"1699.76\" cy=\"862.309\" r=\"14.4\" fill=\"#009af9\" fill-rule=\"evenodd\" fill-opacity=\"1\" stroke=\"#000000\" stroke-opacity=\"1\" stroke-width=\"3.2\"/>\n<circle clip-path=\"url(#clip892)\" cx=\"1705.81\" cy=\"707.084\" r=\"14.4\" fill=\"#009af9\" fill-rule=\"evenodd\" fill-opacity=\"1\" stroke=\"#000000\" stroke-opacity=\"1\" stroke-width=\"3.2\"/>\n<circle clip-path=\"url(#clip892)\" cx=\"1711.87\" cy=\"1011.28\" r=\"14.4\" fill=\"#009af9\" fill-rule=\"evenodd\" fill-opacity=\"1\" stroke=\"#000000\" stroke-opacity=\"1\" stroke-width=\"3.2\"/>\n<circle clip-path=\"url(#clip892)\" cx=\"1717.92\" cy=\"665.413\" r=\"14.4\" fill=\"#009af9\" fill-rule=\"evenodd\" fill-opacity=\"1\" stroke=\"#000000\" stroke-opacity=\"1\" stroke-width=\"3.2\"/>\n<circle clip-path=\"url(#clip892)\" cx=\"1723.98\" cy=\"833.139\" r=\"14.4\" fill=\"#009af9\" fill-rule=\"evenodd\" fill-opacity=\"1\" stroke=\"#000000\" stroke-opacity=\"1\" stroke-width=\"3.2\"/>\n<circle clip-path=\"url(#clip892)\" cx=\"1730.03\" cy=\"1112.33\" r=\"14.4\" fill=\"#009af9\" fill-rule=\"evenodd\" fill-opacity=\"1\" stroke=\"#000000\" stroke-opacity=\"1\" stroke-width=\"3.2\"/>\n<circle clip-path=\"url(#clip892)\" cx=\"1736.09\" cy=\"874.81\" r=\"14.4\" fill=\"#009af9\" fill-rule=\"evenodd\" fill-opacity=\"1\" stroke=\"#000000\" stroke-opacity=\"1\" stroke-width=\"3.2\"/>\n<circle clip-path=\"url(#clip892)\" cx=\"1742.14\" cy=\"838.348\" r=\"14.4\" fill=\"#009af9\" fill-rule=\"evenodd\" fill-opacity=\"1\" stroke=\"#000000\" stroke-opacity=\"1\" stroke-width=\"3.2\"/>\n<circle clip-path=\"url(#clip892)\" cx=\"1748.2\" cy=\"852.933\" r=\"14.4\" fill=\"#009af9\" fill-rule=\"evenodd\" fill-opacity=\"1\" stroke=\"#000000\" stroke-opacity=\"1\" stroke-width=\"3.2\"/>\n<circle clip-path=\"url(#clip892)\" cx=\"1754.25\" cy=\"1191.51\" r=\"14.4\" fill=\"#009af9\" fill-rule=\"evenodd\" fill-opacity=\"1\" stroke=\"#000000\" stroke-opacity=\"1\" stroke-width=\"3.2\"/>\n<circle clip-path=\"url(#clip892)\" cx=\"1760.31\" cy=\"887.311\" r=\"14.4\" fill=\"#009af9\" fill-rule=\"evenodd\" fill-opacity=\"1\" stroke=\"#000000\" stroke-opacity=\"1\" stroke-width=\"3.2\"/>\n<circle clip-path=\"url(#clip892)\" cx=\"1766.36\" cy=\"86.1857\" r=\"14.4\" fill=\"#009af9\" fill-rule=\"evenodd\" fill-opacity=\"1\" stroke=\"#000000\" stroke-opacity=\"1\" stroke-width=\"3.2\"/>\n<circle clip-path=\"url(#clip892)\" cx=\"1772.42\" cy=\"844.598\" r=\"14.4\" fill=\"#009af9\" fill-rule=\"evenodd\" fill-opacity=\"1\" stroke=\"#000000\" stroke-opacity=\"1\" stroke-width=\"3.2\"/>\n<circle clip-path=\"url(#clip892)\" cx=\"1778.47\" cy=\"828.972\" r=\"14.4\" fill=\"#009af9\" fill-rule=\"evenodd\" fill-opacity=\"1\" stroke=\"#000000\" stroke-opacity=\"1\" stroke-width=\"3.2\"/>\n<circle clip-path=\"url(#clip892)\" cx=\"1784.53\" cy=\"882.102\" r=\"14.4\" fill=\"#009af9\" fill-rule=\"evenodd\" fill-opacity=\"1\" stroke=\"#000000\" stroke-opacity=\"1\" stroke-width=\"3.2\"/>\n<circle clip-path=\"url(#clip892)\" cx=\"1790.58\" cy=\"1016.49\" r=\"14.4\" fill=\"#009af9\" fill-rule=\"evenodd\" fill-opacity=\"1\" stroke=\"#000000\" stroke-opacity=\"1\" stroke-width=\"3.2\"/>\n<circle clip-path=\"url(#clip892)\" cx=\"1796.64\" cy=\"942.525\" r=\"14.4\" fill=\"#009af9\" fill-rule=\"evenodd\" fill-opacity=\"1\" stroke=\"#000000\" stroke-opacity=\"1\" stroke-width=\"3.2\"/>\n<circle clip-path=\"url(#clip892)\" cx=\"1802.69\" cy=\"1091.5\" r=\"14.4\" fill=\"#009af9\" fill-rule=\"evenodd\" fill-opacity=\"1\" stroke=\"#000000\" stroke-opacity=\"1\" stroke-width=\"3.2\"/>\n<circle clip-path=\"url(#clip892)\" cx=\"1808.75\" cy=\"690.416\" r=\"14.4\" fill=\"#009af9\" fill-rule=\"evenodd\" fill-opacity=\"1\" stroke=\"#000000\" stroke-opacity=\"1\" stroke-width=\"3.2\"/>\n<circle clip-path=\"url(#clip892)\" cx=\"1814.81\" cy=\"1214.43\" r=\"14.4\" fill=\"#009af9\" fill-rule=\"evenodd\" fill-opacity=\"1\" stroke=\"#000000\" stroke-opacity=\"1\" stroke-width=\"3.2\"/>\n<circle clip-path=\"url(#clip892)\" cx=\"1820.86\" cy=\"1234.22\" r=\"14.4\" fill=\"#009af9\" fill-rule=\"evenodd\" fill-opacity=\"1\" stroke=\"#000000\" stroke-opacity=\"1\" stroke-width=\"3.2\"/>\n<circle clip-path=\"url(#clip892)\" cx=\"1826.92\" cy=\"853.974\" r=\"14.4\" fill=\"#009af9\" fill-rule=\"evenodd\" fill-opacity=\"1\" stroke=\"#000000\" stroke-opacity=\"1\" stroke-width=\"3.2\"/>\n<circle clip-path=\"url(#clip892)\" cx=\"1832.97\" cy=\"956.068\" r=\"14.4\" fill=\"#009af9\" fill-rule=\"evenodd\" fill-opacity=\"1\" stroke=\"#000000\" stroke-opacity=\"1\" stroke-width=\"3.2\"/>\n<circle clip-path=\"url(#clip892)\" cx=\"1839.03\" cy=\"820.638\" r=\"14.4\" fill=\"#009af9\" fill-rule=\"evenodd\" fill-opacity=\"1\" stroke=\"#000000\" stroke-opacity=\"1\" stroke-width=\"3.2\"/>\n<circle clip-path=\"url(#clip892)\" cx=\"1845.08\" cy=\"980.029\" r=\"14.4\" fill=\"#009af9\" fill-rule=\"evenodd\" fill-opacity=\"1\" stroke=\"#000000\" stroke-opacity=\"1\" stroke-width=\"3.2\"/>\n<circle clip-path=\"url(#clip892)\" cx=\"1851.14\" cy=\"848.766\" r=\"14.4\" fill=\"#009af9\" fill-rule=\"evenodd\" fill-opacity=\"1\" stroke=\"#000000\" stroke-opacity=\"1\" stroke-width=\"3.2\"/>\n<circle clip-path=\"url(#clip892)\" cx=\"1857.19\" cy=\"831.055\" r=\"14.4\" fill=\"#009af9\" fill-rule=\"evenodd\" fill-opacity=\"1\" stroke=\"#000000\" stroke-opacity=\"1\" stroke-width=\"3.2\"/>\n<circle clip-path=\"url(#clip892)\" cx=\"1863.25\" cy=\"867.517\" r=\"14.4\" fill=\"#009af9\" fill-rule=\"evenodd\" fill-opacity=\"1\" stroke=\"#000000\" stroke-opacity=\"1\" stroke-width=\"3.2\"/>\n<circle clip-path=\"url(#clip892)\" cx=\"1869.3\" cy=\"925.857\" r=\"14.4\" fill=\"#009af9\" fill-rule=\"evenodd\" fill-opacity=\"1\" stroke=\"#000000\" stroke-opacity=\"1\" stroke-width=\"3.2\"/>\n<circle clip-path=\"url(#clip892)\" cx=\"1875.36\" cy=\"931.066\" r=\"14.4\" fill=\"#009af9\" fill-rule=\"evenodd\" fill-opacity=\"1\" stroke=\"#000000\" stroke-opacity=\"1\" stroke-width=\"3.2\"/>\n<circle clip-path=\"url(#clip892)\" cx=\"1881.41\" cy=\"1000.86\" r=\"14.4\" fill=\"#009af9\" fill-rule=\"evenodd\" fill-opacity=\"1\" stroke=\"#000000\" stroke-opacity=\"1\" stroke-width=\"3.2\"/>\n<circle clip-path=\"url(#clip892)\" cx=\"1887.47\" cy=\"1017.53\" r=\"14.4\" fill=\"#009af9\" fill-rule=\"evenodd\" fill-opacity=\"1\" stroke=\"#000000\" stroke-opacity=\"1\" stroke-width=\"3.2\"/>\n<circle clip-path=\"url(#clip892)\" cx=\"1893.52\" cy=\"756.047\" r=\"14.4\" fill=\"#009af9\" fill-rule=\"evenodd\" fill-opacity=\"1\" stroke=\"#000000\" stroke-opacity=\"1\" stroke-width=\"3.2\"/>\n<circle clip-path=\"url(#clip892)\" cx=\"1899.58\" cy=\"1039.41\" r=\"14.4\" fill=\"#009af9\" fill-rule=\"evenodd\" fill-opacity=\"1\" stroke=\"#000000\" stroke-opacity=\"1\" stroke-width=\"3.2\"/>\n<circle clip-path=\"url(#clip892)\" cx=\"1905.63\" cy=\"908.147\" r=\"14.4\" fill=\"#009af9\" fill-rule=\"evenodd\" fill-opacity=\"1\" stroke=\"#000000\" stroke-opacity=\"1\" stroke-width=\"3.2\"/>\n<circle clip-path=\"url(#clip892)\" cx=\"1911.69\" cy=\"814.387\" r=\"14.4\" fill=\"#009af9\" fill-rule=\"evenodd\" fill-opacity=\"1\" stroke=\"#000000\" stroke-opacity=\"1\" stroke-width=\"3.2\"/>\n<circle clip-path=\"url(#clip892)\" cx=\"1917.75\" cy=\"978.987\" r=\"14.4\" fill=\"#009af9\" fill-rule=\"evenodd\" fill-opacity=\"1\" stroke=\"#000000\" stroke-opacity=\"1\" stroke-width=\"3.2\"/>\n<circle clip-path=\"url(#clip892)\" cx=\"1923.8\" cy=\"999.823\" r=\"14.4\" fill=\"#009af9\" fill-rule=\"evenodd\" fill-opacity=\"1\" stroke=\"#000000\" stroke-opacity=\"1\" stroke-width=\"3.2\"/>\n<circle clip-path=\"url(#clip892)\" cx=\"1929.86\" cy=\"839.39\" r=\"14.4\" fill=\"#009af9\" fill-rule=\"evenodd\" fill-opacity=\"1\" stroke=\"#000000\" stroke-opacity=\"1\" stroke-width=\"3.2\"/>\n<circle clip-path=\"url(#clip892)\" cx=\"1935.91\" cy=\"884.186\" r=\"14.4\" fill=\"#009af9\" fill-rule=\"evenodd\" fill-opacity=\"1\" stroke=\"#000000\" stroke-opacity=\"1\" stroke-width=\"3.2\"/>\n<circle clip-path=\"url(#clip892)\" cx=\"1941.97\" cy=\"916.481\" r=\"14.4\" fill=\"#009af9\" fill-rule=\"evenodd\" fill-opacity=\"1\" stroke=\"#000000\" stroke-opacity=\"1\" stroke-width=\"3.2\"/>\n<circle clip-path=\"url(#clip892)\" cx=\"1948.02\" cy=\"775.841\" r=\"14.4\" fill=\"#009af9\" fill-rule=\"evenodd\" fill-opacity=\"1\" stroke=\"#000000\" stroke-opacity=\"1\" stroke-width=\"3.2\"/>\n<circle clip-path=\"url(#clip892)\" cx=\"1954.08\" cy=\"1016.49\" r=\"14.4\" fill=\"#009af9\" fill-rule=\"evenodd\" fill-opacity=\"1\" stroke=\"#000000\" stroke-opacity=\"1\" stroke-width=\"3.2\"/>\n<circle clip-path=\"url(#clip892)\" cx=\"1960.13\" cy=\"858.142\" r=\"14.4\" fill=\"#009af9\" fill-rule=\"evenodd\" fill-opacity=\"1\" stroke=\"#000000\" stroke-opacity=\"1\" stroke-width=\"3.2\"/>\n<circle clip-path=\"url(#clip892)\" cx=\"1966.19\" cy=\"951.901\" r=\"14.4\" fill=\"#009af9\" fill-rule=\"evenodd\" fill-opacity=\"1\" stroke=\"#000000\" stroke-opacity=\"1\" stroke-width=\"3.2\"/>\n<circle clip-path=\"url(#clip892)\" cx=\"1972.24\" cy=\"1384.24\" r=\"14.4\" fill=\"#009af9\" fill-rule=\"evenodd\" fill-opacity=\"1\" stroke=\"#000000\" stroke-opacity=\"1\" stroke-width=\"3.2\"/>\n<circle clip-path=\"url(#clip892)\" cx=\"1978.3\" cy=\"708.126\" r=\"14.4\" fill=\"#009af9\" fill-rule=\"evenodd\" fill-opacity=\"1\" stroke=\"#000000\" stroke-opacity=\"1\" stroke-width=\"3.2\"/>\n<circle clip-path=\"url(#clip892)\" cx=\"1984.35\" cy=\"892.52\" r=\"14.4\" fill=\"#009af9\" fill-rule=\"evenodd\" fill-opacity=\"1\" stroke=\"#000000\" stroke-opacity=\"1\" stroke-width=\"3.2\"/>\n<circle clip-path=\"url(#clip892)\" cx=\"1990.41\" cy=\"1131.09\" r=\"14.4\" fill=\"#009af9\" fill-rule=\"evenodd\" fill-opacity=\"1\" stroke=\"#000000\" stroke-opacity=\"1\" stroke-width=\"3.2\"/>\n<circle clip-path=\"url(#clip892)\" cx=\"1996.46\" cy=\"831.055\" r=\"14.4\" fill=\"#009af9\" fill-rule=\"evenodd\" fill-opacity=\"1\" stroke=\"#000000\" stroke-opacity=\"1\" stroke-width=\"3.2\"/>\n<circle clip-path=\"url(#clip892)\" cx=\"2002.52\" cy=\"866.476\" r=\"14.4\" fill=\"#009af9\" fill-rule=\"evenodd\" fill-opacity=\"1\" stroke=\"#000000\" stroke-opacity=\"1\" stroke-width=\"3.2\"/>\n<circle clip-path=\"url(#clip892)\" cx=\"2008.57\" cy=\"1000.86\" r=\"14.4\" fill=\"#009af9\" fill-rule=\"evenodd\" fill-opacity=\"1\" stroke=\"#000000\" stroke-opacity=\"1\" stroke-width=\"3.2\"/>\n<circle clip-path=\"url(#clip892)\" cx=\"2014.63\" cy=\"894.604\" r=\"14.4\" fill=\"#009af9\" fill-rule=\"evenodd\" fill-opacity=\"1\" stroke=\"#000000\" stroke-opacity=\"1\" stroke-width=\"3.2\"/>\n<circle clip-path=\"url(#clip892)\" cx=\"2020.68\" cy=\"809.178\" r=\"14.4\" fill=\"#009af9\" fill-rule=\"evenodd\" fill-opacity=\"1\" stroke=\"#000000\" stroke-opacity=\"1\" stroke-width=\"3.2\"/>\n<circle clip-path=\"url(#clip892)\" cx=\"2026.74\" cy=\"900.854\" r=\"14.4\" fill=\"#009af9\" fill-rule=\"evenodd\" fill-opacity=\"1\" stroke=\"#000000\" stroke-opacity=\"1\" stroke-width=\"3.2\"/>\n<circle clip-path=\"url(#clip892)\" cx=\"2032.8\" cy=\"848.766\" r=\"14.4\" fill=\"#009af9\" fill-rule=\"evenodd\" fill-opacity=\"1\" stroke=\"#000000\" stroke-opacity=\"1\" stroke-width=\"3.2\"/>\n<circle clip-path=\"url(#clip892)\" cx=\"2038.85\" cy=\"688.332\" r=\"14.4\" fill=\"#009af9\" fill-rule=\"evenodd\" fill-opacity=\"1\" stroke=\"#000000\" stroke-opacity=\"1\" stroke-width=\"3.2\"/>\n<circle clip-path=\"url(#clip892)\" cx=\"2044.91\" cy=\"908.147\" r=\"14.4\" fill=\"#009af9\" fill-rule=\"evenodd\" fill-opacity=\"1\" stroke=\"#000000\" stroke-opacity=\"1\" stroke-width=\"3.2\"/>\n<circle clip-path=\"url(#clip892)\" cx=\"2050.96\" cy=\"914.397\" r=\"14.4\" fill=\"#009af9\" fill-rule=\"evenodd\" fill-opacity=\"1\" stroke=\"#000000\" stroke-opacity=\"1\" stroke-width=\"3.2\"/>\n<circle clip-path=\"url(#clip892)\" cx=\"2057.02\" cy=\"873.768\" r=\"14.4\" fill=\"#009af9\" fill-rule=\"evenodd\" fill-opacity=\"1\" stroke=\"#000000\" stroke-opacity=\"1\" stroke-width=\"3.2\"/>\n<circle clip-path=\"url(#clip892)\" cx=\"2063.07\" cy=\"949.818\" r=\"14.4\" fill=\"#009af9\" fill-rule=\"evenodd\" fill-opacity=\"1\" stroke=\"#000000\" stroke-opacity=\"1\" stroke-width=\"3.2\"/>\n<circle clip-path=\"url(#clip892)\" cx=\"2069.13\" cy=\"865.434\" r=\"14.4\" fill=\"#009af9\" fill-rule=\"evenodd\" fill-opacity=\"1\" stroke=\"#000000\" stroke-opacity=\"1\" stroke-width=\"3.2\"/>\n<circle clip-path=\"url(#clip892)\" cx=\"2075.18\" cy=\"785.217\" r=\"14.4\" fill=\"#009af9\" fill-rule=\"evenodd\" fill-opacity=\"1\" stroke=\"#000000\" stroke-opacity=\"1\" stroke-width=\"3.2\"/>\n<circle clip-path=\"url(#clip892)\" cx=\"2081.24\" cy=\"687.29\" r=\"14.4\" fill=\"#009af9\" fill-rule=\"evenodd\" fill-opacity=\"1\" stroke=\"#000000\" stroke-opacity=\"1\" stroke-width=\"3.2\"/>\n<circle clip-path=\"url(#clip892)\" cx=\"2087.29\" cy=\"934.191\" r=\"14.4\" fill=\"#009af9\" fill-rule=\"evenodd\" fill-opacity=\"1\" stroke=\"#000000\" stroke-opacity=\"1\" stroke-width=\"3.2\"/>\n<circle clip-path=\"url(#clip892)\" cx=\"2093.35\" cy=\"743.546\" r=\"14.4\" fill=\"#009af9\" fill-rule=\"evenodd\" fill-opacity=\"1\" stroke=\"#000000\" stroke-opacity=\"1\" stroke-width=\"3.2\"/>\n<circle clip-path=\"url(#clip892)\" cx=\"2099.4\" cy=\"836.264\" r=\"14.4\" fill=\"#009af9\" fill-rule=\"evenodd\" fill-opacity=\"1\" stroke=\"#000000\" stroke-opacity=\"1\" stroke-width=\"3.2\"/>\n<circle clip-path=\"url(#clip892)\" cx=\"2105.46\" cy=\"850.849\" r=\"14.4\" fill=\"#009af9\" fill-rule=\"evenodd\" fill-opacity=\"1\" stroke=\"#000000\" stroke-opacity=\"1\" stroke-width=\"3.2\"/>\n<circle clip-path=\"url(#clip892)\" cx=\"2111.51\" cy=\"1012.32\" r=\"14.4\" fill=\"#009af9\" fill-rule=\"evenodd\" fill-opacity=\"1\" stroke=\"#000000\" stroke-opacity=\"1\" stroke-width=\"3.2\"/>\n<circle clip-path=\"url(#clip892)\" cx=\"2117.57\" cy=\"923.773\" r=\"14.4\" fill=\"#009af9\" fill-rule=\"evenodd\" fill-opacity=\"1\" stroke=\"#000000\" stroke-opacity=\"1\" stroke-width=\"3.2\"/>\n<circle clip-path=\"url(#clip892)\" cx=\"2123.62\" cy=\"667.497\" r=\"14.4\" fill=\"#009af9\" fill-rule=\"evenodd\" fill-opacity=\"1\" stroke=\"#000000\" stroke-opacity=\"1\" stroke-width=\"3.2\"/>\n<circle clip-path=\"url(#clip892)\" cx=\"2129.68\" cy=\"807.094\" r=\"14.4\" fill=\"#009af9\" fill-rule=\"evenodd\" fill-opacity=\"1\" stroke=\"#000000\" stroke-opacity=\"1\" stroke-width=\"3.2\"/>\n<circle clip-path=\"url(#clip892)\" cx=\"2135.73\" cy=\"628.951\" r=\"14.4\" fill=\"#009af9\" fill-rule=\"evenodd\" fill-opacity=\"1\" stroke=\"#000000\" stroke-opacity=\"1\" stroke-width=\"3.2\"/>\n<circle clip-path=\"url(#clip892)\" cx=\"2141.79\" cy=\"786.259\" r=\"14.4\" fill=\"#009af9\" fill-rule=\"evenodd\" fill-opacity=\"1\" stroke=\"#000000\" stroke-opacity=\"1\" stroke-width=\"3.2\"/>\n<circle clip-path=\"url(#clip892)\" cx=\"2147.85\" cy=\"938.358\" r=\"14.4\" fill=\"#009af9\" fill-rule=\"evenodd\" fill-opacity=\"1\" stroke=\"#000000\" stroke-opacity=\"1\" stroke-width=\"3.2\"/>\n<circle clip-path=\"url(#clip892)\" cx=\"2153.9\" cy=\"826.888\" r=\"14.4\" fill=\"#009af9\" fill-rule=\"evenodd\" fill-opacity=\"1\" stroke=\"#000000\" stroke-opacity=\"1\" stroke-width=\"3.2\"/>\n<circle clip-path=\"url(#clip892)\" cx=\"2159.96\" cy=\"959.194\" r=\"14.4\" fill=\"#009af9\" fill-rule=\"evenodd\" fill-opacity=\"1\" stroke=\"#000000\" stroke-opacity=\"1\" stroke-width=\"3.2\"/>\n<circle clip-path=\"url(#clip892)\" cx=\"2166.01\" cy=\"869.601\" r=\"14.4\" fill=\"#009af9\" fill-rule=\"evenodd\" fill-opacity=\"1\" stroke=\"#000000\" stroke-opacity=\"1\" stroke-width=\"3.2\"/>\n<circle clip-path=\"url(#clip892)\" cx=\"2172.07\" cy=\"1230.06\" r=\"14.4\" fill=\"#009af9\" fill-rule=\"evenodd\" fill-opacity=\"1\" stroke=\"#000000\" stroke-opacity=\"1\" stroke-width=\"3.2\"/>\n<circle clip-path=\"url(#clip892)\" cx=\"2178.12\" cy=\"689.374\" r=\"14.4\" fill=\"#009af9\" fill-rule=\"evenodd\" fill-opacity=\"1\" stroke=\"#000000\" stroke-opacity=\"1\" stroke-width=\"3.2\"/>\n<circle clip-path=\"url(#clip892)\" cx=\"2184.18\" cy=\"936.275\" r=\"14.4\" fill=\"#009af9\" fill-rule=\"evenodd\" fill-opacity=\"1\" stroke=\"#000000\" stroke-opacity=\"1\" stroke-width=\"3.2\"/>\n<circle clip-path=\"url(#clip892)\" cx=\"2190.23\" cy=\"866.476\" r=\"14.4\" fill=\"#009af9\" fill-rule=\"evenodd\" fill-opacity=\"1\" stroke=\"#000000\" stroke-opacity=\"1\" stroke-width=\"3.2\"/>\n<circle clip-path=\"url(#clip892)\" cx=\"2196.29\" cy=\"908.147\" r=\"14.4\" fill=\"#009af9\" fill-rule=\"evenodd\" fill-opacity=\"1\" stroke=\"#000000\" stroke-opacity=\"1\" stroke-width=\"3.2\"/>\n<circle clip-path=\"url(#clip892)\" cx=\"2202.34\" cy=\"1042.54\" r=\"14.4\" fill=\"#009af9\" fill-rule=\"evenodd\" fill-opacity=\"1\" stroke=\"#000000\" stroke-opacity=\"1\" stroke-width=\"3.2\"/>\n<circle clip-path=\"url(#clip892)\" cx=\"2208.4\" cy=\"814.387\" r=\"14.4\" fill=\"#009af9\" fill-rule=\"evenodd\" fill-opacity=\"1\" stroke=\"#000000\" stroke-opacity=\"1\" stroke-width=\"3.2\"/>\n<circle clip-path=\"url(#clip892)\" cx=\"2214.45\" cy=\"920.648\" r=\"14.4\" fill=\"#009af9\" fill-rule=\"evenodd\" fill-opacity=\"1\" stroke=\"#000000\" stroke-opacity=\"1\" stroke-width=\"3.2\"/>\n<circle clip-path=\"url(#clip892)\" cx=\"2220.51\" cy=\"797.719\" r=\"14.4\" fill=\"#009af9\" fill-rule=\"evenodd\" fill-opacity=\"1\" stroke=\"#000000\" stroke-opacity=\"1\" stroke-width=\"3.2\"/>\n<circle clip-path=\"url(#clip892)\" cx=\"2226.56\" cy=\"896.687\" r=\"14.4\" fill=\"#009af9\" fill-rule=\"evenodd\" fill-opacity=\"1\" stroke=\"#000000\" stroke-opacity=\"1\" stroke-width=\"3.2\"/>\n<circle clip-path=\"url(#clip892)\" cx=\"2232.62\" cy=\"948.776\" r=\"14.4\" fill=\"#009af9\" fill-rule=\"evenodd\" fill-opacity=\"1\" stroke=\"#000000\" stroke-opacity=\"1\" stroke-width=\"3.2\"/>\n<circle clip-path=\"url(#clip892)\" cx=\"2238.67\" cy=\"780.008\" r=\"14.4\" fill=\"#009af9\" fill-rule=\"evenodd\" fill-opacity=\"1\" stroke=\"#000000\" stroke-opacity=\"1\" stroke-width=\"3.2\"/>\n<circle clip-path=\"url(#clip892)\" cx=\"2244.73\" cy=\"753.964\" r=\"14.4\" fill=\"#009af9\" fill-rule=\"evenodd\" fill-opacity=\"1\" stroke=\"#000000\" stroke-opacity=\"1\" stroke-width=\"3.2\"/>\n<circle clip-path=\"url(#clip892)\" cx=\"2250.79\" cy=\"923.773\" r=\"14.4\" fill=\"#009af9\" fill-rule=\"evenodd\" fill-opacity=\"1\" stroke=\"#000000\" stroke-opacity=\"1\" stroke-width=\"3.2\"/>\n<circle clip-path=\"url(#clip892)\" cx=\"2256.84\" cy=\"859.183\" r=\"14.4\" fill=\"#009af9\" fill-rule=\"evenodd\" fill-opacity=\"1\" stroke=\"#000000\" stroke-opacity=\"1\" stroke-width=\"3.2\"/>\n<circle clip-path=\"url(#clip892)\" cx=\"2262.9\" cy=\"805.011\" r=\"14.4\" fill=\"#009af9\" fill-rule=\"evenodd\" fill-opacity=\"1\" stroke=\"#000000\" stroke-opacity=\"1\" stroke-width=\"3.2\"/>\n<circle clip-path=\"url(#clip892)\" cx=\"2268.95\" cy=\"733.128\" r=\"14.4\" fill=\"#009af9\" fill-rule=\"evenodd\" fill-opacity=\"1\" stroke=\"#000000\" stroke-opacity=\"1\" stroke-width=\"3.2\"/>\n<circle clip-path=\"url(#clip892)\" cx=\"2275.01\" cy=\"966.486\" r=\"14.4\" fill=\"#009af9\" fill-rule=\"evenodd\" fill-opacity=\"1\" stroke=\"#000000\" stroke-opacity=\"1\" stroke-width=\"3.2\"/>\n<circle clip-path=\"url(#clip892)\" cx=\"2281.06\" cy=\"946.692\" r=\"14.4\" fill=\"#009af9\" fill-rule=\"evenodd\" fill-opacity=\"1\" stroke=\"#000000\" stroke-opacity=\"1\" stroke-width=\"3.2\"/>\n<circle clip-path=\"url(#clip892)\" cx=\"2287.12\" cy=\"825.846\" r=\"14.4\" fill=\"#009af9\" fill-rule=\"evenodd\" fill-opacity=\"1\" stroke=\"#000000\" stroke-opacity=\"1\" stroke-width=\"3.2\"/>\n<circle clip-path=\"url(#clip892)\" cx=\"2293.17\" cy=\"961.277\" r=\"14.4\" fill=\"#009af9\" fill-rule=\"evenodd\" fill-opacity=\"1\" stroke=\"#000000\" stroke-opacity=\"1\" stroke-width=\"3.2\"/>\n</svg>\n"
     },
     "execution_count": 120,
     "metadata": {},
     "output_type": "execute_result"
    }
   ],
   "source": [
    "scatter(df.\"Vmag\",xlabel=\"sample ID\", ylabel=\"Vmag\", label=false)"
   ]
  },
  {
   "cell_type": "code",
   "execution_count": 121,
   "metadata": {},
   "outputs": [
    {
     "data": {
      "image/svg+xml": "<?xml version=\"1.0\" encoding=\"utf-8\"?>\n<svg xmlns=\"http://www.w3.org/2000/svg\" xmlns:xlink=\"http://www.w3.org/1999/xlink\" width=\"600\" height=\"400\" viewBox=\"0 0 2400 1600\">\n<defs>\n  <clipPath id=\"clip930\">\n    <rect x=\"0\" y=\"0\" width=\"2400\" height=\"1600\"/>\n  </clipPath>\n</defs>\n<path clip-path=\"url(#clip930)\" d=\"\nM0 1600 L2400 1600 L2400 0 L0 0  Z\n  \" fill=\"#ffffff\" fill-rule=\"evenodd\" fill-opacity=\"1\"/>\n<defs>\n  <clipPath id=\"clip931\">\n    <rect x=\"480\" y=\"0\" width=\"1681\" height=\"1600\"/>\n  </clipPath>\n</defs>\n<path clip-path=\"url(#clip930)\" d=\"\nM205.121 1423.18 L2352.76 1423.18 L2352.76 47.2441 L205.121 47.2441  Z\n  \" fill=\"#ffffff\" fill-rule=\"evenodd\" fill-opacity=\"1\"/>\n<defs>\n  <clipPath id=\"clip932\">\n    <rect x=\"205\" y=\"47\" width=\"2149\" height=\"1377\"/>\n  </clipPath>\n</defs>\n<polyline clip-path=\"url(#clip932)\" style=\"stroke:#000000; stroke-linecap:butt; stroke-linejoin:round; stroke-width:2; stroke-opacity:0.1; fill:none\" points=\"\n  543.789,1423.18 543.789,47.2441 \n  \"/>\n<polyline clip-path=\"url(#clip932)\" style=\"stroke:#000000; stroke-linecap:butt; stroke-linejoin:round; stroke-width:2; stroke-opacity:0.1; fill:none\" points=\"\n  911.364,1423.18 911.364,47.2441 \n  \"/>\n<polyline clip-path=\"url(#clip932)\" style=\"stroke:#000000; stroke-linecap:butt; stroke-linejoin:round; stroke-width:2; stroke-opacity:0.1; fill:none\" points=\"\n  1278.94,1423.18 1278.94,47.2441 \n  \"/>\n<polyline clip-path=\"url(#clip932)\" style=\"stroke:#000000; stroke-linecap:butt; stroke-linejoin:round; stroke-width:2; stroke-opacity:0.1; fill:none\" points=\"\n  1646.51,1423.18 1646.51,47.2441 \n  \"/>\n<polyline clip-path=\"url(#clip932)\" style=\"stroke:#000000; stroke-linecap:butt; stroke-linejoin:round; stroke-width:2; stroke-opacity:0.1; fill:none\" points=\"\n  2014.09,1423.18 2014.09,47.2441 \n  \"/>\n<polyline clip-path=\"url(#clip930)\" style=\"stroke:#000000; stroke-linecap:butt; stroke-linejoin:round; stroke-width:4; stroke-opacity:1; fill:none\" points=\"\n  205.121,1423.18 2352.76,1423.18 \n  \"/>\n<polyline clip-path=\"url(#clip930)\" style=\"stroke:#000000; stroke-linecap:butt; stroke-linejoin:round; stroke-width:4; stroke-opacity:1; fill:none\" points=\"\n  543.789,1423.18 543.789,1404.28 \n  \"/>\n<polyline clip-path=\"url(#clip930)\" style=\"stroke:#000000; stroke-linecap:butt; stroke-linejoin:round; stroke-width:4; stroke-opacity:1; fill:none\" points=\"\n  911.364,1423.18 911.364,1404.28 \n  \"/>\n<polyline clip-path=\"url(#clip930)\" style=\"stroke:#000000; stroke-linecap:butt; stroke-linejoin:round; stroke-width:4; stroke-opacity:1; fill:none\" points=\"\n  1278.94,1423.18 1278.94,1404.28 \n  \"/>\n<polyline clip-path=\"url(#clip930)\" style=\"stroke:#000000; stroke-linecap:butt; stroke-linejoin:round; stroke-width:4; stroke-opacity:1; fill:none\" points=\"\n  1646.51,1423.18 1646.51,1404.28 \n  \"/>\n<polyline clip-path=\"url(#clip930)\" style=\"stroke:#000000; stroke-linecap:butt; stroke-linejoin:round; stroke-width:4; stroke-opacity:1; fill:none\" points=\"\n  2014.09,1423.18 2014.09,1404.28 \n  \"/>\n<path clip-path=\"url(#clip930)\" d=\"M521.174 1454.1 Q517.563 1454.1 515.734 1457.66 Q513.928 1461.2 513.928 1468.33 Q513.928 1475.44 515.734 1479.01 Q517.563 1482.55 521.174 1482.55 Q524.808 1482.55 526.614 1479.01 Q528.442 1475.44 528.442 1468.33 Q528.442 1461.2 526.614 1457.66 Q524.808 1454.1 521.174 1454.1 M521.174 1450.39 Q526.984 1450.39 530.039 1455 Q533.118 1459.58 533.118 1468.33 Q533.118 1477.06 530.039 1481.67 Q526.984 1486.25 521.174 1486.25 Q515.364 1486.25 512.285 1481.67 Q509.229 1477.06 509.229 1468.33 Q509.229 1459.58 512.285 1455 Q515.364 1450.39 521.174 1450.39 Z\" fill=\"#000000\" fill-rule=\"evenodd\" fill-opacity=\"1\" /><path clip-path=\"url(#clip930)\" d=\"M541.336 1479.7 L546.22 1479.7 L546.22 1485.58 L541.336 1485.58 L541.336 1479.7 Z\" fill=\"#000000\" fill-rule=\"evenodd\" fill-opacity=\"1\" /><path clip-path=\"url(#clip930)\" d=\"M566.405 1454.1 Q562.794 1454.1 560.965 1457.66 Q559.16 1461.2 559.16 1468.33 Q559.16 1475.44 560.965 1479.01 Q562.794 1482.55 566.405 1482.55 Q570.039 1482.55 571.845 1479.01 Q573.674 1475.44 573.674 1468.33 Q573.674 1461.2 571.845 1457.66 Q570.039 1454.1 566.405 1454.1 M566.405 1450.39 Q572.215 1450.39 575.271 1455 Q578.349 1459.58 578.349 1468.33 Q578.349 1477.06 575.271 1481.67 Q572.215 1486.25 566.405 1486.25 Q560.595 1486.25 557.516 1481.67 Q554.461 1477.06 554.461 1468.33 Q554.461 1459.58 557.516 1455 Q560.595 1450.39 566.405 1450.39 Z\" fill=\"#000000\" fill-rule=\"evenodd\" fill-opacity=\"1\" /><path clip-path=\"url(#clip930)\" d=\"M883.1 1481.64 L899.42 1481.64 L899.42 1485.58 L877.475 1485.58 L877.475 1481.64 Q880.137 1478.89 884.721 1474.26 Q889.327 1469.61 890.508 1468.27 Q892.753 1465.74 893.633 1464.01 Q894.535 1462.25 894.535 1460.56 Q894.535 1457.8 892.591 1456.07 Q890.67 1454.33 887.568 1454.33 Q885.369 1454.33 882.915 1455.09 Q880.484 1455.86 877.707 1457.41 L877.707 1452.69 Q880.531 1451.55 882.984 1450.97 Q885.438 1450.39 887.475 1450.39 Q892.846 1450.39 896.04 1453.08 Q899.234 1455.77 899.234 1460.26 Q899.234 1462.39 898.424 1464.31 Q897.637 1466.2 895.531 1468.8 Q894.952 1469.47 891.85 1472.69 Q888.748 1475.88 883.1 1481.64 Z\" fill=\"#000000\" fill-rule=\"evenodd\" fill-opacity=\"1\" /><path clip-path=\"url(#clip930)\" d=\"M909.234 1479.7 L914.119 1479.7 L914.119 1485.58 L909.234 1485.58 L909.234 1479.7 Z\" fill=\"#000000\" fill-rule=\"evenodd\" fill-opacity=\"1\" /><path clip-path=\"url(#clip930)\" d=\"M924.35 1451.02 L942.706 1451.02 L942.706 1454.96 L928.632 1454.96 L928.632 1463.43 Q929.651 1463.08 930.669 1462.92 Q931.688 1462.73 932.706 1462.73 Q938.493 1462.73 941.873 1465.9 Q945.253 1469.08 945.253 1474.49 Q945.253 1480.07 941.78 1483.17 Q938.308 1486.25 931.989 1486.25 Q929.813 1486.25 927.544 1485.88 Q925.299 1485.51 922.892 1484.77 L922.892 1480.07 Q924.975 1481.2 927.197 1481.76 Q929.419 1482.32 931.896 1482.32 Q935.901 1482.32 938.239 1480.21 Q940.577 1478.1 940.577 1474.49 Q940.577 1470.88 938.239 1468.77 Q935.901 1466.67 931.896 1466.67 Q930.021 1466.67 928.146 1467.08 Q926.294 1467.5 924.35 1468.38 L924.35 1451.02 Z\" fill=\"#000000\" fill-rule=\"evenodd\" fill-opacity=\"1\" /><path clip-path=\"url(#clip930)\" d=\"M1246.1 1451.02 L1264.46 1451.02 L1264.46 1454.96 L1250.39 1454.96 L1250.39 1463.43 Q1251.4 1463.08 1252.42 1462.92 Q1253.44 1462.73 1254.46 1462.73 Q1260.25 1462.73 1263.63 1465.9 Q1267.01 1469.08 1267.01 1474.49 Q1267.01 1480.07 1263.53 1483.17 Q1260.06 1486.25 1253.74 1486.25 Q1251.57 1486.25 1249.3 1485.88 Q1247.05 1485.51 1244.64 1484.77 L1244.64 1480.07 Q1246.73 1481.2 1248.95 1481.76 Q1251.17 1482.32 1253.65 1482.32 Q1257.65 1482.32 1259.99 1480.21 Q1262.33 1478.1 1262.33 1474.49 Q1262.33 1470.88 1259.99 1468.77 Q1257.65 1466.67 1253.65 1466.67 Q1251.77 1466.67 1249.9 1467.08 Q1248.05 1467.5 1246.1 1468.38 L1246.1 1451.02 Z\" fill=\"#000000\" fill-rule=\"evenodd\" fill-opacity=\"1\" /><path clip-path=\"url(#clip930)\" d=\"M1276.22 1479.7 L1281.1 1479.7 L1281.1 1485.58 L1276.22 1485.58 L1276.22 1479.7 Z\" fill=\"#000000\" fill-rule=\"evenodd\" fill-opacity=\"1\" /><path clip-path=\"url(#clip930)\" d=\"M1301.29 1454.1 Q1297.68 1454.1 1295.85 1457.66 Q1294.04 1461.2 1294.04 1468.33 Q1294.04 1475.44 1295.85 1479.01 Q1297.68 1482.55 1301.29 1482.55 Q1304.92 1482.55 1306.73 1479.01 Q1308.56 1475.44 1308.56 1468.33 Q1308.56 1461.2 1306.73 1457.66 Q1304.92 1454.1 1301.29 1454.1 M1301.29 1450.39 Q1307.1 1450.39 1310.15 1455 Q1313.23 1459.58 1313.23 1468.33 Q1313.23 1477.06 1310.15 1481.67 Q1307.1 1486.25 1301.29 1486.25 Q1295.48 1486.25 1292.4 1481.67 Q1289.34 1477.06 1289.34 1468.33 Q1289.34 1459.58 1292.4 1455 Q1295.48 1450.39 1301.29 1450.39 Z\" fill=\"#000000\" fill-rule=\"evenodd\" fill-opacity=\"1\" /><path clip-path=\"url(#clip930)\" d=\"M1612.83 1451.02 L1635.05 1451.02 L1635.05 1453.01 L1622.51 1485.58 L1617.62 1485.58 L1629.43 1454.96 L1612.83 1454.96 L1612.83 1451.02 Z\" fill=\"#000000\" fill-rule=\"evenodd\" fill-opacity=\"1\" /><path clip-path=\"url(#clip930)\" d=\"M1644.17 1479.7 L1649.06 1479.7 L1649.06 1485.58 L1644.17 1485.58 L1644.17 1479.7 Z\" fill=\"#000000\" fill-rule=\"evenodd\" fill-opacity=\"1\" /><path clip-path=\"url(#clip930)\" d=\"M1659.29 1451.02 L1677.65 1451.02 L1677.65 1454.96 L1663.57 1454.96 L1663.57 1463.43 Q1664.59 1463.08 1665.61 1462.92 Q1666.63 1462.73 1667.65 1462.73 Q1673.43 1462.73 1676.81 1465.9 Q1680.19 1469.08 1680.19 1474.49 Q1680.19 1480.07 1676.72 1483.17 Q1673.25 1486.25 1666.93 1486.25 Q1664.75 1486.25 1662.49 1485.88 Q1660.24 1485.51 1657.83 1484.77 L1657.83 1480.07 Q1659.92 1481.2 1662.14 1481.76 Q1664.36 1482.32 1666.84 1482.32 Q1670.84 1482.32 1673.18 1480.21 Q1675.52 1478.1 1675.52 1474.49 Q1675.52 1470.88 1673.18 1468.77 Q1670.84 1466.67 1666.84 1466.67 Q1664.96 1466.67 1663.09 1467.08 Q1661.24 1467.5 1659.29 1468.38 L1659.29 1451.02 Z\" fill=\"#000000\" fill-rule=\"evenodd\" fill-opacity=\"1\" /><path clip-path=\"url(#clip930)\" d=\"M1966.16 1481.64 L1973.8 1481.64 L1973.8 1455.28 L1965.49 1456.95 L1965.49 1452.69 L1973.75 1451.02 L1978.43 1451.02 L1978.43 1481.64 L1986.07 1481.64 L1986.07 1485.58 L1966.16 1485.58 L1966.16 1481.64 Z\" fill=\"#000000\" fill-rule=\"evenodd\" fill-opacity=\"1\" /><path clip-path=\"url(#clip930)\" d=\"M2005.51 1454.1 Q2001.9 1454.1 2000.07 1457.66 Q1998.27 1461.2 1998.27 1468.33 Q1998.27 1475.44 2000.07 1479.01 Q2001.9 1482.55 2005.51 1482.55 Q2009.15 1482.55 2010.95 1479.01 Q2012.78 1475.44 2012.78 1468.33 Q2012.78 1461.2 2010.95 1457.66 Q2009.15 1454.1 2005.51 1454.1 M2005.51 1450.39 Q2011.32 1450.39 2014.38 1455 Q2017.46 1459.58 2017.46 1468.33 Q2017.46 1477.06 2014.38 1481.67 Q2011.32 1486.25 2005.51 1486.25 Q1999.7 1486.25 1996.62 1481.67 Q1993.57 1477.06 1993.57 1468.33 Q1993.57 1459.58 1996.62 1455 Q1999.7 1450.39 2005.51 1450.39 Z\" fill=\"#000000\" fill-rule=\"evenodd\" fill-opacity=\"1\" /><path clip-path=\"url(#clip930)\" d=\"M2025.67 1479.7 L2030.56 1479.7 L2030.56 1485.58 L2025.67 1485.58 L2025.67 1479.7 Z\" fill=\"#000000\" fill-rule=\"evenodd\" fill-opacity=\"1\" /><path clip-path=\"url(#clip930)\" d=\"M2050.74 1454.1 Q2047.13 1454.1 2045.3 1457.66 Q2043.5 1461.2 2043.5 1468.33 Q2043.5 1475.44 2045.3 1479.01 Q2047.13 1482.55 2050.74 1482.55 Q2054.38 1482.55 2056.18 1479.01 Q2058.01 1475.44 2058.01 1468.33 Q2058.01 1461.2 2056.18 1457.66 Q2054.38 1454.1 2050.74 1454.1 M2050.74 1450.39 Q2056.55 1450.39 2059.61 1455 Q2062.69 1459.58 2062.69 1468.33 Q2062.69 1477.06 2059.61 1481.67 Q2056.55 1486.25 2050.74 1486.25 Q2044.93 1486.25 2041.85 1481.67 Q2038.8 1477.06 2038.8 1468.33 Q2038.8 1459.58 2041.85 1455 Q2044.93 1450.39 2050.74 1450.39 Z\" fill=\"#000000\" fill-rule=\"evenodd\" fill-opacity=\"1\" /><path clip-path=\"url(#clip930)\" d=\"M1205.59 1568.04 L1187.45 1520.52 L1194.16 1520.52 L1209.22 1560.53 L1224.3 1520.52 L1230.99 1520.52 L1212.88 1568.04 L1205.59 1568.04 Z\" fill=\"#000000\" fill-rule=\"evenodd\" fill-opacity=\"1\" /><path clip-path=\"url(#clip930)\" d=\"M1265.43 1539.24 Q1267.62 1535.29 1270.68 1533.41 Q1273.73 1531.54 1277.87 1531.54 Q1283.44 1531.54 1286.47 1535.45 Q1289.49 1539.33 1289.49 1546.53 L1289.49 1568.04 L1283.6 1568.04 L1283.6 1546.72 Q1283.6 1541.59 1281.79 1539.11 Q1279.97 1536.63 1276.25 1536.63 Q1271.7 1536.63 1269.06 1539.65 Q1266.41 1542.68 1266.41 1547.9 L1266.41 1568.04 L1260.53 1568.04 L1260.53 1546.72 Q1260.53 1541.56 1258.71 1539.11 Q1256.9 1536.63 1253.11 1536.63 Q1248.62 1536.63 1245.98 1539.68 Q1243.34 1542.71 1243.34 1547.9 L1243.34 1568.04 L1237.45 1568.04 L1237.45 1532.4 L1243.34 1532.4 L1243.34 1537.93 Q1245.34 1534.66 1248.14 1533.1 Q1250.95 1531.54 1254.8 1531.54 Q1258.68 1531.54 1261.39 1533.51 Q1264.12 1535.48 1265.43 1539.24 Z\" fill=\"#000000\" fill-rule=\"evenodd\" fill-opacity=\"1\" /><path clip-path=\"url(#clip930)\" d=\"M1317.37 1550.12 Q1310.27 1550.12 1307.54 1551.75 Q1304.8 1553.37 1304.8 1557.29 Q1304.8 1560.4 1306.84 1562.25 Q1308.91 1564.07 1312.44 1564.07 Q1317.31 1564.07 1320.24 1560.63 Q1323.2 1557.16 1323.2 1551.43 L1323.2 1550.12 L1317.37 1550.12 M1329.05 1547.71 L1329.05 1568.04 L1323.2 1568.04 L1323.2 1562.63 Q1321.19 1565.88 1318.2 1567.44 Q1315.21 1568.97 1310.88 1568.97 Q1305.4 1568.97 1302.16 1565.91 Q1298.94 1562.82 1298.94 1557.67 Q1298.94 1551.65 1302.95 1548.6 Q1307 1545.54 1314.98 1545.54 L1323.2 1545.54 L1323.2 1544.97 Q1323.2 1540.93 1320.52 1538.73 Q1317.88 1536.5 1313.07 1536.5 Q1310.02 1536.5 1307.12 1537.23 Q1304.23 1537.97 1301.55 1539.43 L1301.55 1534.02 Q1304.77 1532.78 1307.79 1532.17 Q1310.81 1531.54 1313.68 1531.54 Q1321.41 1531.54 1325.23 1535.55 Q1329.05 1539.56 1329.05 1547.71 Z\" fill=\"#000000\" fill-rule=\"evenodd\" fill-opacity=\"1\" /><path clip-path=\"url(#clip930)\" d=\"M1364.57 1549.81 Q1364.57 1543.44 1361.93 1539.94 Q1359.32 1536.44 1354.58 1536.44 Q1349.87 1536.44 1347.23 1539.94 Q1344.62 1543.44 1344.62 1549.81 Q1344.62 1556.14 1347.23 1559.64 Q1349.87 1563.14 1354.58 1563.14 Q1359.32 1563.14 1361.93 1559.64 Q1364.57 1556.14 1364.57 1549.81 M1370.43 1563.62 Q1370.43 1572.72 1366.39 1577.15 Q1362.35 1581.6 1354.01 1581.6 Q1350.92 1581.6 1348.18 1581.13 Q1345.44 1580.68 1342.87 1579.72 L1342.87 1574.03 Q1345.44 1575.43 1347.96 1576.1 Q1350.47 1576.76 1353.08 1576.76 Q1358.84 1576.76 1361.71 1573.74 Q1364.57 1570.75 1364.57 1564.67 L1364.57 1561.77 Q1362.76 1564.92 1359.93 1566.48 Q1357.09 1568.04 1353.15 1568.04 Q1346.59 1568.04 1342.58 1563.05 Q1338.57 1558.05 1338.57 1549.81 Q1338.57 1541.53 1342.58 1536.53 Q1346.59 1531.54 1353.15 1531.54 Q1357.09 1531.54 1359.93 1533.1 Q1362.76 1534.66 1364.57 1537.81 L1364.57 1532.4 L1370.43 1532.4 L1370.43 1563.62 Z\" fill=\"#000000\" fill-rule=\"evenodd\" fill-opacity=\"1\" /><polyline clip-path=\"url(#clip932)\" style=\"stroke:#000000; stroke-linecap:butt; stroke-linejoin:round; stroke-width:2; stroke-opacity:0.1; fill:none\" points=\"\n  205.121,1384.24 2352.76,1384.24 \n  \"/>\n<polyline clip-path=\"url(#clip932)\" style=\"stroke:#000000; stroke-linecap:butt; stroke-linejoin:round; stroke-width:2; stroke-opacity:0.1; fill:none\" points=\"\n  205.121,1156.51 2352.76,1156.51 \n  \"/>\n<polyline clip-path=\"url(#clip932)\" style=\"stroke:#000000; stroke-linecap:butt; stroke-linejoin:round; stroke-width:2; stroke-opacity:0.1; fill:none\" points=\"\n  205.121,928.781 2352.76,928.781 \n  \"/>\n<polyline clip-path=\"url(#clip932)\" style=\"stroke:#000000; stroke-linecap:butt; stroke-linejoin:round; stroke-width:2; stroke-opacity:0.1; fill:none\" points=\"\n  205.121,701.053 2352.76,701.053 \n  \"/>\n<polyline clip-path=\"url(#clip932)\" style=\"stroke:#000000; stroke-linecap:butt; stroke-linejoin:round; stroke-width:2; stroke-opacity:0.1; fill:none\" points=\"\n  205.121,473.324 2352.76,473.324 \n  \"/>\n<polyline clip-path=\"url(#clip932)\" style=\"stroke:#000000; stroke-linecap:butt; stroke-linejoin:round; stroke-width:2; stroke-opacity:0.1; fill:none\" points=\"\n  205.121,245.596 2352.76,245.596 \n  \"/>\n<polyline clip-path=\"url(#clip930)\" style=\"stroke:#000000; stroke-linecap:butt; stroke-linejoin:round; stroke-width:4; stroke-opacity:1; fill:none\" points=\"\n  205.121,1423.18 205.121,47.2441 \n  \"/>\n<polyline clip-path=\"url(#clip930)\" style=\"stroke:#000000; stroke-linecap:butt; stroke-linejoin:round; stroke-width:4; stroke-opacity:1; fill:none\" points=\"\n  205.121,1384.24 224.019,1384.24 \n  \"/>\n<polyline clip-path=\"url(#clip930)\" style=\"stroke:#000000; stroke-linecap:butt; stroke-linejoin:round; stroke-width:4; stroke-opacity:1; fill:none\" points=\"\n  205.121,1156.51 224.019,1156.51 \n  \"/>\n<polyline clip-path=\"url(#clip930)\" style=\"stroke:#000000; stroke-linecap:butt; stroke-linejoin:round; stroke-width:4; stroke-opacity:1; fill:none\" points=\"\n  205.121,928.781 224.019,928.781 \n  \"/>\n<polyline clip-path=\"url(#clip930)\" style=\"stroke:#000000; stroke-linecap:butt; stroke-linejoin:round; stroke-width:4; stroke-opacity:1; fill:none\" points=\"\n  205.121,701.053 224.019,701.053 \n  \"/>\n<polyline clip-path=\"url(#clip930)\" style=\"stroke:#000000; stroke-linecap:butt; stroke-linejoin:round; stroke-width:4; stroke-opacity:1; fill:none\" points=\"\n  205.121,473.324 224.019,473.324 \n  \"/>\n<polyline clip-path=\"url(#clip930)\" style=\"stroke:#000000; stroke-linecap:butt; stroke-linejoin:round; stroke-width:4; stroke-opacity:1; fill:none\" points=\"\n  205.121,245.596 224.019,245.596 \n  \"/>\n<path clip-path=\"url(#clip930)\" d=\"M157.177 1370.04 Q153.566 1370.04 151.737 1373.6 Q149.931 1377.14 149.931 1384.27 Q149.931 1391.38 151.737 1394.94 Q153.566 1398.49 157.177 1398.49 Q160.811 1398.49 162.616 1394.94 Q164.445 1391.38 164.445 1384.27 Q164.445 1377.14 162.616 1373.6 Q160.811 1370.04 157.177 1370.04 M157.177 1366.33 Q162.987 1366.33 166.042 1370.94 Q169.121 1375.52 169.121 1384.27 Q169.121 1393 166.042 1397.61 Q162.987 1402.19 157.177 1402.19 Q151.366 1402.19 148.288 1397.61 Q145.232 1393 145.232 1384.27 Q145.232 1375.52 148.288 1370.94 Q151.366 1366.33 157.177 1366.33 Z\" fill=\"#000000\" fill-rule=\"evenodd\" fill-opacity=\"1\" /><path clip-path=\"url(#clip930)\" d=\"M117.825 1169.85 L125.464 1169.85 L125.464 1143.49 L117.154 1145.16 L117.154 1140.9 L125.418 1139.23 L130.093 1139.23 L130.093 1169.85 L137.732 1169.85 L137.732 1173.79 L117.825 1173.79 L117.825 1169.85 Z\" fill=\"#000000\" fill-rule=\"evenodd\" fill-opacity=\"1\" /><path clip-path=\"url(#clip930)\" d=\"M157.177 1142.31 Q153.566 1142.31 151.737 1145.87 Q149.931 1149.41 149.931 1156.54 Q149.931 1163.65 151.737 1167.22 Q153.566 1170.76 157.177 1170.76 Q160.811 1170.76 162.616 1167.22 Q164.445 1163.65 164.445 1156.54 Q164.445 1149.41 162.616 1145.87 Q160.811 1142.31 157.177 1142.31 M157.177 1138.6 Q162.987 1138.6 166.042 1143.21 Q169.121 1147.79 169.121 1156.54 Q169.121 1165.27 166.042 1169.88 Q162.987 1174.46 157.177 1174.46 Q151.366 1174.46 148.288 1169.88 Q145.232 1165.27 145.232 1156.54 Q145.232 1147.79 148.288 1143.21 Q151.366 1138.6 157.177 1138.6 Z\" fill=\"#000000\" fill-rule=\"evenodd\" fill-opacity=\"1\" /><path clip-path=\"url(#clip930)\" d=\"M121.043 942.126 L137.362 942.126 L137.362 946.061 L115.418 946.061 L115.418 942.126 Q118.08 939.371 122.663 934.742 Q127.269 930.089 128.45 928.746 Q130.695 926.223 131.575 924.487 Q132.478 922.728 132.478 921.038 Q132.478 918.284 130.533 916.547 Q128.612 914.811 125.51 914.811 Q123.311 914.811 120.857 915.575 Q118.427 916.339 115.649 917.89 L115.649 913.168 Q118.473 912.034 120.927 911.455 Q123.38 910.876 125.418 910.876 Q130.788 910.876 133.982 913.561 Q137.177 916.247 137.177 920.737 Q137.177 922.867 136.367 924.788 Q135.579 926.686 133.473 929.279 Q132.894 929.95 129.792 933.168 Q126.691 936.362 121.043 942.126 Z\" fill=\"#000000\" fill-rule=\"evenodd\" fill-opacity=\"1\" /><path clip-path=\"url(#clip930)\" d=\"M157.177 914.58 Q153.566 914.58 151.737 918.145 Q149.931 921.686 149.931 928.816 Q149.931 935.922 151.737 939.487 Q153.566 943.029 157.177 943.029 Q160.811 943.029 162.616 939.487 Q164.445 935.922 164.445 928.816 Q164.445 921.686 162.616 918.145 Q160.811 914.58 157.177 914.58 M157.177 910.876 Q162.987 910.876 166.042 915.483 Q169.121 920.066 169.121 928.816 Q169.121 937.543 166.042 942.149 Q162.987 946.733 157.177 946.733 Q151.366 946.733 148.288 942.149 Q145.232 937.543 145.232 928.816 Q145.232 920.066 148.288 915.483 Q151.366 910.876 157.177 910.876 Z\" fill=\"#000000\" fill-rule=\"evenodd\" fill-opacity=\"1\" /><path clip-path=\"url(#clip930)\" d=\"M131.181 699.699 Q134.538 700.416 136.413 702.685 Q138.311 704.953 138.311 708.286 Q138.311 713.402 134.792 716.203 Q131.274 719.004 124.793 719.004 Q122.617 719.004 120.302 718.564 Q118.01 718.148 115.556 717.291 L115.556 712.777 Q117.501 713.911 119.816 714.49 Q122.13 715.069 124.654 715.069 Q129.052 715.069 131.343 713.333 Q133.658 711.597 133.658 708.286 Q133.658 705.231 131.505 703.518 Q129.376 701.782 125.556 701.782 L121.529 701.782 L121.529 697.939 L125.742 697.939 Q129.191 697.939 131.019 696.574 Q132.848 695.185 132.848 692.592 Q132.848 689.93 130.95 688.518 Q129.075 687.083 125.556 687.083 Q123.635 687.083 121.436 687.5 Q119.237 687.916 116.598 688.796 L116.598 684.629 Q119.26 683.888 121.575 683.518 Q123.913 683.148 125.973 683.148 Q131.297 683.148 134.399 685.578 Q137.501 687.986 137.501 692.106 Q137.501 694.976 135.857 696.967 Q134.214 698.935 131.181 699.699 Z\" fill=\"#000000\" fill-rule=\"evenodd\" fill-opacity=\"1\" /><path clip-path=\"url(#clip930)\" d=\"M157.177 686.851 Q153.566 686.851 151.737 690.416 Q149.931 693.958 149.931 701.087 Q149.931 708.194 151.737 711.759 Q153.566 715.3 157.177 715.3 Q160.811 715.3 162.616 711.759 Q164.445 708.194 164.445 701.087 Q164.445 693.958 162.616 690.416 Q160.811 686.851 157.177 686.851 M157.177 683.148 Q162.987 683.148 166.042 687.754 Q169.121 692.337 169.121 701.087 Q169.121 709.814 166.042 714.421 Q162.987 719.004 157.177 719.004 Q151.366 719.004 148.288 714.421 Q145.232 709.814 145.232 701.087 Q145.232 692.337 148.288 687.754 Q151.366 683.148 157.177 683.148 Z\" fill=\"#000000\" fill-rule=\"evenodd\" fill-opacity=\"1\" /><path clip-path=\"url(#clip930)\" d=\"M129.862 460.118 L118.056 478.567 L129.862 478.567 L129.862 460.118 M128.635 456.044 L134.515 456.044 L134.515 478.567 L139.445 478.567 L139.445 482.456 L134.515 482.456 L134.515 490.604 L129.862 490.604 L129.862 482.456 L114.26 482.456 L114.26 477.942 L128.635 456.044 Z\" fill=\"#000000\" fill-rule=\"evenodd\" fill-opacity=\"1\" /><path clip-path=\"url(#clip930)\" d=\"M157.177 459.123 Q153.566 459.123 151.737 462.688 Q149.931 466.229 149.931 473.359 Q149.931 480.465 151.737 484.03 Q153.566 487.572 157.177 487.572 Q160.811 487.572 162.616 484.03 Q164.445 480.465 164.445 473.359 Q164.445 466.229 162.616 462.688 Q160.811 459.123 157.177 459.123 M157.177 455.419 Q162.987 455.419 166.042 460.026 Q169.121 464.609 169.121 473.359 Q169.121 482.086 166.042 486.692 Q162.987 491.275 157.177 491.275 Q151.366 491.275 148.288 486.692 Q145.232 482.086 145.232 473.359 Q145.232 464.609 148.288 460.026 Q151.366 455.419 157.177 455.419 Z\" fill=\"#000000\" fill-rule=\"evenodd\" fill-opacity=\"1\" /><path clip-path=\"url(#clip930)\" d=\"M117.061 228.316 L135.417 228.316 L135.417 232.251 L121.343 232.251 L121.343 240.723 Q122.362 240.376 123.38 240.214 Q124.399 240.029 125.418 240.029 Q131.205 240.029 134.584 243.2 Q137.964 246.371 137.964 251.788 Q137.964 257.366 134.492 260.468 Q131.019 263.547 124.7 263.547 Q122.524 263.547 120.255 263.177 Q118.01 262.806 115.603 262.065 L115.603 257.366 Q117.686 258.501 119.908 259.056 Q122.13 259.612 124.607 259.612 Q128.612 259.612 130.95 257.505 Q133.288 255.399 133.288 251.788 Q133.288 248.177 130.95 246.07 Q128.612 243.964 124.607 243.964 Q122.732 243.964 120.857 244.38 Q119.006 244.797 117.061 245.677 L117.061 228.316 Z\" fill=\"#000000\" fill-rule=\"evenodd\" fill-opacity=\"1\" /><path clip-path=\"url(#clip930)\" d=\"M157.177 231.394 Q153.566 231.394 151.737 234.959 Q149.931 238.501 149.931 245.63 Q149.931 252.737 151.737 256.302 Q153.566 259.843 157.177 259.843 Q160.811 259.843 162.616 256.302 Q164.445 252.737 164.445 245.63 Q164.445 238.501 162.616 234.959 Q160.811 231.394 157.177 231.394 M157.177 227.691 Q162.987 227.691 166.042 232.297 Q169.121 236.88 169.121 245.63 Q169.121 254.357 166.042 258.964 Q162.987 263.547 157.177 263.547 Q151.366 263.547 148.288 258.964 Q145.232 254.357 145.232 245.63 Q145.232 236.88 148.288 232.297 Q151.366 227.691 157.177 227.691 Z\" fill=\"#000000\" fill-rule=\"evenodd\" fill-opacity=\"1\" /><path clip-path=\"url(#clip930)\" d=\"M29.7248 796.386 L35.1993 796.386 Q33.8307 798.869 33.1623 801.383 Q32.4621 803.866 32.4621 806.412 Q32.4621 812.11 36.0905 815.261 Q39.6872 818.412 46.212 818.412 Q52.7369 818.412 56.3653 815.261 Q59.9619 812.11 59.9619 806.412 Q59.9619 803.866 59.2935 801.383 Q58.5933 798.869 57.2247 796.386 L62.6355 796.386 Q63.7814 798.837 64.3543 801.479 Q64.9272 804.089 64.9272 807.049 Q64.9272 815.102 59.8664 819.844 Q54.8057 824.586 46.212 824.586 Q37.491 824.586 32.4939 819.812 Q27.4968 815.006 27.4968 806.667 Q27.4968 803.962 28.0697 801.383 Q28.6108 798.805 29.7248 796.386 Z\" fill=\"#000000\" fill-rule=\"evenodd\" fill-opacity=\"1\" /><path clip-path=\"url(#clip930)\" d=\"M32.4621 772.388 Q32.4621 777.098 36.1542 779.836 Q39.8145 782.573 46.212 782.573 Q52.6095 782.573 56.3017 779.867 Q59.9619 777.13 59.9619 772.388 Q59.9619 767.709 56.2698 764.972 Q52.5777 762.234 46.212 762.234 Q39.8781 762.234 36.186 764.972 Q32.4621 767.709 32.4621 772.388 M27.4968 772.388 Q27.4968 764.749 32.4621 760.388 Q37.4273 756.028 46.212 756.028 Q54.9649 756.028 59.9619 760.388 Q64.9272 764.749 64.9272 772.388 Q64.9272 780.058 59.9619 784.419 Q54.9649 788.748 46.212 788.748 Q37.4273 788.748 32.4621 784.419 Q27.4968 780.058 27.4968 772.388 Z\" fill=\"#000000\" fill-rule=\"evenodd\" fill-opacity=\"1\" /><path clip-path=\"url(#clip930)\" d=\"M49.9359 746.925 L28.3562 746.925 L28.3562 741.068 L49.7131 741.068 Q54.7739 741.068 57.3202 739.095 Q59.8346 737.122 59.8346 733.175 Q59.8346 728.432 56.8109 725.695 Q53.7872 722.926 48.5673 722.926 L28.3562 722.926 L28.3562 717.07 L64.0042 717.07 L64.0042 722.926 L58.5296 722.926 Q61.7762 725.059 63.3676 727.891 Q64.9272 730.692 64.9272 734.416 Q64.9272 740.559 61.1078 743.742 Q57.2883 746.925 49.9359 746.925 M27.4968 732.188 L27.4968 732.188 Z\" fill=\"#000000\" fill-rule=\"evenodd\" fill-opacity=\"1\" /><path clip-path=\"url(#clip930)\" d=\"M42.4881 675.374 L64.0042 675.374 L64.0042 681.231 L42.679 681.231 Q37.6183 681.231 35.1038 683.204 Q32.5894 685.178 32.5894 689.124 Q32.5894 693.867 35.6131 696.604 Q38.6368 699.341 43.8567 699.341 L64.0042 699.341 L64.0042 705.229 L28.3562 705.229 L28.3562 699.341 L33.8944 699.341 Q30.6797 697.241 29.0883 694.408 Q27.4968 691.543 27.4968 687.819 Q27.4968 681.676 31.3163 678.525 Q35.1038 675.374 42.4881 675.374 Z\" fill=\"#000000\" fill-rule=\"evenodd\" fill-opacity=\"1\" /><path clip-path=\"url(#clip930)\" d=\"M18.2347 657.9 L28.3562 657.9 L28.3562 645.837 L32.9077 645.837 L32.9077 657.9 L52.2594 657.9 Q56.6199 657.9 57.8613 656.723 Q59.1026 655.513 59.1026 651.853 L59.1026 645.837 L64.0042 645.837 L64.0042 651.853 Q64.0042 658.633 61.4897 661.211 Q58.9434 663.789 52.2594 663.789 L32.9077 663.789 L32.9077 668.086 L28.3562 668.086 L28.3562 663.789 L18.2347 663.789 L18.2347 657.9 Z\" fill=\"#000000\" fill-rule=\"evenodd\" fill-opacity=\"1\" /><path clip-path=\"url(#clip932)\" d=\"\nM323.245 1361.47 L323.245 1384.24 L396.76 1384.24 L396.76 1361.47 L323.245 1361.47 L323.245 1361.47  Z\n  \" fill=\"#009af9\" fill-rule=\"evenodd\" fill-opacity=\"1\"/>\n<polyline clip-path=\"url(#clip932)\" style=\"stroke:#000000; stroke-linecap:butt; stroke-linejoin:round; stroke-width:4; stroke-opacity:1; fill:none\" points=\"\n  323.245,1361.47 323.245,1384.24 396.76,1384.24 396.76,1361.47 323.245,1361.47 \n  \"/>\n<path clip-path=\"url(#clip932)\" d=\"\nM396.76 1361.47 L396.76 1384.24 L470.275 1384.24 L470.275 1361.47 L396.76 1361.47 L396.76 1361.47  Z\n  \" fill=\"#009af9\" fill-rule=\"evenodd\" fill-opacity=\"1\"/>\n<polyline clip-path=\"url(#clip932)\" style=\"stroke:#000000; stroke-linecap:butt; stroke-linejoin:round; stroke-width:4; stroke-opacity:1; fill:none\" points=\"\n  396.76,1361.47 396.76,1384.24 470.275,1384.24 470.275,1361.47 396.76,1361.47 \n  \"/>\n<path clip-path=\"url(#clip932)\" d=\"\nM470.275 1338.69 L470.275 1384.24 L543.789 1384.24 L543.789 1338.69 L470.275 1338.69 L470.275 1338.69  Z\n  \" fill=\"#009af9\" fill-rule=\"evenodd\" fill-opacity=\"1\"/>\n<polyline clip-path=\"url(#clip932)\" style=\"stroke:#000000; stroke-linecap:butt; stroke-linejoin:round; stroke-width:4; stroke-opacity:1; fill:none\" points=\"\n  470.275,1338.69 470.275,1384.24 543.789,1384.24 543.789,1338.69 470.275,1338.69 \n  \"/>\n<path clip-path=\"url(#clip932)\" d=\"\nM543.789 1247.6 L543.789 1384.24 L617.304 1384.24 L617.304 1247.6 L543.789 1247.6 L543.789 1247.6  Z\n  \" fill=\"#009af9\" fill-rule=\"evenodd\" fill-opacity=\"1\"/>\n<polyline clip-path=\"url(#clip932)\" style=\"stroke:#000000; stroke-linecap:butt; stroke-linejoin:round; stroke-width:4; stroke-opacity:1; fill:none\" points=\"\n  543.789,1247.6 543.789,1384.24 617.304,1384.24 617.304,1247.6 543.789,1247.6 \n  \"/>\n<path clip-path=\"url(#clip932)\" d=\"\nM617.304 1293.15 L617.304 1384.24 L690.819 1384.24 L690.819 1293.15 L617.304 1293.15 L617.304 1293.15  Z\n  \" fill=\"#009af9\" fill-rule=\"evenodd\" fill-opacity=\"1\"/>\n<polyline clip-path=\"url(#clip932)\" style=\"stroke:#000000; stroke-linecap:butt; stroke-linejoin:round; stroke-width:4; stroke-opacity:1; fill:none\" points=\"\n  617.304,1293.15 617.304,1384.24 690.819,1384.24 690.819,1293.15 617.304,1293.15 \n  \"/>\n<path clip-path=\"url(#clip932)\" d=\"\nM690.819 1224.83 L690.819 1384.24 L764.334 1384.24 L764.334 1224.83 L690.819 1224.83 L690.819 1224.83  Z\n  \" fill=\"#009af9\" fill-rule=\"evenodd\" fill-opacity=\"1\"/>\n<polyline clip-path=\"url(#clip932)\" style=\"stroke:#000000; stroke-linecap:butt; stroke-linejoin:round; stroke-width:4; stroke-opacity:1; fill:none\" points=\"\n  690.819,1224.83 690.819,1384.24 764.334,1384.24 764.334,1224.83 690.819,1224.83 \n  \"/>\n<path clip-path=\"url(#clip932)\" d=\"\nM764.334 837.69 L764.334 1384.24 L837.849 1384.24 L837.849 837.69 L764.334 837.69 L764.334 837.69  Z\n  \" fill=\"#009af9\" fill-rule=\"evenodd\" fill-opacity=\"1\"/>\n<polyline clip-path=\"url(#clip932)\" style=\"stroke:#000000; stroke-linecap:butt; stroke-linejoin:round; stroke-width:4; stroke-opacity:1; fill:none\" points=\"\n  764.334,837.69 764.334,1384.24 837.849,1384.24 837.849,837.69 764.334,837.69 \n  \"/>\n<path clip-path=\"url(#clip932)\" d=\"\nM837.849 496.097 L837.849 1384.24 L911.364 1384.24 L911.364 496.097 L837.849 496.097 L837.849 496.097  Z\n  \" fill=\"#009af9\" fill-rule=\"evenodd\" fill-opacity=\"1\"/>\n<polyline clip-path=\"url(#clip932)\" style=\"stroke:#000000; stroke-linecap:butt; stroke-linejoin:round; stroke-width:4; stroke-opacity:1; fill:none\" points=\"\n  837.849,496.097 837.849,1384.24 911.364,1384.24 911.364,496.097 837.849,496.097 \n  \"/>\n<path clip-path=\"url(#clip932)\" d=\"\nM911.364 245.596 L911.364 1384.24 L984.879 1384.24 L984.879 245.596 L911.364 245.596 L911.364 245.596  Z\n  \" fill=\"#009af9\" fill-rule=\"evenodd\" fill-opacity=\"1\"/>\n<polyline clip-path=\"url(#clip932)\" style=\"stroke:#000000; stroke-linecap:butt; stroke-linejoin:round; stroke-width:4; stroke-opacity:1; fill:none\" points=\"\n  911.364,245.596 911.364,1384.24 984.879,1384.24 984.879,245.596 911.364,245.596 \n  \"/>\n<path clip-path=\"url(#clip932)\" d=\"\nM984.879 336.687 L984.879 1384.24 L1058.39 1384.24 L1058.39 336.687 L984.879 336.687 L984.879 336.687  Z\n  \" fill=\"#009af9\" fill-rule=\"evenodd\" fill-opacity=\"1\"/>\n<polyline clip-path=\"url(#clip932)\" style=\"stroke:#000000; stroke-linecap:butt; stroke-linejoin:round; stroke-width:4; stroke-opacity:1; fill:none\" points=\"\n  984.879,336.687 984.879,1384.24 1058.39,1384.24 1058.39,336.687 984.879,336.687 \n  \"/>\n<path clip-path=\"url(#clip932)\" d=\"\nM1058.39 86.1857 L1058.39 1384.24 L1131.91 1384.24 L1131.91 86.1857 L1058.39 86.1857 L1058.39 86.1857  Z\n  \" fill=\"#009af9\" fill-rule=\"evenodd\" fill-opacity=\"1\"/>\n<polyline clip-path=\"url(#clip932)\" style=\"stroke:#000000; stroke-linecap:butt; stroke-linejoin:round; stroke-width:4; stroke-opacity:1; fill:none\" points=\"\n  1058.39,86.1857 1058.39,1384.24 1131.91,1384.24 1131.91,86.1857 1058.39,86.1857 \n  \"/>\n<path clip-path=\"url(#clip932)\" d=\"\nM1131.91 541.643 L1131.91 1384.24 L1205.42 1384.24 L1205.42 541.643 L1131.91 541.643 L1131.91 541.643  Z\n  \" fill=\"#009af9\" fill-rule=\"evenodd\" fill-opacity=\"1\"/>\n<polyline clip-path=\"url(#clip932)\" style=\"stroke:#000000; stroke-linecap:butt; stroke-linejoin:round; stroke-width:4; stroke-opacity:1; fill:none\" points=\"\n  1131.91,541.643 1131.91,1384.24 1205.42,1384.24 1205.42,541.643 1131.91,541.643 \n  \"/>\n<path clip-path=\"url(#clip932)\" d=\"\nM1205.42 792.144 L1205.42 1384.24 L1278.94 1384.24 L1278.94 792.144 L1205.42 792.144 L1205.42 792.144  Z\n  \" fill=\"#009af9\" fill-rule=\"evenodd\" fill-opacity=\"1\"/>\n<polyline clip-path=\"url(#clip932)\" style=\"stroke:#000000; stroke-linecap:butt; stroke-linejoin:round; stroke-width:4; stroke-opacity:1; fill:none\" points=\"\n  1205.42,792.144 1205.42,1384.24 1278.94,1384.24 1278.94,792.144 1205.42,792.144 \n  \"/>\n<path clip-path=\"url(#clip932)\" d=\"\nM1278.94 1019.87 L1278.94 1384.24 L1352.45 1384.24 L1352.45 1019.87 L1278.94 1019.87 L1278.94 1019.87  Z\n  \" fill=\"#009af9\" fill-rule=\"evenodd\" fill-opacity=\"1\"/>\n<polyline clip-path=\"url(#clip932)\" style=\"stroke:#000000; stroke-linecap:butt; stroke-linejoin:round; stroke-width:4; stroke-opacity:1; fill:none\" points=\"\n  1278.94,1019.87 1278.94,1384.24 1352.45,1384.24 1352.45,1019.87 1278.94,1019.87 \n  \"/>\n<path clip-path=\"url(#clip932)\" d=\"\nM1352.45 1202.06 L1352.45 1384.24 L1425.97 1384.24 L1425.97 1202.06 L1352.45 1202.06 L1352.45 1202.06  Z\n  \" fill=\"#009af9\" fill-rule=\"evenodd\" fill-opacity=\"1\"/>\n<polyline clip-path=\"url(#clip932)\" style=\"stroke:#000000; stroke-linecap:butt; stroke-linejoin:round; stroke-width:4; stroke-opacity:1; fill:none\" points=\"\n  1352.45,1202.06 1352.45,1384.24 1425.97,1384.24 1425.97,1202.06 1352.45,1202.06 \n  \"/>\n<path clip-path=\"url(#clip932)\" d=\"\nM1425.97 1338.69 L1425.97 1384.24 L1499.48 1384.24 L1499.48 1338.69 L1425.97 1338.69 L1425.97 1338.69  Z\n  \" fill=\"#009af9\" fill-rule=\"evenodd\" fill-opacity=\"1\"/>\n<polyline clip-path=\"url(#clip932)\" style=\"stroke:#000000; stroke-linecap:butt; stroke-linejoin:round; stroke-width:4; stroke-opacity:1; fill:none\" points=\"\n  1425.97,1338.69 1425.97,1384.24 1499.48,1384.24 1499.48,1338.69 1425.97,1338.69 \n  \"/>\n<path clip-path=\"url(#clip932)\" d=\"\nM1499.48 1384.24 L1499.48 1384.24 L1573 1384.24 L1573 1384.24 L1499.48 1384.24 L1499.48 1384.24  Z\n  \" fill=\"#009af9\" fill-rule=\"evenodd\" fill-opacity=\"1\"/>\n<polyline clip-path=\"url(#clip932)\" style=\"stroke:#000000; stroke-linecap:butt; stroke-linejoin:round; stroke-width:4; stroke-opacity:1; fill:none\" points=\"\n  1499.48,1384.24 1499.48,1384.24 1573,1384.24 1499.48,1384.24 \n  \"/>\n<path clip-path=\"url(#clip932)\" d=\"\nM1573 1384.24 L1573 1384.24 L1646.51 1384.24 L1646.51 1384.24 L1573 1384.24 L1573 1384.24  Z\n  \" fill=\"#009af9\" fill-rule=\"evenodd\" fill-opacity=\"1\"/>\n<polyline clip-path=\"url(#clip932)\" style=\"stroke:#000000; stroke-linecap:butt; stroke-linejoin:round; stroke-width:4; stroke-opacity:1; fill:none\" points=\"\n  1573,1384.24 1573,1384.24 1646.51,1384.24 1573,1384.24 \n  \"/>\n<path clip-path=\"url(#clip932)\" d=\"\nM1646.51 1384.24 L1646.51 1384.24 L1720.03 1384.24 L1720.03 1384.24 L1646.51 1384.24 L1646.51 1384.24  Z\n  \" fill=\"#009af9\" fill-rule=\"evenodd\" fill-opacity=\"1\"/>\n<polyline clip-path=\"url(#clip932)\" style=\"stroke:#000000; stroke-linecap:butt; stroke-linejoin:round; stroke-width:4; stroke-opacity:1; fill:none\" points=\"\n  1646.51,1384.24 1646.51,1384.24 1720.03,1384.24 1646.51,1384.24 \n  \"/>\n<path clip-path=\"url(#clip932)\" d=\"\nM1720.03 1361.47 L1720.03 1384.24 L1793.54 1384.24 L1793.54 1361.47 L1720.03 1361.47 L1720.03 1361.47  Z\n  \" fill=\"#009af9\" fill-rule=\"evenodd\" fill-opacity=\"1\"/>\n<polyline clip-path=\"url(#clip932)\" style=\"stroke:#000000; stroke-linecap:butt; stroke-linejoin:round; stroke-width:4; stroke-opacity:1; fill:none\" points=\"\n  1720.03,1361.47 1720.03,1384.24 1793.54,1384.24 1793.54,1361.47 1720.03,1361.47 \n  \"/>\n<path clip-path=\"url(#clip932)\" d=\"\nM1793.54 1384.24 L1793.54 1384.24 L1867.06 1384.24 L1867.06 1384.24 L1793.54 1384.24 L1793.54 1384.24  Z\n  \" fill=\"#009af9\" fill-rule=\"evenodd\" fill-opacity=\"1\"/>\n<polyline clip-path=\"url(#clip932)\" style=\"stroke:#000000; stroke-linecap:butt; stroke-linejoin:round; stroke-width:4; stroke-opacity:1; fill:none\" points=\"\n  1793.54,1384.24 1793.54,1384.24 1867.06,1384.24 1793.54,1384.24 \n  \"/>\n<path clip-path=\"url(#clip932)\" d=\"\nM1867.06 1384.24 L1867.06 1384.24 L1940.57 1384.24 L1940.57 1384.24 L1867.06 1384.24 L1867.06 1384.24  Z\n  \" fill=\"#009af9\" fill-rule=\"evenodd\" fill-opacity=\"1\"/>\n<polyline clip-path=\"url(#clip932)\" style=\"stroke:#000000; stroke-linecap:butt; stroke-linejoin:round; stroke-width:4; stroke-opacity:1; fill:none\" points=\"\n  1867.06,1384.24 1867.06,1384.24 1940.57,1384.24 1867.06,1384.24 \n  \"/>\n<path clip-path=\"url(#clip932)\" d=\"\nM1940.57 1361.47 L1940.57 1384.24 L2014.09 1384.24 L2014.09 1361.47 L1940.57 1361.47 L1940.57 1361.47  Z\n  \" fill=\"#009af9\" fill-rule=\"evenodd\" fill-opacity=\"1\"/>\n<polyline clip-path=\"url(#clip932)\" style=\"stroke:#000000; stroke-linecap:butt; stroke-linejoin:round; stroke-width:4; stroke-opacity:1; fill:none\" points=\"\n  1940.57,1361.47 1940.57,1384.24 2014.09,1384.24 2014.09,1361.47 1940.57,1361.47 \n  \"/>\n<path clip-path=\"url(#clip932)\" d=\"\nM2014.09 1384.24 L2014.09 1384.24 L2087.6 1384.24 L2087.6 1384.24 L2014.09 1384.24 L2014.09 1384.24  Z\n  \" fill=\"#009af9\" fill-rule=\"evenodd\" fill-opacity=\"1\"/>\n<polyline clip-path=\"url(#clip932)\" style=\"stroke:#000000; stroke-linecap:butt; stroke-linejoin:round; stroke-width:4; stroke-opacity:1; fill:none\" points=\"\n  2014.09,1384.24 2014.09,1384.24 2087.6,1384.24 2014.09,1384.24 \n  \"/>\n<path clip-path=\"url(#clip932)\" d=\"\nM2087.6 1384.24 L2087.6 1384.24 L2161.12 1384.24 L2161.12 1384.24 L2087.6 1384.24 L2087.6 1384.24  Z\n  \" fill=\"#009af9\" fill-rule=\"evenodd\" fill-opacity=\"1\"/>\n<polyline clip-path=\"url(#clip932)\" style=\"stroke:#000000; stroke-linecap:butt; stroke-linejoin:round; stroke-width:4; stroke-opacity:1; fill:none\" points=\"\n  2087.6,1384.24 2087.6,1384.24 2161.12,1384.24 2087.6,1384.24 \n  \"/>\n<path clip-path=\"url(#clip932)\" d=\"\nM2161.12 1361.47 L2161.12 1384.24 L2234.63 1384.24 L2234.63 1361.47 L2161.12 1361.47 L2161.12 1361.47  Z\n  \" fill=\"#009af9\" fill-rule=\"evenodd\" fill-opacity=\"1\"/>\n<polyline clip-path=\"url(#clip932)\" style=\"stroke:#000000; stroke-linecap:butt; stroke-linejoin:round; stroke-width:4; stroke-opacity:1; fill:none\" points=\"\n  2161.12,1361.47 2161.12,1384.24 2234.63,1384.24 2234.63,1361.47 2161.12,1361.47 \n  \"/>\n<circle clip-path=\"url(#clip932)\" style=\"fill:#009af9; stroke:none; fill-opacity:0\" cx=\"360.002\" cy=\"1361.47\" r=\"2\"/>\n<circle clip-path=\"url(#clip932)\" style=\"fill:#009af9; stroke:none; fill-opacity:0\" cx=\"433.517\" cy=\"1361.47\" r=\"2\"/>\n<circle clip-path=\"url(#clip932)\" style=\"fill:#009af9; stroke:none; fill-opacity:0\" cx=\"507.032\" cy=\"1338.69\" r=\"2\"/>\n<circle clip-path=\"url(#clip932)\" style=\"fill:#009af9; stroke:none; fill-opacity:0\" cx=\"580.547\" cy=\"1247.6\" r=\"2\"/>\n<circle clip-path=\"url(#clip932)\" style=\"fill:#009af9; stroke:none; fill-opacity:0\" cx=\"654.062\" cy=\"1293.15\" r=\"2\"/>\n<circle clip-path=\"url(#clip932)\" style=\"fill:#009af9; stroke:none; fill-opacity:0\" cx=\"727.577\" cy=\"1224.83\" r=\"2\"/>\n<circle clip-path=\"url(#clip932)\" style=\"fill:#009af9; stroke:none; fill-opacity:0\" cx=\"801.092\" cy=\"837.69\" r=\"2\"/>\n<circle clip-path=\"url(#clip932)\" style=\"fill:#009af9; stroke:none; fill-opacity:0\" cx=\"874.606\" cy=\"496.097\" r=\"2\"/>\n<circle clip-path=\"url(#clip932)\" style=\"fill:#009af9; stroke:none; fill-opacity:0\" cx=\"948.121\" cy=\"245.596\" r=\"2\"/>\n<circle clip-path=\"url(#clip932)\" style=\"fill:#009af9; stroke:none; fill-opacity:0\" cx=\"1021.64\" cy=\"336.687\" r=\"2\"/>\n<circle clip-path=\"url(#clip932)\" style=\"fill:#009af9; stroke:none; fill-opacity:0\" cx=\"1095.15\" cy=\"86.1857\" r=\"2\"/>\n<circle clip-path=\"url(#clip932)\" style=\"fill:#009af9; stroke:none; fill-opacity:0\" cx=\"1168.67\" cy=\"541.643\" r=\"2\"/>\n<circle clip-path=\"url(#clip932)\" style=\"fill:#009af9; stroke:none; fill-opacity:0\" cx=\"1242.18\" cy=\"792.144\" r=\"2\"/>\n<circle clip-path=\"url(#clip932)\" style=\"fill:#009af9; stroke:none; fill-opacity:0\" cx=\"1315.7\" cy=\"1019.87\" r=\"2\"/>\n<circle clip-path=\"url(#clip932)\" style=\"fill:#009af9; stroke:none; fill-opacity:0\" cx=\"1389.21\" cy=\"1202.06\" r=\"2\"/>\n<circle clip-path=\"url(#clip932)\" style=\"fill:#009af9; stroke:none; fill-opacity:0\" cx=\"1462.73\" cy=\"1338.69\" r=\"2\"/>\n<circle clip-path=\"url(#clip932)\" style=\"fill:#009af9; stroke:none; fill-opacity:0\" cx=\"1536.24\" cy=\"1384.24\" r=\"2\"/>\n<circle clip-path=\"url(#clip932)\" style=\"fill:#009af9; stroke:none; fill-opacity:0\" cx=\"1609.76\" cy=\"1384.24\" r=\"2\"/>\n<circle clip-path=\"url(#clip932)\" style=\"fill:#009af9; stroke:none; fill-opacity:0\" cx=\"1683.27\" cy=\"1384.24\" r=\"2\"/>\n<circle clip-path=\"url(#clip932)\" style=\"fill:#009af9; stroke:none; fill-opacity:0\" cx=\"1756.79\" cy=\"1361.47\" r=\"2\"/>\n<circle clip-path=\"url(#clip932)\" style=\"fill:#009af9; stroke:none; fill-opacity:0\" cx=\"1830.3\" cy=\"1384.24\" r=\"2\"/>\n<circle clip-path=\"url(#clip932)\" style=\"fill:#009af9; stroke:none; fill-opacity:0\" cx=\"1903.82\" cy=\"1384.24\" r=\"2\"/>\n<circle clip-path=\"url(#clip932)\" style=\"fill:#009af9; stroke:none; fill-opacity:0\" cx=\"1977.33\" cy=\"1361.47\" r=\"2\"/>\n<circle clip-path=\"url(#clip932)\" style=\"fill:#009af9; stroke:none; fill-opacity:0\" cx=\"2050.84\" cy=\"1384.24\" r=\"2\"/>\n<circle clip-path=\"url(#clip932)\" style=\"fill:#009af9; stroke:none; fill-opacity:0\" cx=\"2124.36\" cy=\"1384.24\" r=\"2\"/>\n<circle clip-path=\"url(#clip932)\" style=\"fill:#009af9; stroke:none; fill-opacity:0\" cx=\"2197.87\" cy=\"1361.47\" r=\"2\"/>\n</svg>\n"
     },
     "execution_count": 121,
     "metadata": {},
     "output_type": "execute_result"
    }
   ],
   "source": [
    "histogram(df.\"Vmag\", xlabel = \"Vmag\", ylabel=\"count\", label=false)"
   ]
  },
  {
   "cell_type": "code",
   "execution_count": null,
   "metadata": {},
   "outputs": [],
   "source": []
  }
 ],
 "metadata": {
  "@webio": {
   "lastCommId": null,
   "lastKernelId": null
  },
  "kernelspec": {
   "display_name": "Julia 1.7.2",
   "language": "julia",
   "name": "julia-1.7"
  },
  "language_info": {
   "file_extension": ".jl",
   "mimetype": "application/julia",
   "name": "julia",
   "version": "1.7.2"
  },
  "nteract": {
   "version": "0.28.0"
  }
 },
 "nbformat": 4,
 "nbformat_minor": 4
}
