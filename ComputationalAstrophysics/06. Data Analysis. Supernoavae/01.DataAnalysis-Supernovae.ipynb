version https://git-lfs.github.com/spec/v1
oid sha256:4b963eaf51fc0f5501b0d74a1e9aefea26a0aa3c1d031f040a33a36015de6c61
size 398333
