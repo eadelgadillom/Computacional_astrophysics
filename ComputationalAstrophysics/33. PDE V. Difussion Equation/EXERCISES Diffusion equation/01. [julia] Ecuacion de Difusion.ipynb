version https://git-lfs.github.com/spec/v1
oid sha256:a8c86b2e9c553ca3fe20099b7d7702e49920376859513ce725bfe64a05744dfe
size 30499383
