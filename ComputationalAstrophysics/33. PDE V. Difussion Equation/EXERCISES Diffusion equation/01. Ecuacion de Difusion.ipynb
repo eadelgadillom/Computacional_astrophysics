version https://git-lfs.github.com/spec/v1
oid sha256:d860e2b66bb29d69ab999356975fe1f23599904a2413d2197f1e0e5c081ae795
size 3735387
