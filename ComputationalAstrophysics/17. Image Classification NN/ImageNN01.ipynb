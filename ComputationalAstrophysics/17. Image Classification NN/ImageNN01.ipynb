version https://git-lfs.github.com/spec/v1
oid sha256:1e2756fecdf38e93e179278f86e4f037e486973f077d1409832b38a5fb5a3d26
size 56167
