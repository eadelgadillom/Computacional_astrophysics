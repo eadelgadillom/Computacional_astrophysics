version https://git-lfs.github.com/spec/v1
oid sha256:28af43fcad86f12f09326c3c4570fb02d05d1a8a28cce197d4e8101ba518659e
size 69380
