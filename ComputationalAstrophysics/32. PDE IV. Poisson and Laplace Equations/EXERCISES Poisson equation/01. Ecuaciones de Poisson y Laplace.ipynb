version https://git-lfs.github.com/spec/v1
oid sha256:dbe797fe52b1c1151c9fb09d3445e2f60f3e506c50bc9a51d715243d0d0efeb0
size 81654
