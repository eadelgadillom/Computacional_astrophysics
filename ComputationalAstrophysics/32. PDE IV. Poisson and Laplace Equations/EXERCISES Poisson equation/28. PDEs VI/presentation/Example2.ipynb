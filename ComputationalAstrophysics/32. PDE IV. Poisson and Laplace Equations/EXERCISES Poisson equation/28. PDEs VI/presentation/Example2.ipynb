version https://git-lfs.github.com/spec/v1
oid sha256:5597807009c569bed9dcf9c9757b87c459ccdc20700d6545e07267bd9f803798
size 78916
