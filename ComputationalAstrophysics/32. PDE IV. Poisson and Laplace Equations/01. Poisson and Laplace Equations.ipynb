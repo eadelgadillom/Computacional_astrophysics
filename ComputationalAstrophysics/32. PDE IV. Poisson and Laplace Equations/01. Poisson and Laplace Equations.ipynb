version https://git-lfs.github.com/spec/v1
oid sha256:190a8551e3434fd2f7135b058703ad9c61bf0474d79c9246dc56056e74b17d8a
size 15387
