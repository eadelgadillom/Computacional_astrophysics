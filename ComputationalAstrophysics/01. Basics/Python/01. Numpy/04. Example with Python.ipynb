{
 "cells": [
  {
   "cell_type": "markdown",
   "metadata": {},
   "source": [
    "![Astrofisica Computacional](../../../logo.png)"
   ]
  },
  {
   "cell_type": "markdown",
   "metadata": {
    "slideshow": {
     "slide_type": "slide"
    }
   },
   "source": [
    "# Example: Searching for Neighbor Points\n",
    "\n",
    "Eduard Larrañaga (ealarranaga@unal.edu.co)"
   ]
  },
  {
   "cell_type": "code",
   "execution_count": 1,
   "metadata": {
    "slideshow": {
     "slide_type": "fragment"
    }
   },
   "outputs": [],
   "source": [
    "import numpy as np\n",
    "#import sys\n",
    "\n",
    "rng = np.random.default_rng(413)  # initialise our random number generator"
   ]
  },
  {
   "cell_type": "markdown",
   "metadata": {
    "slideshow": {
     "slide_type": "slide"
    }
   },
   "source": [
    "We will create an array with the 3D-coordinates, randomly generated in the range \\[0,1), of  5 points:"
   ]
  },
  {
   "cell_type": "code",
   "execution_count": 14,
   "metadata": {
    "scrolled": true,
    "slideshow": {
     "slide_type": "fragment"
    }
   },
   "outputs": [
    {
     "data": {
      "text/plain": [
       "array([[0.31828742, 0.36930542, 0.54105854],\n",
       "       [0.39276773, 0.62638356, 0.66135177],\n",
       "       [0.58237962, 0.04456844, 0.97513086],\n",
       "       [0.63687676, 0.48898044, 0.49416917],\n",
       "       [0.66602975, 0.39266848, 0.51225112]])"
      ]
     },
     "execution_count": 14,
     "metadata": {},
     "output_type": "execute_result"
    }
   ],
   "source": [
    "N = 5\n",
    "dimension = 3\n",
    "points = rng.random((N, dimension))\n",
    "points"
   ]
  },
  {
   "cell_type": "code",
   "execution_count": 5,
   "metadata": {
    "slideshow": {
     "slide_type": "fragment"
    }
   },
   "outputs": [
    {
     "data": {
      "text/plain": [
       "array([0.59527896, 0.72462972, 0.93176844])"
      ]
     },
     "execution_count": 5,
     "metadata": {},
     "output_type": "execute_result"
    }
   ],
   "source": [
    "points[1] # Coordinates of one of the points"
   ]
  },
  {
   "cell_type": "markdown",
   "metadata": {
    "slideshow": {
     "slide_type": "slide"
    }
   },
   "source": [
    "We want to find the nearest point for each one, assuming an Euclidean distance. We will use the function `numpy.linalg.norm` to calculate the distances.\n",
    "\n",
    "Info: https://numpy.org/doc/stable/reference/generated/numpy.linalg.norm.\n",
    "\n",
    "The norm of the position of a single point is "
   ]
  },
  {
   "cell_type": "code",
   "execution_count": 8,
   "metadata": {
    "slideshow": {
     "slide_type": "fragment"
    }
   },
   "outputs": [
    {
     "data": {
      "text/plain": [
       "1.3219824872088564"
      ]
     },
     "execution_count": 8,
     "metadata": {},
     "output_type": "execute_result"
    }
   ],
   "source": [
    "np.linalg.norm(points[1])"
   ]
  },
  {
   "cell_type": "markdown",
   "metadata": {
    "slideshow": {
     "slide_type": "subslide"
    }
   },
   "source": [
    "The norm of all the points is given by"
   ]
  },
  {
   "cell_type": "code",
   "execution_count": 9,
   "metadata": {
    "slideshow": {
     "slide_type": "-"
    }
   },
   "outputs": [
    {
     "data": {
      "text/plain": [
       "array([1.27688138, 1.32198249, 0.67801184, 1.1384153 , 1.06183807,\n",
       "       1.25817122])"
      ]
     },
     "execution_count": 9,
     "metadata": {},
     "output_type": "execute_result"
    }
   ],
   "source": [
    "np.linalg.norm(points, axis=1)"
   ]
  },
  {
   "cell_type": "markdown",
   "metadata": {
    "slideshow": {
     "slide_type": "subslide"
    }
   },
   "source": [
    "Now we reshape the array of coordinates by introducing another dimension:"
   ]
  },
  {
   "cell_type": "code",
   "execution_count": 15,
   "metadata": {
    "scrolled": false,
    "slideshow": {
     "slide_type": "-"
    }
   },
   "outputs": [
    {
     "data": {
      "text/plain": [
       "array([[[0.31828742, 0.36930542, 0.54105854]],\n",
       "\n",
       "       [[0.39276773, 0.62638356, 0.66135177]],\n",
       "\n",
       "       [[0.58237962, 0.04456844, 0.97513086]],\n",
       "\n",
       "       [[0.63687676, 0.48898044, 0.49416917]],\n",
       "\n",
       "       [[0.66602975, 0.39266848, 0.51225112]]])"
      ]
     },
     "execution_count": 15,
     "metadata": {},
     "output_type": "execute_result"
    }
   ],
   "source": [
    "resh_points = points.reshape(N, 1, dimension)\n",
    "resh_points"
   ]
  },
  {
   "cell_type": "markdown",
   "metadata": {
    "slideshow": {
     "slide_type": "subslide"
    }
   },
   "source": [
    "This let us calculate the matrix of differences of coordinates"
   ]
  },
  {
   "cell_type": "code",
   "execution_count": 16,
   "metadata": {
    "slideshow": {
     "slide_type": "-"
    }
   },
   "outputs": [
    {
     "data": {
      "text/plain": [
       "array([[[ 0.        ,  0.        ,  0.        ],\n",
       "        [-0.0744803 , -0.25707813, -0.12029323],\n",
       "        [-0.2640922 ,  0.32473698, -0.43407232],\n",
       "        [-0.31858934, -0.11967502,  0.04688937],\n",
       "        [-0.34774233, -0.02336306,  0.02880742]],\n",
       "\n",
       "       [[ 0.0744803 ,  0.25707813,  0.12029323],\n",
       "        [ 0.        ,  0.        ,  0.        ],\n",
       "        [-0.18961189,  0.58181512, -0.31377909],\n",
       "        [-0.24410903,  0.13740311,  0.1671826 ],\n",
       "        [-0.27326203,  0.23371507,  0.14910065]],\n",
       "\n",
       "       [[ 0.2640922 , -0.32473698,  0.43407232],\n",
       "        [ 0.18961189, -0.58181512,  0.31377909],\n",
       "        [ 0.        ,  0.        ,  0.        ],\n",
       "        [-0.05449714, -0.444412  ,  0.48096169],\n",
       "        [-0.08365013, -0.34810004,  0.46287974]],\n",
       "\n",
       "       [[ 0.31858934,  0.11967502, -0.04688937],\n",
       "        [ 0.24410903, -0.13740311, -0.1671826 ],\n",
       "        [ 0.05449714,  0.444412  , -0.48096169],\n",
       "        [ 0.        ,  0.        ,  0.        ],\n",
       "        [-0.02915299,  0.09631196, -0.01808195]],\n",
       "\n",
       "       [[ 0.34774233,  0.02336306, -0.02880742],\n",
       "        [ 0.27326203, -0.23371507, -0.14910065],\n",
       "        [ 0.08365013,  0.34810004, -0.46287974],\n",
       "        [ 0.02915299, -0.09631196,  0.01808195],\n",
       "        [ 0.        ,  0.        ,  0.        ]]])"
      ]
     },
     "execution_count": 16,
     "metadata": {},
     "output_type": "execute_result"
    }
   ],
   "source": [
    "Delta_coordinates = resh_points - points\n",
    "Delta_coordinates"
   ]
  },
  {
   "cell_type": "code",
   "execution_count": 46,
   "metadata": {
    "slideshow": {
     "slide_type": "subslide"
    }
   },
   "outputs": [
    {
     "name": "stdout",
     "output_type": "stream",
     "text": [
      "(4, 1, 3)  -  (4, 3)  =>  (4, 4, 3)\n"
     ]
    }
   ],
   "source": [
    "# Note that the shapes change as\n",
    "print(resh_points.shape, \" - \", points.shape, \" => \", Delta_coordinates.shape)"
   ]
  },
  {
   "cell_type": "markdown",
   "metadata": {
    "slideshow": {
     "slide_type": "subslide"
    }
   },
   "source": [
    "Now, we use the `numpy.linalg.norm()` function to calculate the matrix of distances:"
   ]
  },
  {
   "cell_type": "code",
   "execution_count": 17,
   "metadata": {
    "slideshow": {
     "slide_type": "-"
    }
   },
   "outputs": [
    {
     "data": {
      "text/plain": [
       "array([[0.        , 0.29343984, 0.60300711, 0.34354023, 0.34971478],\n",
       "       [0.29343984, 0.        , 0.68769093, 0.32621903, 0.38926324],\n",
       "       [0.60300711, 0.68769093, 0.        , 0.65711195, 0.58517402],\n",
       "       [0.34354023, 0.32621903, 0.65711195, 0.        , 0.10223917],\n",
       "       [0.34971478, 0.38926324, 0.58517402, 0.10223917, 0.        ]])"
      ]
     },
     "execution_count": 17,
     "metadata": {},
     "output_type": "execute_result"
    }
   ],
   "source": [
    "distances = np.linalg.norm((points.reshape(N, 1, dimension) - points), axis=2)\n",
    "distances"
   ]
  },
  {
   "cell_type": "markdown",
   "metadata": {
    "slideshow": {
     "slide_type": "slide"
    }
   },
   "source": [
    "It is clear that the diagonal contains the information of the \"self-distance\". We correct these values in order to obtain the minimum values,"
   ]
  },
  {
   "cell_type": "code",
   "execution_count": 18,
   "metadata": {},
   "outputs": [
    {
     "data": {
      "text/plain": [
       "array([[       inf, 0.29343984, 0.60300711, 0.34354023, 0.34971478],\n",
       "       [0.29343984,        inf, 0.68769093, 0.32621903, 0.38926324],\n",
       "       [0.60300711, 0.68769093,        inf, 0.65711195, 0.58517402],\n",
       "       [0.34354023, 0.32621903, 0.65711195,        inf, 0.10223917],\n",
       "       [0.34971478, 0.38926324, 0.58517402, 0.10223917,        inf]])"
      ]
     },
     "execution_count": 18,
     "metadata": {},
     "output_type": "execute_result"
    }
   ],
   "source": [
    "distances[np.diag_indices_from(distances)] = np.inf\n",
    "distances"
   ]
  },
  {
   "cell_type": "markdown",
   "metadata": {
    "slideshow": {
     "slide_type": "subslide"
    }
   },
   "source": [
    "Finally, we find the minimum values for each column, giving the nearest point list:"
   ]
  },
  {
   "cell_type": "code",
   "execution_count": 19,
   "metadata": {},
   "outputs": [
    {
     "data": {
      "text/plain": [
       "array([1, 0, 4, 4, 3])"
      ]
     },
     "execution_count": 19,
     "metadata": {},
     "output_type": "execute_result"
    }
   ],
   "source": [
    "np.argmin(distances, axis=1)"
   ]
  },
  {
   "cell_type": "markdown",
   "metadata": {},
   "source": [
    "The above solution is summarised in the following three steps"
   ]
  },
  {
   "cell_type": "code",
   "execution_count": 20,
   "metadata": {},
   "outputs": [
    {
     "data": {
      "text/plain": [
       "array([1, 0, 4, 4, 3])"
      ]
     },
     "execution_count": 20,
     "metadata": {},
     "output_type": "execute_result"
    }
   ],
   "source": [
    "distances = np.linalg.norm((points.reshape(N, 1, dimension) - points), axis=2)\n",
    "distances[np.diag_indices_from(distances)] = np.inf\n",
    "nearest_points = np.argmin(distances, axis=1)\n",
    "nearest_points"
   ]
  },
  {
   "cell_type": "markdown",
   "metadata": {
    "slideshow": {
     "slide_type": "slide"
    }
   },
   "source": [
    "### Comparing to `scikit-learn`\n",
    "\n",
    "Now we will use the built-in function `sklearn.neighbors.NearestNeighbors`."
   ]
  },
  {
   "cell_type": "code",
   "execution_count": 21,
   "metadata": {
    "slideshow": {
     "slide_type": "fragment"
    }
   },
   "outputs": [
    {
     "data": {
      "text/plain": [
       "array([1, 0, 4, 4, 3])"
      ]
     },
     "execution_count": 21,
     "metadata": {},
     "output_type": "execute_result"
    }
   ],
   "source": [
    "from sklearn.neighbors import NearestNeighbors\n",
    "_, indices = NearestNeighbors().fit(points).kneighbors(points, 2)\n",
    "indices[:, 1]"
   ]
  },
  {
   "cell_type": "markdown",
   "metadata": {
    "slideshow": {
     "slide_type": "slide"
    }
   },
   "source": [
    "Lets measure the time to find the nearest points using both methods."
   ]
  },
  {
   "cell_type": "code",
   "execution_count": 22,
   "metadata": {
    "slideshow": {
     "slide_type": "fragment"
    }
   },
   "outputs": [
    {
     "name": "stdout",
     "output_type": "stream",
     "text": [
      "81.7 µs ± 1.21 µs per loop (mean ± std. dev. of 7 runs, 10000 loops each)\n"
     ]
    }
   ],
   "source": [
    "%timeit _, indices = NearestNeighbors().fit(points).kneighbors(points, 2)"
   ]
  },
  {
   "cell_type": "code",
   "execution_count": 23,
   "metadata": {
    "slideshow": {
     "slide_type": "fragment"
    }
   },
   "outputs": [
    {
     "name": "stdout",
     "output_type": "stream",
     "text": [
      "11.1 µs ± 69.6 ns per loop (mean ± std. dev. of 7 runs, 100000 loops each)\n"
     ]
    }
   ],
   "source": [
    "%%timeit\n",
    "distances = np.linalg.norm((points.reshape(N, 1, dimension) - points), axis=2)\n",
    "distances[np.diag_indices_from(distances)] = np.inf\n",
    "np.argmin(distances, axis=1)"
   ]
  },
  {
   "cell_type": "markdown",
   "metadata": {
    "slideshow": {
     "slide_type": "slide"
    }
   },
   "source": [
    "Now we can increase the number of points..."
   ]
  },
  {
   "cell_type": "code",
   "execution_count": 24,
   "metadata": {},
   "outputs": [
    {
     "data": {
      "text/plain": [
       "array([[0.57464125, 0.48227587, 0.42294799],\n",
       "       [0.81566465, 0.28923267, 0.58365257],\n",
       "       [0.28353119, 0.24542024, 0.70108304],\n",
       "       ...,\n",
       "       [0.50644148, 0.24502326, 0.04422695],\n",
       "       [0.15914083, 0.66043912, 0.74649669],\n",
       "       [0.11877764, 0.36874415, 0.94328799]])"
      ]
     },
     "execution_count": 24,
     "metadata": {},
     "output_type": "execute_result"
    }
   ],
   "source": [
    "N = 1000\n",
    "dimension = 3\n",
    "points = rng.random((N, dimension))\n",
    "points"
   ]
  },
  {
   "cell_type": "code",
   "execution_count": 26,
   "metadata": {
    "slideshow": {
     "slide_type": "subslide"
    }
   },
   "outputs": [
    {
     "name": "stdout",
     "output_type": "stream",
     "text": [
      "21.1 ms ± 241 µs per loop (mean ± std. dev. of 7 runs, 10 loops each)\n"
     ]
    }
   ],
   "source": [
    "%%timeit\n",
    "distances = np.linalg.norm((points.reshape(N, 1, dimension) - points), axis=2)\n",
    "distances[np.diag_indices_from(distances)] = np.inf\n",
    "np.argmin(distances, axis=1)"
   ]
  },
  {
   "cell_type": "code",
   "execution_count": 27,
   "metadata": {},
   "outputs": [
    {
     "name": "stdout",
     "output_type": "stream",
     "text": [
      "875 µs ± 10.7 µs per loop (mean ± std. dev. of 7 runs, 1000 loops each)\n"
     ]
    }
   ],
   "source": [
    "%timeit _, indices = NearestNeighbors().fit(points).kneighbors(points, 2)"
   ]
  },
  {
   "cell_type": "code",
   "execution_count": null,
   "metadata": {},
   "outputs": [],
   "source": []
  }
 ],
 "metadata": {
  "@webio": {
   "lastCommId": "e800f9477722428abc03f280b811860b",
   "lastKernelId": "cc438d68-999a-42f6-91d0-437b70ceb0c8"
  },
  "kernelspec": {
   "display_name": "Python 3 (ipykernel)",
   "language": "python",
   "name": "python3"
  },
  "language_info": {
   "codemirror_mode": {
    "name": "ipython",
    "version": 3
   },
   "file_extension": ".py",
   "mimetype": "text/x-python",
   "name": "python",
   "nbconvert_exporter": "python",
   "pygments_lexer": "ipython3",
   "version": "3.10.9"
  }
 },
 "nbformat": 4,
 "nbformat_minor": 4
}
