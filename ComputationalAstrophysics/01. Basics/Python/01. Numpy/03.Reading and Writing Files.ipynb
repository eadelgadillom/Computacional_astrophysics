{
 "cells": [
  {
   "cell_type": "markdown",
   "metadata": {},
   "source": [
    "![Astrofisica Computacional](../../../logo.png)"
   ]
  },
  {
   "cell_type": "markdown",
   "metadata": {
    "id": "V_qZEp6DwCP8"
   },
   "source": [
    "---\n",
    "## 03. Reading and Writting Files\n",
    "Eduard Larrañaga (ealarranaga@unal.edu.co)\n",
    "\n",
    "---"
   ]
  },
  {
   "cell_type": "markdown",
   "metadata": {
    "id": "YW0DjbZ84Fuo"
   },
   "source": [
    "### About this notebook\n",
    "\n",
    "In this notebook we present some of the fundamentals of `python` coding.  Reading and Writing files\n",
    "\n",
    "---"
   ]
  },
  {
   "cell_type": "markdown",
   "metadata": {
    "id": "ETP3g2UpwCQC"
   },
   "source": [
    "### Reading Files"
   ]
  },
  {
   "cell_type": "markdown",
   "metadata": {
    "id": "1Gg_Xu_TwCQG"
   },
   "source": [
    "Using `numpy`, it is possible to store the data in a numpy array directly from the file. \n",
    "\n",
    "The file 'exampe_file1.txt' has values separated by a space."
   ]
  },
  {
   "cell_type": "code",
   "execution_count": 1,
   "metadata": {
    "colab": {
     "base_uri": "https://localhost:8080/"
    },
    "executionInfo": {
     "elapsed": 601,
     "status": "ok",
     "timestamp": 1609017078797,
     "user": {
      "displayName": "Eduard Alexis Larranaga",
      "photoUrl": "https://lh3.googleusercontent.com/a-/AOh14GgCVABzEgj-rCdyxWa29RnA0kIYUCXAaVbnRYOEhQ=s64",
      "userId": "04402438389940282602"
     },
     "user_tz": 300
    },
    "id": "rtPlfWZJwCQG",
    "outputId": "f6abe585-9702-4fa7-bb86-6765810ea360"
   },
   "outputs": [
    {
     "data": {
      "text/plain": [
       "array([[0.        , 0.        ],\n",
       "       [0.01886842, 0.01886709],\n",
       "       [0.03773685, 0.03772621],\n",
       "       [0.05660527, 0.05656938],\n",
       "       [0.0754737 , 0.07538864],\n",
       "       [0.09434212, 0.09417604],\n",
       "       [0.11321055, 0.11292363],\n",
       "       [0.13207897, 0.1316235 ]])"
      ]
     },
     "execution_count": 1,
     "metadata": {},
     "output_type": "execute_result"
    }
   ],
   "source": [
    "import numpy as np\n",
    "\n",
    "data = np.loadtxt('example_file1.txt', comments='#')\n",
    "data"
   ]
  },
  {
   "cell_type": "code",
   "execution_count": 2,
   "metadata": {
    "colab": {
     "base_uri": "https://localhost:8080/"
    },
    "executionInfo": {
     "elapsed": 436,
     "status": "ok",
     "timestamp": 1609017081478,
     "user": {
      "displayName": "Eduard Alexis Larranaga",
      "photoUrl": "https://lh3.googleusercontent.com/a-/AOh14GgCVABzEgj-rCdyxWa29RnA0kIYUCXAaVbnRYOEhQ=s64",
      "userId": "04402438389940282602"
     },
     "user_tz": 300
    },
    "id": "EeUBE9btwCQH",
    "outputId": "ec258591-290a-467e-a66d-c9a36e35b5ec"
   },
   "outputs": [
    {
     "data": {
      "text/plain": [
       "array([0.        , 0.01886842, 0.03773685, 0.05660527, 0.0754737 ,\n",
       "       0.09434212, 0.11321055, 0.13207897])"
      ]
     },
     "execution_count": 2,
     "metadata": {},
     "output_type": "execute_result"
    }
   ],
   "source": [
    "data[:,0]"
   ]
  },
  {
   "cell_type": "code",
   "execution_count": 3,
   "metadata": {
    "colab": {
     "base_uri": "https://localhost:8080/"
    },
    "executionInfo": {
     "elapsed": 457,
     "status": "ok",
     "timestamp": 1609017112032,
     "user": {
      "displayName": "Eduard Alexis Larranaga",
      "photoUrl": "https://lh3.googleusercontent.com/a-/AOh14GgCVABzEgj-rCdyxWa29RnA0kIYUCXAaVbnRYOEhQ=s64",
      "userId": "04402438389940282602"
     },
     "user_tz": 300
    },
    "id": "Hl5NgDTWwCQI",
    "outputId": "0d0504b2-d2ea-4ebe-8c08-1e05e335aa99"
   },
   "outputs": [
    {
     "data": {
      "text/plain": [
       "array([0.        , 0.01886709, 0.03772621, 0.05656938, 0.07538864,\n",
       "       0.09417604, 0.11292363, 0.1316235 ])"
      ]
     },
     "execution_count": 3,
     "metadata": {},
     "output_type": "execute_result"
    }
   ],
   "source": [
    "data[:,1]"
   ]
  },
  {
   "cell_type": "code",
   "execution_count": 5,
   "metadata": {},
   "outputs": [],
   "source": [
    "#data2 = np.loadtxt('example_file2.txt', comments='#')\n",
    "\n"
   ]
  },
  {
   "cell_type": "markdown",
   "metadata": {},
   "source": [
    "The file 'exampe_file2.txt' has values separated by a comma. Hence we use the delimiter argument,"
   ]
  },
  {
   "cell_type": "code",
   "execution_count": 6,
   "metadata": {},
   "outputs": [
    {
     "data": {
      "text/plain": [
       "array([[0.        , 0.        ],\n",
       "       [0.01886842, 0.01886709],\n",
       "       [0.03773685, 0.03772621],\n",
       "       [0.05660527, 0.05656938],\n",
       "       [0.0754737 , 0.07538864],\n",
       "       [0.09434212, 0.09417604],\n",
       "       [0.11321055, 0.11292363],\n",
       "       [0.13207897, 0.1316235 ]])"
      ]
     },
     "execution_count": 6,
     "metadata": {},
     "output_type": "execute_result"
    }
   ],
   "source": [
    "data2 = np.loadtxt('example_file2.txt', comments='#', delimiter=',')\n",
    "data2"
   ]
  },
  {
   "cell_type": "code",
   "execution_count": 7,
   "metadata": {},
   "outputs": [
    {
     "data": {
      "text/plain": [
       "array([0.        , 0.01886842, 0.03773685, 0.05660527, 0.0754737 ,\n",
       "       0.09434212, 0.11321055, 0.13207897])"
      ]
     },
     "execution_count": 7,
     "metadata": {},
     "output_type": "execute_result"
    }
   ],
   "source": [
    "data2[:,0]"
   ]
  },
  {
   "cell_type": "markdown",
   "metadata": {
    "id": "T-UmoTbowCQI"
   },
   "source": [
    "---\n",
    "### Writting a File"
   ]
  },
  {
   "cell_type": "markdown",
   "metadata": {
    "id": "KAZPHUyGwCQJ"
   },
   "source": [
    "Writting a file with 50 samples of random data"
   ]
  },
  {
   "cell_type": "code",
   "execution_count": 8,
   "metadata": {
    "id": "yX5iOodIwCQJ"
   },
   "outputs": [],
   "source": [
    "import numpy as np\n",
    "\n",
    "data = np.random.random([50,2])\n",
    "\n",
    "np.savetxt('out_file1.txt', data, fmt='%5.5f', header='This is the header of the file')"
   ]
  },
  {
   "cell_type": "markdown",
   "metadata": {
    "id": "3wxY5dIQwCQJ"
   },
   "source": [
    "Writting with comma delimiters"
   ]
  },
  {
   "cell_type": "code",
   "execution_count": 9,
   "metadata": {
    "id": "yXHsbQ_qwCQJ"
   },
   "outputs": [],
   "source": [
    "import numpy as np\n",
    "\n",
    "data = np.random.random([50,2])\n",
    "\n",
    "np.savetxt('out_file2.txt', data, delimiter = ',', \n",
    "           fmt='%5.5f', header='This is the header of the file')"
   ]
  },
  {
   "cell_type": "code",
   "execution_count": 13,
   "metadata": {},
   "outputs": [
    {
     "data": {
      "text/plain": [
       "array([[0.51519156, 0.85072711],\n",
       "       [0.36341212, 0.12980355],\n",
       "       [0.85502223, 0.18859031],\n",
       "       [0.23380711, 0.37681762],\n",
       "       [0.76528201, 0.42661023],\n",
       "       [0.21944297, 0.94164689],\n",
       "       [0.03847201, 0.65209512],\n",
       "       [0.07847495, 0.48551266],\n",
       "       [0.20545049, 0.32050774],\n",
       "       [0.8839898 , 0.0682924 ]])"
      ]
     },
     "execution_count": 13,
     "metadata": {},
     "output_type": "execute_result"
    }
   ],
   "source": [
    "data = np.random.random([10,2])\n",
    "data"
   ]
  },
  {
   "cell_type": "code",
   "execution_count": 14,
   "metadata": {},
   "outputs": [],
   "source": [
    "np.savetxt('out_file3.data', data, delimiter = ',', \n",
    "           fmt='%5.5f', header='This is the header of the file')"
   ]
  },
  {
   "cell_type": "code",
   "execution_count": null,
   "metadata": {},
   "outputs": [],
   "source": []
  }
 ],
 "metadata": {
  "colab": {
   "collapsed_sections": [
    "LprlA9lrwCQE",
    "1Gg_Xu_TwCQG",
    "G6BKuUJSwCQJ"
   ],
   "name": "04.Fundamentals.ipynb",
   "provenance": []
  },
  "kernelspec": {
   "display_name": "Python 3 (ipykernel)",
   "language": "python",
   "name": "python3"
  },
  "language_info": {
   "codemirror_mode": {
    "name": "ipython",
    "version": 3
   },
   "file_extension": ".py",
   "mimetype": "text/x-python",
   "name": "python",
   "nbconvert_exporter": "python",
   "pygments_lexer": "ipython3",
   "version": "3.10.9"
  }
 },
 "nbformat": 4,
 "nbformat_minor": 1
}
