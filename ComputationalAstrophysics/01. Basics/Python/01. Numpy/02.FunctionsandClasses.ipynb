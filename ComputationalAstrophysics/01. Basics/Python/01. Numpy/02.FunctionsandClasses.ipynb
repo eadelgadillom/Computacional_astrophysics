{
 "cells": [
  {
   "cell_type": "markdown",
   "metadata": {},
   "source": [
    "![Astrofisica Computacional](../../../logo.png)"
   ]
  },
  {
   "cell_type": "markdown",
   "metadata": {
    "id": "0ZexPA47xLpl"
   },
   "source": [
    "---\n",
    "## 02. Functions, Classes and Objects\n",
    "Eduard Larrañaga (ealarranaga@unal.edu.co)\n",
    "\n",
    "---"
   ]
  },
  {
   "cell_type": "markdown",
   "metadata": {
    "id": "mKHlyTHpxkSt"
   },
   "source": [
    "### About this notebook\n",
    "\n",
    "In this notebook we present some of the fundamentals of `python` coding. Function definition, description of functions, importing functions from local modules. Classes and Objects.\n",
    "\n",
    "---"
   ]
  },
  {
   "cell_type": "markdown",
   "metadata": {
    "id": "13b1agkCxLpu"
   },
   "source": [
    "\n",
    "### Function Definition"
   ]
  },
  {
   "cell_type": "markdown",
   "metadata": {
    "id": "-3GAGX5RxLpu"
   },
   "source": [
    "One variable function"
   ]
  },
  {
   "cell_type": "code",
   "execution_count": 1,
   "metadata": {
    "id": "YiqJ2sb0xLpu"
   },
   "outputs": [],
   "source": [
    "def myfunction(x):\n",
    "    return x**2 + 5."
   ]
  },
  {
   "cell_type": "code",
   "execution_count": 2,
   "metadata": {
    "id": "m1Od-Ux8xLpu",
    "outputId": "a6ae1684-a690-4674-a98f-1e78d632d114"
   },
   "outputs": [
    {
     "data": {
      "text/plain": [
       "9.0"
      ]
     },
     "execution_count": 2,
     "metadata": {},
     "output_type": "execute_result"
    }
   ],
   "source": [
    "myfunction(2.)"
   ]
  },
  {
   "cell_type": "code",
   "execution_count": 3,
   "metadata": {
    "id": "rC3bnKevxLpv",
    "outputId": "da9f8329-38b4-4b25-9eb2-1d6662e5f6ef"
   },
   "outputs": [
    {
     "data": {
      "text/plain": [
       "14.0"
      ]
     },
     "execution_count": 3,
     "metadata": {},
     "output_type": "execute_result"
    }
   ],
   "source": [
    "a = 3.\n",
    "myfunction(a)"
   ]
  },
  {
   "cell_type": "markdown",
   "metadata": {
    "id": "WcUgiRQqxLpw"
   },
   "source": [
    "Function with multiple variables"
   ]
  },
  {
   "cell_type": "code",
   "execution_count": 4,
   "metadata": {
    "id": "bVoPmJTFxLpw"
   },
   "outputs": [],
   "source": [
    "import numpy as np\n",
    "\n",
    "def myfunction2(x,y):\n",
    "    return x**2 + np.sin(y)"
   ]
  },
  {
   "cell_type": "code",
   "execution_count": 5,
   "metadata": {
    "id": "vI4uyyYcxLpw",
    "outputId": "abaa2d08-91b0-4259-9822-d3f1520e8e81",
    "scrolled": true
   },
   "outputs": [
    {
     "data": {
      "text/plain": [
       "4.141120008059867"
      ]
     },
     "execution_count": 5,
     "metadata": {},
     "output_type": "execute_result"
    }
   ],
   "source": [
    "myfunction2(2., 3.)"
   ]
  },
  {
   "cell_type": "code",
   "execution_count": 6,
   "metadata": {
    "id": "RDj1FzoIxLpw",
    "outputId": "fa36cc01-d8fa-4768-9df7-998dc49a4793"
   },
   "outputs": [
    {
     "data": {
      "text/plain": [
       "25.841470984807895"
      ]
     },
     "execution_count": 6,
     "metadata": {},
     "output_type": "execute_result"
    }
   ],
   "source": [
    "r = myfunction2(5., 1.)\n",
    "r"
   ]
  },
  {
   "cell_type": "markdown",
   "metadata": {
    "id": "wAmejSvaxLpx"
   },
   "source": [
    "Function with multiple returns"
   ]
  },
  {
   "cell_type": "code",
   "execution_count": 7,
   "metadata": {
    "id": "Ix_QMcvjxLpx"
   },
   "outputs": [],
   "source": [
    "def myfunction3(x,y):\n",
    "    r1 = x**2\n",
    "    r2 = x + y\n",
    "    return r1, r2"
   ]
  },
  {
   "cell_type": "code",
   "execution_count": 8,
   "metadata": {
    "id": "FvvlP4fCxLpx",
    "outputId": "9175e616-e44a-44d5-eb7a-60f30083e6ab"
   },
   "outputs": [
    {
     "data": {
      "text/plain": [
       "(4.0, 5.0)"
      ]
     },
     "execution_count": 8,
     "metadata": {},
     "output_type": "execute_result"
    }
   ],
   "source": [
    "myfunction3(2., 3.)"
   ]
  },
  {
   "cell_type": "code",
   "execution_count": 9,
   "metadata": {
    "id": "bJm9i5XmxLpx",
    "outputId": "5196cc1d-19d7-4e25-f1e2-c0a9646d9ca9"
   },
   "outputs": [
    {
     "name": "stdout",
     "output_type": "stream",
     "text": [
      "9.0\n",
      "5.0\n"
     ]
    }
   ],
   "source": [
    "a, b = myfunction3(3., 2.)\n",
    "print(a)\n",
    "print(b)"
   ]
  },
  {
   "cell_type": "markdown",
   "metadata": {
    "id": "nNGiY8b3xLpy"
   },
   "source": [
    "Function with keyword arguments."
   ]
  },
  {
   "cell_type": "code",
   "execution_count": 10,
   "metadata": {
    "id": "scxqI8CIxLpy"
   },
   "outputs": [],
   "source": [
    "def myfunction4(x, y, z=5.):\n",
    "    r2 = x**2 + y**2 + z**2\n",
    "    return r2"
   ]
  },
  {
   "cell_type": "code",
   "execution_count": 11,
   "metadata": {
    "id": "0Bkr6xbwxLpy",
    "outputId": "0181a9b5-d7e2-4c5e-9e6d-25b65b106683"
   },
   "outputs": [
    {
     "data": {
      "text/plain": [
       "30.0"
      ]
     },
     "execution_count": 11,
     "metadata": {},
     "output_type": "execute_result"
    }
   ],
   "source": [
    "myfunction4(1., 2.)"
   ]
  },
  {
   "cell_type": "code",
   "execution_count": 12,
   "metadata": {
    "id": "3V2QQ0k1xLpy",
    "outputId": "4de610ab-2592-4cd0-f06d-c667bdb054da"
   },
   "outputs": [
    {
     "data": {
      "text/plain": [
       "14.0"
      ]
     },
     "execution_count": 12,
     "metadata": {},
     "output_type": "execute_result"
    }
   ],
   "source": [
    "myfunction4(1., 2., 3.)"
   ]
  },
  {
   "cell_type": "code",
   "execution_count": 13,
   "metadata": {
    "id": "q469yRl6xLpy",
    "outputId": "673b3790-1735-4312-c68b-b2d306057dd0"
   },
   "outputs": [
    {
     "data": {
      "text/plain": [
       "5.0"
      ]
     },
     "execution_count": 13,
     "metadata": {},
     "output_type": "execute_result"
    }
   ],
   "source": [
    "myfunction4(y = 2. , x = 1., z = 0.)"
   ]
  },
  {
   "cell_type": "markdown",
   "metadata": {
    "id": "oYxe3kU0xLpy"
   },
   "source": [
    "---\n",
    "### Creating a Function with description"
   ]
  },
  {
   "cell_type": "code",
   "execution_count": null,
   "metadata": {
    "id": "z_EXlIrkxLp0",
    "outputId": "c126df95-b713-4ef4-a9c3-ec449c450846"
   },
   "outputs": [],
   "source": [
    "\n",
    "def LorentzGamma(v):\n",
    "    '''\n",
    "    ------------------------------------------\n",
    "    LorentzGamma(v)\n",
    "    ------------------------------------------\n",
    "    Receives a speed v in units of m/s and \n",
    "    returns the corresponding value of the \n",
    "    Lorentz gamma function in special \n",
    "    relativity. \n",
    "    ------------------------------------------\n",
    "    '''\n",
    "    import numpy as np\n",
    "    c = 3E8 # speed of light in m/s\n",
    "    g = 1/np.sqrt(1 - (v**2)/(c**2))\n",
    "    return g\n",
    "\n",
    "LorentzGamma(0.)"
   ]
  },
  {
   "cell_type": "code",
   "execution_count": null,
   "metadata": {
    "id": "6J3JDvKDxLp1",
    "outputId": "2016b0c1-2b1b-4fc7-d2f8-07d5054db291"
   },
   "outputs": [],
   "source": [
    "LorentzGamma(150000)"
   ]
  },
  {
   "cell_type": "markdown",
   "metadata": {
    "id": "2xi4wapqxLp1"
   },
   "source": [
    "The `docstring` (help or description) of a function can be accesed as"
   ]
  },
  {
   "cell_type": "code",
   "execution_count": null,
   "metadata": {
    "id": "IQd3zLoSxLp2",
    "outputId": "7d61ed43-a112-47b9-9947-12157404b227"
   },
   "outputs": [],
   "source": [
    "print(LorentzGamma.__doc__)"
   ]
  },
  {
   "cell_type": "markdown",
   "metadata": {
    "id": "nQWP-YvYxLp2"
   },
   "source": [
    "or using"
   ]
  },
  {
   "cell_type": "code",
   "execution_count": null,
   "metadata": {
    "id": "DvsBOKokxLp2"
   },
   "outputs": [],
   "source": [
    "LorentzGamma?"
   ]
  },
  {
   "cell_type": "markdown",
   "metadata": {
    "id": "4ctd-MD0xLp2"
   },
   "source": [
    "---\n",
    "### Importing Functions from Local Modules"
   ]
  },
  {
   "cell_type": "markdown",
   "metadata": {
    "id": "oyEGkC4AxLp2"
   },
   "source": [
    "Importing functions from a local module called 'mymodule.py'."
   ]
  },
  {
   "cell_type": "code",
   "execution_count": null,
   "metadata": {
    "colab": {
     "base_uri": "https://localhost:8080/"
    },
    "executionInfo": {
     "elapsed": 486,
     "status": "ok",
     "timestamp": 1609015921507,
     "user": {
      "displayName": "Eduard Alexis Larranaga",
      "photoUrl": "https://lh3.googleusercontent.com/a-/AOh14GgCVABzEgj-rCdyxWa29RnA0kIYUCXAaVbnRYOEhQ=s64",
      "userId": "04402438389940282602"
     },
     "user_tz": 300
    },
    "id": "Rl16NOt1xLp2",
    "outputId": "2f6895a2-2928-4d9a-d7e9-ba57c6426e30"
   },
   "outputs": [],
   "source": [
    "import mymodule as mymod\n",
    "\n",
    "mymod.BalmerLines(4)"
   ]
  },
  {
   "cell_type": "code",
   "execution_count": null,
   "metadata": {},
   "outputs": [],
   "source": [
    "mymod.BalmerLines(2)"
   ]
  },
  {
   "cell_type": "code",
   "execution_count": null,
   "metadata": {},
   "outputs": [],
   "source": [
    "from mymodule import \n",
    "\n",
    "BalmerLines(5)"
   ]
  },
  {
   "cell_type": "markdown",
   "metadata": {
    "id": "pfacjI_uxLp2"
   },
   "source": [
    "Help about a specific function can be accesed as usual:"
   ]
  },
  {
   "cell_type": "code",
   "execution_count": null,
   "metadata": {
    "id": "GVKtCHpZxLp3"
   },
   "outputs": [],
   "source": [
    "mymod.BalmerLines?"
   ]
  },
  {
   "cell_type": "code",
   "execution_count": null,
   "metadata": {
    "colab": {
     "base_uri": "https://localhost:8080/"
    },
    "executionInfo": {
     "elapsed": 546,
     "status": "ok",
     "timestamp": 1609015933583,
     "user": {
      "displayName": "Eduard Alexis Larranaga",
      "photoUrl": "https://lh3.googleusercontent.com/a-/AOh14GgCVABzEgj-rCdyxWa29RnA0kIYUCXAaVbnRYOEhQ=s64",
      "userId": "04402438389940282602"
     },
     "user_tz": 300
    },
    "id": "5TQV-yK4xLp3",
    "outputId": "58b02c97-cca6-4233-8f01-dcfb1b809901"
   },
   "outputs": [],
   "source": [
    "print(mymod.BalmerLines.__doc__)"
   ]
  },
  {
   "cell_type": "markdown",
   "metadata": {
    "id": "JTisoK15xLp3"
   },
   "source": [
    "Writting `mymod.` and pressing the TAB key shows the functions names in the module."
   ]
  },
  {
   "cell_type": "code",
   "execution_count": null,
   "metadata": {},
   "outputs": [],
   "source": [
    "mymod.BalmerLines"
   ]
  },
  {
   "cell_type": "code",
   "execution_count": null,
   "metadata": {
    "id": "VQLpDkcexLp3"
   },
   "outputs": [],
   "source": [
    "mymod.BalmerLines  # press TAB here to show the functions!"
   ]
  },
  {
   "cell_type": "markdown",
   "metadata": {
    "id": "kLPSqRmlxLp3"
   },
   "source": [
    "In order to load the local module and see its content, we use the magic `%load` "
   ]
  },
  {
   "cell_type": "code",
   "execution_count": null,
   "metadata": {
    "id": "wAZEsKeXxLp3"
   },
   "outputs": [],
   "source": [
    "# %load mymodule.py\n",
    "#!/usr/bin/env python3\n",
    "\"\"\"\n",
    "Created on 2 Jan 2019\n",
    "\n",
    "@author: ashcat\n",
    "\n",
    "Module defining the Balmer series for the Hidrogen atom\n",
    "n > 3 \n",
    "\"\"\"\n",
    "\n",
    "def BalmerLines(n):\n",
    "    '''\n",
    "    ------------------------------------------\n",
    "    BalmerLines(n)\n",
    "    ------------------------------------------\n",
    "    Returns the value of the wavelenght lambda \n",
    "    (in meters) for a given value of n in the \n",
    "    Balmer series (n>=3).\n",
    "\n",
    "    If n<3 returns None\n",
    "    ------------------------------------------\n",
    "\n",
    "    '''\n",
    "    if n < 3:\n",
    "        return None\n",
    "    else:\n",
    "        R = 1.09677583E7 # in untis of m^-1\n",
    "        lambda_inv = R * (1/4 - 1/n**2)\n",
    "        return 1/lambda_inv\n",
    "\n",
    "\n"
   ]
  },
  {
   "cell_type": "markdown",
   "metadata": {
    "id": "5kICW7tE18gC"
   },
   "source": [
    "When you begin to write a function of the module, the documentation appears:"
   ]
  },
  {
   "cell_type": "code",
   "execution_count": null,
   "metadata": {
    "id": "mBbgwB322UuZ"
   },
   "outputs": [],
   "source": [
    "BalmerLines("
   ]
  },
  {
   "cell_type": "markdown",
   "metadata": {},
   "source": [
    "---\n",
    "### Defining a Class\n",
    "\n",
    "#### Attributes\n",
    "To begin, we define a class called 'Planet' with three *attributes*. We use the class initialization definition to introduce these attributes."
   ]
  },
  {
   "cell_type": "code",
   "execution_count": null,
   "metadata": {},
   "outputs": [],
   "source": [
    "class Planet(object):\n",
    "    def __init__ (self, planet_name, mass, orbit_period):\n",
    "        self.planet_name = planet_name\n",
    "        self.mass = mass # in units of Earth mass\n",
    "        self.orbit_period = orbit_period # in Earth years"
   ]
  },
  {
   "cell_type": "markdown",
   "metadata": {},
   "source": [
    "Now we can create an object using this class."
   ]
  },
  {
   "cell_type": "code",
   "execution_count": null,
   "metadata": {},
   "outputs": [],
   "source": [
    "mars = Planet('Mars', 0.107, 1.88)\n"
   ]
  },
  {
   "cell_type": "code",
   "execution_count": null,
   "metadata": {},
   "outputs": [],
   "source": [
    "mars"
   ]
  },
  {
   "cell_type": "markdown",
   "metadata": {},
   "source": [
    "The attributes of this object are easily obtained,"
   ]
  },
  {
   "cell_type": "code",
   "execution_count": null,
   "metadata": {},
   "outputs": [],
   "source": [
    "mars.planet_name"
   ]
  },
  {
   "cell_type": "code",
   "execution_count": null,
   "metadata": {},
   "outputs": [],
   "source": [
    "mars.orbit_period"
   ]
  },
  {
   "cell_type": "code",
   "execution_count": null,
   "metadata": {},
   "outputs": [],
   "source": [
    "earth = Planet('Earth', 1., 1.)"
   ]
  },
  {
   "cell_type": "code",
   "execution_count": null,
   "metadata": {},
   "outputs": [],
   "source": [
    "earth.planet_name"
   ]
  },
  {
   "cell_type": "markdown",
   "metadata": {},
   "source": [
    "#### Methods\n",
    "Now we will define a class with both attributes and methods."
   ]
  },
  {
   "cell_type": "code",
   "execution_count": null,
   "metadata": {},
   "outputs": [],
   "source": [
    "class Planet(object):\n",
    "    def __init__ (self, planet_name, mass, orbit_period):\n",
    "        self.planet_name = planet_name\n",
    "        self.mass = mass # in units of Earth mass\n",
    "        self.orbit_period = orbit_period # in Earth years\n",
    "    \n",
    "    def semimajor_axis(self):\n",
    "        '''\n",
    "        ------------------------------------------\n",
    "        semimajor_axis()\n",
    "        ------------------------------------------\n",
    "        Returns the value of the semimajor axis of \n",
    "        the planet in AU, calculated using \n",
    "        Kepler's third law.\n",
    "        ------------------------------------------\n",
    "        '''\n",
    "        return self.orbit_period**(2./3.)"
   ]
  },
  {
   "cell_type": "markdown",
   "metadata": {},
   "source": [
    "We define a planet using this class."
   ]
  },
  {
   "cell_type": "code",
   "execution_count": null,
   "metadata": {},
   "outputs": [],
   "source": [
    "mars = Planet('Mars', 0.107, 1.88)"
   ]
  },
  {
   "cell_type": "markdown",
   "metadata": {},
   "source": [
    "The method is accessed by"
   ]
  },
  {
   "cell_type": "code",
   "execution_count": null,
   "metadata": {},
   "outputs": [],
   "source": [
    "mars.semimajor_axis()"
   ]
  },
  {
   "cell_type": "markdown",
   "metadata": {},
   "source": [
    "For the Earth, we have"
   ]
  },
  {
   "cell_type": "code",
   "execution_count": null,
   "metadata": {},
   "outputs": [],
   "source": [
    "earth = Planet('Earth', 1., 1.)\n",
    "earth.semimajor_axis()"
   ]
  },
  {
   "cell_type": "markdown",
   "metadata": {},
   "source": [
    "Information of the methods of a class is obtained as usual:"
   ]
  },
  {
   "cell_type": "code",
   "execution_count": null,
   "metadata": {},
   "outputs": [],
   "source": [
    "Planet.semimajor_axis?"
   ]
  },
  {
   "cell_type": "code",
   "execution_count": null,
   "metadata": {},
   "outputs": [],
   "source": [
    "print(Planet.semimajor_axis.__doc__)"
   ]
  },
  {
   "cell_type": "markdown",
   "metadata": {},
   "source": [
    "---\n",
    "### Defining a SubClass\n",
    "Once the class is defined, it can be used to define a subclass:"
   ]
  },
  {
   "cell_type": "code",
   "execution_count": null,
   "metadata": {},
   "outputs": [],
   "source": [
    "class Planet(object):\n",
    "    def __init__ (self, planet_name, mass, orbit_period):\n",
    "        self.planet_name = planet_name\n",
    "        self.mass = mass # in units of Earth mass\n",
    "        self.orbit_period = orbit_period # in Earth years\n",
    "    \n",
    "    def semimajor_axis(self):\n",
    "        '''\n",
    "        ------------------------------------------\n",
    "        semimajor_axis()\n",
    "        ------------------------------------------\n",
    "        Returns the value of the semimajor axis of \n",
    "        the planet in AU, calculated using \n",
    "        Kepler's third law.\n",
    "        ------------------------------------------\n",
    "        '''\n",
    "        return self.orbit_period**(2./3.)\n",
    "    \n",
    "\n",
    "class Dwarf(Planet):\n",
    "    def description(self):\n",
    "        '''\n",
    "        ------------------------------------------\n",
    "        description()\n",
    "        ------------------------------------------\n",
    "        Returns a string with the information of \n",
    "        the mass of the dwarf planet.\n",
    "        ------------------------------------------\n",
    "        '''\n",
    "        descrip = self.planet_name + ' is a dwarf planet with a mass of ' \\\n",
    "                    + str(self.mass) + ' Earth masses.'\n",
    "        return descrip"
   ]
  },
  {
   "cell_type": "markdown",
   "metadata": {},
   "source": [
    "Define Pluto as a dwarf planet:"
   ]
  },
  {
   "cell_type": "code",
   "execution_count": null,
   "metadata": {},
   "outputs": [],
   "source": [
    "pluto = Dwarf('Pluto', 0.00218, 248.00)"
   ]
  },
  {
   "cell_type": "markdown",
   "metadata": {},
   "source": [
    "We can access all the attributes and methods of the 'Planet' class as well as those of the 'Dwarf' class."
   ]
  },
  {
   "cell_type": "code",
   "execution_count": null,
   "metadata": {},
   "outputs": [],
   "source": [
    "pluto.mass"
   ]
  },
  {
   "cell_type": "code",
   "execution_count": null,
   "metadata": {},
   "outputs": [],
   "source": [
    "pluto.semimajor_axis()"
   ]
  },
  {
   "cell_type": "code",
   "execution_count": null,
   "metadata": {},
   "outputs": [],
   "source": [
    "pluto.description()"
   ]
  },
  {
   "cell_type": "code",
   "execution_count": null,
   "metadata": {},
   "outputs": [],
   "source": []
  }
 ],
 "metadata": {
  "@webio": {
   "lastCommId": null,
   "lastKernelId": null
  },
  "colab": {
   "collapsed_sections": [
    "SvbLFDCsxLpr",
    "KzrVVRnXxLpt",
    "13b1agkCxLpu",
    "oYxe3kU0xLpy",
    "4ctd-MD0xLp2"
   ],
   "name": "02.Fundamentals.ipynb",
   "provenance": [],
   "toc_visible": true
  },
  "kernelspec": {
   "display_name": "Python 3 (ipykernel)",
   "language": "python",
   "name": "python3"
  },
  "language_info": {
   "codemirror_mode": {
    "name": "ipython",
    "version": 3
   },
   "file_extension": ".py",
   "mimetype": "text/x-python",
   "name": "python",
   "nbconvert_exporter": "python",
   "pygments_lexer": "ipython3",
   "version": "3.9.5"
  }
 },
 "nbformat": 4,
 "nbformat_minor": 1
}
