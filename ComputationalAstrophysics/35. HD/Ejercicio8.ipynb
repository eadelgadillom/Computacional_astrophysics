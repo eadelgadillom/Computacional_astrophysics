version https://git-lfs.github.com/spec/v1
oid sha256:802ed6534aba5d6b0e73d5949f92a4f5d3110af0916c3243c5ba83751c5b574b
size 2683818
