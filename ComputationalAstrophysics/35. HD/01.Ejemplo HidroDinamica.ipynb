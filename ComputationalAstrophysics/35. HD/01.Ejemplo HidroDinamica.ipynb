version https://git-lfs.github.com/spec/v1
oid sha256:78484c6a65621a9df634517c60d92b26e9c78253a1612f29a1599b7ba7a3fdfd
size 12950148
