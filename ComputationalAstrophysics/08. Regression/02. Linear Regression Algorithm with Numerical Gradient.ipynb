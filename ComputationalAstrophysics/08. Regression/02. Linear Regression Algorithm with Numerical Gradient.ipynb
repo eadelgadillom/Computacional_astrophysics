version https://git-lfs.github.com/spec/v1
oid sha256:d09bc3539da254424a6a0b1d014f958fdd8be74c1492e37cbb99db74b8407732
size 102015
