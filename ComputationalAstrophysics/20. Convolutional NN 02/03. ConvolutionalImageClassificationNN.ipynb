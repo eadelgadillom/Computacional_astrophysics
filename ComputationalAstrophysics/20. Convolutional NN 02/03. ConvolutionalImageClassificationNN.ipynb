version https://git-lfs.github.com/spec/v1
oid sha256:345bd81a2d91cfc86312fb459bde48bb9f6446acf02360eb74dd05601bd40b24
size 78234
