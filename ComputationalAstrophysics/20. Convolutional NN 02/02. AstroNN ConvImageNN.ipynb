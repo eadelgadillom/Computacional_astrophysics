version https://git-lfs.github.com/spec/v1
oid sha256:b2db81e3b9718b9ea74c4fe154ee8896ab676214d31c770d58de9b8520c21420
size 128420
