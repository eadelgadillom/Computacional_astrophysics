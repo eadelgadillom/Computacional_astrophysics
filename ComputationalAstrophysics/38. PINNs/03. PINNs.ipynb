version https://git-lfs.github.com/spec/v1
oid sha256:dfd926531bb57f237761296e1d720fce8b754c886686efbcdc3612571f97cb89
size 151334
