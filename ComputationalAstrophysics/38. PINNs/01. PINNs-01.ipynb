version https://git-lfs.github.com/spec/v1
oid sha256:1b3e5388eac9ee3cf5439c58f1ae702fe9ed6fb39d1864b1cda0d86e4b025767
size 138804
