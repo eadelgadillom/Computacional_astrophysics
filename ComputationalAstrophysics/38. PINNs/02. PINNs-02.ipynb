version https://git-lfs.github.com/spec/v1
oid sha256:2c067c4a274b02ff6f91bc38d23fd411eedc7a46ba4a96e47cfc436006d393d5
size 142048
