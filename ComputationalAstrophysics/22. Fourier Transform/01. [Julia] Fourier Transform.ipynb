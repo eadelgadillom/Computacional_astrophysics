version https://git-lfs.github.com/spec/v1
oid sha256:15fb99d5992bcbd0e60e7022e313407e1138e122d1930840a408f5c3234ba24c
size 1454229
