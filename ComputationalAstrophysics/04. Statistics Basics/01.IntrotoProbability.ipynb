{
 "cells": [
  {
   "cell_type": "markdown",
   "metadata": {
    "id": "BJ0hvp2OPcHF"
   },
   "source": [
    "![Astrofisica Computacional](../../../logo.png)"
   ]
  },
  {
   "cell_type": "markdown",
   "metadata": {},
   "source": [
    "---\n",
    "## 01. Introduction to Probability\n",
    "\n",
    "\n",
    "Eduard Larrañaga (ealarranaga@unal.edu.co)\n",
    "\n",
    "---"
   ]
  },
  {
   "cell_type": "markdown",
   "metadata": {
    "id": "yO85mmNxPcHN"
   },
   "source": [
    "### About this notebook\n",
    "\n",
    "In this worksheet, we introduce some basic aspects about probility. \n",
    "\n",
    "---"
   ]
  },
  {
   "cell_type": "markdown",
   "metadata": {
    "id": "2xDKeVAb8Y2o"
   },
   "source": [
    "# Some Common Univariate Functions\n",
    " \n",
    "## The Uniform Distribution\n",
    "\n",
    "The **Uniform** distribution (*top-hat* or *box*) is defined as\n",
    "\n",
    "\\begin{equation}\n",
    "p(x;\\mu, W ) =  \n",
    "\\begin{cases}\n",
    "\\frac{1}{W} &\\text{ for } \\left| x- \\mu \\right| \\leq \\frac{W}{2}\\\\\n",
    "0 &\\text{ otherwise} .\n",
    "\\end{cases}\n",
    "\\end{equation}\n",
    "\n",
    "The constant $W$ is the width of the box. Some well known results are:\n",
    "\n",
    "* $\\sigma = \\frac{W}{\\sqrt{12}} \\sim 0.3 W$\n",
    "* Skewness: $\\Sigma = 0$\n",
    "* Kurtosis: $K = -1.2$ (i.e. platykurtic)\n",
    "\n",
    "We will use the implementation given in [scipy.stats.uniform](https://docs.scipy.org/doc/scipy/reference/generated/scipy.stats.uniform.html)"
   ]
  },
  {
   "cell_type": "code",
   "execution_count": 1,
   "metadata": {},
   "outputs": [],
   "source": [
    "from scipy import stats\n",
    "import matplotlib.pyplot as plt\n",
    "import numpy as np"
   ]
  },
  {
   "cell_type": "code",
   "execution_count": 3,
   "metadata": {},
   "outputs": [
    {
     "data": {
      "text/plain": [
       "array([1.23505514, 1.65142373, 1.07917436, 1.38850846, 0.65330648,\n",
       "       1.80215928, 0.0498571 , 0.50634694, 1.61043247, 1.20310141])"
      ]
     },
     "execution_count": 3,
     "metadata": {},
     "output_type": "execute_result"
    }
   ],
   "source": [
    "# Uniform distribution with left edge = 0 and width W = 2\n",
    "uniform = stats.uniform(0,2)\n",
    "\n",
    "# retrieve 10 random values from the distribution\n",
    "uniform.rvs(10)"
   ]
  },
  {
   "cell_type": "code",
   "execution_count": 6,
   "metadata": {},
   "outputs": [
    {
     "data": {
      "text/plain": [
       "0.0"
      ]
     },
     "execution_count": 6,
     "metadata": {},
     "output_type": "execute_result"
    }
   ],
   "source": [
    "# Evaluate the pdf at one point, e.g. x=1\n",
    "uniform.pdf(5.5)"
   ]
  },
  {
   "cell_type": "code",
   "execution_count": 7,
   "metadata": {},
   "outputs": [
    {
     "data": {
      "image/png": "[encoded data removed]",
      "text/plain": [
       "<Figure size 640x480 with 1 Axes>"
      ]
     },
     "metadata": {},
     "output_type": "display_data"
    }
   ],
   "source": [
    "# Plot the uniform distribution\n",
    "xrange= np.linspace(-1,3,300)\n",
    "\n",
    "plt.figure()\n",
    "plt.plot(xrange, uniform.pdf(xrange))\n",
    "plt.title('Uniform Distribution')\n",
    "plt.xlabel(r'$x$')\n",
    "plt.ylabel(r'$p(x)$')\n",
    "plt.grid()\n",
    "plt.show()"
   ]
  },
  {
   "cell_type": "code",
   "execution_count": 8,
   "metadata": {},
   "outputs": [
    {
     "name": "stdout",
     "output_type": "stream",
     "text": [
      "Arithmetic mean: 0.9999999999999969\n"
     ]
    }
   ],
   "source": [
    "def mean(h):\n",
    "    from scipy.integrate import quad\n",
    "    import numpy as np\n",
    "    '''\n",
    "    Arithmetic Mean or Expectation value\n",
    "    --------------------------------------------------\n",
    "    Argument:\n",
    "    h(x): probability density function\n",
    "    --------------------------------------------------\n",
    "    '''\n",
    "    return quad(lambda x: x*h(x), -np.inf, np.inf)[0]\n",
    "\n",
    "print('Arithmetic mean:', mean(uniform.pdf))"
   ]
  },
  {
   "cell_type": "code",
   "execution_count": 9,
   "metadata": {},
   "outputs": [
    {
     "name": "stdout",
     "output_type": "stream",
     "text": [
      "Variance: 0.3333333333333165\n"
     ]
    }
   ],
   "source": [
    "def var(h):\n",
    "    from scipy.integrate import quad\n",
    "    import numpy as np\n",
    "    '''\n",
    "    Variance\n",
    "    --------------------------------------------------\n",
    "    Argument:\n",
    "    h(x): probability density function\n",
    "    --------------------------------------------------\n",
    "    '''\n",
    "    mu = mean(h)\n",
    "    return quad(lambda x: ((x - mu)**2)*h(x), -np.inf, np.inf)[0]\n",
    "\n",
    "print('Variance:',var(uniform.pdf))"
   ]
  },
  {
   "cell_type": "code",
   "execution_count": 10,
   "metadata": {},
   "outputs": [
    {
     "name": "stdout",
     "output_type": "stream",
     "text": [
      "Standard deviation: 0.5773502691896112\n"
     ]
    }
   ],
   "source": [
    "def std(h):\n",
    "    from scipy.integrate import quad\n",
    "    import numpy as np\n",
    "    '''\n",
    "    Standard Deviation\n",
    "    --------------------------------------------------\n",
    "    Argument:\n",
    "    h(x): probability density function\n",
    "    --------------------------------------------------\n",
    "    '''\n",
    "    return np.sqrt(var(h))\n",
    "\n",
    "print('Standard deviation:',std(uniform.pdf))"
   ]
  },
  {
   "cell_type": "code",
   "execution_count": 11,
   "metadata": {},
   "outputs": [
    {
     "name": "stdout",
     "output_type": "stream",
     "text": [
      "Skewness: 1.8224795186178947e-14\n"
     ]
    }
   ],
   "source": [
    "def skew(h):\n",
    "    from scipy.integrate import quad\n",
    "    import numpy as np\n",
    "    '''\n",
    "    Skewness\n",
    "    --------------------------------------------------\n",
    "    Argument:\n",
    "    h(x): probability density function\n",
    "    --------------------------------------------------\n",
    "    '''\n",
    "    mu = mean(h)\n",
    "    sigma = std(h)\n",
    "    return quad(lambda x: (((x - mu)/sigma)**3)*h(x), -np.inf, np.inf)[0]\n",
    "\n",
    "print('Skewness:',skew(uniform.pdf))"
   ]
  },
  {
   "cell_type": "code",
   "execution_count": 12,
   "metadata": {},
   "outputs": [
    {
     "name": "stdout",
     "output_type": "stream",
     "text": [
      "Kurtosis: -1.1999999999998026\n"
     ]
    }
   ],
   "source": [
    "def kurt(h):\n",
    "    from scipy.integrate import quad\n",
    "    import numpy as np\n",
    "    '''\n",
    "    Kurtosis\n",
    "    --------------------------------------------------\n",
    "    Argument:\n",
    "    h(x): probability density function\n",
    "    --------------------------------------------------\n",
    "    '''\n",
    "    mu = mean(h)\n",
    "    sigma = std(h)\n",
    "    return quad(lambda x: (((x - mu)/sigma)**4)*h(x), -np.inf, np.inf)[0] - 3\n",
    "\n",
    "print('Kurtosis:',kurt(uniform.pdf))"
   ]
  },
  {
   "cell_type": "markdown",
   "metadata": {},
   "source": [
    "These moments of the distribution can also be calculated using the method `.stats(moments='mvsk')`"
   ]
  },
  {
   "cell_type": "code",
   "execution_count": 13,
   "metadata": {},
   "outputs": [
    {
     "name": "stdout",
     "output_type": "stream",
     "text": [
      "Arithmetic mean: 1.0\n",
      "Variance: 0.3333333333333333\n",
      "Skewness: 0.0\n",
      "Kurtosis: -1.2\n"
     ]
    }
   ],
   "source": [
    "mean0, var0, skew0, kurt0 = uniform.stats(moments='mvsk')\n",
    "\n",
    "print('Arithmetic mean:',mean0)\n",
    "print('Variance:',var0)\n",
    "print('Skewness:',skew0)\n",
    "print('Kurtosis:',kurt0)"
   ]
  },
  {
   "cell_type": "markdown",
   "metadata": {},
   "source": [
    "---\n",
    "## The Gaussian (normal) Distribution\n",
    "\n",
    "The Gaussian (or normal) distribution is defined by\n",
    "\n",
    "\\begin{equation}\n",
    "p(x; \\mu, \\sigma) = \\frac{1}{\\sigma \\sqrt{2\\pi}} \\exp \\left[ -\\frac{(x-\\mu)^2}{2\\sigma^2}\\right]\n",
    "\\end{equation}\n",
    "\n",
    "Note that this distribution incorporates explicitly the average $\\mu$ and the standard deviation $\\sigma$.\n",
    "\n",
    "We will use the implementation given in [scipy.stats.norm](https://docs.scipy.org/doc/scipy/reference/generated/scipy.stats.norm.html)"
   ]
  },
  {
   "cell_type": "code",
   "execution_count": 15,
   "metadata": {
    "id": "KhhUFoagyLnV",
    "scrolled": true
   },
   "outputs": [
    {
     "data": {
      "text/plain": [
       "array([ 1.71393156,  0.76140473,  0.43657834, -1.13489094, -0.73580114,\n",
       "        1.63177684,  1.67834261, -1.27202084, -2.54972866, -1.83466566])"
      ]
     },
     "execution_count": 15,
     "metadata": {},
     "output_type": "execute_result"
    }
   ],
   "source": [
    "# Uniform distribution with mean = 0 and std = 1.5\n",
    "gaussian = stats.norm(0,1.5)\n",
    "\n",
    "# retrieve 10 random values from the distribution\n",
    "gaussian.rvs(10)"
   ]
  },
  {
   "cell_type": "code",
   "execution_count": 16,
   "metadata": {},
   "outputs": [
    {
     "data": {
      "text/plain": [
       "0.2659615202676218"
      ]
     },
     "execution_count": 16,
     "metadata": {},
     "output_type": "execute_result"
    }
   ],
   "source": [
    "# Evaluate the pdf at one point, e.g. x=0\n",
    "gaussian.pdf(0)"
   ]
  },
  {
   "cell_type": "code",
   "execution_count": 17,
   "metadata": {
    "id": "r4Q37U7kyTDh"
   },
   "outputs": [
    {
     "data": {
      "image/png": "[encoded data removed]",
      "text/plain": [
       "<Figure size 640x480 with 1 Axes>"
      ]
     },
     "metadata": {},
     "output_type": "display_data"
    }
   ],
   "source": [
    "# Plot the uniform distribution\n",
    "xrange= np.linspace(-5,5,300)\n",
    "\n",
    "plt.figure()\n",
    "plt.plot(xrange, gaussian.pdf(xrange))\n",
    "plt.title('Gaussian Distribution')\n",
    "plt.xlabel(r'$x$')\n",
    "plt.ylabel(r'$p(x)$')\n",
    "plt.grid()\n",
    "plt.show()"
   ]
  },
  {
   "cell_type": "markdown",
   "metadata": {
    "id": "oLBio4Qy8Afq"
   },
   "source": [
    "The properties of this distribution are:"
   ]
  },
  {
   "cell_type": "code",
   "execution_count": 18,
   "metadata": {
    "colab": {
     "base_uri": "https://localhost:8080/"
    },
    "executionInfo": {
     "elapsed": 1269,
     "status": "ok",
     "timestamp": 1609791667733,
     "user": {
      "displayName": "Eduard Alexis Larranaga",
      "photoUrl": "https://lh3.googleusercontent.com/a-/AOh14GgCVABzEgj-rCdyxWa29RnA0kIYUCXAaVbnRYOEhQ=s64",
      "userId": "04402438389940282602"
     },
     "user_tz": 300
    },
    "id": "CKDIRCiL78ej",
    "outputId": "5fc17711-a2d0-4296-e634-c16aaf573077"
   },
   "outputs": [
    {
     "name": "stdout",
     "output_type": "stream",
     "text": [
      "Arithmetic mean: 0.0\n",
      "Variance: 2.2500000000000004\n",
      "Standard deviation: 1.5000000000000002\n",
      "Skewness: 0.0\n",
      "Kurtosis: 5.329070518200751e-15\n"
     ]
    }
   ],
   "source": [
    "print('Arithmetic mean:',mean(gaussian.pdf))\n",
    "print('Variance:',var(gaussian.pdf))\n",
    "print('Standard deviation:',std(gaussian.pdf))\n",
    "print('Skewness:',skew(gaussian.pdf))\n",
    "print('Kurtosis:',kurt(gaussian.pdf))"
   ]
  },
  {
   "cell_type": "markdown",
   "metadata": {},
   "source": [
    "As before, the moments of the distribution can also be calculated using the method `.stats(moments='mvsk')`"
   ]
  },
  {
   "cell_type": "code",
   "execution_count": 19,
   "metadata": {},
   "outputs": [
    {
     "name": "stdout",
     "output_type": "stream",
     "text": [
      "Arithmetic mean: 0.0\n",
      "Variance: 2.25\n",
      "Skewness: 0.0\n",
      "Kurtosis: 0.0\n"
     ]
    }
   ],
   "source": [
    "mean0, var0, skew0, kurt0 = gaussian.stats(moments='mvsk')\n",
    "\n",
    "print('Arithmetic mean:',mean0)\n",
    "print('Variance:',var0)\n",
    "print('Skewness:',skew0)\n",
    "print('Kurtosis:',kurt0)"
   ]
  },
  {
   "cell_type": "markdown",
   "metadata": {
    "id": "Xk5N73sG9U8M"
   },
   "source": [
    "## The Binomial Distribution\n",
    "\n",
    "The Binomial distribution describes a variable that can take only two discrete values, say $0$ or $1$. If the probability to obtain the number $1$ is $b$, the distribution of the discrete variable $k$ that measures how many times the result $1$ occurred in $N$ trials is given by the expression\n",
    "\n",
    "\\begin{equation}\n",
    "p(k; b, N) = \\frac{N!}{k! (N-k)!} b^k (1-b)^{N-k}\n",
    "\\end{equation}\n",
    "\n",
    "The particular case $N=1$ is known as the *Bernoulli distribution*.\n",
    "\n",
    "For the binomial distribution, the expected value of successes is $\\bar{k} = bN$ and its standard deviation is $\\sigma = \\sqrt{Nb(1-b)}$.\n",
    "\n",
    "We will use the implementation given in [scipy.stats.binom](https://docs.scipy.org/doc/scipy/reference/generated/scipy.stats.binom.html)\n"
   ]
  },
  {
   "cell_type": "code",
   "execution_count": 20,
   "metadata": {
    "colab": {
     "base_uri": "https://localhost:8080/",
     "height": 334
    },
    "executionInfo": {
     "elapsed": 1467,
     "status": "ok",
     "timestamp": 1609791675760,
     "user": {
      "displayName": "Eduard Alexis Larranaga",
      "photoUrl": "https://lh3.googleusercontent.com/a-/AOh14GgCVABzEgj-rCdyxWa29RnA0kIYUCXAaVbnRYOEhQ=s64",
      "userId": "04402438389940282602"
     },
     "user_tz": 300
    },
    "id": "Qw7C011L9UdC",
    "outputId": "00dfc190-beac-4fca-bf1e-dbd8959124ec"
   },
   "outputs": [
    {
     "data": {
      "text/plain": [
       "array([13, 13, 12, 14, 12, 14, 14, 14,  9, 15])"
      ]
     },
     "execution_count": 20,
     "metadata": {},
     "output_type": "execute_result"
    }
   ],
   "source": [
    "# Binomial distribution with N = 20 and b = 0.7\n",
    "binom = stats.binom(20, 0.7)\n",
    "\n",
    "# Retrieve ten random numbers form this distribution\n",
    "binom.rvs(10)"
   ]
  },
  {
   "cell_type": "code",
   "execution_count": 28,
   "metadata": {},
   "outputs": [
    {
     "data": {
      "text/plain": [
       "0.16426198521723653"
      ]
     },
     "execution_count": 28,
     "metadata": {},
     "output_type": "execute_result"
    }
   ],
   "source": [
    "# binomial distribution evaluated at k=10\n",
    "\n",
    "binom.pmf(13)"
   ]
  },
  {
   "cell_type": "code",
   "execution_count": 29,
   "metadata": {
    "colab": {
     "base_uri": "https://localhost:8080/",
     "height": 334
    },
    "executionInfo": {
     "elapsed": 1382,
     "status": "ok",
     "timestamp": 1609791685447,
     "user": {
      "displayName": "Eduard Alexis Larranaga",
      "photoUrl": "https://lh3.googleusercontent.com/a-/AOh14GgCVABzEgj-rCdyxWa29RnA0kIYUCXAaVbnRYOEhQ=s64",
      "userId": "04402438389940282602"
     },
     "user_tz": 300
    },
    "id": "5wOmio7q7nsb",
    "outputId": "0b1363ef-3395-453f-c78e-2c05c2a8f9d9"
   },
   "outputs": [
    {
     "data": {
      "image/png": "[encoded data removed]",
      "text/plain": [
       "<Figure size 640x480 with 1 Axes>"
      ]
     },
     "metadata": {},
     "output_type": "display_data"
    }
   ],
   "source": [
    "# Plot the uniform distribution\n",
    "krange= range(0,20)\n",
    "\n",
    "plt.figure()\n",
    "plt.stem(krange, binom.pmf(krange))\n",
    "plt.title('Binomial Distribution')\n",
    "plt.xlabel(r'$x$')\n",
    "plt.ylabel(r'$p(x)$')\n",
    "plt.grid()\n",
    "plt.show()"
   ]
  },
  {
   "cell_type": "markdown",
   "metadata": {
    "id": "lnWDSfxX-sMk"
   },
   "source": [
    "Since this is a discrete distribution, we must define the statistical properties again,"
   ]
  },
  {
   "cell_type": "code",
   "execution_count": 30,
   "metadata": {},
   "outputs": [
    {
     "name": "stdout",
     "output_type": "stream",
     "text": [
      "Arithmetic mean: 14.0\n"
     ]
    }
   ],
   "source": [
    "def meand(h):\n",
    "    import numpy as np\n",
    "    '''\n",
    "    Arithmetic Mean or Expectation value\n",
    "    --------------------------------------------------\n",
    "    Argument:\n",
    "    h(x): probability density function\n",
    "    --------------------------------------------------\n",
    "    '''\n",
    "    krange = range(0,100)\n",
    "    return np.sum(krange*h(krange))/np.sum(h(krange))\n",
    "\n",
    "print('Arithmetic mean:', meand(binom.pmf))"
   ]
  },
  {
   "cell_type": "code",
   "execution_count": 31,
   "metadata": {
    "colab": {
     "base_uri": "https://localhost:8080/"
    },
    "executionInfo": {
     "elapsed": 492,
     "status": "ok",
     "timestamp": 1609791755780,
     "user": {
      "displayName": "Eduard Alexis Larranaga",
      "photoUrl": "https://lh3.googleusercontent.com/a-/AOh14GgCVABzEgj-rCdyxWa29RnA0kIYUCXAaVbnRYOEhQ=s64",
      "userId": "04402438389940282602"
     },
     "user_tz": 300
    },
    "id": "56RC6GnI--hr",
    "outputId": "b13cd757-c955-400d-9e54-3bb09cb34a0c"
   },
   "outputs": [
    {
     "name": "stdout",
     "output_type": "stream",
     "text": [
      "Variance: 4.199999999999998\n"
     ]
    }
   ],
   "source": [
    "def vard(h):\n",
    "    import numpy as np\n",
    "    '''\n",
    "    Variance\n",
    "    --------------------------------------------------\n",
    "    Argument:\n",
    "    h(x): probability density function\n",
    "    --------------------------------------------------\n",
    "    '''\n",
    "    krange = range(0,100)\n",
    "    mu = meand(h)\n",
    "    return np.sum(((krange - mu)**2)*h(krange))/np.sum(h(krange))\n",
    "\n",
    "print('Variance:',vard(binom.pmf))"
   ]
  },
  {
   "cell_type": "code",
   "execution_count": 32,
   "metadata": {},
   "outputs": [
    {
     "name": "stdout",
     "output_type": "stream",
     "text": [
      "Standard deviation: 2.0493901531919194\n"
     ]
    }
   ],
   "source": [
    "def stdd(h):\n",
    "    import numpy as np\n",
    "    '''\n",
    "    Standard Deviation\n",
    "    --------------------------------------------------\n",
    "    Argument:\n",
    "    h(x): probability density function\n",
    "    --------------------------------------------------\n",
    "    '''\n",
    "    return np.sqrt(vard(h))\n",
    "\n",
    "print('Standard deviation:',stdd(binom.pmf))"
   ]
  },
  {
   "cell_type": "code",
   "execution_count": 33,
   "metadata": {},
   "outputs": [
    {
     "name": "stdout",
     "output_type": "stream",
     "text": [
      "Skewness: -0.1951800145897077\n"
     ]
    }
   ],
   "source": [
    "def skewd(h):\n",
    "    import numpy as np\n",
    "    '''\n",
    "    Skewness\n",
    "    --------------------------------------------------\n",
    "    Argument:\n",
    "    h(x): probability density function\n",
    "    --------------------------------------------------\n",
    "    '''\n",
    "    krange = range(0,100)\n",
    "    N = len(krange)\n",
    "    mu = meand(h)\n",
    "    sigma = stdd(h)\n",
    "    return sum((((krange - mu)/sigma)**3)*h(krange))/np.sum(h(krange))\n",
    "\n",
    "print('Skewness:',skewd(binom.pmf))"
   ]
  },
  {
   "cell_type": "code",
   "execution_count": 34,
   "metadata": {},
   "outputs": [
    {
     "name": "stdout",
     "output_type": "stream",
     "text": [
      "Kurtosis: -0.061904761904761685\n"
     ]
    }
   ],
   "source": [
    "def kurtd(h):\n",
    "    import numpy as np\n",
    "    '''\n",
    "    Kurtosis\n",
    "    --------------------------------------------------\n",
    "    Argument:\n",
    "    h(x): probability density function\n",
    "    --------------------------------------------------\n",
    "    '''\n",
    "    krange = range(0,100)\n",
    "    mu = meand(h)\n",
    "    sigma = stdd(h)\n",
    "    return sum((((krange - mu)/sigma)**4)*h(krange))/np.sum(h(krange)) - 3\n",
    "\n",
    "print('Kurtosis:',kurtd(binom.pmf))"
   ]
  },
  {
   "cell_type": "markdown",
   "metadata": {},
   "source": [
    "As before, the moments of the distribution can also be calculated using the method `.stats(moments='mvsk')`"
   ]
  },
  {
   "cell_type": "code",
   "execution_count": 35,
   "metadata": {},
   "outputs": [
    {
     "name": "stdout",
     "output_type": "stream",
     "text": [
      "Arithmetic mean: 14.0\n",
      "Variance: 4.200000000000001\n",
      "Skewness: -0.19518001458970657\n",
      "Kurtosis: -0.06190476190476188\n"
     ]
    }
   ],
   "source": [
    "mean0, var0, skew0, kurt0 = binom.stats(moments='mvsk')\n",
    "\n",
    "print('Arithmetic mean:',mean0)\n",
    "print('Variance:',var0)\n",
    "print('Skewness:',skew0)\n",
    "print('Kurtosis:',kurt0)"
   ]
  },
  {
   "cell_type": "code",
   "execution_count": null,
   "metadata": {},
   "outputs": [],
   "source": []
  }
 ],
 "metadata": {
  "@webio": {
   "lastCommId": null,
   "lastKernelId": null
  },
  "colab": {
   "collapsed_sections": [],
   "name": "01.DataAnalysis-StatisticsBasics.ipynb",
   "provenance": []
  },
  "kernelspec": {
   "display_name": "Python 3 (ipykernel)",
   "language": "python",
   "name": "python3"
  },
  "language_info": {
   "codemirror_mode": {
    "name": "ipython",
    "version": 3
   },
   "file_extension": ".py",
   "mimetype": "text/x-python",
   "name": "python",
   "nbconvert_exporter": "python",
   "pygments_lexer": "ipython3",
   "version": "3.10.9"
  },
  "vscode": {
   "interpreter": {
    "hash": "7cedb68cf63e90bc16f84e333713309767fdee79fa6bfd701075226f4fc8e495"
   }
  }
 },
 "nbformat": 4,
 "nbformat_minor": 1
}
