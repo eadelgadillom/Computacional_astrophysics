version https://git-lfs.github.com/spec/v1
oid sha256:e3bc7db18a7ddc454a4712c027f3646fb82178ec311dedf298480aef3a57c155
size 255717
