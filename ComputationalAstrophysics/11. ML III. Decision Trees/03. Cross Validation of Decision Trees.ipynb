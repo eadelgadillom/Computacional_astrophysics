version https://git-lfs.github.com/spec/v1
oid sha256:1976b446187a37263403e89ffcdab587c0765108634db6eeec78f54523af26a3
size 161780
