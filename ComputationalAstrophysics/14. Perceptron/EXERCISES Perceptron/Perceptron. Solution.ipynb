version https://git-lfs.github.com/spec/v1
oid sha256:9b83c5ed0e4e4d5b72ff4c9c3682f5fc5fe1c1a62dcd17d1cd347153e69a1e2b
size 71864
