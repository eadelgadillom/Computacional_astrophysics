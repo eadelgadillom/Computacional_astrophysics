version https://git-lfs.github.com/spec/v1
oid sha256:30c707c267e437f47ef861c1b98bd0c0effb9bfbe304a1c6f584140ca19a75cf
size 24307
