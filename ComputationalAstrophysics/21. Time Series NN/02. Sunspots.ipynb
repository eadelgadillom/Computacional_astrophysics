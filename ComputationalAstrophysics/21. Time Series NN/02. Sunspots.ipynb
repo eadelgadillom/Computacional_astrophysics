version https://git-lfs.github.com/spec/v1
oid sha256:e09f51ae1d2d7cd09e2820028b6d5be7529348b08c1f9d621bdb4bec9096348c
size 220763
