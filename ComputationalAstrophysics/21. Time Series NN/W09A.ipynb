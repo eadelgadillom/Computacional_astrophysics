version https://git-lfs.github.com/spec/v1
oid sha256:423799e7d55fea2d53c067299795a9a8970ef2f1276f5d58bf39f08ec175d2b1
size 89235
