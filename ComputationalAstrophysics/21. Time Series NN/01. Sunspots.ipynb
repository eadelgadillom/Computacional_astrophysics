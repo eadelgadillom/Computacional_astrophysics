version https://git-lfs.github.com/spec/v1
oid sha256:bfdeda0bdff575098ed7b34e0451444929c574ca2b2b7717cd4bfc39d163f29d
size 225559
