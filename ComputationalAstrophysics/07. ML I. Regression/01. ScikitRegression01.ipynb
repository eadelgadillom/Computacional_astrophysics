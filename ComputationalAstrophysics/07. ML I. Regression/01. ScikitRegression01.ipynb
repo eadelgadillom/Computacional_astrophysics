{
 "cells": [
  {
   "cell_type": "markdown",
   "metadata": {
    "id": "uci3c9QNPq5X"
   },
   "source": [
    "![Astrofisica Computacional](../../../logo.png)"
   ]
  },
  {
   "cell_type": "markdown",
   "metadata": {},
   "source": [
    "---\n",
    "## 01. Linear Fit with SciKit-Learn. Example 1\n",
    "\n",
    "\n",
    "Eduard Larrañaga (ealarranaga@unal.edu.co)\n",
    "\n",
    "---"
   ]
  },
  {
   "cell_type": "markdown",
   "metadata": {
    "id": "syQewdfXPq5c"
   },
   "source": [
    "\n",
    "### About this notebook\n",
    "\n",
    "In this worksheet, we will use the `scikit-learn` package to make a linear fit of Hubble's experimental data.\n",
    "\n",
    "---"
   ]
  },
  {
   "cell_type": "code",
   "execution_count": 1,
   "metadata": {
    "id": "Hgeqy2dpPq5c"
   },
   "outputs": [],
   "source": [
    "import numpy as np\n",
    "from matplotlib import pyplot as plt\n",
    "#import seaborn as sns\n",
    "#sns.set()\n",
    "import pandas as pd\n",
    "\n",
    "from sklearn.linear_model import LinearRegression"
   ]
  },
  {
   "cell_type": "markdown",
   "metadata": {
    "id": "T4ZjYU8PPq5d"
   },
   "source": [
    "### Edwin Hubble's data\n",
    "\n",
    "Once again, we will use 1920's experimental data by Hubble and Humason, \n",
    "\n",
    "https://ui.adsabs.harvard.edu/abs/1931ApJ....74...43H\n",
    "\n",
    "We use again the dataset summarized in the file `hubble.csv`.\n",
    "\n"
   ]
  },
  {
   "cell_type": "code",
   "execution_count": 2,
   "metadata": {
    "colab": {
     "base_uri": "https://localhost:8080/",
     "height": 359
    },
    "executionInfo": {
     "elapsed": 1836,
     "status": "ok",
     "timestamp": 1611713860358,
     "user": {
      "displayName": "Eduard Alexis Larranaga",
      "photoUrl": "https://lh3.googleusercontent.com/a-/AOh14GgCVABzEgj-rCdyxWa29RnA0kIYUCXAaVbnRYOEhQ=s64",
      "userId": "04402438389940282602"
     },
     "user_tz": 300
    },
    "id": "wVoV8LCoPq5d",
    "outputId": "6d2055ba-3213-43fc-f6f0-97dae2b3e97a"
   },
   "outputs": [
    {
     "data": {
      "text/html": [
       "<div>\n",
       "<style scoped>\n",
       "    .dataframe tbody tr th:only-of-type {\n",
       "        vertical-align: middle;\n",
       "    }\n",
       "\n",
       "    .dataframe tbody tr th {\n",
       "        vertical-align: top;\n",
       "    }\n",
       "\n",
       "    .dataframe thead th {\n",
       "        text-align: right;\n",
       "    }\n",
       "</style>\n",
       "<table border=\"1\" class=\"dataframe\">\n",
       "  <thead>\n",
       "    <tr style=\"text-align: right;\">\n",
       "      <th></th>\n",
       "      <th>Name</th>\n",
       "      <th>N_measurements</th>\n",
       "      <th>velocity</th>\n",
       "      <th>mean_m</th>\n",
       "    </tr>\n",
       "  </thead>\n",
       "  <tbody>\n",
       "    <tr>\n",
       "      <th>0</th>\n",
       "      <td>Virgo</td>\n",
       "      <td>7</td>\n",
       "      <td>890</td>\n",
       "      <td>12.5</td>\n",
       "    </tr>\n",
       "    <tr>\n",
       "      <th>1</th>\n",
       "      <td>Pegasus</td>\n",
       "      <td>5</td>\n",
       "      <td>3810</td>\n",
       "      <td>15.5</td>\n",
       "    </tr>\n",
       "    <tr>\n",
       "      <th>2</th>\n",
       "      <td>Pisces</td>\n",
       "      <td>4</td>\n",
       "      <td>4630</td>\n",
       "      <td>15.4</td>\n",
       "    </tr>\n",
       "    <tr>\n",
       "      <th>3</th>\n",
       "      <td>Cancer</td>\n",
       "      <td>2</td>\n",
       "      <td>4820</td>\n",
       "      <td>16.0</td>\n",
       "    </tr>\n",
       "    <tr>\n",
       "      <th>4</th>\n",
       "      <td>Perseus</td>\n",
       "      <td>4</td>\n",
       "      <td>5230</td>\n",
       "      <td>16.4</td>\n",
       "    </tr>\n",
       "    <tr>\n",
       "      <th>5</th>\n",
       "      <td>Coma</td>\n",
       "      <td>3</td>\n",
       "      <td>7500</td>\n",
       "      <td>17.0</td>\n",
       "    </tr>\n",
       "    <tr>\n",
       "      <th>6</th>\n",
       "      <td>Ursa_Major</td>\n",
       "      <td>1</td>\n",
       "      <td>11800</td>\n",
       "      <td>18.0</td>\n",
       "    </tr>\n",
       "    <tr>\n",
       "      <th>7</th>\n",
       "      <td>Leo</td>\n",
       "      <td>1</td>\n",
       "      <td>19600</td>\n",
       "      <td>19.0</td>\n",
       "    </tr>\n",
       "    <tr>\n",
       "      <th>8</th>\n",
       "      <td>[No_Name]</td>\n",
       "      <td>16</td>\n",
       "      <td>2350</td>\n",
       "      <td>13.8</td>\n",
       "    </tr>\n",
       "    <tr>\n",
       "      <th>9</th>\n",
       "      <td>[No_Name]</td>\n",
       "      <td>16</td>\n",
       "      <td>630</td>\n",
       "      <td>11.6</td>\n",
       "    </tr>\n",
       "  </tbody>\n",
       "</table>\n",
       "</div>"
      ],
      "text/plain": [
       "         Name  N_measurements  velocity  mean_m\n",
       "0       Virgo               7       890    12.5\n",
       "1     Pegasus               5      3810    15.5\n",
       "2      Pisces               4      4630    15.4\n",
       "3      Cancer               2      4820    16.0\n",
       "4     Perseus               4      5230    16.4\n",
       "5        Coma               3      7500    17.0\n",
       "6  Ursa_Major               1     11800    18.0\n",
       "7         Leo               1     19600    19.0\n",
       "8   [No_Name]              16      2350    13.8\n",
       "9   [No_Name]              16       630    11.6"
      ]
     },
     "execution_count": 2,
     "metadata": {},
     "output_type": "execute_result"
    }
   ],
   "source": [
    "df = pd.read_csv(\"HubbleData/hubble.csv\")\n",
    "\n",
    "df"
   ]
  },
  {
   "cell_type": "code",
   "execution_count": 3,
   "metadata": {
    "colab": {
     "base_uri": "https://localhost:8080/",
     "height": 297
    },
    "executionInfo": {
     "elapsed": 436,
     "status": "ok",
     "timestamp": 1611713870068,
     "user": {
      "displayName": "Eduard Alexis Larranaga",
      "photoUrl": "https://lh3.googleusercontent.com/a-/AOh14GgCVABzEgj-rCdyxWa29RnA0kIYUCXAaVbnRYOEhQ=s64",
      "userId": "04402438389940282602"
     },
     "user_tz": 300
    },
    "id": "5uhKjmtoPq5e",
    "outputId": "657bc736-e45f-43d8-f45e-b55c9166fd6a"
   },
   "outputs": [
    {
     "data": {
      "text/html": [
       "<div>\n",
       "<style scoped>\n",
       "    .dataframe tbody tr th:only-of-type {\n",
       "        vertical-align: middle;\n",
       "    }\n",
       "\n",
       "    .dataframe tbody tr th {\n",
       "        vertical-align: top;\n",
       "    }\n",
       "\n",
       "    .dataframe thead th {\n",
       "        text-align: right;\n",
       "    }\n",
       "</style>\n",
       "<table border=\"1\" class=\"dataframe\">\n",
       "  <thead>\n",
       "    <tr style=\"text-align: right;\">\n",
       "      <th></th>\n",
       "      <th>N_measurements</th>\n",
       "      <th>velocity</th>\n",
       "      <th>mean_m</th>\n",
       "    </tr>\n",
       "  </thead>\n",
       "  <tbody>\n",
       "    <tr>\n",
       "      <th>count</th>\n",
       "      <td>10.000000</td>\n",
       "      <td>10.000000</td>\n",
       "      <td>10.000000</td>\n",
       "    </tr>\n",
       "    <tr>\n",
       "      <th>mean</th>\n",
       "      <td>5.900000</td>\n",
       "      <td>6126.000000</td>\n",
       "      <td>15.520000</td>\n",
       "    </tr>\n",
       "    <tr>\n",
       "      <th>std</th>\n",
       "      <td>5.626327</td>\n",
       "      <td>5750.565576</td>\n",
       "      <td>2.331332</td>\n",
       "    </tr>\n",
       "    <tr>\n",
       "      <th>min</th>\n",
       "      <td>1.000000</td>\n",
       "      <td>630.000000</td>\n",
       "      <td>11.600000</td>\n",
       "    </tr>\n",
       "    <tr>\n",
       "      <th>25%</th>\n",
       "      <td>2.250000</td>\n",
       "      <td>2715.000000</td>\n",
       "      <td>14.200000</td>\n",
       "    </tr>\n",
       "    <tr>\n",
       "      <th>50%</th>\n",
       "      <td>4.000000</td>\n",
       "      <td>4725.000000</td>\n",
       "      <td>15.750000</td>\n",
       "    </tr>\n",
       "    <tr>\n",
       "      <th>75%</th>\n",
       "      <td>6.500000</td>\n",
       "      <td>6932.500000</td>\n",
       "      <td>16.850000</td>\n",
       "    </tr>\n",
       "    <tr>\n",
       "      <th>max</th>\n",
       "      <td>16.000000</td>\n",
       "      <td>19600.000000</td>\n",
       "      <td>19.000000</td>\n",
       "    </tr>\n",
       "  </tbody>\n",
       "</table>\n",
       "</div>"
      ],
      "text/plain": [
       "       N_measurements      velocity     mean_m\n",
       "count       10.000000     10.000000  10.000000\n",
       "mean         5.900000   6126.000000  15.520000\n",
       "std          5.626327   5750.565576   2.331332\n",
       "min          1.000000    630.000000  11.600000\n",
       "25%          2.250000   2715.000000  14.200000\n",
       "50%          4.000000   4725.000000  15.750000\n",
       "75%          6.500000   6932.500000  16.850000\n",
       "max         16.000000  19600.000000  19.000000"
      ]
     },
     "execution_count": 3,
     "metadata": {},
     "output_type": "execute_result"
    }
   ],
   "source": [
    "df.describe()"
   ]
  },
  {
   "cell_type": "markdown",
   "metadata": {
    "id": "n_8FKV48Pq5e"
   },
   "source": [
    "The data in the data frame includes 10 samples (Nebulae) with 4 features:\n",
    "\n",
    "**Name** : Name of the nebula \\\n",
    "**N_measurement** : Number of velocities measured by Hubble and Humason \\\n",
    "**velocity** : Mean velocity of the nebula measured in km/s \\\n",
    "**mean_m** : Apparent magnitude of the nebula\n",
    "\n",
    "___\n",
    "\n",
    "Remember that the apparent magnitude is related to the distance in parsecs through the relation\n",
    "\n",
    "$\\log_{10} d = \\frac{m-M+5}{5}$\n",
    "\n",
    "where $M=-13.8$ is the absolute magnitude reported by Hubble and considered as a constant in the paper.\n",
    "\n",
    "We already know that the linear fit will be made between the apparent magnitude and the logarithm of the velocity and therefore we introduce a new column in the dataframe.\n"
   ]
  },
  {
   "cell_type": "code",
   "execution_count": 3,
   "metadata": {
    "colab": {
     "base_uri": "https://localhost:8080/",
     "height": 359
    },
    "executionInfo": {
     "elapsed": 476,
     "status": "ok",
     "timestamp": 1611713888941,
     "user": {
      "displayName": "Eduard Alexis Larranaga",
      "photoUrl": "https://lh3.googleusercontent.com/a-/AOh14GgCVABzEgj-rCdyxWa29RnA0kIYUCXAaVbnRYOEhQ=s64",
      "userId": "04402438389940282602"
     },
     "user_tz": 300
    },
    "id": "fX5e8rVkPq5e",
    "outputId": "fbc79b25-85b5-44dc-fdf3-30066b1eb5e6"
   },
   "outputs": [
    {
     "data": {
      "text/html": [
       "<div>\n",
       "<style scoped>\n",
       "    .dataframe tbody tr th:only-of-type {\n",
       "        vertical-align: middle;\n",
       "    }\n",
       "\n",
       "    .dataframe tbody tr th {\n",
       "        vertical-align: top;\n",
       "    }\n",
       "\n",
       "    .dataframe thead th {\n",
       "        text-align: right;\n",
       "    }\n",
       "</style>\n",
       "<table border=\"1\" class=\"dataframe\">\n",
       "  <thead>\n",
       "    <tr style=\"text-align: right;\">\n",
       "      <th></th>\n",
       "      <th>Name</th>\n",
       "      <th>N_measurements</th>\n",
       "      <th>velocity</th>\n",
       "      <th>mean_m</th>\n",
       "      <th>log10_velocity</th>\n",
       "    </tr>\n",
       "  </thead>\n",
       "  <tbody>\n",
       "    <tr>\n",
       "      <th>0</th>\n",
       "      <td>Virgo</td>\n",
       "      <td>7</td>\n",
       "      <td>890</td>\n",
       "      <td>12.5</td>\n",
       "      <td>2.949390</td>\n",
       "    </tr>\n",
       "    <tr>\n",
       "      <th>1</th>\n",
       "      <td>Pegasus</td>\n",
       "      <td>5</td>\n",
       "      <td>3810</td>\n",
       "      <td>15.5</td>\n",
       "      <td>3.580925</td>\n",
       "    </tr>\n",
       "    <tr>\n",
       "      <th>2</th>\n",
       "      <td>Pisces</td>\n",
       "      <td>4</td>\n",
       "      <td>4630</td>\n",
       "      <td>15.4</td>\n",
       "      <td>3.665581</td>\n",
       "    </tr>\n",
       "    <tr>\n",
       "      <th>3</th>\n",
       "      <td>Cancer</td>\n",
       "      <td>2</td>\n",
       "      <td>4820</td>\n",
       "      <td>16.0</td>\n",
       "      <td>3.683047</td>\n",
       "    </tr>\n",
       "    <tr>\n",
       "      <th>4</th>\n",
       "      <td>Perseus</td>\n",
       "      <td>4</td>\n",
       "      <td>5230</td>\n",
       "      <td>16.4</td>\n",
       "      <td>3.718502</td>\n",
       "    </tr>\n",
       "    <tr>\n",
       "      <th>5</th>\n",
       "      <td>Coma</td>\n",
       "      <td>3</td>\n",
       "      <td>7500</td>\n",
       "      <td>17.0</td>\n",
       "      <td>3.875061</td>\n",
       "    </tr>\n",
       "    <tr>\n",
       "      <th>6</th>\n",
       "      <td>Ursa_Major</td>\n",
       "      <td>1</td>\n",
       "      <td>11800</td>\n",
       "      <td>18.0</td>\n",
       "      <td>4.071882</td>\n",
       "    </tr>\n",
       "    <tr>\n",
       "      <th>7</th>\n",
       "      <td>Leo</td>\n",
       "      <td>1</td>\n",
       "      <td>19600</td>\n",
       "      <td>19.0</td>\n",
       "      <td>4.292256</td>\n",
       "    </tr>\n",
       "    <tr>\n",
       "      <th>8</th>\n",
       "      <td>[No_Name]</td>\n",
       "      <td>16</td>\n",
       "      <td>2350</td>\n",
       "      <td>13.8</td>\n",
       "      <td>3.371068</td>\n",
       "    </tr>\n",
       "    <tr>\n",
       "      <th>9</th>\n",
       "      <td>[No_Name]</td>\n",
       "      <td>16</td>\n",
       "      <td>630</td>\n",
       "      <td>11.6</td>\n",
       "      <td>2.799341</td>\n",
       "    </tr>\n",
       "  </tbody>\n",
       "</table>\n",
       "</div>"
      ],
      "text/plain": [
       "         Name  N_measurements  velocity  mean_m  log10_velocity\n",
       "0       Virgo               7       890    12.5        2.949390\n",
       "1     Pegasus               5      3810    15.5        3.580925\n",
       "2      Pisces               4      4630    15.4        3.665581\n",
       "3      Cancer               2      4820    16.0        3.683047\n",
       "4     Perseus               4      5230    16.4        3.718502\n",
       "5        Coma               3      7500    17.0        3.875061\n",
       "6  Ursa_Major               1     11800    18.0        4.071882\n",
       "7         Leo               1     19600    19.0        4.292256\n",
       "8   [No_Name]              16      2350    13.8        3.371068\n",
       "9   [No_Name]              16       630    11.6        2.799341"
      ]
     },
     "execution_count": 3,
     "metadata": {},
     "output_type": "execute_result"
    }
   ],
   "source": [
    "df['log10_velocity'] = np.log10(df['velocity'])\n",
    "df"
   ]
  },
  {
   "cell_type": "code",
   "execution_count": null,
   "metadata": {
    "colab": {
     "base_uri": "https://localhost:8080/",
     "height": 297
    },
    "executionInfo": {
     "elapsed": 403,
     "status": "ok",
     "timestamp": 1611713892310,
     "user": {
      "displayName": "Eduard Alexis Larranaga",
      "photoUrl": "https://lh3.googleusercontent.com/a-/AOh14GgCVABzEgj-rCdyxWa29RnA0kIYUCXAaVbnRYOEhQ=s64",
      "userId": "04402438389940282602"
     },
     "user_tz": 300
    },
    "id": "kxNBzAtdPq5e",
    "outputId": "8acaa6a5-20a7-40c6-ec4c-f93e41d3eae9"
   },
   "outputs": [],
   "source": [
    "df.describe()"
   ]
  },
  {
   "cell_type": "code",
   "execution_count": 4,
   "metadata": {
    "colab": {
     "base_uri": "https://localhost:8080/",
     "height": 285
    },
    "executionInfo": {
     "elapsed": 724,
     "status": "ok",
     "timestamp": 1611713900487,
     "user": {
      "displayName": "Eduard Alexis Larranaga",
      "photoUrl": "https://lh3.googleusercontent.com/a-/AOh14GgCVABzEgj-rCdyxWa29RnA0kIYUCXAaVbnRYOEhQ=s64",
      "userId": "04402438389940282602"
     },
     "user_tz": 300
    },
    "id": "V5wEaqpVPq5f",
    "outputId": "81f6f580-0d03-41b5-8db2-2ef8a7c770d8"
   },
   "outputs": [
    {
     "data": {
      "image/png": "[encoded data removed]",
      "text/plain": [
       "<Figure size 640x480 with 1 Axes>"
      ]
     },
     "metadata": {},
     "output_type": "display_data"
    }
   ],
   "source": [
    "plt.scatter(df['mean_m'], df['log10_velocity'])\n",
    "plt.xlabel(r'apparent magnitude')\n",
    "plt.ylabel(r'logarithm of velocity')\n",
    "plt.show()"
   ]
  },
  {
   "cell_type": "markdown",
   "metadata": {
    "id": "X7bpstkdPq5f"
   },
   "source": [
    "### Linear Fit using  `scikit-learn`\n",
    "\n",
    "From the `scikit-learn.linear_model` package, we will import the function `LinearRegression`. COmplete documentation about it can be found at\n",
    "\n",
    "https://scikit-learn.org/stable/modules/generated/sklearn.linear_model.LinearRegression.html\n",
    "\n",
    "This function fits a linear model to minimize the residual sum of squares between the observed targets in the dataset and the targets predicted by the linear approximation (ordinary least squares fit).\n",
    "\n",
    "Before making the fit, we need to prepare our data. The `LinearRegression().fit()` metod receives as arguments **two arrays**. Hence, we will transform the dataframe features into arrays that will train the model. "
   ]
  },
  {
   "cell_type": "code",
   "execution_count": 5,
   "metadata": {
    "colab": {
     "base_uri": "https://localhost:8080/"
    },
    "executionInfo": {
     "elapsed": 481,
     "status": "ok",
     "timestamp": 1611714128426,
     "user": {
      "displayName": "Eduard Alexis Larranaga",
      "photoUrl": "https://lh3.googleusercontent.com/a-/AOh14GgCVABzEgj-rCdyxWa29RnA0kIYUCXAaVbnRYOEhQ=s64",
      "userId": "04402438389940282602"
     },
     "user_tz": 300
    },
    "id": "JLhMPs5PPq5f",
    "outputId": "3528c6c6-bfa5-4a89-ffde-fd6525a82fd6"
   },
   "outputs": [
    {
     "data": {
      "text/plain": [
       "(array([12.5, 15.5, 15.4, 16. , 16.4, 17. , 18. , 19. , 13.8, 11.6]),\n",
       " array([2.94939001, 3.58092498, 3.66558099, 3.68304704, 3.71850169,\n",
       "        3.87506126, 4.07188201, 4.29225607, 3.37106786, 2.79934055]))"
      ]
     },
     "execution_count": 5,
     "metadata": {},
     "output_type": "execute_result"
    }
   ],
   "source": [
    "X_train = np.asanyarray(df['mean_m'])\n",
    "y_train = np.asanyarray(df['log10_velocity'])\n",
    "\n",
    "X_train , y_train"
   ]
  },
  {
   "cell_type": "markdown",
   "metadata": {
    "id": "aFG4xTUVPq5g"
   },
   "source": [
    "Note that we use the capital letter `X` to denote the independent variable and the letter `y` to denote the dependent variable. This convention is used because, in general, we may have multiple independent variables.\n",
    "\n",
    "Since we are going to make a 1-dimensional linear fit with the form \n",
    "\n",
    "$y = a_1 + a_2 x$ ,\n",
    "\n",
    "the method `LinearRegression().fit()` requires a column array `X_train` and a row array `y_train`. Thus, we reshape the X data array:"
   ]
  },
  {
   "cell_type": "code",
   "execution_count": 6,
   "metadata": {
    "colab": {
     "base_uri": "https://localhost:8080/"
    },
    "executionInfo": {
     "elapsed": 277,
     "status": "ok",
     "timestamp": 1611714340617,
     "user": {
      "displayName": "Eduard Alexis Larranaga",
      "photoUrl": "https://lh3.googleusercontent.com/a-/AOh14GgCVABzEgj-rCdyxWa29RnA0kIYUCXAaVbnRYOEhQ=s64",
      "userId": "04402438389940282602"
     },
     "user_tz": 300
    },
    "id": "bZjYoE8DPq5g",
    "outputId": "305928fa-662a-46f6-f574-bff4228b45f2"
   },
   "outputs": [
    {
     "data": {
      "text/plain": [
       "(array([[12.5],\n",
       "        [15.5],\n",
       "        [15.4],\n",
       "        [16. ],\n",
       "        [16.4],\n",
       "        [17. ],\n",
       "        [18. ],\n",
       "        [19. ],\n",
       "        [13.8],\n",
       "        [11.6]]),\n",
       " array([2.94939001, 3.58092498, 3.66558099, 3.68304704, 3.71850169,\n",
       "        3.87506126, 4.07188201, 4.29225607, 3.37106786, 2.79934055]))"
      ]
     },
     "execution_count": 6,
     "metadata": {},
     "output_type": "execute_result"
    }
   ],
   "source": [
    "X_train = X_train.reshape(-1,1)\n",
    "X_train , y_train"
   ]
  },
  {
   "cell_type": "markdown",
   "metadata": {
    "id": "3InMO--PPq5g"
   },
   "source": [
    "Now, we train the linear model"
   ]
  },
  {
   "cell_type": "code",
   "execution_count": 7,
   "metadata": {
    "id": "Ctou3NTcPq5g"
   },
   "outputs": [],
   "source": [
    "from sklearn.linear_model import LinearRegression\n",
    "\n",
    "lr = LinearRegression()"
   ]
  },
  {
   "cell_type": "code",
   "execution_count": 8,
   "metadata": {},
   "outputs": [
    {
     "data": {
      "text/plain": [
       "sklearn.linear_model._base.LinearRegression"
      ]
     },
     "execution_count": 8,
     "metadata": {},
     "output_type": "execute_result"
    }
   ],
   "source": [
    "type(lr)"
   ]
  },
  {
   "cell_type": "code",
   "execution_count": 9,
   "metadata": {},
   "outputs": [
    {
     "data": {
      "text/html": [
       "<style>#sk-container-id-1 {color: black;background-color: white;}#sk-container-id-1 pre{padding: 0;}#sk-container-id-1 div.sk-toggleable {background-color: white;}#sk-container-id-1 label.sk-toggleable__label {cursor: pointer;display: block;width: 100%;margin-bottom: 0;padding: 0.3em;box-sizing: border-box;text-align: center;}#sk-container-id-1 label.sk-toggleable__label-arrow:before {content: \"▸\";float: left;margin-right: 0.25em;color: #696969;}#sk-container-id-1 label.sk-toggleable__label-arrow:hover:before {color: black;}#sk-container-id-1 div.sk-estimator:hover label.sk-toggleable__label-arrow:before {color: black;}#sk-container-id-1 div.sk-toggleable__content {max-height: 0;max-width: 0;overflow: hidden;text-align: left;background-color: #f0f8ff;}#sk-container-id-1 div.sk-toggleable__content pre {margin: 0.2em;color: black;border-radius: 0.25em;background-color: #f0f8ff;}#sk-container-id-1 input.sk-toggleable__control:checked~div.sk-toggleable__content {max-height: 200px;max-width: 100%;overflow: auto;}#sk-container-id-1 input.sk-toggleable__control:checked~label.sk-toggleable__label-arrow:before {content: \"▾\";}#sk-container-id-1 div.sk-estimator input.sk-toggleable__control:checked~label.sk-toggleable__label {background-color: #d4ebff;}#sk-container-id-1 div.sk-label input.sk-toggleable__control:checked~label.sk-toggleable__label {background-color: #d4ebff;}#sk-container-id-1 input.sk-hidden--visually {border: 0;clip: rect(1px 1px 1px 1px);clip: rect(1px, 1px, 1px, 1px);height: 1px;margin: -1px;overflow: hidden;padding: 0;position: absolute;width: 1px;}#sk-container-id-1 div.sk-estimator {font-family: monospace;background-color: #f0f8ff;border: 1px dotted black;border-radius: 0.25em;box-sizing: border-box;margin-bottom: 0.5em;}#sk-container-id-1 div.sk-estimator:hover {background-color: #d4ebff;}#sk-container-id-1 div.sk-parallel-item::after {content: \"\";width: 100%;border-bottom: 1px solid gray;flex-grow: 1;}#sk-container-id-1 div.sk-label:hover label.sk-toggleable__label {background-color: #d4ebff;}#sk-container-id-1 div.sk-serial::before {content: \"\";position: absolute;border-left: 1px solid gray;box-sizing: border-box;top: 0;bottom: 0;left: 50%;z-index: 0;}#sk-container-id-1 div.sk-serial {display: flex;flex-direction: column;align-items: center;background-color: white;padding-right: 0.2em;padding-left: 0.2em;position: relative;}#sk-container-id-1 div.sk-item {position: relative;z-index: 1;}#sk-container-id-1 div.sk-parallel {display: flex;align-items: stretch;justify-content: center;background-color: white;position: relative;}#sk-container-id-1 div.sk-item::before, #sk-container-id-1 div.sk-parallel-item::before {content: \"\";position: absolute;border-left: 1px solid gray;box-sizing: border-box;top: 0;bottom: 0;left: 50%;z-index: -1;}#sk-container-id-1 div.sk-parallel-item {display: flex;flex-direction: column;z-index: 1;position: relative;background-color: white;}#sk-container-id-1 div.sk-parallel-item:first-child::after {align-self: flex-end;width: 50%;}#sk-container-id-1 div.sk-parallel-item:last-child::after {align-self: flex-start;width: 50%;}#sk-container-id-1 div.sk-parallel-item:only-child::after {width: 0;}#sk-container-id-1 div.sk-dashed-wrapped {border: 1px dashed gray;margin: 0 0.4em 0.5em 0.4em;box-sizing: border-box;padding-bottom: 0.4em;background-color: white;}#sk-container-id-1 div.sk-label label {font-family: monospace;font-weight: bold;display: inline-block;line-height: 1.2em;}#sk-container-id-1 div.sk-label-container {text-align: center;}#sk-container-id-1 div.sk-container {/* jupyter's `normalize.less` sets `[hidden] { display: none; }` but bootstrap.min.css set `[hidden] { display: none !important; }` so we also need the `!important` here to be able to override the default hidden behavior on the sphinx rendered scikit-learn.org. See: https://github.com/scikit-learn/scikit-learn/issues/21755 */display: inline-block !important;position: relative;}#sk-container-id-1 div.sk-text-repr-fallback {display: none;}</style><div id=\"sk-container-id-1\" class=\"sk-top-container\"><div class=\"sk-text-repr-fallback\"><pre>LinearRegression()</pre><b>In a Jupyter environment, please rerun this cell to show the HTML representation or trust the notebook. <br />On GitHub, the HTML representation is unable to render, please try loading this page with nbviewer.org.</b></div><div class=\"sk-container\" hidden><div class=\"sk-item\"><div class=\"sk-estimator sk-toggleable\"><input class=\"sk-toggleable__control sk-hidden--visually\" id=\"sk-estimator-id-1\" type=\"checkbox\" checked><label for=\"sk-estimator-id-1\" class=\"sk-toggleable__label sk-toggleable__label-arrow\">LinearRegression</label><div class=\"sk-toggleable__content\"><pre>LinearRegression()</pre></div></div></div></div></div>"
      ],
      "text/plain": [
       "LinearRegression()"
      ]
     },
     "execution_count": 9,
     "metadata": {},
     "output_type": "execute_result"
    }
   ],
   "source": [
    "lr.fit(X_train, y_train)"
   ]
  },
  {
   "cell_type": "markdown",
   "metadata": {
    "id": "SDWP7y7dPq5g"
   },
   "source": [
    "The parameters obtained from the lienar fit are recovered with the methods `.intercept_` ($a_1$) and `.coef_` ($a_2$)."
   ]
  },
  {
   "cell_type": "code",
   "execution_count": 10,
   "metadata": {},
   "outputs": [
    {
     "data": {
      "text/plain": [
       "0.5484040402255594"
      ]
     },
     "execution_count": 10,
     "metadata": {},
     "output_type": "execute_result"
    }
   ],
   "source": [
    "lr.intercept_"
   ]
  },
  {
   "cell_type": "code",
   "execution_count": 11,
   "metadata": {
    "colab": {
     "base_uri": "https://localhost:8080/"
    },
    "executionInfo": {
     "elapsed": 439,
     "status": "ok",
     "timestamp": 1611714372636,
     "user": {
      "displayName": "Eduard Alexis Larranaga",
      "photoUrl": "https://lh3.googleusercontent.com/a-/AOh14GgCVABzEgj-rCdyxWa29RnA0kIYUCXAaVbnRYOEhQ=s64",
      "userId": "04402438389940282602"
     },
     "user_tz": 300
    },
    "id": "bhf9t3maPq5h",
    "outputId": "7e750de8-22d5-483c-ce76-ed479fc1b984"
   },
   "outputs": [
    {
     "data": {
      "text/plain": [
       "(0.5484040402255594, array([0.19666889]))"
      ]
     },
     "execution_count": 11,
     "metadata": {},
     "output_type": "execute_result"
    }
   ],
   "source": [
    "lr.intercept_ , lr.coef_ "
   ]
  },
  {
   "cell_type": "markdown",
   "metadata": {
    "id": "qIB-tXkkPq5h"
   },
   "source": [
    "Note that the `.coef_` method returns an array becuase the `LinearRegression` fit can be applied to multidimensional systems. \n",
    "\n",
    "The resulting coefficients are almost equal to those obtained by our hand-made linear fit,\n",
    "\n",
    "a_1 = 0.5484040402255217 \\\n",
    "a_2 = 0.19666889208743046"
   ]
  },
  {
   "cell_type": "markdown",
   "metadata": {
    "id": "GXFzsuVpPq5i"
   },
   "source": [
    "The `LinearRegression` function also includes the method `.score()` which returns the coefficient of determination $R^2$ for the model. This is defined as\n",
    "\n",
    "$R^2 = 1 - \\frac{\\Sigma (a_1 + a_2 x_i - y_i)^2}{\\Sigma (y_i - \\bar{y})^2} = 1 - \\frac{\\Sigma (y(x_i) - y_i)^2}{\\Sigma (y_i - \\bar{y})^2}$\n",
    "\n",
    "where $\\bar{y} = \\frac{1}{N} \\Sigma y_i$ is the mean value of the y-data.The best possible score is $R^2 = 1.0$ and it can take negative values, because the model can be arbitrarily worse. A constant model that always predicts the expected value of each y, disregarding the input features, would get a score of $R^2 = 0.0$.\n",
    "\n",
    "In this case, we obtain a really good fit:"
   ]
  },
  {
   "cell_type": "code",
   "execution_count": 12,
   "metadata": {
    "colab": {
     "base_uri": "https://localhost:8080/"
    },
    "executionInfo": {
     "elapsed": 468,
     "status": "ok",
     "timestamp": 1611714399372,
     "user": {
      "displayName": "Eduard Alexis Larranaga",
      "photoUrl": "https://lh3.googleusercontent.com/a-/AOh14GgCVABzEgj-rCdyxWa29RnA0kIYUCXAaVbnRYOEhQ=s64",
      "userId": "04402438389940282602"
     },
     "user_tz": 300
    },
    "id": "uTtWaBa8Pq5i",
    "outputId": "928111ea-aef9-4a0c-f2cf-d630c90dff70"
   },
   "outputs": [
    {
     "data": {
      "text/plain": [
       "0.9854665665565867"
      ]
     },
     "execution_count": 12,
     "metadata": {},
     "output_type": "execute_result"
    }
   ],
   "source": [
    "lr.score(X_train, y_train)"
   ]
  },
  {
   "cell_type": "code",
   "execution_count": null,
   "metadata": {},
   "outputs": [],
   "source": []
  }
 ],
 "metadata": {
  "@webio": {
   "lastCommId": null,
   "lastKernelId": null
  },
  "colab": {
   "collapsed_sections": [],
   "name": "ScikitRegression01.ipynb",
   "provenance": []
  },
  "kernelspec": {
   "display_name": "Python 3 (ipykernel)",
   "language": "python",
   "name": "python3"
  },
  "language_info": {
   "codemirror_mode": {
    "name": "ipython",
    "version": 3
   },
   "file_extension": ".py",
   "mimetype": "text/x-python",
   "name": "python",
   "nbconvert_exporter": "python",
   "pygments_lexer": "ipython3",
   "version": "3.10.9"
  }
 },
 "nbformat": 4,
 "nbformat_minor": 1
}
