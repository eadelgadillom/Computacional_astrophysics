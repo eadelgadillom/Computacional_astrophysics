version https://git-lfs.github.com/spec/v1
oid sha256:2b04fe7394568b397fcf3fdcdd22c0e735726c00e6e12df899c0d12c53ce79a8
size 291571
