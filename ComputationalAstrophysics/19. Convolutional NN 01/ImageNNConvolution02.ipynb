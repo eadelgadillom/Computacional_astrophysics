version https://git-lfs.github.com/spec/v1
oid sha256:fa83e1bb1faa3e4d354769b9f567413d03fe8c4a33a40de8d9923674ea977abc
size 55498
