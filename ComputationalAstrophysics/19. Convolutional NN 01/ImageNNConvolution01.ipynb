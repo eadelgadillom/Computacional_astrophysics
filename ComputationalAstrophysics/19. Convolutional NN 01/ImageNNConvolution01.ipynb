version https://git-lfs.github.com/spec/v1
oid sha256:23e555a52d7b49e275aaa9e87a9c3a6a123b1db4b14dfca9c667a5caa44bbb97
size 49798
