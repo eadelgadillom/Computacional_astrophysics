version https://git-lfs.github.com/spec/v1
oid sha256:6378cd2257e74ae56d9d6a105f1a578d30d84bf01fea9dfc36fd5ef12f9ec098
size 208324
