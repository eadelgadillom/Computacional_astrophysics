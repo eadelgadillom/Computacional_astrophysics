version https://git-lfs.github.com/spec/v1
oid sha256:9be255cce144f587e4f74bcfe4a5cd73b1f077a4b9d4b61eb5c680fc8f6fd08a
size 1703720
