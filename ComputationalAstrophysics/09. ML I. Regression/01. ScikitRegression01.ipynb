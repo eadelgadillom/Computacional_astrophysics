version https://git-lfs.github.com/spec/v1
oid sha256:0fa026c57001a335f33407667d72f36fc86a20be5ab9ad120303d866ac1b117f
size 53397
