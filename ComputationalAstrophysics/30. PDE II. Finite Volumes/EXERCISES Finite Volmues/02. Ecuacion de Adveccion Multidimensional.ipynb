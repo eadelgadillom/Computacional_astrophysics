version https://git-lfs.github.com/spec/v1
oid sha256:0e6fd527e5c2dd7e49727b75e2d0657ee4fa77f1f789f15e5abe719ec3ee0b5f
size 17714482
