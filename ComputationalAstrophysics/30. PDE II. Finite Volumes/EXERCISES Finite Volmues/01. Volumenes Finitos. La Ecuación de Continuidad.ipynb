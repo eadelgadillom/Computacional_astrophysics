version https://git-lfs.github.com/spec/v1
oid sha256:9ff303f8701a9a48cf8dd16a77eef3c047699ea7241e734953b72bf1c064e963
size 18293606
