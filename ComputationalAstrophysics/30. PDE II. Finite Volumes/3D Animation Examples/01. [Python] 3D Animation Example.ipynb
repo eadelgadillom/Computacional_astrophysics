version https://git-lfs.github.com/spec/v1
oid sha256:512319958d54904cca5824247391265ceef3a4ce2fc07c40fe37ba83cf03447c
size 1190178
