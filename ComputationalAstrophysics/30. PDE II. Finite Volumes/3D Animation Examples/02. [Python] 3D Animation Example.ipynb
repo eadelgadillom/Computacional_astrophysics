version https://git-lfs.github.com/spec/v1
oid sha256:faa6c44fd62ef29bee1ec79300af4fa65763ae2a5c8a95111e19ba98fbdd8026
size 927584
