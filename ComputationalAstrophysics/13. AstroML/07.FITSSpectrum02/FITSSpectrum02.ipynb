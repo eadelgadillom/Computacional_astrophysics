version https://git-lfs.github.com/spec/v1
oid sha256:f76cc764425ba95ed0d156b636c387ee3b5d28553eb163f54fa793402e689b12
size 25654
