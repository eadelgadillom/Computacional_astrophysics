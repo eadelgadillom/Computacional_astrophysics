version https://git-lfs.github.com/spec/v1
oid sha256:5c3cdb22e24fed85cf067d01fadbb87f1f3ded2ecf4ffb31e52d1d9d16f7e7d4
size 42415
