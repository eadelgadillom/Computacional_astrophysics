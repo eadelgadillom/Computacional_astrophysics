version https://git-lfs.github.com/spec/v1
oid sha256:5e33f7e8a689f3e9ef9d861e21370d891fac66f451f2930e654a625b9b8a1e83
size 44948
