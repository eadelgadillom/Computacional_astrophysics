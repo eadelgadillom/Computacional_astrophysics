version https://git-lfs.github.com/spec/v1
oid sha256:88d89ff0eaf22fdf15a4f91bd79ba4c1ed7d7d03a2f01e48b336b3bd2ac50f51
size 59220
