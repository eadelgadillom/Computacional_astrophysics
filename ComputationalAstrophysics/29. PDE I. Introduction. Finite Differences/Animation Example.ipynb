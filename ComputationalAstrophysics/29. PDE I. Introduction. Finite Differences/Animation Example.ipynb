version https://git-lfs.github.com/spec/v1
oid sha256:8e768d2660fb2ba2c5aeb7b3a1ae549d177e8ea889903f334f987ba625d0ae20
size 1321826
