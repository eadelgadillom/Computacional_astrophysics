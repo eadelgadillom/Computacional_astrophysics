version https://git-lfs.github.com/spec/v1
oid sha256:44d706ce187d82bdf1d140b5921bbf06fa92a600772a08568319b79f2405920f
size 6707
