version https://git-lfs.github.com/spec/v1
oid sha256:ccffe31ff8db38ecf5dbd1b15d77f46f6b7f3c0a2a1c2dbad78534e8f38a5eca
size 21560389
