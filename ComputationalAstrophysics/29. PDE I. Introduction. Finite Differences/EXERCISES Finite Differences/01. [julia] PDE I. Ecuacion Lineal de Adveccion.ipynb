version https://git-lfs.github.com/spec/v1
oid sha256:6e6e81b85de0f40a78e23a86e658e1816716072550ec8e9649e5949dec251186
size 9269230
