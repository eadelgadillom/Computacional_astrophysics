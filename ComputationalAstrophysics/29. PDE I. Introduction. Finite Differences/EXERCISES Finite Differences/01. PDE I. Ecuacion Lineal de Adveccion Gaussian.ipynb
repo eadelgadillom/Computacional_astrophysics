version https://git-lfs.github.com/spec/v1
oid sha256:541edbeb91116a8f8b3dc8881718442e1c493129cb1ed6e81d6583f088d4d87b
size 43946
