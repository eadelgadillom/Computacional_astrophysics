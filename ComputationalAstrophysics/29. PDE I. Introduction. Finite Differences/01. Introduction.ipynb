version https://git-lfs.github.com/spec/v1
oid sha256:2e3fea042815152bc4f72b4bee8c71a13a2947e79ad1dcaba34db7676e3b0b64
size 12828
