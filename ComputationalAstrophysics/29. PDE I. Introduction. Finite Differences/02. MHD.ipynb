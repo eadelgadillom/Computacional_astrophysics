version https://git-lfs.github.com/spec/v1
oid sha256:f362d66c7c9e63d3d50abfd969f3ce8781e4188c83fee9d7a4d98414a1130464
size 15058
