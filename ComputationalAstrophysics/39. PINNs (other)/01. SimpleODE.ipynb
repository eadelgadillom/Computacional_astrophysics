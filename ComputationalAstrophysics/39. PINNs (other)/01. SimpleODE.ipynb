version https://git-lfs.github.com/spec/v1
oid sha256:fb47a6502c52e34156080badbf88f9eb8fd369f91205175bb373f0d399efa36b
size 65474
