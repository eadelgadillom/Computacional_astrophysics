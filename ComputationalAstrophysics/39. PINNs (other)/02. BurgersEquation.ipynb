version https://git-lfs.github.com/spec/v1
oid sha256:5fee65f4532a5aa26e2a71233d7539f2c752c2f1a9d1e7fdf2a3a389af8eaf4c
size 371149
