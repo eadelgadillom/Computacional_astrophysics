version https://git-lfs.github.com/spec/v1
oid sha256:f323269221b2101f0efebb65a61f645778b1e7ce9fa040b71ff1214238b322cd
size 79476
