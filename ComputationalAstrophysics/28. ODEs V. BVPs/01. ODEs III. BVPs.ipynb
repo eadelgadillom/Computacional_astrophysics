version https://git-lfs.github.com/spec/v1
oid sha256:5444db06399fa8d7b325677369ed1cf86ec6f5e3beb01de0e092be987fcfccdb
size 9057
