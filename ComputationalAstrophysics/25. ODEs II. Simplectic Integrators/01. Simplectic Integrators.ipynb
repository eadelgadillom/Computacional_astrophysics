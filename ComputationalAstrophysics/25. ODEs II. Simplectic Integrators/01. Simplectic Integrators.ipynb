version https://git-lfs.github.com/spec/v1
oid sha256:82efba0e1293db132dd6627cebab0aff285eca256ab6a2ce735d18ed4c205956
size 17914
