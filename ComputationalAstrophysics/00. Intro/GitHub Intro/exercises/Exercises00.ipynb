version https://git-lfs.github.com/spec/v1
oid sha256:555fdc917112d8ce540c115f9af89f17c0c400d3a6f27ca8fd1e5088958510c1
size 1392
