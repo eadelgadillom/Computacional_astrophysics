version https://git-lfs.github.com/spec/v1
oid sha256:267c03836f46d05ae44d5979133f1aa76697bd52a0867b435839cb01d2573a4d
size 53307
