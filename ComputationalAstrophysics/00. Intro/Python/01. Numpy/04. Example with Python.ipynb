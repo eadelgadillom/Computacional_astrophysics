version https://git-lfs.github.com/spec/v1
oid sha256:943ade375aa438a24016becda2bb1648fad6b6b841b5f90a5149773a591321a4
size 15015
