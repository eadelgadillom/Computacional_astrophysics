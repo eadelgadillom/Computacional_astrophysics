version https://git-lfs.github.com/spec/v1
oid sha256:fd5444acfc3c76d2965fbf50307330ee5ccccde3d7ecc9133e063e207c74b571
size 284643
