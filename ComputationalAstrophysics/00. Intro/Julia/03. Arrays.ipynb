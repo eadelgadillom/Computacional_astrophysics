version https://git-lfs.github.com/spec/v1
oid sha256:e8a710313d8f6a7a7fc584ae7d6c99b9ac40e32b72aca9bfb9de98de0aef9541
size 24589
