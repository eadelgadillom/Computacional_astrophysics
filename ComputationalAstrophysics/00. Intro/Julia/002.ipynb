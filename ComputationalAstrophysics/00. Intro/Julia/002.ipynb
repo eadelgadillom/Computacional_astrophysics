version https://git-lfs.github.com/spec/v1
oid sha256:38fb7308b7c4345cf69439a3a80f1ded9a7f0bc1a0a3f93e9fff46b97ca8d3a9
size 83990
