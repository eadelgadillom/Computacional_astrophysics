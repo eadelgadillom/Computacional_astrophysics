version https://git-lfs.github.com/spec/v1
oid sha256:3b99fc272818dc26d7ea67945d250a82ba2523f9a6ba752755268e1b54e6cb83
size 19437
