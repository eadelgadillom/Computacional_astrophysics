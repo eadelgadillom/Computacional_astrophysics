version https://git-lfs.github.com/spec/v1
oid sha256:c02e7da4bf9deaec4eab61f11953c5dc5a424a9c1b355338ca788f8fff033e37
size 2937
